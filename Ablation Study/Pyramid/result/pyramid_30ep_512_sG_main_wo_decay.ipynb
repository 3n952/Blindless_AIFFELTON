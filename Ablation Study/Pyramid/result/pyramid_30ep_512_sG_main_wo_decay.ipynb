{
 "cells": [
  {
   "cell_type": "code",
   "execution_count": 1,
   "metadata": {},
   "outputs": [
    {
     "name": "stderr",
     "output_type": "stream",
     "text": [
      "2024-01-31 08:51:15.693635: E external/local_xla/xla/stream_executor/cuda/cuda_dnn.cc:9261] Unable to register cuDNN factory: Attempting to register factory for plugin cuDNN when one has already been registered\n",
      "2024-01-31 08:51:15.693660: E external/local_xla/xla/stream_executor/cuda/cuda_fft.cc:607] Unable to register cuFFT factory: Attempting to register factory for plugin cuFFT when one has already been registered\n",
      "2024-01-31 08:51:15.694722: E external/local_xla/xla/stream_executor/cuda/cuda_blas.cc:1515] Unable to register cuBLAS factory: Attempting to register factory for plugin cuBLAS when one has already been registered\n",
      "2024-01-31 08:51:15.700091: I tensorflow/core/platform/cpu_feature_guard.cc:182] This TensorFlow binary is optimized to use available CPU instructions in performance-critical operations.\n",
      "To enable the following instructions: AVX2 FMA, in other operations, rebuild TensorFlow with the appropriate compiler flags.\n",
      "2024-01-31 08:51:16.277156: W tensorflow/compiler/tf2tensorrt/utils/py_utils.cc:38] TF-TRT Warning: Could not find TensorRT\n"
     ]
    }
   ],
   "source": [
    "import sys\n",
    "import tensorflow as tf\n",
    "sys.path.append(\"/visuworks/Blindless_AIFFELTON/Ablation Study/\")\n",
    "\n",
    "# import customized modules\n",
    "import preprocess, data_generator, check_result, metrics, loss, train\n",
    "\n",
    "sys.path.append(\"/visuworks/Blindless_AIFFELTON/Ablation Study/Pyramid\")\n",
    "import pyramid\n",
    "\n",
    "\n",
    "# Insert Path\n",
    "# {model_name}_{epoch}ep_{model_inpusize}_{Generator | aG/fG/sG}\n",
    "FILE_NAME = 'pyramid_30ep_512_sG_wo_decay'\n",
    "INPUT_SHAPE = (512, 512, 1)\n",
    "RESIZE_SHAPE = (1024, 1024, 1)\n",
    "MODEL_PATH = \"/visuworks/Blindless_AIFFELTON/Ablation Study/Pyramid/model_parameters/\" + FILE_NAME + \".tf\"\n",
    "HISTORY_PATH = \"/visuworks/Blindless_AIFFELTON/Ablation Study/Pyramid/history/\" + FILE_NAME + '_history' \".json\"\n",
    "\n",
    "TRAIN_SOURCE = '/visuworks/Dataset/Selected Dataset 3/Train'\n",
    "TEST_SOURCE = '/visuworks/Dataset/Selected Dataset 3/Test'"
   ]
  },
  {
   "cell_type": "code",
   "execution_count": 2,
   "metadata": {},
   "outputs": [
    {
     "name": "stderr",
     "output_type": "stream",
     "text": [
      "2024-01-31 08:51:17.435620: I external/local_xla/xla/stream_executor/cuda/cuda_executor.cc:901] successful NUMA node read from SysFS had negative value (-1), but there must be at least one NUMA node, so returning NUMA node zero. See more at https://github.com/torvalds/linux/blob/v6.0/Documentation/ABI/testing/sysfs-bus-pci#L344-L355\n",
      "2024-01-31 08:51:17.471108: I external/local_xla/xla/stream_executor/cuda/cuda_executor.cc:901] successful NUMA node read from SysFS had negative value (-1), but there must be at least one NUMA node, so returning NUMA node zero. See more at https://github.com/torvalds/linux/blob/v6.0/Documentation/ABI/testing/sysfs-bus-pci#L344-L355\n",
      "2024-01-31 08:51:17.471322: I external/local_xla/xla/stream_executor/cuda/cuda_executor.cc:901] successful NUMA node read from SysFS had negative value (-1), but there must be at least one NUMA node, so returning NUMA node zero. See more at https://github.com/torvalds/linux/blob/v6.0/Documentation/ABI/testing/sysfs-bus-pci#L344-L355\n",
      "2024-01-31 08:51:17.473413: I external/local_xla/xla/stream_executor/cuda/cuda_executor.cc:901] successful NUMA node read from SysFS had negative value (-1), but there must be at least one NUMA node, so returning NUMA node zero. See more at https://github.com/torvalds/linux/blob/v6.0/Documentation/ABI/testing/sysfs-bus-pci#L344-L355\n",
      "2024-01-31 08:51:17.473589: I external/local_xla/xla/stream_executor/cuda/cuda_executor.cc:901] successful NUMA node read from SysFS had negative value (-1), but there must be at least one NUMA node, so returning NUMA node zero. See more at https://github.com/torvalds/linux/blob/v6.0/Documentation/ABI/testing/sysfs-bus-pci#L344-L355\n",
      "2024-01-31 08:51:17.473748: I external/local_xla/xla/stream_executor/cuda/cuda_executor.cc:901] successful NUMA node read from SysFS had negative value (-1), but there must be at least one NUMA node, so returning NUMA node zero. See more at https://github.com/torvalds/linux/blob/v6.0/Documentation/ABI/testing/sysfs-bus-pci#L344-L355\n",
      "2024-01-31 08:51:17.556498: I external/local_xla/xla/stream_executor/cuda/cuda_executor.cc:901] successful NUMA node read from SysFS had negative value (-1), but there must be at least one NUMA node, so returning NUMA node zero. See more at https://github.com/torvalds/linux/blob/v6.0/Documentation/ABI/testing/sysfs-bus-pci#L344-L355\n",
      "2024-01-31 08:51:17.556731: I external/local_xla/xla/stream_executor/cuda/cuda_executor.cc:901] successful NUMA node read from SysFS had negative value (-1), but there must be at least one NUMA node, so returning NUMA node zero. See more at https://github.com/torvalds/linux/blob/v6.0/Documentation/ABI/testing/sysfs-bus-pci#L344-L355\n",
      "2024-01-31 08:51:17.556940: I external/local_xla/xla/stream_executor/cuda/cuda_executor.cc:901] successful NUMA node read from SysFS had negative value (-1), but there must be at least one NUMA node, so returning NUMA node zero. See more at https://github.com/torvalds/linux/blob/v6.0/Documentation/ABI/testing/sysfs-bus-pci#L344-L355\n",
      "2024-01-31 08:51:17.557090: I tensorflow/core/common_runtime/gpu/gpu_device.cc:1929] Created device /job:localhost/replica:0/task:0/device:GPU:0 with 9879 MB memory:  -> device: 0, name: NVIDIA GeForce RTX 3080 Ti, pci bus id: 0000:43:00.0, compute capability: 8.6\n"
     ]
    },
    {
     "name": "stdout",
     "output_type": "stream",
     "text": [
      "Model: \"model\"\n",
      "__________________________________________________________________________________________________\n",
      " Layer (type)                Output Shape                 Param #   Connected to                  \n",
      "==================================================================================================\n",
      " input_1 (InputLayer)        [(None, 512, 512, 1)]        0         []                            \n",
      "                                                                                                  \n",
      " conv2d_2 (Conv2D)           (None, 512, 512, 16)         32        ['input_1[0][0]']             \n",
      "                                                                                                  \n",
      " conv2d (Conv2D)             (None, 512, 512, 8)          16        ['input_1[0][0]']             \n",
      "                                                                                                  \n",
      " conv2d_1 (Conv2D)           (None, 512, 512, 16)         160       ['input_1[0][0]']             \n",
      "                                                                                                  \n",
      " conv2d_3 (Conv2D)           (None, 512, 512, 32)         4640      ['conv2d_2[0][0]']            \n",
      "                                                                                                  \n",
      " concatenate (Concatenate)   (None, 512, 512, 56)         0         ['conv2d[0][0]',              \n",
      "                                                                     'conv2d_1[0][0]',            \n",
      "                                                                     'conv2d_3[0][0]']            \n",
      "                                                                                                  \n",
      " conv2d_4 (Conv2D)           (None, 512, 512, 16)         912       ['concatenate[0][0]']         \n",
      "                                                                                                  \n",
      " max_pooling2d (MaxPooling2  (None, 256, 256, 16)         0         ['conv2d_4[0][0]']            \n",
      " D)                                                                                               \n",
      "                                                                                                  \n",
      " conv2d_7 (Conv2D)           (None, 256, 256, 32)         544       ['max_pooling2d[0][0]']       \n",
      "                                                                                                  \n",
      " conv2d_5 (Conv2D)           (None, 256, 256, 16)         272       ['max_pooling2d[0][0]']       \n",
      "                                                                                                  \n",
      " conv2d_6 (Conv2D)           (None, 256, 256, 32)         4640      ['max_pooling2d[0][0]']       \n",
      "                                                                                                  \n",
      " conv2d_8 (Conv2D)           (None, 256, 256, 64)         18496     ['conv2d_7[0][0]']            \n",
      "                                                                                                  \n",
      " concatenate_1 (Concatenate  (None, 256, 256, 112)        0         ['conv2d_5[0][0]',            \n",
      " )                                                                   'conv2d_6[0][0]',            \n",
      "                                                                     'conv2d_8[0][0]']            \n",
      "                                                                                                  \n",
      " conv2d_9 (Conv2D)           (None, 256, 256, 32)         3616      ['concatenate_1[0][0]']       \n",
      "                                                                                                  \n",
      " max_pooling2d_1 (MaxPoolin  (None, 128, 128, 32)         0         ['conv2d_9[0][0]']            \n",
      " g2D)                                                                                             \n",
      "                                                                                                  \n",
      " conv2d_12 (Conv2D)          (None, 128, 128, 64)         2112      ['max_pooling2d_1[0][0]']     \n",
      "                                                                                                  \n",
      " conv2d_10 (Conv2D)          (None, 128, 128, 32)         1056      ['max_pooling2d_1[0][0]']     \n",
      "                                                                                                  \n",
      " conv2d_11 (Conv2D)          (None, 128, 128, 64)         18496     ['max_pooling2d_1[0][0]']     \n",
      "                                                                                                  \n",
      " conv2d_13 (Conv2D)          (None, 128, 128, 128)        73856     ['conv2d_12[0][0]']           \n",
      "                                                                                                  \n",
      " concatenate_2 (Concatenate  (None, 128, 128, 224)        0         ['conv2d_10[0][0]',           \n",
      " )                                                                   'conv2d_11[0][0]',           \n",
      "                                                                     'conv2d_13[0][0]']           \n",
      "                                                                                                  \n",
      " conv2d_14 (Conv2D)          (None, 128, 128, 64)         14400     ['concatenate_2[0][0]']       \n",
      "                                                                                                  \n",
      " max_pooling2d_2 (MaxPoolin  (None, 64, 64, 64)           0         ['conv2d_14[0][0]']           \n",
      " g2D)                                                                                             \n",
      "                                                                                                  \n",
      " conv2d_17 (Conv2D)          (None, 64, 64, 128)          8320      ['max_pooling2d_2[0][0]']     \n",
      "                                                                                                  \n",
      " conv2d_15 (Conv2D)          (None, 64, 64, 64)           4160      ['max_pooling2d_2[0][0]']     \n",
      "                                                                                                  \n",
      " conv2d_16 (Conv2D)          (None, 64, 64, 128)          73856     ['max_pooling2d_2[0][0]']     \n",
      "                                                                                                  \n",
      " conv2d_18 (Conv2D)          (None, 64, 64, 256)          295168    ['conv2d_17[0][0]']           \n",
      "                                                                                                  \n",
      " concatenate_3 (Concatenate  (None, 64, 64, 448)          0         ['conv2d_15[0][0]',           \n",
      " )                                                                   'conv2d_16[0][0]',           \n",
      "                                                                     'conv2d_18[0][0]']           \n",
      "                                                                                                  \n",
      " conv2d_19 (Conv2D)          (None, 64, 64, 128)          57472     ['concatenate_3[0][0]']       \n",
      "                                                                                                  \n",
      " max_pooling2d_3 (MaxPoolin  (None, 32, 32, 128)          0         ['conv2d_19[0][0]']           \n",
      " g2D)                                                                                             \n",
      "                                                                                                  \n",
      " average_pooling2d (Average  (None, 32, 32, 128)          0         ['max_pooling2d_3[0][0]']     \n",
      " Pooling2D)                                                                                       \n",
      "                                                                                                  \n",
      " average_pooling2d_1 (Avera  (None, 16, 16, 128)          0         ['max_pooling2d_3[0][0]']     \n",
      " gePooling2D)                                                                                     \n",
      "                                                                                                  \n",
      " average_pooling2d_2 (Avera  (None, 8, 8, 128)            0         ['max_pooling2d_3[0][0]']     \n",
      " gePooling2D)                                                                                     \n",
      "                                                                                                  \n",
      " average_pooling2d_3 (Avera  (None, 4, 4, 128)            0         ['max_pooling2d_3[0][0]']     \n",
      " gePooling2D)                                                                                     \n",
      "                                                                                                  \n",
      " conv2d_20 (Conv2D)          (None, 32, 32, 32)           4128      ['average_pooling2d[0][0]']   \n",
      "                                                                                                  \n",
      " conv2d_21 (Conv2D)          (None, 16, 16, 32)           4128      ['average_pooling2d_1[0][0]'] \n",
      "                                                                                                  \n",
      " conv2d_22 (Conv2D)          (None, 8, 8, 32)             4128      ['average_pooling2d_2[0][0]'] \n",
      "                                                                                                  \n",
      " conv2d_23 (Conv2D)          (None, 4, 4, 32)             4128      ['average_pooling2d_3[0][0]'] \n",
      "                                                                                                  \n",
      " conv2d_transpose (Conv2DTr  (None, 32, 32, 16)           528       ['conv2d_20[0][0]']           \n",
      " anspose)                                                                                         \n",
      "                                                                                                  \n",
      " conv2d_transpose_1 (Conv2D  (None, 32, 32, 16)           2064      ['conv2d_21[0][0]']           \n",
      " Transpose)                                                                                       \n",
      "                                                                                                  \n",
      " conv2d_transpose_2 (Conv2D  (None, 32, 32, 16)           8208      ['conv2d_22[0][0]']           \n",
      " Transpose)                                                                                       \n",
      "                                                                                                  \n",
      " conv2d_transpose_3 (Conv2D  (None, 32, 32, 16)           32784     ['conv2d_23[0][0]']           \n",
      " Transpose)                                                                                       \n",
      "                                                                                                  \n",
      " concatenate_4 (Concatenate  (None, 32, 32, 192)          0         ['conv2d_transpose[0][0]',    \n",
      " )                                                                   'conv2d_transpose_1[0][0]',  \n",
      "                                                                     'conv2d_transpose_2[0][0]',  \n",
      "                                                                     'conv2d_transpose_3[0][0]',  \n",
      "                                                                     'max_pooling2d_3[0][0]']     \n",
      "                                                                                                  \n",
      " conv2d_transpose_4 (Conv2D  (None, 64, 64, 256)          196864    ['concatenate_4[0][0]']       \n",
      " Transpose)                                                                                       \n",
      "                                                                                                  \n",
      " average_pooling2d_4 (Avera  (None, 64, 64, 256)          0         ['conv2d_transpose_4[0][0]']  \n",
      " gePooling2D)                                                                                     \n",
      "                                                                                                  \n",
      " average_pooling2d_5 (Avera  (None, 32, 32, 256)          0         ['conv2d_transpose_4[0][0]']  \n",
      " gePooling2D)                                                                                     \n",
      "                                                                                                  \n",
      " average_pooling2d_6 (Avera  (None, 16, 16, 256)          0         ['conv2d_transpose_4[0][0]']  \n",
      " gePooling2D)                                                                                     \n",
      "                                                                                                  \n",
      " average_pooling2d_7 (Avera  (None, 8, 8, 256)            0         ['conv2d_transpose_4[0][0]']  \n",
      " gePooling2D)                                                                                     \n",
      "                                                                                                  \n",
      " conv2d_24 (Conv2D)          (None, 64, 64, 32)           8224      ['average_pooling2d_4[0][0]'] \n",
      "                                                                                                  \n",
      " conv2d_25 (Conv2D)          (None, 32, 32, 32)           8224      ['average_pooling2d_5[0][0]'] \n",
      "                                                                                                  \n",
      " conv2d_26 (Conv2D)          (None, 16, 16, 32)           8224      ['average_pooling2d_6[0][0]'] \n",
      "                                                                                                  \n",
      " conv2d_27 (Conv2D)          (None, 8, 8, 32)             8224      ['average_pooling2d_7[0][0]'] \n",
      "                                                                                                  \n",
      " conv2d_transpose_5 (Conv2D  (None, 64, 64, 16)           528       ['conv2d_24[0][0]']           \n",
      " Transpose)                                                                                       \n",
      "                                                                                                  \n",
      " conv2d_transpose_6 (Conv2D  (None, 64, 64, 16)           2064      ['conv2d_25[0][0]']           \n",
      " Transpose)                                                                                       \n",
      "                                                                                                  \n",
      " conv2d_transpose_7 (Conv2D  (None, 64, 64, 16)           8208      ['conv2d_26[0][0]']           \n",
      " Transpose)                                                                                       \n",
      "                                                                                                  \n",
      " conv2d_transpose_8 (Conv2D  (None, 64, 64, 16)           32784     ['conv2d_27[0][0]']           \n",
      " Transpose)                                                                                       \n",
      "                                                                                                  \n",
      " concatenate_5 (Concatenate  (None, 64, 64, 320)          0         ['conv2d_transpose_5[0][0]',  \n",
      " )                                                                   'conv2d_transpose_6[0][0]',  \n",
      "                                                                     'conv2d_transpose_7[0][0]',  \n",
      "                                                                     'conv2d_transpose_8[0][0]',  \n",
      "                                                                     'conv2d_transpose_4[0][0]']  \n",
      "                                                                                                  \n",
      " concatenate_6 (Concatenate  (None, 64, 64, 384)          0         ['max_pooling2d_2[0][0]',     \n",
      " )                                                                   'concatenate_5[0][0]']       \n",
      "                                                                                                  \n",
      " conv2d_transpose_9 (Conv2D  (None, 128, 128, 128)        196736    ['concatenate_6[0][0]']       \n",
      " Transpose)                                                                                       \n",
      "                                                                                                  \n",
      " average_pooling2d_8 (Avera  (None, 128, 128, 128)        0         ['conv2d_transpose_9[0][0]']  \n",
      " gePooling2D)                                                                                     \n",
      "                                                                                                  \n",
      " average_pooling2d_9 (Avera  (None, 64, 64, 128)          0         ['conv2d_transpose_9[0][0]']  \n",
      " gePooling2D)                                                                                     \n",
      "                                                                                                  \n",
      " average_pooling2d_10 (Aver  (None, 32, 32, 128)          0         ['conv2d_transpose_9[0][0]']  \n",
      " agePooling2D)                                                                                    \n",
      "                                                                                                  \n",
      " average_pooling2d_11 (Aver  (None, 16, 16, 128)          0         ['conv2d_transpose_9[0][0]']  \n",
      " agePooling2D)                                                                                    \n",
      "                                                                                                  \n",
      " conv2d_28 (Conv2D)          (None, 128, 128, 32)         4128      ['average_pooling2d_8[0][0]'] \n",
      "                                                                                                  \n",
      " conv2d_29 (Conv2D)          (None, 64, 64, 32)           4128      ['average_pooling2d_9[0][0]'] \n",
      "                                                                                                  \n",
      " conv2d_30 (Conv2D)          (None, 32, 32, 32)           4128      ['average_pooling2d_10[0][0]']\n",
      "                                                                                                  \n",
      " conv2d_31 (Conv2D)          (None, 16, 16, 32)           4128      ['average_pooling2d_11[0][0]']\n",
      "                                                                                                  \n",
      " conv2d_transpose_10 (Conv2  (None, 128, 128, 16)         528       ['conv2d_28[0][0]']           \n",
      " DTranspose)                                                                                      \n",
      "                                                                                                  \n",
      " conv2d_transpose_11 (Conv2  (None, 128, 128, 16)         2064      ['conv2d_29[0][0]']           \n",
      " DTranspose)                                                                                      \n",
      "                                                                                                  \n",
      " conv2d_transpose_12 (Conv2  (None, 128, 128, 16)         8208      ['conv2d_30[0][0]']           \n",
      " DTranspose)                                                                                      \n",
      "                                                                                                  \n",
      " conv2d_transpose_13 (Conv2  (None, 128, 128, 16)         32784     ['conv2d_31[0][0]']           \n",
      " DTranspose)                                                                                      \n",
      "                                                                                                  \n",
      " concatenate_7 (Concatenate  (None, 128, 128, 192)        0         ['conv2d_transpose_10[0][0]', \n",
      " )                                                                   'conv2d_transpose_11[0][0]', \n",
      "                                                                     'conv2d_transpose_12[0][0]', \n",
      "                                                                     'conv2d_transpose_13[0][0]', \n",
      "                                                                     'conv2d_transpose_9[0][0]']  \n",
      "                                                                                                  \n",
      " concatenate_8 (Concatenate  (None, 128, 128, 224)        0         ['max_pooling2d_1[0][0]',     \n",
      " )                                                                   'concatenate_7[0][0]']       \n",
      "                                                                                                  \n",
      " conv2d_transpose_14 (Conv2  (None, 256, 256, 64)         57408     ['concatenate_8[0][0]']       \n",
      " DTranspose)                                                                                      \n",
      "                                                                                                  \n",
      " average_pooling2d_12 (Aver  (None, 256, 256, 64)         0         ['conv2d_transpose_14[0][0]'] \n",
      " agePooling2D)                                                                                    \n",
      "                                                                                                  \n",
      " average_pooling2d_13 (Aver  (None, 128, 128, 64)         0         ['conv2d_transpose_14[0][0]'] \n",
      " agePooling2D)                                                                                    \n",
      "                                                                                                  \n",
      " average_pooling2d_14 (Aver  (None, 64, 64, 64)           0         ['conv2d_transpose_14[0][0]'] \n",
      " agePooling2D)                                                                                    \n",
      "                                                                                                  \n",
      " average_pooling2d_15 (Aver  (None, 32, 32, 64)           0         ['conv2d_transpose_14[0][0]'] \n",
      " agePooling2D)                                                                                    \n",
      "                                                                                                  \n",
      " conv2d_32 (Conv2D)          (None, 256, 256, 32)         2080      ['average_pooling2d_12[0][0]']\n",
      "                                                                                                  \n",
      " conv2d_33 (Conv2D)          (None, 128, 128, 32)         2080      ['average_pooling2d_13[0][0]']\n",
      "                                                                                                  \n",
      " conv2d_34 (Conv2D)          (None, 64, 64, 32)           2080      ['average_pooling2d_14[0][0]']\n",
      "                                                                                                  \n",
      " conv2d_35 (Conv2D)          (None, 32, 32, 32)           2080      ['average_pooling2d_15[0][0]']\n",
      "                                                                                                  \n",
      " conv2d_transpose_15 (Conv2  (None, 256, 256, 16)         528       ['conv2d_32[0][0]']           \n",
      " DTranspose)                                                                                      \n",
      "                                                                                                  \n",
      " conv2d_transpose_16 (Conv2  (None, 256, 256, 16)         2064      ['conv2d_33[0][0]']           \n",
      " DTranspose)                                                                                      \n",
      "                                                                                                  \n",
      " conv2d_transpose_17 (Conv2  (None, 256, 256, 16)         8208      ['conv2d_34[0][0]']           \n",
      " DTranspose)                                                                                      \n",
      "                                                                                                  \n",
      " conv2d_transpose_18 (Conv2  (None, 256, 256, 16)         32784     ['conv2d_35[0][0]']           \n",
      " DTranspose)                                                                                      \n",
      "                                                                                                  \n",
      " concatenate_9 (Concatenate  (None, 256, 256, 128)        0         ['conv2d_transpose_15[0][0]', \n",
      " )                                                                   'conv2d_transpose_16[0][0]', \n",
      "                                                                     'conv2d_transpose_17[0][0]', \n",
      "                                                                     'conv2d_transpose_18[0][0]', \n",
      "                                                                     'conv2d_transpose_14[0][0]'] \n",
      "                                                                                                  \n",
      " concatenate_10 (Concatenat  (None, 256, 256, 144)        0         ['max_pooling2d[0][0]',       \n",
      " e)                                                                  'concatenate_9[0][0]']       \n",
      "                                                                                                  \n",
      " conv2d_transpose_19 (Conv2  (None, 512, 512, 32)         18464     ['concatenate_10[0][0]']      \n",
      " DTranspose)                                                                                      \n",
      "                                                                                                  \n",
      " conv2d_36 (Conv2D)          (None, 512, 512, 1)          33        ['conv2d_transpose_19[0][0]'] \n",
      "                                                                                                  \n",
      "==================================================================================================\n",
      "Total params: 1300305 (4.96 MB)\n",
      "Trainable params: 1300305 (4.96 MB)\n",
      "Non-trainable params: 0 (0.00 Byte)\n",
      "__________________________________________________________________________________________________\n"
     ]
    }
   ],
   "source": [
    "# Define custom objects for loading the model\n",
    "custom_objects = {'DiceLoss': loss.DiceLoss(), \n",
    "                  'sensitivity': metrics.sensitivity,\n",
    "                  'specificity': metrics.specificity,\n",
    "                  'accuracy' : metrics.accuracy}\n",
    "\n",
    "\n",
    "# Create augmentation\n",
    "train_preproc = preprocess.build_augmentation_for_general(RESIZE_SHAPE[0], RESIZE_SHAPE[0])\n",
    "test_preproc = preprocess.build_augmentation_for_general(RESIZE_SHAPE[0], RESIZE_SHAPE[0], is_train=False)\n",
    "\n",
    "# Create train, test generator\n",
    "train_generator = data_generator.SlicedDataGenerator(\n",
    "    TRAIN_SOURCE, \n",
    "    number_of_images = 1,\n",
    "    img_size=INPUT_SHAPE,\n",
    "    output_size=INPUT_SHAPE,\n",
    "    resize_shape = RESIZE_SHAPE,\n",
    "    is_train=True,\n",
    "    augmentation= train_preproc\n",
    ")\n",
    "\n",
    "test_generator = data_generator.SlicedDataGenerator(\n",
    "    TRAIN_SOURCE,\n",
    "    number_of_images = 1,\n",
    "    img_size=INPUT_SHAPE,\n",
    "    output_size=INPUT_SHAPE,\n",
    "    resize_shape = RESIZE_SHAPE,\n",
    "    is_train=False,\n",
    "    augmentation= test_preproc\n",
    ")\n",
    "\n",
    "# Create model\n",
    "model = pyramid.build_model(INPUT_SHAPE)\n",
    "model.summary()"
   ]
  },
  {
   "cell_type": "code",
   "execution_count": 3,
   "metadata": {},
   "outputs": [
    {
     "name": "stdout",
     "output_type": "stream",
     "text": [
      "Epoch 1/30\n"
     ]
    },
    {
     "name": "stderr",
     "output_type": "stream",
     "text": [
      "2024-01-31 08:51:22.720827: I external/local_xla/xla/stream_executor/cuda/cuda_dnn.cc:454] Loaded cuDNN version 8904\n",
      "2024-01-31 08:51:25.794941: I external/local_xla/xla/service/service.cc:168] XLA service 0x7fb2ceb61e50 initialized for platform CUDA (this does not guarantee that XLA will be used). Devices:\n",
      "2024-01-31 08:51:25.794962: I external/local_xla/xla/service/service.cc:176]   StreamExecutor device (0): NVIDIA GeForce RTX 3080 Ti, Compute Capability 8.6\n",
      "2024-01-31 08:51:25.798371: I tensorflow/compiler/mlir/tensorflow/utils/dump_mlir_util.cc:269] disabling MLIR crash reproducer, set env var `MLIR_CRASH_REPRODUCER_DIRECTORY` to enable.\n",
      "WARNING: All log messages before absl::InitializeLog() is called are written to STDERR\n",
      "I0000 00:00:1706691085.871744 1159256 device_compiler.h:186] Compiled cluster using XLA!  This line is logged at most once for the lifetime of the process.\n"
     ]
    },
    {
     "name": "stdout",
     "output_type": "stream",
     "text": [
      "879/880 [============================>.] - ETA: 0s - loss: 0.4925 - sensitivity: 0.4284 - specificity: 0.9652 - accuracy: 0.9288INFO:tensorflow:Assets written to: /visuworks/Blindless_AIFFELTON/Ablation Study/Pyramid/model_parameters/pyramid_30ep_512_sG_wo_decay.tf/1--0.4923-0.4286-0.9652-0.6375-0.9630.pb/assets\n"
     ]
    },
    {
     "name": "stderr",
     "output_type": "stream",
     "text": [
      "INFO:tensorflow:Assets written to: /visuworks/Blindless_AIFFELTON/Ablation Study/Pyramid/model_parameters/pyramid_30ep_512_sG_wo_decay.tf/1--0.4923-0.4286-0.9652-0.6375-0.9630.pb/assets\n"
     ]
    },
    {
     "name": "stdout",
     "output_type": "stream",
     "text": [
      "Model saved to /visuworks/Blindless_AIFFELTON/Ablation Study/Pyramid/model_parameters/pyramid_30ep_512_sG_wo_decay.tf/1--0.4923-0.4286-0.9652-0.6375-0.9630.pb\n",
      "880/880 [==============================] - 137s 136ms/step - loss: 0.4923 - sensitivity: 0.4286 - specificity: 0.9652 - accuracy: 0.9289 - val_loss: 0.3524 - val_sensitivity: 0.6375 - val_specificity: 0.9630 - val_accuracy: 0.9414\n",
      "Epoch 2/30\n",
      "880/880 [==============================] - ETA: 0s - loss: 0.3370 - sensitivity: 0.6361 - specificity: 0.9686 - accuracy: 0.9467INFO:tensorflow:Assets written to: /visuworks/Blindless_AIFFELTON/Ablation Study/Pyramid/model_parameters/pyramid_30ep_512_sG_wo_decay.tf/2--0.3370-0.6361-0.9686-0.6917-0.9664.pb/assets\n"
     ]
    },
    {
     "name": "stderr",
     "output_type": "stream",
     "text": [
      "INFO:tensorflow:Assets written to: /visuworks/Blindless_AIFFELTON/Ablation Study/Pyramid/model_parameters/pyramid_30ep_512_sG_wo_decay.tf/2--0.3370-0.6361-0.9686-0.6917-0.9664.pb/assets\n"
     ]
    },
    {
     "name": "stdout",
     "output_type": "stream",
     "text": [
      "Model saved to /visuworks/Blindless_AIFFELTON/Ablation Study/Pyramid/model_parameters/pyramid_30ep_512_sG_wo_decay.tf/2--0.3370-0.6361-0.9686-0.6917-0.9664.pb\n",
      "880/880 [==============================] - 121s 137ms/step - loss: 0.3370 - sensitivity: 0.6361 - specificity: 0.9686 - accuracy: 0.9467 - val_loss: 0.3128 - val_sensitivity: 0.6917 - val_specificity: 0.9664 - val_accuracy: 0.9482\n",
      "Epoch 3/30\n",
      "880/880 [==============================] - ETA: 0s - loss: 0.3064 - sensitivity: 0.6627 - specificity: 0.9726 - accuracy: 0.9523INFO:tensorflow:Assets written to: /visuworks/Blindless_AIFFELTON/Ablation Study/Pyramid/model_parameters/pyramid_30ep_512_sG_wo_decay.tf/3--0.3064-0.6627-0.9726-0.7150-0.9692.pb/assets\n"
     ]
    },
    {
     "name": "stderr",
     "output_type": "stream",
     "text": [
      "INFO:tensorflow:Assets written to: /visuworks/Blindless_AIFFELTON/Ablation Study/Pyramid/model_parameters/pyramid_30ep_512_sG_wo_decay.tf/3--0.3064-0.6627-0.9726-0.7150-0.9692.pb/assets\n"
     ]
    },
    {
     "name": "stdout",
     "output_type": "stream",
     "text": [
      "Model saved to /visuworks/Blindless_AIFFELTON/Ablation Study/Pyramid/model_parameters/pyramid_30ep_512_sG_wo_decay.tf/3--0.3064-0.6627-0.9726-0.7150-0.9692.pb\n",
      "880/880 [==============================] - 121s 137ms/step - loss: 0.3064 - sensitivity: 0.6627 - specificity: 0.9726 - accuracy: 0.9523 - val_loss: 0.2884 - val_sensitivity: 0.7150 - val_specificity: 0.9692 - val_accuracy: 0.9526\n",
      "Epoch 4/30\n",
      "880/880 [==============================] - ETA: 0s - loss: 0.2883 - sensitivity: 0.6827 - specificity: 0.9743 - accuracy: 0.9553INFO:tensorflow:Assets written to: /visuworks/Blindless_AIFFELTON/Ablation Study/Pyramid/model_parameters/pyramid_30ep_512_sG_wo_decay.tf/4--0.2883-0.6827-0.9743-0.7083-0.9752.pb/assets\n"
     ]
    },
    {
     "name": "stderr",
     "output_type": "stream",
     "text": [
      "INFO:tensorflow:Assets written to: /visuworks/Blindless_AIFFELTON/Ablation Study/Pyramid/model_parameters/pyramid_30ep_512_sG_wo_decay.tf/4--0.2883-0.6827-0.9743-0.7083-0.9752.pb/assets\n"
     ]
    },
    {
     "name": "stdout",
     "output_type": "stream",
     "text": [
      "Model saved to /visuworks/Blindless_AIFFELTON/Ablation Study/Pyramid/model_parameters/pyramid_30ep_512_sG_wo_decay.tf/4--0.2883-0.6827-0.9743-0.7083-0.9752.pb\n",
      "880/880 [==============================] - 127s 144ms/step - loss: 0.2883 - sensitivity: 0.6827 - specificity: 0.9743 - accuracy: 0.9553 - val_loss: 0.2693 - val_sensitivity: 0.7083 - val_specificity: 0.9752 - val_accuracy: 0.9577\n",
      "Epoch 5/30\n",
      "880/880 [==============================] - ETA: 0s - loss: 0.2740 - sensitivity: 0.6971 - specificity: 0.9757 - accuracy: 0.9577INFO:tensorflow:Assets written to: /visuworks/Blindless_AIFFELTON/Ablation Study/Pyramid/model_parameters/pyramid_30ep_512_sG_wo_decay.tf/5--0.2740-0.6971-0.9757-0.7281-0.9745.pb/assets\n"
     ]
    },
    {
     "name": "stderr",
     "output_type": "stream",
     "text": [
      "INFO:tensorflow:Assets written to: /visuworks/Blindless_AIFFELTON/Ablation Study/Pyramid/model_parameters/pyramid_30ep_512_sG_wo_decay.tf/5--0.2740-0.6971-0.9757-0.7281-0.9745.pb/assets\n"
     ]
    },
    {
     "name": "stdout",
     "output_type": "stream",
     "text": [
      "Model saved to /visuworks/Blindless_AIFFELTON/Ablation Study/Pyramid/model_parameters/pyramid_30ep_512_sG_wo_decay.tf/5--0.2740-0.6971-0.9757-0.7281-0.9745.pb\n",
      "880/880 [==============================] - 119s 135ms/step - loss: 0.2740 - sensitivity: 0.6971 - specificity: 0.9757 - accuracy: 0.9577 - val_loss: 0.2616 - val_sensitivity: 0.7281 - val_specificity: 0.9745 - val_accuracy: 0.9585\n",
      "Epoch 6/30\n",
      "880/880 [==============================] - ETA: 0s - loss: 0.2651 - sensitivity: 0.7075 - specificity: 0.9767 - accuracy: 0.9593INFO:tensorflow:Assets written to: /visuworks/Blindless_AIFFELTON/Ablation Study/Pyramid/model_parameters/pyramid_30ep_512_sG_wo_decay.tf/6--0.2651-0.7075-0.9767-0.7757-0.9672.pb/assets\n"
     ]
    },
    {
     "name": "stderr",
     "output_type": "stream",
     "text": [
      "INFO:tensorflow:Assets written to: /visuworks/Blindless_AIFFELTON/Ablation Study/Pyramid/model_parameters/pyramid_30ep_512_sG_wo_decay.tf/6--0.2651-0.7075-0.9767-0.7757-0.9672.pb/assets\n"
     ]
    },
    {
     "name": "stdout",
     "output_type": "stream",
     "text": [
      "Model saved to /visuworks/Blindless_AIFFELTON/Ablation Study/Pyramid/model_parameters/pyramid_30ep_512_sG_wo_decay.tf/6--0.2651-0.7075-0.9767-0.7757-0.9672.pb\n",
      "880/880 [==============================] - 125s 141ms/step - loss: 0.2651 - sensitivity: 0.7075 - specificity: 0.9767 - accuracy: 0.9593 - val_loss: 0.2638 - val_sensitivity: 0.7757 - val_specificity: 0.9672 - val_accuracy: 0.9551\n",
      "Epoch 7/30\n",
      "880/880 [==============================] - ETA: 0s - loss: 0.2564 - sensitivity: 0.7166 - specificity: 0.9775 - accuracy: 0.9606INFO:tensorflow:Assets written to: /visuworks/Blindless_AIFFELTON/Ablation Study/Pyramid/model_parameters/pyramid_30ep_512_sG_wo_decay.tf/7--0.2564-0.7166-0.9775-0.6852-0.9826.pb/assets\n"
     ]
    },
    {
     "name": "stderr",
     "output_type": "stream",
     "text": [
      "INFO:tensorflow:Assets written to: /visuworks/Blindless_AIFFELTON/Ablation Study/Pyramid/model_parameters/pyramid_30ep_512_sG_wo_decay.tf/7--0.2564-0.7166-0.9775-0.6852-0.9826.pb/assets\n"
     ]
    },
    {
     "name": "stdout",
     "output_type": "stream",
     "text": [
      "Model saved to /visuworks/Blindless_AIFFELTON/Ablation Study/Pyramid/model_parameters/pyramid_30ep_512_sG_wo_decay.tf/7--0.2564-0.7166-0.9775-0.6852-0.9826.pb\n",
      "880/880 [==============================] - 126s 143ms/step - loss: 0.2564 - sensitivity: 0.7166 - specificity: 0.9775 - accuracy: 0.9606 - val_loss: 0.2523 - val_sensitivity: 0.6852 - val_specificity: 0.9826 - val_accuracy: 0.9628\n",
      "Epoch 8/30\n",
      "880/880 [==============================] - ETA: 0s - loss: 0.2503 - sensitivity: 0.7234 - specificity: 0.9782 - accuracy: 0.9617INFO:tensorflow:Assets written to: /visuworks/Blindless_AIFFELTON/Ablation Study/Pyramid/model_parameters/pyramid_30ep_512_sG_wo_decay.tf/8--0.2503-0.7234-0.9782-0.6532-0.9868.pb/assets\n"
     ]
    },
    {
     "name": "stderr",
     "output_type": "stream",
     "text": [
      "INFO:tensorflow:Assets written to: /visuworks/Blindless_AIFFELTON/Ablation Study/Pyramid/model_parameters/pyramid_30ep_512_sG_wo_decay.tf/8--0.2503-0.7234-0.9782-0.6532-0.9868.pb/assets\n"
     ]
    },
    {
     "name": "stdout",
     "output_type": "stream",
     "text": [
      "Model saved to /visuworks/Blindless_AIFFELTON/Ablation Study/Pyramid/model_parameters/pyramid_30ep_512_sG_wo_decay.tf/8--0.2503-0.7234-0.9782-0.6532-0.9868.pb\n",
      "880/880 [==============================] - 124s 141ms/step - loss: 0.2503 - sensitivity: 0.7234 - specificity: 0.9782 - accuracy: 0.9617 - val_loss: 0.2517 - val_sensitivity: 0.6532 - val_specificity: 0.9868 - val_accuracy: 0.9646\n",
      "Epoch 9/30\n",
      "880/880 [==============================] - ETA: 0s - loss: 0.2465 - sensitivity: 0.7272 - specificity: 0.9787 - accuracy: 0.9624INFO:tensorflow:Assets written to: /visuworks/Blindless_AIFFELTON/Ablation Study/Pyramid/model_parameters/pyramid_30ep_512_sG_wo_decay.tf/9--0.2465-0.7272-0.9787-0.7368-0.9792.pb/assets\n"
     ]
    },
    {
     "name": "stderr",
     "output_type": "stream",
     "text": [
      "INFO:tensorflow:Assets written to: /visuworks/Blindless_AIFFELTON/Ablation Study/Pyramid/model_parameters/pyramid_30ep_512_sG_wo_decay.tf/9--0.2465-0.7272-0.9787-0.7368-0.9792.pb/assets\n"
     ]
    },
    {
     "name": "stdout",
     "output_type": "stream",
     "text": [
      "Model saved to /visuworks/Blindless_AIFFELTON/Ablation Study/Pyramid/model_parameters/pyramid_30ep_512_sG_wo_decay.tf/9--0.2465-0.7272-0.9787-0.7368-0.9792.pb\n",
      "880/880 [==============================] - 123s 140ms/step - loss: 0.2465 - sensitivity: 0.7272 - specificity: 0.9787 - accuracy: 0.9624 - val_loss: 0.2381 - val_sensitivity: 0.7368 - val_specificity: 0.9792 - val_accuracy: 0.9634\n",
      "Epoch 10/30\n",
      "880/880 [==============================] - ETA: 0s - loss: 0.2397 - sensitivity: 0.7338 - specificity: 0.9792 - accuracy: 0.9633INFO:tensorflow:Assets written to: /visuworks/Blindless_AIFFELTON/Ablation Study/Pyramid/model_parameters/pyramid_30ep_512_sG_wo_decay.tf/10--0.2397-0.7338-0.9792-0.7730-0.9754.pb/assets\n"
     ]
    },
    {
     "name": "stderr",
     "output_type": "stream",
     "text": [
      "INFO:tensorflow:Assets written to: /visuworks/Blindless_AIFFELTON/Ablation Study/Pyramid/model_parameters/pyramid_30ep_512_sG_wo_decay.tf/10--0.2397-0.7338-0.9792-0.7730-0.9754.pb/assets\n"
     ]
    },
    {
     "name": "stdout",
     "output_type": "stream",
     "text": [
      "Model saved to /visuworks/Blindless_AIFFELTON/Ablation Study/Pyramid/model_parameters/pyramid_30ep_512_sG_wo_decay.tf/10--0.2397-0.7338-0.9792-0.7730-0.9754.pb\n",
      "880/880 [==============================] - 126s 143ms/step - loss: 0.2397 - sensitivity: 0.7338 - specificity: 0.9792 - accuracy: 0.9633 - val_loss: 0.2346 - val_sensitivity: 0.7730 - val_specificity: 0.9754 - val_accuracy: 0.9624\n",
      "Epoch 11/30\n",
      "879/880 [============================>.] - ETA: 0s - loss: 0.2385 - sensitivity: 0.7365 - specificity: 0.9793 - accuracy: 0.9636INFO:tensorflow:Assets written to: /visuworks/Blindless_AIFFELTON/Ablation Study/Pyramid/model_parameters/pyramid_30ep_512_sG_wo_decay.tf/11--0.2386-0.7362-0.9793-0.7254-0.9819.pb/assets\n"
     ]
    },
    {
     "name": "stderr",
     "output_type": "stream",
     "text": [
      "INFO:tensorflow:Assets written to: /visuworks/Blindless_AIFFELTON/Ablation Study/Pyramid/model_parameters/pyramid_30ep_512_sG_wo_decay.tf/11--0.2386-0.7362-0.9793-0.7254-0.9819.pb/assets\n"
     ]
    },
    {
     "name": "stdout",
     "output_type": "stream",
     "text": [
      "Model saved to /visuworks/Blindless_AIFFELTON/Ablation Study/Pyramid/model_parameters/pyramid_30ep_512_sG_wo_decay.tf/11--0.2386-0.7362-0.9793-0.7254-0.9819.pb\n",
      "880/880 [==============================] - 127s 144ms/step - loss: 0.2386 - sensitivity: 0.7362 - specificity: 0.9793 - accuracy: 0.9636 - val_loss: 0.2324 - val_sensitivity: 0.7254 - val_specificity: 0.9819 - val_accuracy: 0.9651\n",
      "Epoch 12/30\n",
      "880/880 [==============================] - ETA: 0s - loss: 0.2355 - sensitivity: 0.7391 - specificity: 0.9796 - accuracy: 0.9641INFO:tensorflow:Assets written to: /visuworks/Blindless_AIFFELTON/Ablation Study/Pyramid/model_parameters/pyramid_30ep_512_sG_wo_decay.tf/12--0.2355-0.7391-0.9796-0.8071-0.9640.pb/assets\n"
     ]
    },
    {
     "name": "stderr",
     "output_type": "stream",
     "text": [
      "INFO:tensorflow:Assets written to: /visuworks/Blindless_AIFFELTON/Ablation Study/Pyramid/model_parameters/pyramid_30ep_512_sG_wo_decay.tf/12--0.2355-0.7391-0.9796-0.8071-0.9640.pb/assets\n"
     ]
    },
    {
     "name": "stdout",
     "output_type": "stream",
     "text": [
      "Model saved to /visuworks/Blindless_AIFFELTON/Ablation Study/Pyramid/model_parameters/pyramid_30ep_512_sG_wo_decay.tf/12--0.2355-0.7391-0.9796-0.8071-0.9640.pb\n",
      "880/880 [==============================] - 120s 137ms/step - loss: 0.2355 - sensitivity: 0.7391 - specificity: 0.9796 - accuracy: 0.9641 - val_loss: 0.2635 - val_sensitivity: 0.8071 - val_specificity: 0.9640 - val_accuracy: 0.9541\n",
      "Epoch 13/30\n",
      "879/880 [============================>.] - ETA: 0s - loss: 0.2323 - sensitivity: 0.7417 - specificity: 0.9801 - accuracy: 0.9647INFO:tensorflow:Assets written to: /visuworks/Blindless_AIFFELTON/Ablation Study/Pyramid/model_parameters/pyramid_30ep_512_sG_wo_decay.tf/13--0.2325-0.7419-0.9801-0.6847-0.9861.pb/assets\n"
     ]
    },
    {
     "name": "stderr",
     "output_type": "stream",
     "text": [
      "INFO:tensorflow:Assets written to: /visuworks/Blindless_AIFFELTON/Ablation Study/Pyramid/model_parameters/pyramid_30ep_512_sG_wo_decay.tf/13--0.2325-0.7419-0.9801-0.6847-0.9861.pb/assets\n"
     ]
    },
    {
     "name": "stdout",
     "output_type": "stream",
     "text": [
      "Model saved to /visuworks/Blindless_AIFFELTON/Ablation Study/Pyramid/model_parameters/pyramid_30ep_512_sG_wo_decay.tf/13--0.2325-0.7419-0.9801-0.6847-0.9861.pb\n",
      "880/880 [==============================] - 118s 134ms/step - loss: 0.2325 - sensitivity: 0.7419 - specificity: 0.9801 - accuracy: 0.9647 - val_loss: 0.2361 - val_sensitivity: 0.6847 - val_specificity: 0.9861 - val_accuracy: 0.9661\n",
      "Epoch 14/30\n",
      "880/880 [==============================] - ETA: 0s - loss: 0.2323 - sensitivity: 0.7426 - specificity: 0.9800 - accuracy: 0.9647INFO:tensorflow:Assets written to: /visuworks/Blindless_AIFFELTON/Ablation Study/Pyramid/model_parameters/pyramid_30ep_512_sG_wo_decay.tf/14--0.2323-0.7426-0.9800-0.7939-0.9734.pb/assets\n"
     ]
    },
    {
     "name": "stderr",
     "output_type": "stream",
     "text": [
      "INFO:tensorflow:Assets written to: /visuworks/Blindless_AIFFELTON/Ablation Study/Pyramid/model_parameters/pyramid_30ep_512_sG_wo_decay.tf/14--0.2323-0.7426-0.9800-0.7939-0.9734.pb/assets\n"
     ]
    },
    {
     "name": "stdout",
     "output_type": "stream",
     "text": [
      "Model saved to /visuworks/Blindless_AIFFELTON/Ablation Study/Pyramid/model_parameters/pyramid_30ep_512_sG_wo_decay.tf/14--0.2323-0.7426-0.9800-0.7939-0.9734.pb\n",
      "880/880 [==============================] - 125s 142ms/step - loss: 0.2323 - sensitivity: 0.7426 - specificity: 0.9800 - accuracy: 0.9647 - val_loss: 0.2324 - val_sensitivity: 0.7939 - val_specificity: 0.9734 - val_accuracy: 0.9619\n",
      "Epoch 15/30\n",
      "880/880 [==============================] - ETA: 0s - loss: 0.2283 - sensitivity: 0.7478 - specificity: 0.9802 - accuracy: 0.9652INFO:tensorflow:Assets written to: /visuworks/Blindless_AIFFELTON/Ablation Study/Pyramid/model_parameters/pyramid_30ep_512_sG_wo_decay.tf/15--0.2283-0.7478-0.9802-0.6371-0.9893.pb/assets\n"
     ]
    },
    {
     "name": "stderr",
     "output_type": "stream",
     "text": [
      "INFO:tensorflow:Assets written to: /visuworks/Blindless_AIFFELTON/Ablation Study/Pyramid/model_parameters/pyramid_30ep_512_sG_wo_decay.tf/15--0.2283-0.7478-0.9802-0.6371-0.9893.pb/assets\n"
     ]
    },
    {
     "name": "stdout",
     "output_type": "stream",
     "text": [
      "Model saved to /visuworks/Blindless_AIFFELTON/Ablation Study/Pyramid/model_parameters/pyramid_30ep_512_sG_wo_decay.tf/15--0.2283-0.7478-0.9802-0.6371-0.9893.pb\n",
      "880/880 [==============================] - 120s 136ms/step - loss: 0.2283 - sensitivity: 0.7478 - specificity: 0.9802 - accuracy: 0.9652 - val_loss: 0.2478 - val_sensitivity: 0.6371 - val_specificity: 0.9893 - val_accuracy: 0.9656\n",
      "Epoch 16/30\n",
      "880/880 [==============================] - ETA: 0s - loss: 0.2276 - sensitivity: 0.7481 - specificity: 0.9804 - accuracy: 0.9655INFO:tensorflow:Assets written to: /visuworks/Blindless_AIFFELTON/Ablation Study/Pyramid/model_parameters/pyramid_30ep_512_sG_wo_decay.tf/16--0.2276-0.7481-0.9804-0.7903-0.9751.pb/assets\n"
     ]
    },
    {
     "name": "stderr",
     "output_type": "stream",
     "text": [
      "INFO:tensorflow:Assets written to: /visuworks/Blindless_AIFFELTON/Ablation Study/Pyramid/model_parameters/pyramid_30ep_512_sG_wo_decay.tf/16--0.2276-0.7481-0.9804-0.7903-0.9751.pb/assets\n"
     ]
    },
    {
     "name": "stdout",
     "output_type": "stream",
     "text": [
      "Model saved to /visuworks/Blindless_AIFFELTON/Ablation Study/Pyramid/model_parameters/pyramid_30ep_512_sG_wo_decay.tf/16--0.2276-0.7481-0.9804-0.7903-0.9751.pb\n",
      "880/880 [==============================] - 119s 135ms/step - loss: 0.2276 - sensitivity: 0.7481 - specificity: 0.9804 - accuracy: 0.9655 - val_loss: 0.2276 - val_sensitivity: 0.7903 - val_specificity: 0.9751 - val_accuracy: 0.9633\n",
      "Epoch 17/30\n",
      "880/880 [==============================] - ETA: 0s - loss: 0.2244 - sensitivity: 0.7516 - specificity: 0.9807 - accuracy: 0.9660INFO:tensorflow:Assets written to: /visuworks/Blindless_AIFFELTON/Ablation Study/Pyramid/model_parameters/pyramid_30ep_512_sG_wo_decay.tf/17--0.2244-0.7516-0.9807-0.7918-0.9758.pb/assets\n"
     ]
    },
    {
     "name": "stderr",
     "output_type": "stream",
     "text": [
      "INFO:tensorflow:Assets written to: /visuworks/Blindless_AIFFELTON/Ablation Study/Pyramid/model_parameters/pyramid_30ep_512_sG_wo_decay.tf/17--0.2244-0.7516-0.9807-0.7918-0.9758.pb/assets\n"
     ]
    },
    {
     "name": "stdout",
     "output_type": "stream",
     "text": [
      "Model saved to /visuworks/Blindless_AIFFELTON/Ablation Study/Pyramid/model_parameters/pyramid_30ep_512_sG_wo_decay.tf/17--0.2244-0.7516-0.9807-0.7918-0.9758.pb\n",
      "880/880 [==============================] - 121s 138ms/step - loss: 0.2244 - sensitivity: 0.7516 - specificity: 0.9807 - accuracy: 0.9660 - val_loss: 0.2245 - val_sensitivity: 0.7918 - val_specificity: 0.9758 - val_accuracy: 0.9640\n",
      "Epoch 18/30\n",
      "880/880 [==============================] - ETA: 0s - loss: 0.2238 - sensitivity: 0.7519 - specificity: 0.9808 - accuracy: 0.9661INFO:tensorflow:Assets written to: /visuworks/Blindless_AIFFELTON/Ablation Study/Pyramid/model_parameters/pyramid_30ep_512_sG_wo_decay.tf/18--0.2238-0.7519-0.9808-0.7674-0.9789.pb/assets\n"
     ]
    },
    {
     "name": "stderr",
     "output_type": "stream",
     "text": [
      "INFO:tensorflow:Assets written to: /visuworks/Blindless_AIFFELTON/Ablation Study/Pyramid/model_parameters/pyramid_30ep_512_sG_wo_decay.tf/18--0.2238-0.7519-0.9808-0.7674-0.9789.pb/assets\n"
     ]
    },
    {
     "name": "stdout",
     "output_type": "stream",
     "text": [
      "Model saved to /visuworks/Blindless_AIFFELTON/Ablation Study/Pyramid/model_parameters/pyramid_30ep_512_sG_wo_decay.tf/18--0.2238-0.7519-0.9808-0.7674-0.9789.pb\n",
      "880/880 [==============================] - 119s 135ms/step - loss: 0.2238 - sensitivity: 0.7519 - specificity: 0.9808 - accuracy: 0.9661 - val_loss: 0.2228 - val_sensitivity: 0.7674 - val_specificity: 0.9789 - val_accuracy: 0.9653\n",
      "Epoch 19/30\n",
      "880/880 [==============================] - ETA: 0s - loss: 0.2237 - sensitivity: 0.7522 - specificity: 0.9807 - accuracy: 0.9660INFO:tensorflow:Assets written to: /visuworks/Blindless_AIFFELTON/Ablation Study/Pyramid/model_parameters/pyramid_30ep_512_sG_wo_decay.tf/19--0.2237-0.7522-0.9807-0.8024-0.9744.pb/assets\n"
     ]
    },
    {
     "name": "stderr",
     "output_type": "stream",
     "text": [
      "INFO:tensorflow:Assets written to: /visuworks/Blindless_AIFFELTON/Ablation Study/Pyramid/model_parameters/pyramid_30ep_512_sG_wo_decay.tf/19--0.2237-0.7522-0.9807-0.8024-0.9744.pb/assets\n"
     ]
    },
    {
     "name": "stdout",
     "output_type": "stream",
     "text": [
      "Model saved to /visuworks/Blindless_AIFFELTON/Ablation Study/Pyramid/model_parameters/pyramid_30ep_512_sG_wo_decay.tf/19--0.2237-0.7522-0.9807-0.8024-0.9744.pb\n",
      "880/880 [==============================] - 122s 138ms/step - loss: 0.2237 - sensitivity: 0.7522 - specificity: 0.9807 - accuracy: 0.9660 - val_loss: 0.2254 - val_sensitivity: 0.8024 - val_specificity: 0.9744 - val_accuracy: 0.9634\n",
      "Epoch 20/30\n",
      "880/880 [==============================] - ETA: 0s - loss: 0.2216 - sensitivity: 0.7536 - specificity: 0.9811 - accuracy: 0.9665INFO:tensorflow:Assets written to: /visuworks/Blindless_AIFFELTON/Ablation Study/Pyramid/model_parameters/pyramid_30ep_512_sG_wo_decay.tf/20--0.2216-0.7536-0.9811-0.7759-0.9790.pb/assets\n"
     ]
    },
    {
     "name": "stderr",
     "output_type": "stream",
     "text": [
      "INFO:tensorflow:Assets written to: /visuworks/Blindless_AIFFELTON/Ablation Study/Pyramid/model_parameters/pyramid_30ep_512_sG_wo_decay.tf/20--0.2216-0.7536-0.9811-0.7759-0.9790.pb/assets\n"
     ]
    },
    {
     "name": "stdout",
     "output_type": "stream",
     "text": [
      "Model saved to /visuworks/Blindless_AIFFELTON/Ablation Study/Pyramid/model_parameters/pyramid_30ep_512_sG_wo_decay.tf/20--0.2216-0.7536-0.9811-0.7759-0.9790.pb\n",
      "880/880 [==============================] - 120s 136ms/step - loss: 0.2216 - sensitivity: 0.7536 - specificity: 0.9811 - accuracy: 0.9665 - val_loss: 0.2174 - val_sensitivity: 0.7759 - val_specificity: 0.9790 - val_accuracy: 0.9661\n",
      "Epoch 21/30\n",
      "880/880 [==============================] - ETA: 0s - loss: 0.2200 - sensitivity: 0.7558 - specificity: 0.9813 - accuracy: 0.9668INFO:tensorflow:Assets written to: /visuworks/Blindless_AIFFELTON/Ablation Study/Pyramid/model_parameters/pyramid_30ep_512_sG_wo_decay.tf/21--0.2200-0.7558-0.9813-0.8068-0.9746.pb/assets\n"
     ]
    },
    {
     "name": "stderr",
     "output_type": "stream",
     "text": [
      "INFO:tensorflow:Assets written to: /visuworks/Blindless_AIFFELTON/Ablation Study/Pyramid/model_parameters/pyramid_30ep_512_sG_wo_decay.tf/21--0.2200-0.7558-0.9813-0.8068-0.9746.pb/assets\n"
     ]
    },
    {
     "name": "stdout",
     "output_type": "stream",
     "text": [
      "Model saved to /visuworks/Blindless_AIFFELTON/Ablation Study/Pyramid/model_parameters/pyramid_30ep_512_sG_wo_decay.tf/21--0.2200-0.7558-0.9813-0.8068-0.9746.pb\n",
      "880/880 [==============================] - 122s 139ms/step - loss: 0.2200 - sensitivity: 0.7558 - specificity: 0.9813 - accuracy: 0.9668 - val_loss: 0.2216 - val_sensitivity: 0.8068 - val_specificity: 0.9746 - val_accuracy: 0.9639\n",
      "Epoch 22/30\n",
      "880/880 [==============================] - ETA: 0s - loss: 0.2185 - sensitivity: 0.7577 - specificity: 0.9813 - accuracy: 0.9669INFO:tensorflow:Assets written to: /visuworks/Blindless_AIFFELTON/Ablation Study/Pyramid/model_parameters/pyramid_30ep_512_sG_wo_decay.tf/22--0.2185-0.7577-0.9813-0.7317-0.9840.pb/assets\n"
     ]
    },
    {
     "name": "stderr",
     "output_type": "stream",
     "text": [
      "INFO:tensorflow:Assets written to: /visuworks/Blindless_AIFFELTON/Ablation Study/Pyramid/model_parameters/pyramid_30ep_512_sG_wo_decay.tf/22--0.2185-0.7577-0.9813-0.7317-0.9840.pb/assets\n"
     ]
    },
    {
     "name": "stdout",
     "output_type": "stream",
     "text": [
      "Model saved to /visuworks/Blindless_AIFFELTON/Ablation Study/Pyramid/model_parameters/pyramid_30ep_512_sG_wo_decay.tf/22--0.2185-0.7577-0.9813-0.7317-0.9840.pb\n",
      "880/880 [==============================] - 124s 141ms/step - loss: 0.2185 - sensitivity: 0.7577 - specificity: 0.9813 - accuracy: 0.9669 - val_loss: 0.2215 - val_sensitivity: 0.7317 - val_specificity: 0.9840 - val_accuracy: 0.9676\n",
      "Epoch 23/30\n",
      "880/880 [==============================] - ETA: 0s - loss: 0.2177 - sensitivity: 0.7585 - specificity: 0.9814 - accuracy: 0.9671INFO:tensorflow:Assets written to: /visuworks/Blindless_AIFFELTON/Ablation Study/Pyramid/model_parameters/pyramid_30ep_512_sG_wo_decay.tf/23--0.2177-0.7585-0.9814-0.7258-0.9852.pb/assets\n"
     ]
    },
    {
     "name": "stderr",
     "output_type": "stream",
     "text": [
      "INFO:tensorflow:Assets written to: /visuworks/Blindless_AIFFELTON/Ablation Study/Pyramid/model_parameters/pyramid_30ep_512_sG_wo_decay.tf/23--0.2177-0.7585-0.9814-0.7258-0.9852.pb/assets\n"
     ]
    },
    {
     "name": "stdout",
     "output_type": "stream",
     "text": [
      "Model saved to /visuworks/Blindless_AIFFELTON/Ablation Study/Pyramid/model_parameters/pyramid_30ep_512_sG_wo_decay.tf/23--0.2177-0.7585-0.9814-0.7258-0.9852.pb\n",
      "880/880 [==============================] - 119s 135ms/step - loss: 0.2177 - sensitivity: 0.7585 - specificity: 0.9814 - accuracy: 0.9671 - val_loss: 0.2173 - val_sensitivity: 0.7258 - val_specificity: 0.9852 - val_accuracy: 0.9681\n",
      "Epoch 24/30\n",
      "880/880 [==============================] - ETA: 0s - loss: 0.2173 - sensitivity: 0.7586 - specificity: 0.9815 - accuracy: 0.9672INFO:tensorflow:Assets written to: /visuworks/Blindless_AIFFELTON/Ablation Study/Pyramid/model_parameters/pyramid_30ep_512_sG_wo_decay.tf/24--0.2173-0.7586-0.9815-0.7328-0.9851.pb/assets\n"
     ]
    },
    {
     "name": "stderr",
     "output_type": "stream",
     "text": [
      "INFO:tensorflow:Assets written to: /visuworks/Blindless_AIFFELTON/Ablation Study/Pyramid/model_parameters/pyramid_30ep_512_sG_wo_decay.tf/24--0.2173-0.7586-0.9815-0.7328-0.9851.pb/assets\n"
     ]
    },
    {
     "name": "stdout",
     "output_type": "stream",
     "text": [
      "Model saved to /visuworks/Blindless_AIFFELTON/Ablation Study/Pyramid/model_parameters/pyramid_30ep_512_sG_wo_decay.tf/24--0.2173-0.7586-0.9815-0.7328-0.9851.pb\n",
      "880/880 [==============================] - 127s 144ms/step - loss: 0.2173 - sensitivity: 0.7586 - specificity: 0.9815 - accuracy: 0.9672 - val_loss: 0.2146 - val_sensitivity: 0.7328 - val_specificity: 0.9851 - val_accuracy: 0.9686\n",
      "Epoch 25/30\n",
      "880/880 [==============================] - ETA: 0s - loss: 0.2155 - sensitivity: 0.7604 - specificity: 0.9816 - accuracy: 0.9674INFO:tensorflow:Assets written to: /visuworks/Blindless_AIFFELTON/Ablation Study/Pyramid/model_parameters/pyramid_30ep_512_sG_wo_decay.tf/25--0.2155-0.7604-0.9816-0.7220-0.9856.pb/assets\n"
     ]
    },
    {
     "name": "stderr",
     "output_type": "stream",
     "text": [
      "INFO:tensorflow:Assets written to: /visuworks/Blindless_AIFFELTON/Ablation Study/Pyramid/model_parameters/pyramid_30ep_512_sG_wo_decay.tf/25--0.2155-0.7604-0.9816-0.7220-0.9856.pb/assets\n"
     ]
    },
    {
     "name": "stdout",
     "output_type": "stream",
     "text": [
      "Model saved to /visuworks/Blindless_AIFFELTON/Ablation Study/Pyramid/model_parameters/pyramid_30ep_512_sG_wo_decay.tf/25--0.2155-0.7604-0.9816-0.7220-0.9856.pb\n",
      "880/880 [==============================] - 118s 134ms/step - loss: 0.2155 - sensitivity: 0.7604 - specificity: 0.9816 - accuracy: 0.9674 - val_loss: 0.2184 - val_sensitivity: 0.7220 - val_specificity: 0.9856 - val_accuracy: 0.9682\n",
      "Epoch 26/30\n",
      "880/880 [==============================] - ETA: 0s - loss: 0.2148 - sensitivity: 0.7607 - specificity: 0.9818 - accuracy: 0.9676INFO:tensorflow:Assets written to: /visuworks/Blindless_AIFFELTON/Ablation Study/Pyramid/model_parameters/pyramid_30ep_512_sG_wo_decay.tf/26--0.2148-0.7607-0.9818-0.7502-0.9840.pb/assets\n"
     ]
    },
    {
     "name": "stderr",
     "output_type": "stream",
     "text": [
      "INFO:tensorflow:Assets written to: /visuworks/Blindless_AIFFELTON/Ablation Study/Pyramid/model_parameters/pyramid_30ep_512_sG_wo_decay.tf/26--0.2148-0.7607-0.9818-0.7502-0.9840.pb/assets\n"
     ]
    },
    {
     "name": "stdout",
     "output_type": "stream",
     "text": [
      "Model saved to /visuworks/Blindless_AIFFELTON/Ablation Study/Pyramid/model_parameters/pyramid_30ep_512_sG_wo_decay.tf/26--0.2148-0.7607-0.9818-0.7502-0.9840.pb\n",
      "880/880 [==============================] - 122s 139ms/step - loss: 0.2148 - sensitivity: 0.7607 - specificity: 0.9818 - accuracy: 0.9676 - val_loss: 0.2107 - val_sensitivity: 0.7502 - val_specificity: 0.9840 - val_accuracy: 0.9688\n",
      "Epoch 27/30\n",
      "880/880 [==============================] - ETA: 0s - loss: 0.2136 - sensitivity: 0.7630 - specificity: 0.9818 - accuracy: 0.9678INFO:tensorflow:Assets written to: /visuworks/Blindless_AIFFELTON/Ablation Study/Pyramid/model_parameters/pyramid_30ep_512_sG_wo_decay.tf/27--0.2136-0.7630-0.9818-0.7857-0.9790.pb/assets\n"
     ]
    },
    {
     "name": "stderr",
     "output_type": "stream",
     "text": [
      "INFO:tensorflow:Assets written to: /visuworks/Blindless_AIFFELTON/Ablation Study/Pyramid/model_parameters/pyramid_30ep_512_sG_wo_decay.tf/27--0.2136-0.7630-0.9818-0.7857-0.9790.pb/assets\n"
     ]
    },
    {
     "name": "stdout",
     "output_type": "stream",
     "text": [
      "Model saved to /visuworks/Blindless_AIFFELTON/Ablation Study/Pyramid/model_parameters/pyramid_30ep_512_sG_wo_decay.tf/27--0.2136-0.7630-0.9818-0.7857-0.9790.pb\n",
      "880/880 [==============================] - 120s 136ms/step - loss: 0.2136 - sensitivity: 0.7630 - specificity: 0.9818 - accuracy: 0.9678 - val_loss: 0.2146 - val_sensitivity: 0.7857 - val_specificity: 0.9790 - val_accuracy: 0.9665\n",
      "Epoch 28/30\n",
      "880/880 [==============================] - ETA: 0s - loss: 0.2141 - sensitivity: 0.7625 - specificity: 0.9817 - accuracy: 0.9676INFO:tensorflow:Assets written to: /visuworks/Blindless_AIFFELTON/Ablation Study/Pyramid/model_parameters/pyramid_30ep_512_sG_wo_decay.tf/28--0.2141-0.7625-0.9817-0.7611-0.9819.pb/assets\n"
     ]
    },
    {
     "name": "stderr",
     "output_type": "stream",
     "text": [
      "INFO:tensorflow:Assets written to: /visuworks/Blindless_AIFFELTON/Ablation Study/Pyramid/model_parameters/pyramid_30ep_512_sG_wo_decay.tf/28--0.2141-0.7625-0.9817-0.7611-0.9819.pb/assets\n"
     ]
    },
    {
     "name": "stdout",
     "output_type": "stream",
     "text": [
      "Model saved to /visuworks/Blindless_AIFFELTON/Ablation Study/Pyramid/model_parameters/pyramid_30ep_512_sG_wo_decay.tf/28--0.2141-0.7625-0.9817-0.7611-0.9819.pb\n",
      "880/880 [==============================] - 119s 136ms/step - loss: 0.2141 - sensitivity: 0.7625 - specificity: 0.9817 - accuracy: 0.9676 - val_loss: 0.2155 - val_sensitivity: 0.7611 - val_specificity: 0.9819 - val_accuracy: 0.9674\n",
      "Epoch 29/30\n",
      "880/880 [==============================] - ETA: 0s - loss: 0.2120 - sensitivity: 0.7640 - specificity: 0.9820 - accuracy: 0.9680INFO:tensorflow:Assets written to: /visuworks/Blindless_AIFFELTON/Ablation Study/Pyramid/model_parameters/pyramid_30ep_512_sG_wo_decay.tf/29--0.2120-0.7640-0.9820-0.7752-0.9817.pb/assets\n"
     ]
    },
    {
     "name": "stderr",
     "output_type": "stream",
     "text": [
      "INFO:tensorflow:Assets written to: /visuworks/Blindless_AIFFELTON/Ablation Study/Pyramid/model_parameters/pyramid_30ep_512_sG_wo_decay.tf/29--0.2120-0.7640-0.9820-0.7752-0.9817.pb/assets\n"
     ]
    },
    {
     "name": "stdout",
     "output_type": "stream",
     "text": [
      "Model saved to /visuworks/Blindless_AIFFELTON/Ablation Study/Pyramid/model_parameters/pyramid_30ep_512_sG_wo_decay.tf/29--0.2120-0.7640-0.9820-0.7752-0.9817.pb\n",
      "880/880 [==============================] - 122s 138ms/step - loss: 0.2120 - sensitivity: 0.7640 - specificity: 0.9820 - accuracy: 0.9680 - val_loss: 0.2083 - val_sensitivity: 0.7752 - val_specificity: 0.9817 - val_accuracy: 0.9684\n",
      "Epoch 30/30\n",
      "880/880 [==============================] - ETA: 0s - loss: 0.2114 - sensitivity: 0.7651 - specificity: 0.9820 - accuracy: 0.9681INFO:tensorflow:Assets written to: /visuworks/Blindless_AIFFELTON/Ablation Study/Pyramid/model_parameters/pyramid_30ep_512_sG_wo_decay.tf/30--0.2114-0.7651-0.9820-0.7727-0.9810.pb/assets\n"
     ]
    },
    {
     "name": "stderr",
     "output_type": "stream",
     "text": [
      "INFO:tensorflow:Assets written to: /visuworks/Blindless_AIFFELTON/Ablation Study/Pyramid/model_parameters/pyramid_30ep_512_sG_wo_decay.tf/30--0.2114-0.7651-0.9820-0.7727-0.9810.pb/assets\n"
     ]
    },
    {
     "name": "stdout",
     "output_type": "stream",
     "text": [
      "Model saved to /visuworks/Blindless_AIFFELTON/Ablation Study/Pyramid/model_parameters/pyramid_30ep_512_sG_wo_decay.tf/30--0.2114-0.7651-0.9820-0.7727-0.9810.pb\n",
      "880/880 [==============================] - 129s 147ms/step - loss: 0.2114 - sensitivity: 0.7651 - specificity: 0.9820 - accuracy: 0.9681 - val_loss: 0.2117 - val_sensitivity: 0.7727 - val_specificity: 0.9810 - val_accuracy: 0.9676\n"
     ]
    }
   ],
   "source": [
    "train.model_train(model,\n",
    "                  epoch = 30,\n",
    "                  train_generator = train_generator,\n",
    "                  test_generator = test_generator,\n",
    "                  model_path = MODEL_PATH,\n",
    "                  history_path = HISTORY_PATH,\n",
    "                  save_every_epoch=True,\n",
    "                  apply_weight_decay=False)"
   ]
  }
 ],
 "metadata": {
  "kernelspec": {
   "display_name": "Python 3",
   "language": "python",
   "name": "python3"
  },
  "language_info": {
   "codemirror_mode": {
    "name": "ipython",
    "version": 3
   },
   "file_extension": ".py",
   "mimetype": "text/x-python",
   "name": "python",
   "nbconvert_exporter": "python",
   "pygments_lexer": "ipython3",
   "version": "3.9.6"
  }
 },
 "nbformat": 4,
 "nbformat_minor": 2
}
