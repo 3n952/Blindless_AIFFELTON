{
 "cells": [
  {
   "cell_type": "code",
   "execution_count": 2,
   "id": "d89ce07d",
   "metadata": {},
   "outputs": [
    {
     "name": "stderr",
     "output_type": "stream",
     "text": [
      "2024-02-15 07:15:19.859459: E external/local_xla/xla/stream_executor/cuda/cuda_dnn.cc:9261] Unable to register cuDNN factory: Attempting to register factory for plugin cuDNN when one has already been registered\n",
      "2024-02-15 07:15:19.859488: E external/local_xla/xla/stream_executor/cuda/cuda_fft.cc:607] Unable to register cuFFT factory: Attempting to register factory for plugin cuFFT when one has already been registered\n",
      "2024-02-15 07:15:19.860365: E external/local_xla/xla/stream_executor/cuda/cuda_blas.cc:1515] Unable to register cuBLAS factory: Attempting to register factory for plugin cuBLAS when one has already been registered\n",
      "2024-02-15 07:15:19.865280: I tensorflow/core/platform/cpu_feature_guard.cc:182] This TensorFlow binary is optimized to use available CPU instructions in performance-critical operations.\n",
      "To enable the following instructions: AVX2 FMA, in other operations, rebuild TensorFlow with the appropriate compiler flags.\n",
      "2024-02-15 07:15:20.481325: W tensorflow/compiler/tf2tensorrt/utils/py_utils.cc:38] TF-TRT Warning: Could not find TensorRT\n"
     ]
    }
   ],
   "source": [
    "import sys\n",
    "import tensorflow as tf\n",
    "sys.path.append(\"/visuworks/Blindless_AIFFELTON/Ablation Study/\")\n",
    "\n",
    "# import customized modules\n",
    "import preprocess, data_generator, check_result, metrics, loss, train\n",
    "\n",
    "sys.path.append(\"/visuworks/Blindless_AIFFELTON/Ablation Study/Pyramid\")\n",
    "import pyramid\n",
    "\n",
    "\n",
    "# Insert Path\n",
    "# {model_name}_{epoch}ep_{model_inpusize}_{Generator | aG/fG/sG}\n",
    "FILE_NAME = 'pyramid_50ep_512_sG_wo_slice'\n",
    "INPUT_SHAPE = (512, 512, 1)\n",
    "RESIZE_SHAPE = (1024, 1024, 1)\n",
    "MODEL_PATH = \"/visuworks/Blindless_AIFFELTON/Ablation Study/Pyramid/model_parameters/\" + FILE_NAME + \".tf\"\n",
    "HISTORY_PATH = \"/visuworks/Blindless_AIFFELTON/Ablation Study/Pyramid/history/\" + FILE_NAME + '_history' \".json\"\n",
    "\n",
    "TRAIN_SOURCE = '/visuworks/Dataset/Selected Dataset 3/Train'\n",
    "TEST_SOURCE = '/visuworks/Dataset/Selected Dataset 3/Test'"
   ]
  },
  {
   "cell_type": "code",
   "execution_count": 5,
   "id": "a5ab2132",
   "metadata": {},
   "outputs": [
    {
     "name": "stdout",
     "output_type": "stream",
     "text": [
      "Model: \"model_1\"\n",
      "__________________________________________________________________________________________________\n",
      " Layer (type)                Output Shape                 Param #   Connected to                  \n",
      "==================================================================================================\n",
      " input_2 (InputLayer)        [(None, 512, 512, 1)]        0         []                            \n",
      "                                                                                                  \n",
      " conv2d_39 (Conv2D)          (None, 512, 512, 16)         32        ['input_2[0][0]']             \n",
      "                                                                                                  \n",
      " conv2d_37 (Conv2D)          (None, 512, 512, 8)          16        ['input_2[0][0]']             \n",
      "                                                                                                  \n",
      " conv2d_38 (Conv2D)          (None, 512, 512, 16)         160       ['input_2[0][0]']             \n",
      "                                                                                                  \n",
      " conv2d_40 (Conv2D)          (None, 512, 512, 32)         4640      ['conv2d_39[0][0]']           \n",
      "                                                                                                  \n",
      " concatenate_11 (Concatenat  (None, 512, 512, 56)         0         ['conv2d_37[0][0]',           \n",
      " e)                                                                  'conv2d_38[0][0]',           \n",
      "                                                                     'conv2d_40[0][0]']           \n",
      "                                                                                                  \n",
      " conv2d_41 (Conv2D)          (None, 512, 512, 16)         912       ['concatenate_11[0][0]']      \n",
      "                                                                                                  \n",
      " max_pooling2d_4 (MaxPoolin  (None, 256, 256, 16)         0         ['conv2d_41[0][0]']           \n",
      " g2D)                                                                                             \n",
      "                                                                                                  \n",
      " conv2d_44 (Conv2D)          (None, 256, 256, 32)         544       ['max_pooling2d_4[0][0]']     \n",
      "                                                                                                  \n",
      " conv2d_42 (Conv2D)          (None, 256, 256, 16)         272       ['max_pooling2d_4[0][0]']     \n",
      "                                                                                                  \n",
      " conv2d_43 (Conv2D)          (None, 256, 256, 32)         4640      ['max_pooling2d_4[0][0]']     \n",
      "                                                                                                  \n",
      " conv2d_45 (Conv2D)          (None, 256, 256, 64)         18496     ['conv2d_44[0][0]']           \n",
      "                                                                                                  \n",
      " concatenate_12 (Concatenat  (None, 256, 256, 112)        0         ['conv2d_42[0][0]',           \n",
      " e)                                                                  'conv2d_43[0][0]',           \n",
      "                                                                     'conv2d_45[0][0]']           \n",
      "                                                                                                  \n",
      " conv2d_46 (Conv2D)          (None, 256, 256, 32)         3616      ['concatenate_12[0][0]']      \n",
      "                                                                                                  \n",
      " max_pooling2d_5 (MaxPoolin  (None, 128, 128, 32)         0         ['conv2d_46[0][0]']           \n",
      " g2D)                                                                                             \n",
      "                                                                                                  \n",
      " conv2d_49 (Conv2D)          (None, 128, 128, 64)         2112      ['max_pooling2d_5[0][0]']     \n",
      "                                                                                                  \n",
      " conv2d_47 (Conv2D)          (None, 128, 128, 32)         1056      ['max_pooling2d_5[0][0]']     \n",
      "                                                                                                  \n",
      " conv2d_48 (Conv2D)          (None, 128, 128, 64)         18496     ['max_pooling2d_5[0][0]']     \n",
      "                                                                                                  \n",
      " conv2d_50 (Conv2D)          (None, 128, 128, 128)        73856     ['conv2d_49[0][0]']           \n",
      "                                                                                                  \n",
      " concatenate_13 (Concatenat  (None, 128, 128, 224)        0         ['conv2d_47[0][0]',           \n",
      " e)                                                                  'conv2d_48[0][0]',           \n",
      "                                                                     'conv2d_50[0][0]']           \n",
      "                                                                                                  \n",
      " conv2d_51 (Conv2D)          (None, 128, 128, 64)         14400     ['concatenate_13[0][0]']      \n",
      "                                                                                                  \n",
      " max_pooling2d_6 (MaxPoolin  (None, 64, 64, 64)           0         ['conv2d_51[0][0]']           \n",
      " g2D)                                                                                             \n",
      "                                                                                                  \n",
      " conv2d_54 (Conv2D)          (None, 64, 64, 128)          8320      ['max_pooling2d_6[0][0]']     \n",
      "                                                                                                  \n",
      " conv2d_52 (Conv2D)          (None, 64, 64, 64)           4160      ['max_pooling2d_6[0][0]']     \n",
      "                                                                                                  \n",
      " conv2d_53 (Conv2D)          (None, 64, 64, 128)          73856     ['max_pooling2d_6[0][0]']     \n",
      "                                                                                                  \n",
      " conv2d_55 (Conv2D)          (None, 64, 64, 256)          295168    ['conv2d_54[0][0]']           \n",
      "                                                                                                  \n",
      " concatenate_14 (Concatenat  (None, 64, 64, 448)          0         ['conv2d_52[0][0]',           \n",
      " e)                                                                  'conv2d_53[0][0]',           \n",
      "                                                                     'conv2d_55[0][0]']           \n",
      "                                                                                                  \n",
      " conv2d_56 (Conv2D)          (None, 64, 64, 128)          57472     ['concatenate_14[0][0]']      \n",
      "                                                                                                  \n",
      " max_pooling2d_7 (MaxPoolin  (None, 32, 32, 128)          0         ['conv2d_56[0][0]']           \n",
      " g2D)                                                                                             \n",
      "                                                                                                  \n",
      " average_pooling2d_16 (Aver  (None, 32, 32, 128)          0         ['max_pooling2d_7[0][0]']     \n",
      " agePooling2D)                                                                                    \n",
      "                                                                                                  \n",
      " average_pooling2d_17 (Aver  (None, 16, 16, 128)          0         ['max_pooling2d_7[0][0]']     \n",
      " agePooling2D)                                                                                    \n",
      "                                                                                                  \n",
      " average_pooling2d_18 (Aver  (None, 8, 8, 128)            0         ['max_pooling2d_7[0][0]']     \n",
      " agePooling2D)                                                                                    \n",
      "                                                                                                  \n",
      " average_pooling2d_19 (Aver  (None, 4, 4, 128)            0         ['max_pooling2d_7[0][0]']     \n",
      " agePooling2D)                                                                                    \n",
      "                                                                                                  \n",
      " conv2d_57 (Conv2D)          (None, 32, 32, 32)           4128      ['average_pooling2d_16[0][0]']\n",
      "                                                                                                  \n",
      " conv2d_58 (Conv2D)          (None, 16, 16, 32)           4128      ['average_pooling2d_17[0][0]']\n",
      "                                                                                                  \n",
      " conv2d_59 (Conv2D)          (None, 8, 8, 32)             4128      ['average_pooling2d_18[0][0]']\n",
      "                                                                                                  \n",
      " conv2d_60 (Conv2D)          (None, 4, 4, 32)             4128      ['average_pooling2d_19[0][0]']\n",
      "                                                                                                  \n",
      " conv2d_transpose_20 (Conv2  (None, 32, 32, 32)           1056      ['conv2d_57[0][0]']           \n",
      " DTranspose)                                                                                      \n",
      "                                                                                                  \n",
      " conv2d_transpose_21 (Conv2  (None, 32, 32, 32)           4128      ['conv2d_58[0][0]']           \n",
      " DTranspose)                                                                                      \n",
      "                                                                                                  \n",
      " conv2d_transpose_22 (Conv2  (None, 32, 32, 32)           16416     ['conv2d_59[0][0]']           \n",
      " DTranspose)                                                                                      \n",
      "                                                                                                  \n",
      " conv2d_transpose_23 (Conv2  (None, 32, 32, 32)           65568     ['conv2d_60[0][0]']           \n",
      " DTranspose)                                                                                      \n",
      "                                                                                                  \n",
      " concatenate_15 (Concatenat  (None, 32, 32, 256)          0         ['conv2d_transpose_20[0][0]', \n",
      " e)                                                                  'conv2d_transpose_21[0][0]', \n",
      "                                                                     'conv2d_transpose_22[0][0]', \n",
      "                                                                     'conv2d_transpose_23[0][0]', \n",
      "                                                                     'max_pooling2d_7[0][0]']     \n",
      "                                                                                                  \n",
      " conv2d_transpose_24 (Conv2  (None, 64, 64, 256)          262400    ['concatenate_15[0][0]']      \n",
      " DTranspose)                                                                                      \n",
      "                                                                                                  \n",
      " average_pooling2d_20 (Aver  (None, 64, 64, 256)          0         ['conv2d_transpose_24[0][0]'] \n",
      " agePooling2D)                                                                                    \n",
      "                                                                                                  \n",
      " average_pooling2d_21 (Aver  (None, 32, 32, 256)          0         ['conv2d_transpose_24[0][0]'] \n",
      " agePooling2D)                                                                                    \n",
      "                                                                                                  \n",
      " average_pooling2d_22 (Aver  (None, 16, 16, 256)          0         ['conv2d_transpose_24[0][0]'] \n",
      " agePooling2D)                                                                                    \n",
      "                                                                                                  \n",
      " average_pooling2d_23 (Aver  (None, 8, 8, 256)            0         ['conv2d_transpose_24[0][0]'] \n",
      " agePooling2D)                                                                                    \n",
      "                                                                                                  \n",
      " conv2d_61 (Conv2D)          (None, 64, 64, 32)           8224      ['average_pooling2d_20[0][0]']\n",
      "                                                                                                  \n",
      " conv2d_62 (Conv2D)          (None, 32, 32, 32)           8224      ['average_pooling2d_21[0][0]']\n",
      "                                                                                                  \n",
      " conv2d_63 (Conv2D)          (None, 16, 16, 32)           8224      ['average_pooling2d_22[0][0]']\n",
      "                                                                                                  \n",
      " conv2d_64 (Conv2D)          (None, 8, 8, 32)             8224      ['average_pooling2d_23[0][0]']\n",
      "                                                                                                  \n",
      " conv2d_transpose_25 (Conv2  (None, 64, 64, 32)           1056      ['conv2d_61[0][0]']           \n",
      " DTranspose)                                                                                      \n",
      "                                                                                                  \n",
      " conv2d_transpose_26 (Conv2  (None, 64, 64, 32)           4128      ['conv2d_62[0][0]']           \n",
      " DTranspose)                                                                                      \n",
      "                                                                                                  \n",
      " conv2d_transpose_27 (Conv2  (None, 64, 64, 32)           16416     ['conv2d_63[0][0]']           \n",
      " DTranspose)                                                                                      \n",
      "                                                                                                  \n",
      " conv2d_transpose_28 (Conv2  (None, 64, 64, 32)           65568     ['conv2d_64[0][0]']           \n",
      " DTranspose)                                                                                      \n",
      "                                                                                                  \n",
      " concatenate_16 (Concatenat  (None, 64, 64, 384)          0         ['conv2d_transpose_25[0][0]', \n",
      " e)                                                                  'conv2d_transpose_26[0][0]', \n",
      "                                                                     'conv2d_transpose_27[0][0]', \n",
      "                                                                     'conv2d_transpose_28[0][0]', \n",
      "                                                                     'conv2d_transpose_24[0][0]'] \n",
      "                                                                                                  \n",
      " concatenate_17 (Concatenat  (None, 64, 64, 448)          0         ['max_pooling2d_6[0][0]',     \n",
      " e)                                                                  'concatenate_16[0][0]']      \n",
      "                                                                                                  \n",
      " conv2d_transpose_29 (Conv2  (None, 128, 128, 128)        229504    ['concatenate_17[0][0]']      \n",
      " DTranspose)                                                                                      \n",
      "                                                                                                  \n",
      " average_pooling2d_24 (Aver  (None, 128, 128, 128)        0         ['conv2d_transpose_29[0][0]'] \n",
      " agePooling2D)                                                                                    \n",
      "                                                                                                  \n",
      " average_pooling2d_25 (Aver  (None, 64, 64, 128)          0         ['conv2d_transpose_29[0][0]'] \n",
      " agePooling2D)                                                                                    \n",
      "                                                                                                  \n",
      " average_pooling2d_26 (Aver  (None, 32, 32, 128)          0         ['conv2d_transpose_29[0][0]'] \n",
      " agePooling2D)                                                                                    \n",
      "                                                                                                  \n",
      " average_pooling2d_27 (Aver  (None, 16, 16, 128)          0         ['conv2d_transpose_29[0][0]'] \n",
      " agePooling2D)                                                                                    \n",
      "                                                                                                  \n",
      " conv2d_65 (Conv2D)          (None, 128, 128, 32)         4128      ['average_pooling2d_24[0][0]']\n",
      "                                                                                                  \n",
      " conv2d_66 (Conv2D)          (None, 64, 64, 32)           4128      ['average_pooling2d_25[0][0]']\n",
      "                                                                                                  \n",
      " conv2d_67 (Conv2D)          (None, 32, 32, 32)           4128      ['average_pooling2d_26[0][0]']\n",
      "                                                                                                  \n",
      " conv2d_68 (Conv2D)          (None, 16, 16, 32)           4128      ['average_pooling2d_27[0][0]']\n",
      "                                                                                                  \n",
      " conv2d_transpose_30 (Conv2  (None, 128, 128, 32)         1056      ['conv2d_65[0][0]']           \n",
      " DTranspose)                                                                                      \n",
      "                                                                                                  \n",
      " conv2d_transpose_31 (Conv2  (None, 128, 128, 32)         4128      ['conv2d_66[0][0]']           \n",
      " DTranspose)                                                                                      \n",
      "                                                                                                  \n",
      " conv2d_transpose_32 (Conv2  (None, 128, 128, 32)         16416     ['conv2d_67[0][0]']           \n",
      " DTranspose)                                                                                      \n",
      "                                                                                                  \n",
      " conv2d_transpose_33 (Conv2  (None, 128, 128, 32)         65568     ['conv2d_68[0][0]']           \n",
      " DTranspose)                                                                                      \n",
      "                                                                                                  \n",
      " concatenate_18 (Concatenat  (None, 128, 128, 256)        0         ['conv2d_transpose_30[0][0]', \n",
      " e)                                                                  'conv2d_transpose_31[0][0]', \n",
      "                                                                     'conv2d_transpose_32[0][0]', \n",
      "                                                                     'conv2d_transpose_33[0][0]', \n",
      "                                                                     'conv2d_transpose_29[0][0]'] \n",
      "                                                                                                  \n",
      " concatenate_19 (Concatenat  (None, 128, 128, 288)        0         ['max_pooling2d_5[0][0]',     \n",
      " e)                                                                  'concatenate_18[0][0]']      \n",
      "                                                                                                  \n",
      " conv2d_transpose_34 (Conv2  (None, 256, 256, 64)         73792     ['concatenate_19[0][0]']      \n",
      " DTranspose)                                                                                      \n",
      "                                                                                                  \n",
      " average_pooling2d_28 (Aver  (None, 256, 256, 64)         0         ['conv2d_transpose_34[0][0]'] \n",
      " agePooling2D)                                                                                    \n",
      "                                                                                                  \n",
      " average_pooling2d_29 (Aver  (None, 128, 128, 64)         0         ['conv2d_transpose_34[0][0]'] \n",
      " agePooling2D)                                                                                    \n",
      "                                                                                                  \n",
      " average_pooling2d_30 (Aver  (None, 64, 64, 64)           0         ['conv2d_transpose_34[0][0]'] \n",
      " agePooling2D)                                                                                    \n",
      "                                                                                                  \n",
      " average_pooling2d_31 (Aver  (None, 32, 32, 64)           0         ['conv2d_transpose_34[0][0]'] \n",
      " agePooling2D)                                                                                    \n",
      "                                                                                                  \n",
      " conv2d_69 (Conv2D)          (None, 256, 256, 32)         2080      ['average_pooling2d_28[0][0]']\n",
      "                                                                                                  \n",
      " conv2d_70 (Conv2D)          (None, 128, 128, 32)         2080      ['average_pooling2d_29[0][0]']\n",
      "                                                                                                  \n",
      " conv2d_71 (Conv2D)          (None, 64, 64, 32)           2080      ['average_pooling2d_30[0][0]']\n",
      "                                                                                                  \n",
      " conv2d_72 (Conv2D)          (None, 32, 32, 32)           2080      ['average_pooling2d_31[0][0]']\n",
      "                                                                                                  \n",
      " conv2d_transpose_35 (Conv2  (None, 256, 256, 32)         1056      ['conv2d_69[0][0]']           \n",
      " DTranspose)                                                                                      \n",
      "                                                                                                  \n",
      " conv2d_transpose_36 (Conv2  (None, 256, 256, 32)         4128      ['conv2d_70[0][0]']           \n",
      " DTranspose)                                                                                      \n",
      "                                                                                                  \n",
      " conv2d_transpose_37 (Conv2  (None, 256, 256, 32)         16416     ['conv2d_71[0][0]']           \n",
      " DTranspose)                                                                                      \n",
      "                                                                                                  \n",
      " conv2d_transpose_38 (Conv2  (None, 256, 256, 32)         65568     ['conv2d_72[0][0]']           \n",
      " DTranspose)                                                                                      \n",
      "                                                                                                  \n",
      " concatenate_20 (Concatenat  (None, 256, 256, 192)        0         ['conv2d_transpose_35[0][0]', \n",
      " e)                                                                  'conv2d_transpose_36[0][0]', \n",
      "                                                                     'conv2d_transpose_37[0][0]', \n",
      "                                                                     'conv2d_transpose_38[0][0]', \n",
      "                                                                     'conv2d_transpose_34[0][0]'] \n",
      "                                                                                                  \n",
      " concatenate_21 (Concatenat  (None, 256, 256, 208)        0         ['max_pooling2d_4[0][0]',     \n",
      " e)                                                                  'concatenate_20[0][0]']      \n",
      "                                                                                                  \n",
      " conv2d_transpose_39 (Conv2  (None, 512, 512, 32)         26656     ['concatenate_21[0][0]']      \n",
      " DTranspose)                                                                                      \n",
      "                                                                                                  \n",
      " conv2d_73 (Conv2D)          (None, 512, 512, 1)          33        ['conv2d_transpose_39[0][0]'] \n",
      "                                                                                                  \n",
      "==================================================================================================\n",
      "Total params: 1597521 (6.09 MB)\n",
      "Trainable params: 1597521 (6.09 MB)\n",
      "Non-trainable params: 0 (0.00 Byte)\n",
      "__________________________________________________________________________________________________\n"
     ]
    }
   ],
   "source": [
    "# Define custom objects for loading the model\n",
    "custom_objects = {'DiceLoss': loss.DiceLoss(), \n",
    "                  'sensitivity': metrics.sensitivity,\n",
    "                  'specificity': metrics.specificity,\n",
    "                  'accuracy' : metrics.accuracy}\n",
    "\n",
    "\n",
    "# Create augmentation\n",
    "train_preproc = preprocess.build_augmentation_for_general(RESIZE_SHAPE[0], RESIZE_SHAPE[0])\n",
    "test_preproc = preprocess.build_augmentation_for_general(RESIZE_SHAPE[0], RESIZE_SHAPE[0], is_train=False)\n",
    "\n",
    "# Create train, test generator\n",
    "train_generator = data_generator.SlicedDataGenerator(\n",
    "    TRAIN_SOURCE, \n",
    "    number_of_images = 1,\n",
    "    img_size=INPUT_SHAPE,\n",
    "    output_size=INPUT_SHAPE,\n",
    "    resize_shape = RESIZE_SHAPE,\n",
    "    is_train=True,\n",
    "    is_test=False,\n",
    "    slice_black=False,\n",
    "    augmentation= train_preproc\n",
    ")\n",
    "\n",
    "test_generator = data_generator.SlicedDataGenerator(\n",
    "    TRAIN_SOURCE,\n",
    "    number_of_images = 1,\n",
    "    img_size=INPUT_SHAPE,\n",
    "    output_size=INPUT_SHAPE,\n",
    "    resize_shape = RESIZE_SHAPE,\n",
    "    is_train=False,\n",
    "    is_test=True,\n",
    "    slice_black=False,\n",
    "    augmentation= test_preproc\n",
    ")\n",
    "\n",
    "# Create model\n",
    "model = pyramid.build_model(INPUT_SHAPE)\n",
    "model.summary()"
   ]
  },
  {
   "cell_type": "code",
   "execution_count": null,
   "id": "503fed59",
   "metadata": {},
   "outputs": [],
   "source": [
    "train.model_train(model,\n",
    "                  epoch = 50,\n",
    "                  train_generator = train_generator,\n",
    "                  test_generator = test_generator,\n",
    "                  model_path = MODEL_PATH,\n",
    "                  history_path = HISTORY_PATH,\n",
    "                  save_every_epoch=True,\n",
    "                  apply_weight_decay=True)"
   ]
  },
  {
   "cell_type": "code",
   "execution_count": 2,
   "id": "44ca2083",
   "metadata": {},
   "outputs": [
    {
     "name": "stdout",
     "output_type": "stream",
     "text": [
      "1번째 epoch 결과\n"
     ]
    },
    {
     "name": "stderr",
     "output_type": "stream",
     "text": [
      "2024-02-15 06:47:36.258105: I external/local_xla/xla/stream_executor/cuda/cuda_executor.cc:901] successful NUMA node read from SysFS had negative value (-1), but there must be at least one NUMA node, so returning NUMA node zero. See more at https://github.com/torvalds/linux/blob/v6.0/Documentation/ABI/testing/sysfs-bus-pci#L344-L355\n",
      "2024-02-15 06:47:36.292148: I external/local_xla/xla/stream_executor/cuda/cuda_executor.cc:901] successful NUMA node read from SysFS had negative value (-1), but there must be at least one NUMA node, so returning NUMA node zero. See more at https://github.com/torvalds/linux/blob/v6.0/Documentation/ABI/testing/sysfs-bus-pci#L344-L355\n",
      "2024-02-15 06:47:36.292380: I external/local_xla/xla/stream_executor/cuda/cuda_executor.cc:901] successful NUMA node read from SysFS had negative value (-1), but there must be at least one NUMA node, so returning NUMA node zero. See more at https://github.com/torvalds/linux/blob/v6.0/Documentation/ABI/testing/sysfs-bus-pci#L344-L355\n",
      "2024-02-15 06:47:36.294532: I external/local_xla/xla/stream_executor/cuda/cuda_executor.cc:901] successful NUMA node read from SysFS had negative value (-1), but there must be at least one NUMA node, so returning NUMA node zero. See more at https://github.com/torvalds/linux/blob/v6.0/Documentation/ABI/testing/sysfs-bus-pci#L344-L355\n",
      "2024-02-15 06:47:36.294717: I external/local_xla/xla/stream_executor/cuda/cuda_executor.cc:901] successful NUMA node read from SysFS had negative value (-1), but there must be at least one NUMA node, so returning NUMA node zero. See more at https://github.com/torvalds/linux/blob/v6.0/Documentation/ABI/testing/sysfs-bus-pci#L344-L355\n",
      "2024-02-15 06:47:36.294885: I external/local_xla/xla/stream_executor/cuda/cuda_executor.cc:901] successful NUMA node read from SysFS had negative value (-1), but there must be at least one NUMA node, so returning NUMA node zero. See more at https://github.com/torvalds/linux/blob/v6.0/Documentation/ABI/testing/sysfs-bus-pci#L344-L355\n",
      "2024-02-15 06:47:36.356678: I external/local_xla/xla/stream_executor/cuda/cuda_executor.cc:901] successful NUMA node read from SysFS had negative value (-1), but there must be at least one NUMA node, so returning NUMA node zero. See more at https://github.com/torvalds/linux/blob/v6.0/Documentation/ABI/testing/sysfs-bus-pci#L344-L355\n",
      "2024-02-15 06:47:36.356866: I external/local_xla/xla/stream_executor/cuda/cuda_executor.cc:901] successful NUMA node read from SysFS had negative value (-1), but there must be at least one NUMA node, so returning NUMA node zero. See more at https://github.com/torvalds/linux/blob/v6.0/Documentation/ABI/testing/sysfs-bus-pci#L344-L355\n",
      "2024-02-15 06:47:36.357032: I external/local_xla/xla/stream_executor/cuda/cuda_executor.cc:901] successful NUMA node read from SysFS had negative value (-1), but there must be at least one NUMA node, so returning NUMA node zero. See more at https://github.com/torvalds/linux/blob/v6.0/Documentation/ABI/testing/sysfs-bus-pci#"
     ]
    },
    {
     "name": "stdout",
     "output_type": "stream",
     "text": [
      "WARNING:tensorflow:Unable to restore custom metric. Please ensure that the layer implements `get_config` and `from_config` when saving. In addition, please use the `custom_objects` arg when calling `load_model()`.\n",
      "WARNING:tensorflow:Unable to restore custom metric. Please ensure that the layer implements `get_config` and `from_config` when saving. In addition, please use the `custom_objects` arg when calling `load_model()`.\n"
     ]
    },
    {
     "name": "stderr",
     "output_type": "stream",
     "text": [
      "L344-L355\n",
      "2024-02-15 06:47:36.357147: I tensorflow/core/common_runtime/gpu/gpu_device.cc:1929] Created device /job:localhost/replica:0/task:0/device:GPU:0 with 9891 MB memory:  -> device: 0, name: NVIDIA GeForce RTX 3080 Ti, pci bus id: 0000:43:00.0, compute capability: 8.6\n",
      "2024-02-15 06:47:39.830169: I external/local_xla/xla/stream_executor/cuda/cuda_dnn.cc:454] Loaded cuDNN version 8904\n"
     ]
    },
    {
     "name": "stdout",
     "output_type": "stream",
     "text": [
      "233/233 [==============================] - 20s 70ms/step - loss: 0.3375 - sensitivity: 0.6074 - specificity: 0.9747 - accuracy: 0.9493 - f1_score: 0.6108 - iou: 0.4472\n",
      "2번째 epoch 결과\n",
      "WARNING:tensorflow:Unable to restore custom metric. Please ensure that the layer implements `get_config` and `from_config` when saving. In addition, please use the `custom_objects` arg when calling `load_model()`.\n"
     ]
    },
    {
     "name": "stderr",
     "output_type": "stream",
     "text": [
      "WARNING:tensorflow:Unable to restore custom metric. Please ensure that the layer implements `get_config` and `from_config` when saving. In addition, please use the `custom_objects` arg when calling `load_model()`.\n"
     ]
    },
    {
     "name": "stdout",
     "output_type": "stream",
     "text": [
      "WARNING:tensorflow:Unable to restore custom metric. Please ensure that the layer implements `get_config` and `from_config` when saving. In addition, please use the `custom_objects` arg when calling `load_model()`.\n"
     ]
    },
    {
     "name": "stderr",
     "output_type": "stream",
     "text": [
      "WARNING:tensorflow:Unable to restore custom metric. Please ensure that the layer implements `get_config` and `from_config` when saving. In addition, please use the `custom_objects` arg when calling `load_model()`.\n"
     ]
    },
    {
     "name": "stdout",
     "output_type": "stream",
     "text": [
      "233/233 [==============================] - 16s 67ms/step - loss: 0.2870 - sensitivity: 0.7157 - specificity: 0.9704 - accuracy: 0.9528 - f1_score: 0.6669 - iou: 0.5091\n",
      "3번째 epoch 결과\n",
      "WARNING:tensorflow:Unable to restore custom metric. Please ensure that the layer implements `get_config` and `from_config` when saving. In addition, please use the `custom_objects` arg when calling `load_model()`.\n"
     ]
    },
    {
     "name": "stderr",
     "output_type": "stream",
     "text": [
      "WARNING:tensorflow:Unable to restore custom metric. Please ensure that the layer implements `get_config` and `from_config` when saving. In addition, please use the `custom_objects` arg when calling `load_model()`.\n"
     ]
    },
    {
     "name": "stdout",
     "output_type": "stream",
     "text": [
      "WARNING:tensorflow:Unable to restore custom metric. Please ensure that the layer implements `get_config` and `from_config` when saving. In addition, please use the `custom_objects` arg when calling `load_model()`.\n"
     ]
    },
    {
     "name": "stderr",
     "output_type": "stream",
     "text": [
      "WARNING:tensorflow:Unable to restore custom metric. Please ensure that the layer implements `get_config` and `from_config` when saving. In addition, please use the `custom_objects` arg when calling `load_model()`.\n"
     ]
    },
    {
     "name": "stdout",
     "output_type": "stream",
     "text": [
      "233/233 [==============================] - 17s 67ms/step - loss: 0.2730 - sensitivity: 0.7219 - specificity: 0.9732 - accuracy: 0.9559 - f1_score: 0.6823 - iou: 0.5272\n",
      "4번째 epoch 결과\n",
      "WARNING:tensorflow:Unable to restore custom metric. Please ensure that the layer implements `get_config` and `from_config` when saving. In addition, please use the `custom_objects` arg when calling `load_model()`.\n"
     ]
    },
    {
     "name": "stderr",
     "output_type": "stream",
     "text": [
      "WARNING:tensorflow:Unable to restore custom metric. Please ensure that the layer implements `get_config` and `from_config` when saving. In addition, please use the `custom_objects` arg when calling `load_model()`.\n"
     ]
    },
    {
     "name": "stdout",
     "output_type": "stream",
     "text": [
      "WARNING:tensorflow:Unable to restore custom metric. Please ensure that the layer implements `get_config` and `from_config` when saving. In addition, please use the `custom_objects` arg when calling `load_model()`.\n"
     ]
    },
    {
     "name": "stderr",
     "output_type": "stream",
     "text": [
      "WARNING:tensorflow:Unable to restore custom metric. Please ensure that the layer implements `get_config` and `from_config` when saving. In addition, please use the `custom_objects` arg when calling `load_model()`.\n"
     ]
    },
    {
     "name": "stdout",
     "output_type": "stream",
     "text": [
      "233/233 [==============================] - 16s 64ms/step - loss: 0.2823 - sensitivity: 0.6040 - specificity: 0.9873 - accuracy: 0.9607 - f1_score: 0.6644 - iou: 0.5068\n",
      "5번째 epoch 결과\n",
      "WARNING:tensorflow:Unable to restore custom metric. Please ensure that the layer implements `get_config` and `from_config` when saving. In addition, please use the `custom_objects` arg when calling `load_model()`.\n"
     ]
    },
    {
     "name": "stderr",
     "output_type": "stream",
     "text": [
      "WARNING:tensorflow:Unable to restore custom metric. Please ensure that the layer implements `get_config` and `from_config` when saving. In addition, please use the `custom_objects` arg when calling `load_model()`.\n"
     ]
    },
    {
     "name": "stdout",
     "output_type": "stream",
     "text": [
      "WARNING:tensorflow:Unable to restore custom metric. Please ensure that the layer implements `get_config` and `from_config` when saving. In addition, please use the `custom_objects` arg when calling `load_model()`.\n"
     ]
    },
    {
     "name": "stderr",
     "output_type": "stream",
     "text": [
      "WARNING:tensorflow:Unable to restore custom metric. Please ensure that the layer implements `get_config` and `from_config` when saving. In addition, please use the `custom_objects` arg when calling `load_model()`.\n"
     ]
    },
    {
     "name": "stdout",
     "output_type": "stream",
     "text": [
      "233/233 [==============================] - 17s 68ms/step - loss: 0.2538 - sensitivity: 0.7653 - specificity: 0.9722 - accuracy: 0.9581 - f1_score: 0.7050 - iou: 0.5549\n",
      "6번째 epoch 결과\n",
      "WARNING:tensorflow:Unable to restore custom metric. Please ensure that the layer implements `get_config` and `from_config` when saving. In addition, please use the `custom_objects` arg when calling `load_model()`.\n"
     ]
    },
    {
     "name": "stderr",
     "output_type": "stream",
     "text": [
      "WARNING:tensorflow:Unable to restore custom metric. Please ensure that the layer implements `get_config` and `from_config` when saving. In addition, please use the `custom_objects` arg when calling `load_model()`.\n"
     ]
    },
    {
     "name": "stdout",
     "output_type": "stream",
     "text": [
      "WARNING:tensorflow:Unable to restore custom metric. Please ensure that the layer implements `get_config` and `from_config` when saving. In addition, please use the `custom_objects` arg when calling `load_model()`.\n"
     ]
    },
    {
     "name": "stderr",
     "output_type": "stream",
     "text": [
      "WARNING:tensorflow:Unable to restore custom metric. Please ensure that the layer implements `get_config` and `from_config` when saving. In addition, please use the `custom_objects` arg when calling `load_model()`.\n"
     ]
    },
    {
     "name": "stdout",
     "output_type": "stream",
     "text": [
      "233/233 [==============================] - 17s 68ms/step - loss: 0.2480 - sensitivity: 0.7760 - specificity: 0.9723 - accuracy: 0.9589 - f1_score: 0.7119 - iou: 0.5636\n",
      "7번째 epoch 결과\n",
      "WARNING:tensorflow:Unable to restore custom metric. Please ensure that the layer implements `get_config` and `from_config` when saving. In addition, please use the `custom_objects` arg when calling `load_model()`.\n"
     ]
    },
    {
     "name": "stderr",
     "output_type": "stream",
     "text": [
      "WARNING:tensorflow:Unable to restore custom metric. Please ensure that the layer implements `get_config` and `from_config` when saving. In addition, please use the `custom_objects` arg when calling `load_model()`.\n"
     ]
    },
    {
     "name": "stdout",
     "output_type": "stream",
     "text": [
      "WARNING:tensorflow:Unable to restore custom metric. Please ensure that the layer implements `get_config` and `from_config` when saving. In addition, please use the `custom_objects` arg when calling `load_model()`.\n"
     ]
    },
    {
     "name": "stderr",
     "output_type": "stream",
     "text": [
      "WARNING:tensorflow:Unable to restore custom metric. Please ensure that the layer implements `get_config` and `from_config` when saving. In addition, please use the `custom_objects` arg when calling `load_model()`.\n"
     ]
    },
    {
     "name": "stdout",
     "output_type": "stream",
     "text": [
      "233/233 [==============================] - 16s 66ms/step - loss: 0.2447 - sensitivity: 0.7522 - specificity: 0.9763 - accuracy: 0.9608 - f1_score: 0.7142 - iou: 0.5661\n",
      "8번째 epoch 결과\n",
      "WARNING:tensorflow:Unable to restore custom metric. Please ensure that the layer implements `get_config` and `from_config` when saving. In addition, please use the `custom_objects` arg when calling `load_model()`.\n"
     ]
    },
    {
     "name": "stderr",
     "output_type": "stream",
     "text": [
      "WARNING:tensorflow:Unable to restore custom metric. Please ensure that the layer implements `get_config` and `from_config` when saving. In addition, please use the `custom_objects` arg when calling `load_model()`.\n"
     ]
    },
    {
     "name": "stdout",
     "output_type": "stream",
     "text": [
      "WARNING:tensorflow:Unable to restore custom metric. Please ensure that the layer implements `get_config` and `from_config` when saving. In addition, please use the `custom_objects` arg when calling `load_model()`.\n"
     ]
    },
    {
     "name": "stderr",
     "output_type": "stream",
     "text": [
      "WARNING:tensorflow:Unable to restore custom metric. Please ensure that the layer implements `get_config` and `from_config` when saving. In addition, please use the `custom_objects` arg when calling `load_model()`.\n"
     ]
    },
    {
     "name": "stdout",
     "output_type": "stream",
     "text": [
      "233/233 [==============================] - 16s 65ms/step - loss: 0.2348 - sensitivity: 0.7750 - specificity: 0.9758 - accuracy: 0.9619 - f1_score: 0.7262 - iou: 0.5812\n",
      "9번째 epoch 결과\n",
      "WARNING:tensorflow:Unable to restore custom metric. Please ensure that the layer implements `get_config` and `from_config` when saving. In addition, please use the `custom_objects` arg when calling `load_model()`.\n"
     ]
    },
    {
     "name": "stderr",
     "output_type": "stream",
     "text": [
      "WARNING:tensorflow:Unable to restore custom metric. Please ensure that the layer implements `get_config` and `from_config` when saving. In addition, please use the `custom_objects` arg when calling `load_model()`.\n"
     ]
    },
    {
     "name": "stdout",
     "output_type": "stream",
     "text": [
      "WARNING:tensorflow:Unable to restore custom metric. Please ensure that the layer implements `get_config` and `from_config` when saving. In addition, please use the `custom_objects` arg when calling `load_model()`.\n"
     ]
    },
    {
     "name": "stderr",
     "output_type": "stream",
     "text": [
      "WARNING:tensorflow:Unable to restore custom metric. Please ensure that the layer implements `get_config` and `from_config` when saving. In addition, please use the `custom_objects` arg when calling `load_model()`.\n"
     ]
    },
    {
     "name": "stdout",
     "output_type": "stream",
     "text": [
      "233/233 [==============================] - 16s 65ms/step - loss: 0.2309 - sensitivity: 0.7786 - specificity: 0.9761 - accuracy: 0.9625 - f1_score: 0.7300 - iou: 0.5860\n",
      "10번째 epoch 결과\n",
      "WARNING:tensorflow:Unable to restore custom metric. Please ensure that the layer implements `get_config` and `from_config` when saving. In addition, please use the `custom_objects` arg when calling `load_model()`.\n"
     ]
    },
    {
     "name": "stderr",
     "output_type": "stream",
     "text": [
      "WARNING:tensorflow:Unable to restore custom metric. Please ensure that the layer implements `get_config` and `from_config` when saving. In addition, please use the `custom_objects` arg when calling `load_model()`.\n"
     ]
    },
    {
     "name": "stdout",
     "output_type": "stream",
     "text": [
      "WARNING:tensorflow:Unable to restore custom metric. Please ensure that the layer implements `get_config` and `from_config` when saving. In addition, please use the `custom_objects` arg when calling `load_model()`.\n"
     ]
    },
    {
     "name": "stderr",
     "output_type": "stream",
     "text": [
      "WARNING:tensorflow:Unable to restore custom metric. Please ensure that the layer implements `get_config` and `from_config` when saving. In addition, please use the `custom_objects` arg when calling `load_model()`.\n"
     ]
    },
    {
     "name": "stdout",
     "output_type": "stream",
     "text": [
      "233/233 [==============================] - 17s 69ms/step - loss: 0.2296 - sensitivity: 0.7185 - specificity: 0.9838 - accuracy: 0.9653 - f1_score: 0.7291 - iou: 0.5837\n",
      "11번째 epoch 결과\n",
      "WARNING:tensorflow:Unable to restore custom metric. Please ensure that the layer implements `get_config` and `from_config` when saving. In addition, please use the `custom_objects` arg when calling `load_model()`.\n"
     ]
    },
    {
     "name": "stderr",
     "output_type": "stream",
     "text": [
      "WARNING:tensorflow:Unable to restore custom metric. Please ensure that the layer implements `get_config` and `from_config` when saving. In addition, please use the `custom_objects` arg when calling `load_model()`.\n"
     ]
    },
    {
     "name": "stdout",
     "output_type": "stream",
     "text": [
      "WARNING:tensorflow:Unable to restore custom metric. Please ensure that the layer implements `get_config` and `from_config` when saving. In addition, please use the `custom_objects` arg when calling `load_model()`.\n"
     ]
    },
    {
     "name": "stderr",
     "output_type": "stream",
     "text": [
      "WARNING:tensorflow:Unable to restore custom metric. Please ensure that the layer implements `get_config` and `from_config` when saving. In addition, please use the `custom_objects` arg when calling `load_model()`.\n"
     ]
    },
    {
     "name": "stdout",
     "output_type": "stream",
     "text": [
      "233/233 [==============================] - 17s 72ms/step - loss: 0.2425 - sensitivity: 0.7075 - specificity: 0.9827 - accuracy: 0.9637 - f1_score: 0.7157 - iou: 0.5678\n",
      "12번째 epoch 결과\n",
      "WARNING:tensorflow:Unable to restore custom metric. Please ensure that the layer implements `get_config` and `from_config` when saving. In addition, please use the `custom_objects` arg when calling `load_model()`.\n"
     ]
    },
    {
     "name": "stderr",
     "output_type": "stream",
     "text": [
      "WARNING:tensorflow:Unable to restore custom metric. Please ensure that the layer implements `get_config` and `from_config` when saving. In addition, please use the `custom_objects` arg when calling `load_model()`.\n"
     ]
    },
    {
     "name": "stdout",
     "output_type": "stream",
     "text": [
      "WARNING:tensorflow:Unable to restore custom metric. Please ensure that the layer implements `get_config` and `from_config` when saving. In addition, please use the `custom_objects` arg when calling `load_model()`.\n"
     ]
    },
    {
     "name": "stderr",
     "output_type": "stream",
     "text": [
      "WARNING:tensorflow:Unable to restore custom metric. Please ensure that the layer implements `get_config` and `from_config` when saving. In addition, please use the `custom_objects` arg when calling `load_model()`.\n"
     ]
    },
    {
     "name": "stdout",
     "output_type": "stream",
     "text": [
      "233/233 [==============================] - 16s 64ms/step - loss: 0.2254 - sensitivity: 0.7897 - specificity: 0.9761 - accuracy: 0.9633 - f1_score: 0.7369 - iou: 0.5952\n",
      "13번째 epoch 결과\n",
      "WARNING:tensorflow:Unable to restore custom metric. Please ensure that the layer implements `get_config` and `from_config` when saving. In addition, please use the `custom_objects` arg when calling `load_model()`.\n"
     ]
    },
    {
     "name": "stderr",
     "output_type": "stream",
     "text": [
      "WARNING:tensorflow:Unable to restore custom metric. Please ensure that the layer implements `get_config` and `from_config` when saving. In addition, please use the `custom_objects` arg when calling `load_model()`.\n"
     ]
    },
    {
     "name": "stdout",
     "output_type": "stream",
     "text": [
      "WARNING:tensorflow:Unable to restore custom metric. Please ensure that the layer implements `get_config` and `from_config` when saving. In addition, please use the `custom_objects` arg when calling `load_model()`.\n"
     ]
    },
    {
     "name": "stderr",
     "output_type": "stream",
     "text": [
      "WARNING:tensorflow:Unable to restore custom metric. Please ensure that the layer implements `get_config` and `from_config` when saving. In addition, please use the `custom_objects` arg when calling `load_model()`.\n"
     ]
    },
    {
     "name": "stdout",
     "output_type": "stream",
     "text": [
      "233/233 [==============================] - 17s 71ms/step - loss: 0.2238 - sensitivity: 0.7787 - specificity: 0.9777 - accuracy: 0.9640 - f1_score: 0.7379 - iou: 0.5964\n",
      "14번째 epoch 결과\n",
      "WARNING:tensorflow:Unable to restore custom metric. Please ensure that the layer implements `get_config` and `from_config` when saving. In addition, please use the `custom_objects` arg when calling `load_model()`.\n"
     ]
    },
    {
     "name": "stderr",
     "output_type": "stream",
     "text": [
      "WARNING:tensorflow:Unable to restore custom metric. Please ensure that the layer implements `get_config` and `from_config` when saving. In addition, please use the `custom_objects` arg when calling `load_model()`.\n"
     ]
    },
    {
     "name": "stdout",
     "output_type": "stream",
     "text": [
      "WARNING:tensorflow:Unable to restore custom metric. Please ensure that the layer implements `get_config` and `from_config` when saving. In addition, please use the `custom_objects` arg when calling `load_model()`.\n"
     ]
    },
    {
     "name": "stderr",
     "output_type": "stream",
     "text": [
      "WARNING:tensorflow:Unable to restore custom metric. Please ensure that the layer implements `get_config` and `from_config` when saving. In addition, please use the `custom_objects` arg when calling `load_model()`.\n"
     ]
    },
    {
     "name": "stdout",
     "output_type": "stream",
     "text": [
      "233/233 [==============================] - 16s 66ms/step - loss: 0.2186 - sensitivity: 0.7629 - specificity: 0.9809 - accuracy: 0.9658 - f1_score: 0.7431 - iou: 0.6027\n",
      "15번째 epoch 결과\n",
      "WARNING:tensorflow:Unable to restore custom metric. Please ensure that the layer implements `get_config` and `from_config` when saving. In addition, please use the `custom_objects` arg when calling `load_model()`.\n"
     ]
    },
    {
     "name": "stderr",
     "output_type": "stream",
     "text": [
      "WARNING:tensorflow:Unable to restore custom metric. Please ensure that the layer implements `get_config` and `from_config` when saving. In addition, please use the `custom_objects` arg when calling `load_model()`.\n"
     ]
    },
    {
     "name": "stdout",
     "output_type": "stream",
     "text": [
      "WARNING:tensorflow:Unable to restore custom metric. Please ensure that the layer implements `get_config` and `from_config` when saving. In addition, please use the `custom_objects` arg when calling `load_model()`.\n"
     ]
    },
    {
     "name": "stderr",
     "output_type": "stream",
     "text": [
      "WARNING:tensorflow:Unable to restore custom metric. Please ensure that the layer implements `get_config` and `from_config` when saving. In addition, please use the `custom_objects` arg when calling `load_model()`.\n"
     ]
    },
    {
     "name": "stdout",
     "output_type": "stream",
     "text": [
      "233/233 [==============================] - 17s 69ms/step - loss: 0.2166 - sensitivity: 0.7826 - specificity: 0.9792 - accuracy: 0.9654 - f1_score: 0.7462 - iou: 0.6068\n",
      "16번째 epoch 결과\n",
      "WARNING:tensorflow:Unable to restore custom metric. Please ensure that the layer implements `get_config` and `from_config` when saving. In addition, please use the `custom_objects` arg when calling `load_model()`.\n"
     ]
    },
    {
     "name": "stderr",
     "output_type": "stream",
     "text": [
      "WARNING:tensorflow:Unable to restore custom metric. Please ensure that the layer implements `get_config` and `from_config` when saving. In addition, please use the `custom_objects` arg when calling `load_model()`.\n"
     ]
    },
    {
     "name": "stdout",
     "output_type": "stream",
     "text": [
      "WARNING:tensorflow:Unable to restore custom metric. Please ensure that the layer implements `get_config` and `from_config` when saving. In addition, please use the `custom_objects` arg when calling `load_model()`.\n"
     ]
    },
    {
     "name": "stderr",
     "output_type": "stream",
     "text": [
      "WARNING:tensorflow:Unable to restore custom metric. Please ensure that the layer implements `get_config` and `from_config` when saving. In addition, please use the `custom_objects` arg when calling `load_model()`.\n"
     ]
    },
    {
     "name": "stdout",
     "output_type": "stream",
     "text": [
      "233/233 [==============================] - 16s 66ms/step - loss: 0.2189 - sensitivity: 0.7917 - specificity: 0.9775 - accuracy: 0.9646 - f1_score: 0.7441 - iou: 0.6047\n",
      "17번째 epoch 결과\n",
      "WARNING:tensorflow:Unable to restore custom metric. Please ensure that the layer implements `get_config` and `from_config` when saving. In addition, please use the `custom_objects` arg when calling `load_model()`.\n"
     ]
    },
    {
     "name": "stderr",
     "output_type": "stream",
     "text": [
      "WARNING:tensorflow:Unable to restore custom metric. Please ensure that the layer implements `get_config` and `from_config` when saving. In addition, please use the `custom_objects` arg when calling `load_model()`.\n"
     ]
    },
    {
     "name": "stdout",
     "output_type": "stream",
     "text": [
      "WARNING:tensorflow:Unable to restore custom metric. Please ensure that the layer implements `get_config` and `from_config` when saving. In addition, please use the `custom_objects` arg when calling `load_model()`.\n"
     ]
    },
    {
     "name": "stderr",
     "output_type": "stream",
     "text": [
      "WARNING:tensorflow:Unable to restore custom metric. Please ensure that the layer implements `get_config` and `from_config` when saving. In addition, please use the `custom_objects` arg when calling `load_model()`.\n"
     ]
    },
    {
     "name": "stdout",
     "output_type": "stream",
     "text": [
      "233/233 [==============================] - 17s 68ms/step - loss: 0.2152 - sensitivity: 0.7505 - specificity: 0.9830 - accuracy: 0.9669 - f1_score: 0.7458 - iou: 0.6060\n",
      "18번째 epoch 결과\n",
      "WARNING:tensorflow:Unable to restore custom metric. Please ensure that the layer implements `get_config` and `from_config` when saving. In addition, please use the `custom_objects` arg when calling `load_model()`.\n"
     ]
    },
    {
     "name": "stderr",
     "output_type": "stream",
     "text": [
      "WARNING:tensorflow:Unable to restore custom metric. Please ensure that the layer implements `get_config` and `from_config` when saving. In addition, please use the `custom_objects` arg when calling `load_model()`.\n"
     ]
    },
    {
     "name": "stdout",
     "output_type": "stream",
     "text": [
      "WARNING:tensorflow:Unable to restore custom metric. Please ensure that the layer implements `get_config` and `from_config` when saving. In addition, please use the `custom_objects` arg when calling `load_model()`.\n"
     ]
    },
    {
     "name": "stderr",
     "output_type": "stream",
     "text": [
      "WARNING:tensorflow:Unable to restore custom metric. Please ensure that the layer implements `get_config` and `from_config` when saving. In addition, please use the `custom_objects` arg when calling `load_model()`.\n"
     ]
    },
    {
     "name": "stdout",
     "output_type": "stream",
     "text": [
      "233/233 [==============================] - 17s 70ms/step - loss: 0.2211 - sensitivity: 0.8067 - specificity: 0.9751 - accuracy: 0.9636 - f1_score: 0.7428 - iou: 0.6032\n",
      "19번째 epoch 결과\n",
      "WARNING:tensorflow:Unable to restore custom metric. Please ensure that the layer implements `get_config` and `from_config` when saving. In addition, please use the `custom_objects` arg when calling `load_model()`.\n"
     ]
    },
    {
     "name": "stderr",
     "output_type": "stream",
     "text": [
      "WARNING:tensorflow:Unable to restore custom metric. Please ensure that the layer implements `get_config` and `from_config` when saving. In addition, please use the `custom_objects` arg when calling `load_model()`.\n"
     ]
    },
    {
     "name": "stdout",
     "output_type": "stream",
     "text": [
      "WARNING:tensorflow:Unable to restore custom metric. Please ensure that the layer implements `get_config` and `from_config` when saving. In addition, please use the `custom_objects` arg when calling `load_model()`.\n"
     ]
    },
    {
     "name": "stderr",
     "output_type": "stream",
     "text": [
      "WARNING:tensorflow:Unable to restore custom metric. Please ensure that the layer implements `get_config` and `from_config` when saving. In addition, please use the `custom_objects` arg when calling `load_model()`.\n"
     ]
    },
    {
     "name": "stdout",
     "output_type": "stream",
     "text": [
      "233/233 [==============================] - 16s 65ms/step - loss: 0.2149 - sensitivity: 0.7325 - specificity: 0.9853 - accuracy: 0.9677 - f1_score: 0.7455 - iou: 0.6056\n",
      "20번째 epoch 결과\n",
      "WARNING:tensorflow:Unable to restore custom metric. Please ensure that the layer implements `get_config` and `from_config` when saving. In addition, please use the `custom_objects` arg when calling `load_model()`.\n"
     ]
    },
    {
     "name": "stderr",
     "output_type": "stream",
     "text": [
      "WARNING:tensorflow:Unable to restore custom metric. Please ensure that the layer implements `get_config` and `from_config` when saving. In addition, please use the `custom_objects` arg when calling `load_model()`.\n"
     ]
    },
    {
     "name": "stdout",
     "output_type": "stream",
     "text": [
      "WARNING:tensorflow:Unable to restore custom metric. Please ensure that the layer implements `get_config` and `from_config` when saving. In addition, please use the `custom_objects` arg when calling `load_model()`.\n"
     ]
    },
    {
     "name": "stderr",
     "output_type": "stream",
     "text": [
      "WARNING:tensorflow:Unable to restore custom metric. Please ensure that the layer implements `get_config` and `from_config` when saving. In addition, please use the `custom_objects` arg when calling `load_model()`.\n"
     ]
    },
    {
     "name": "stdout",
     "output_type": "stream",
     "text": [
      "233/233 [==============================] - 16s 66ms/step - loss: 0.2135 - sensitivity: 0.7216 - specificity: 0.9865 - accuracy: 0.9679 - f1_score: 0.7451 - iou: 0.6039\n",
      "21번째 epoch 결과\n",
      "WARNING:tensorflow:Unable to restore custom metric. Please ensure that the layer implements `get_config` and `from_config` when saving. In addition, please use the `custom_objects` arg when calling `load_model()`.\n"
     ]
    },
    {
     "name": "stderr",
     "output_type": "stream",
     "text": [
      "WARNING:tensorflow:Unable to restore custom metric. Please ensure that the layer implements `get_config` and `from_config` when saving. In addition, please use the `custom_objects` arg when calling `load_model()`.\n"
     ]
    },
    {
     "name": "stdout",
     "output_type": "stream",
     "text": [
      "WARNING:tensorflow:Unable to restore custom metric. Please ensure that the layer implements `get_config` and `from_config` when saving. In addition, please use the `custom_objects` arg when calling `load_model()`.\n"
     ]
    },
    {
     "name": "stderr",
     "output_type": "stream",
     "text": [
      "WARNING:tensorflow:Unable to restore custom metric. Please ensure that the layer implements `get_config` and `from_config` when saving. In addition, please use the `custom_objects` arg when calling `load_model()`.\n"
     ]
    },
    {
     "name": "stdout",
     "output_type": "stream",
     "text": [
      "233/233 [==============================] - 16s 65ms/step - loss: 0.2117 - sensitivity: 0.7603 - specificity: 0.9827 - accuracy: 0.9673 - f1_score: 0.7507 - iou: 0.6128\n",
      "22번째 epoch 결과\n",
      "WARNING:tensorflow:Unable to restore custom metric. Please ensure that the layer implements `get_config` and `from_config` when saving. In addition, please use the `custom_objects` arg when calling `load_model()`.\n"
     ]
    },
    {
     "name": "stderr",
     "output_type": "stream",
     "text": [
      "WARNING:tensorflow:Unable to restore custom metric. Please ensure that the layer implements `get_config` and `from_config` when saving. In addition, please use the `custom_objects` arg when calling `load_model()`.\n"
     ]
    },
    {
     "name": "stdout",
     "output_type": "stream",
     "text": [
      "WARNING:tensorflow:Unable to restore custom metric. Please ensure that the layer implements `get_config` and `from_config` when saving. In addition, please use the `custom_objects` arg when calling `load_model()`.\n"
     ]
    },
    {
     "name": "stderr",
     "output_type": "stream",
     "text": [
      "WARNING:tensorflow:Unable to restore custom metric. Please ensure that the layer implements `get_config` and `from_config` when saving. In addition, please use the `custom_objects` arg when calling `load_model()`.\n"
     ]
    },
    {
     "name": "stdout",
     "output_type": "stream",
     "text": [
      "233/233 [==============================] - 16s 66ms/step - loss: 0.2114 - sensitivity: 0.7278 - specificity: 0.9862 - accuracy: 0.9682 - f1_score: 0.7477 - iou: 0.6079\n",
      "23번째 epoch 결과\n",
      "WARNING:tensorflow:Unable to restore custom metric. Please ensure that the layer implements `get_config` and `from_config` when saving. In addition, please use the `custom_objects` arg when calling `load_model()`.\n"
     ]
    },
    {
     "name": "stderr",
     "output_type": "stream",
     "text": [
      "WARNING:tensorflow:Unable to restore custom metric. Please ensure that the layer implements `get_config` and `from_config` when saving. In addition, please use the `custom_objects` arg when calling `load_model()`.\n"
     ]
    },
    {
     "name": "stdout",
     "output_type": "stream",
     "text": [
      "WARNING:tensorflow:Unable to restore custom metric. Please ensure that the layer implements `get_config` and `from_config` when saving. In addition, please use the `custom_objects` arg when calling `load_model()`.\n"
     ]
    },
    {
     "name": "stderr",
     "output_type": "stream",
     "text": [
      "WARNING:tensorflow:Unable to restore custom metric. Please ensure that the layer implements `get_config` and `from_config` when saving. In addition, please use the `custom_objects` arg when calling `load_model()`.\n"
     ]
    },
    {
     "name": "stdout",
     "output_type": "stream",
     "text": [
      "233/233 [==============================] - 17s 70ms/step - loss: 0.2125 - sensitivity: 0.8138 - specificity: 0.9764 - accuracy: 0.9652 - f1_score: 0.7523 - iou: 0.6159\n",
      "24번째 epoch 결과\n",
      "WARNING:tensorflow:Unable to restore custom metric. Please ensure that the layer implements `get_config` and `from_config` when saving. In addition, please use the `custom_objects` arg when calling `load_model()`.\n"
     ]
    },
    {
     "name": "stderr",
     "output_type": "stream",
     "text": [
      "WARNING:tensorflow:Unable to restore custom metric. Please ensure that the layer implements `get_config` and `from_config` when saving. In addition, please use the `custom_objects` arg when calling `load_model()`.\n"
     ]
    },
    {
     "name": "stdout",
     "output_type": "stream",
     "text": [
      "WARNING:tensorflow:Unable to restore custom metric. Please ensure that the layer implements `get_config` and `from_config` when saving. In addition, please use the `custom_objects` arg when calling `load_model()`.\n"
     ]
    },
    {
     "name": "stderr",
     "output_type": "stream",
     "text": [
      "WARNING:tensorflow:Unable to restore custom metric. Please ensure that the layer implements `get_config` and `from_config` when saving. In addition, please use the `custom_objects` arg when calling `load_model()`.\n"
     ]
    },
    {
     "name": "stdout",
     "output_type": "stream",
     "text": [
      "233/233 [==============================] - 17s 69ms/step - loss: 0.2141 - sensitivity: 0.7266 - specificity: 0.9861 - accuracy: 0.9679 - f1_score: 0.7457 - iou: 0.6054\n",
      "25번째 epoch 결과\n",
      "WARNING:tensorflow:Unable to restore custom metric. Please ensure that the layer implements `get_config` and `from_config` when saving. In addition, please use the `custom_objects` arg when calling `load_model()`.\n"
     ]
    },
    {
     "name": "stderr",
     "output_type": "stream",
     "text": [
      "WARNING:tensorflow:Unable to restore custom metric. Please ensure that the layer implements `get_config` and `from_config` when saving. In addition, please use the `custom_objects` arg when calling `load_model()`.\n"
     ]
    },
    {
     "name": "stdout",
     "output_type": "stream",
     "text": [
      "WARNING:tensorflow:Unable to restore custom metric. Please ensure that the layer implements `get_config` and `from_config` when saving. In addition, please use the `custom_objects` arg when calling `load_model()`.\n"
     ]
    },
    {
     "name": "stderr",
     "output_type": "stream",
     "text": [
      "WARNING:tensorflow:Unable to restore custom metric. Please ensure that the layer implements `get_config` and `from_config` when saving. In addition, please use the `custom_objects` arg when calling `load_model()`.\n"
     ]
    },
    {
     "name": "stdout",
     "output_type": "stream",
     "text": [
      "233/233 [==============================] - 17s 67ms/step - loss: 0.2155 - sensitivity: 0.8267 - specificity: 0.9741 - accuracy: 0.9640 - f1_score: 0.7488 - iou: 0.6105\n",
      "26번째 epoch 결과\n",
      "WARNING:tensorflow:Unable to restore custom metric. Please ensure that the layer implements `get_config` and `from_config` when saving. In addition, please use the `custom_objects` arg when calling `load_model()`.\n"
     ]
    },
    {
     "name": "stderr",
     "output_type": "stream",
     "text": [
      "WARNING:tensorflow:Unable to restore custom metric. Please ensure that the layer implements `get_config` and `from_config` when saving. In addition, please use the `custom_objects` arg when calling `load_model()`.\n"
     ]
    },
    {
     "name": "stdout",
     "output_type": "stream",
     "text": [
      "WARNING:tensorflow:Unable to restore custom metric. Please ensure that the layer implements `get_config` and `from_config` when saving. In addition, please use the `custom_objects` arg when calling `load_model()`.\n"
     ]
    },
    {
     "name": "stderr",
     "output_type": "stream",
     "text": [
      "WARNING:tensorflow:Unable to restore custom metric. Please ensure that the layer implements `get_config` and `from_config` when saving. In addition, please use the `custom_objects` arg when calling `load_model()`.\n"
     ]
    },
    {
     "name": "stdout",
     "output_type": "stream",
     "text": [
      "233/233 [==============================] - 17s 71ms/step - loss: 0.2091 - sensitivity: 0.7442 - specificity: 0.9850 - accuracy: 0.9683 - f1_score: 0.7522 - iou: 0.6141\n",
      "27번째 epoch 결과\n",
      "WARNING:tensorflow:Unable to restore custom metric. Please ensure that the layer implements `get_config` and `from_config` when saving. In addition, please use the `custom_objects` arg when calling `load_model()`.\n"
     ]
    },
    {
     "name": "stderr",
     "output_type": "stream",
     "text": [
      "WARNING:tensorflow:Unable to restore custom metric. Please ensure that the layer implements `get_config` and `from_config` when saving. In addition, please use the `custom_objects` arg when calling `load_model()`.\n"
     ]
    },
    {
     "name": "stdout",
     "output_type": "stream",
     "text": [
      "WARNING:tensorflow:Unable to restore custom metric. Please ensure that the layer implements `get_config` and `from_config` when saving. In addition, please use the `custom_objects` arg when calling `load_model()`.\n"
     ]
    },
    {
     "name": "stderr",
     "output_type": "stream",
     "text": [
      "WARNING:tensorflow:Unable to restore custom metric. Please ensure that the layer implements `get_config` and `from_config` when saving. In addition, please use the `custom_objects` arg when calling `load_model()`.\n"
     ]
    },
    {
     "name": "stdout",
     "output_type": "stream",
     "text": [
      "233/233 [==============================] - 16s 66ms/step - loss: 0.2053 - sensitivity: 0.7761 - specificity: 0.9823 - accuracy: 0.9680 - f1_score: 0.7583 - iou: 0.6229\n",
      "28번째 epoch 결과\n",
      "WARNING:tensorflow:Unable to restore custom metric. Please ensure that the layer implements `get_config` and `from_config` when saving. In addition, please use the `custom_objects` arg when calling `load_model()`.\n"
     ]
    },
    {
     "name": "stderr",
     "output_type": "stream",
     "text": [
      "WARNING:tensorflow:Unable to restore custom metric. Please ensure that the layer implements `get_config` and `from_config` when saving. In addition, please use the `custom_objects` arg when calling `load_model()`.\n"
     ]
    },
    {
     "name": "stdout",
     "output_type": "stream",
     "text": [
      "WARNING:tensorflow:Unable to restore custom metric. Please ensure that the layer implements `get_config` and `from_config` when saving. In addition, please use the `custom_objects` arg when calling `load_model()`.\n"
     ]
    },
    {
     "name": "stderr",
     "output_type": "stream",
     "text": [
      "WARNING:tensorflow:Unable to restore custom metric. Please ensure that the layer implements `get_config` and `from_config` when saving. In addition, please use the `custom_objects` arg when calling `load_model()`.\n"
     ]
    },
    {
     "name": "stdout",
     "output_type": "stream",
     "text": [
      "233/233 [==============================] - 17s 69ms/step - loss: 0.2069 - sensitivity: 0.8035 - specificity: 0.9788 - accuracy: 0.9667 - f1_score: 0.7578 - iou: 0.6227\n",
      "29번째 epoch 결과\n",
      "WARNING:tensorflow:Unable to restore custom metric. Please ensure that the layer implements `get_config` and `from_config` when saving. In addition, please use the `custom_objects` arg when calling `load_model()`.\n"
     ]
    },
    {
     "name": "stderr",
     "output_type": "stream",
     "text": [
      "WARNING:tensorflow:Unable to restore custom metric. Please ensure that the layer implements `get_config` and `from_config` when saving. In addition, please use the `custom_objects` arg when calling `load_model()`.\n"
     ]
    },
    {
     "name": "stdout",
     "output_type": "stream",
     "text": [
      "WARNING:tensorflow:Unable to restore custom metric. Please ensure that the layer implements `get_config` and `from_config` when saving. In addition, please use the `custom_objects` arg when calling `load_model()`.\n"
     ]
    },
    {
     "name": "stderr",
     "output_type": "stream",
     "text": [
      "WARNING:tensorflow:Unable to restore custom metric. Please ensure that the layer implements `get_config` and `from_config` when saving. In addition, please use the `custom_objects` arg when calling `load_model()`.\n"
     ]
    },
    {
     "name": "stdout",
     "output_type": "stream",
     "text": [
      "233/233 [==============================] - 18s 72ms/step - loss: 0.2051 - sensitivity: 0.7741 - specificity: 0.9827 - accuracy: 0.9681 - f1_score: 0.7582 - iou: 0.6226\n",
      "30번째 epoch 결과\n",
      "WARNING:tensorflow:Unable to restore custom metric. Please ensure that the layer implements `get_config` and `from_config` when saving. In addition, please use the `custom_objects` arg when calling `load_model()`.\n"
     ]
    },
    {
     "name": "stderr",
     "output_type": "stream",
     "text": [
      "WARNING:tensorflow:Unable to restore custom metric. Please ensure that the layer implements `get_config` and `from_config` when saving. In addition, please use the `custom_objects` arg when calling `load_model()`.\n"
     ]
    },
    {
     "name": "stdout",
     "output_type": "stream",
     "text": [
      "WARNING:tensorflow:Unable to restore custom metric. Please ensure that the layer implements `get_config` and `from_config` when saving. In addition, please use the `custom_objects` arg when calling `load_model()`.\n"
     ]
    },
    {
     "name": "stderr",
     "output_type": "stream",
     "text": [
      "WARNING:tensorflow:Unable to restore custom metric. Please ensure that the layer implements `get_config` and `from_config` when saving. In addition, please use the `custom_objects` arg when calling `load_model()`.\n"
     ]
    },
    {
     "name": "stdout",
     "output_type": "stream",
     "text": [
      "233/233 [==============================] - 17s 69ms/step - loss: 0.2023 - sensitivity: 0.7884 - specificity: 0.9815 - accuracy: 0.9681 - f1_score: 0.7616 - iou: 0.6273\n",
      "31번째 epoch 결과\n",
      "WARNING:tensorflow:Unable to restore custom metric. Please ensure that the layer implements `get_config` and `from_config` when saving. In addition, please use the `custom_objects` arg when calling `load_model()`.\n"
     ]
    },
    {
     "name": "stderr",
     "output_type": "stream",
     "text": [
      "WARNING:tensorflow:Unable to restore custom metric. Please ensure that the layer implements `get_config` and `from_config` when saving. In addition, please use the `custom_objects` arg when calling `load_model()`.\n"
     ]
    },
    {
     "name": "stdout",
     "output_type": "stream",
     "text": [
      "WARNING:tensorflow:Unable to restore custom metric. Please ensure that the layer implements `get_config` and `from_config` when saving. In addition, please use the `custom_objects` arg when calling `load_model()`.\n"
     ]
    },
    {
     "name": "stderr",
     "output_type": "stream",
     "text": [
      "WARNING:tensorflow:Unable to restore custom metric. Please ensure that the layer implements `get_config` and `from_config` when saving. In addition, please use the `custom_objects` arg when calling `load_model()`.\n"
     ]
    },
    {
     "name": "stdout",
     "output_type": "stream",
     "text": [
      "233/233 [==============================] - 17s 68ms/step - loss: 0.2049 - sensitivity: 0.7900 - specificity: 0.9807 - accuracy: 0.9675 - f1_score: 0.7592 - iou: 0.6243\n",
      "32번째 epoch 결과\n",
      "WARNING:tensorflow:Unable to restore custom metric. Please ensure that the layer implements `get_config` and `from_config` when saving. In addition, please use the `custom_objects` arg when calling `load_model()`.\n"
     ]
    },
    {
     "name": "stderr",
     "output_type": "stream",
     "text": [
      "WARNING:tensorflow:Unable to restore custom metric. Please ensure that the layer implements `get_config` and `from_config` when saving. In addition, please use the `custom_objects` arg when calling `load_model()`.\n"
     ]
    },
    {
     "name": "stdout",
     "output_type": "stream",
     "text": [
      "WARNING:tensorflow:Unable to restore custom metric. Please ensure that the layer implements `get_config` and `from_config` when saving. In addition, please use the `custom_objects` arg when calling `load_model()`.\n"
     ]
    },
    {
     "name": "stderr",
     "output_type": "stream",
     "text": [
      "WARNING:tensorflow:Unable to restore custom metric. Please ensure that the layer implements `get_config` and `from_config` when saving. In addition, please use the `custom_objects` arg when calling `load_model()`.\n"
     ]
    },
    {
     "name": "stdout",
     "output_type": "stream",
     "text": [
      "233/233 [==============================] - 16s 66ms/step - loss: 0.2207 - sensitivity: 0.8116 - specificity: 0.9749 - accuracy: 0.9637 - f1_score: 0.7428 - iou: 0.6029\n",
      "33번째 epoch 결과\n",
      "WARNING:tensorflow:Unable to restore custom metric. Please ensure that the layer implements `get_config` and `from_config` when saving. In addition, please use the `custom_objects` arg when calling `load_model()`.\n"
     ]
    },
    {
     "name": "stderr",
     "output_type": "stream",
     "text": [
      "WARNING:tensorflow:Unable to restore custom metric. Please ensure that the layer implements `get_config` and `from_config` when saving. In addition, please use the `custom_objects` arg when calling `load_model()`.\n"
     ]
    },
    {
     "name": "stdout",
     "output_type": "stream",
     "text": [
      "WARNING:tensorflow:Unable to restore custom metric. Please ensure that the layer implements `get_config` and `from_config` when saving. In addition, please use the `custom_objects` arg when calling `load_model()`.\n"
     ]
    },
    {
     "name": "stderr",
     "output_type": "stream",
     "text": [
      "WARNING:tensorflow:Unable to restore custom metric. Please ensure that the layer implements `get_config` and `from_config` when saving. In addition, please use the `custom_objects` arg when calling `load_model()`.\n"
     ]
    },
    {
     "name": "stdout",
     "output_type": "stream",
     "text": [
      "233/233 [==============================] - 16s 65ms/step - loss: 0.2041 - sensitivity: 0.7943 - specificity: 0.9808 - accuracy: 0.9679 - f1_score: 0.7619 - iou: 0.6281\n",
      "34번째 epoch 결과\n",
      "WARNING:tensorflow:Unable to restore custom metric. Please ensure that the layer implements `get_config` and `from_config` when saving. In addition, please use the `custom_objects` arg when calling `load_model()`.\n"
     ]
    },
    {
     "name": "stderr",
     "output_type": "stream",
     "text": [
      "WARNING:tensorflow:Unable to restore custom metric. Please ensure that the layer implements `get_config` and `from_config` when saving. In addition, please use the `custom_objects` arg when calling `load_model()`.\n"
     ]
    },
    {
     "name": "stdout",
     "output_type": "stream",
     "text": [
      "WARNING:tensorflow:Unable to restore custom metric. Please ensure that the layer implements `get_config` and `from_config` when saving. In addition, please use the `custom_objects` arg when calling `load_model()`.\n"
     ]
    },
    {
     "name": "stderr",
     "output_type": "stream",
     "text": [
      "WARNING:tensorflow:Unable to restore custom metric. Please ensure that the layer implements `get_config` and `from_config` when saving. In addition, please use the `custom_objects` arg when calling `load_model()`.\n"
     ]
    },
    {
     "name": "stdout",
     "output_type": "stream",
     "text": [
      "233/233 [==============================] - 17s 71ms/step - loss: 0.2026 - sensitivity: 0.7950 - specificity: 0.9806 - accuracy: 0.9678 - f1_score: 0.7620 - iou: 0.6280\n",
      "35번째 epoch 결과\n",
      "WARNING:tensorflow:Unable to restore custom metric. Please ensure that the layer implements `get_config` and `from_config` when saving. In addition, please use the `custom_objects` arg when calling `load_model()`.\n"
     ]
    },
    {
     "name": "stderr",
     "output_type": "stream",
     "text": [
      "WARNING:tensorflow:Unable to restore custom metric. Please ensure that the layer implements `get_config` and `from_config` when saving. In addition, please use the `custom_objects` arg when calling `load_model()`.\n"
     ]
    },
    {
     "name": "stdout",
     "output_type": "stream",
     "text": [
      "WARNING:tensorflow:Unable to restore custom metric. Please ensure that the layer implements `get_config` and `from_config` when saving. In addition, please use the `custom_objects` arg when calling `load_model()`.\n"
     ]
    },
    {
     "name": "stderr",
     "output_type": "stream",
     "text": [
      "WARNING:tensorflow:Unable to restore custom metric. Please ensure that the layer implements `get_config` and `from_config` when saving. In addition, please use the `custom_objects` arg when calling `load_model()`.\n"
     ]
    },
    {
     "name": "stdout",
     "output_type": "stream",
     "text": [
      "233/233 [==============================] - 17s 68ms/step - loss: 0.2012 - sensitivity: 0.7605 - specificity: 0.9847 - accuracy: 0.9692 - f1_score: 0.7612 - iou: 0.6264\n",
      "36번째 epoch 결과\n",
      "WARNING:tensorflow:Unable to restore custom metric. Please ensure that the layer implements `get_config` and `from_config` when saving. In addition, please use the `custom_objects` arg when calling `load_model()`.\n"
     ]
    },
    {
     "name": "stderr",
     "output_type": "stream",
     "text": [
      "WARNING:tensorflow:Unable to restore custom metric. Please ensure that the layer implements `get_config` and `from_config` when saving. In addition, please use the `custom_objects` arg when calling `load_model()`.\n"
     ]
    },
    {
     "name": "stdout",
     "output_type": "stream",
     "text": [
      "WARNING:tensorflow:Unable to restore custom metric. Please ensure that the layer implements `get_config` and `from_config` when saving. In addition, please use the `custom_objects` arg when calling `load_model()`.\n"
     ]
    },
    {
     "name": "stderr",
     "output_type": "stream",
     "text": [
      "WARNING:tensorflow:Unable to restore custom metric. Please ensure that the layer implements `get_config` and `from_config` when saving. In addition, please use the `custom_objects` arg when calling `load_model()`.\n"
     ]
    },
    {
     "name": "stdout",
     "output_type": "stream",
     "text": [
      "233/233 [==============================] - 16s 65ms/step - loss: 0.2045 - sensitivity: 0.7933 - specificity: 0.9806 - accuracy: 0.9676 - f1_score: 0.7597 - iou: 0.6249\n",
      "37번째 epoch 결과\n",
      "WARNING:tensorflow:Unable to restore custom metric. Please ensure that the layer implements `get_config` and `from_config` when saving. In addition, please use the `custom_objects` arg when calling `load_model()`.\n"
     ]
    },
    {
     "name": "stderr",
     "output_type": "stream",
     "text": [
      "WARNING:tensorflow:Unable to restore custom metric. Please ensure that the layer implements `get_config` and `from_config` when saving. In addition, please use the `custom_objects` arg when calling `load_model()`.\n"
     ]
    },
    {
     "name": "stdout",
     "output_type": "stream",
     "text": [
      "WARNING:tensorflow:Unable to restore custom metric. Please ensure that the layer implements `get_config` and `from_config` when saving. In addition, please use the `custom_objects` arg when calling `load_model()`.\n"
     ]
    },
    {
     "name": "stderr",
     "output_type": "stream",
     "text": [
      "WARNING:tensorflow:Unable to restore custom metric. Please ensure that the layer implements `get_config` and `from_config` when saving. In addition, please use the `custom_objects` arg when calling `load_model()`.\n"
     ]
    },
    {
     "name": "stdout",
     "output_type": "stream",
     "text": [
      "233/233 [==============================] - 17s 70ms/step - loss: 0.2042 - sensitivity: 0.7996 - specificity: 0.9799 - accuracy: 0.9674 - f1_score: 0.7606 - iou: 0.6261\n",
      "38번째 epoch 결과\n",
      "WARNING:tensorflow:Unable to restore custom metric. Please ensure that the layer implements `get_config` and `from_config` when saving. In addition, please use the `custom_objects` arg when calling `load_model()`.\n"
     ]
    },
    {
     "name": "stderr",
     "output_type": "stream",
     "text": [
      "WARNING:tensorflow:Unable to restore custom metric. Please ensure that the layer implements `get_config` and `from_config` when saving. In addition, please use the `custom_objects` arg when calling `load_model()`.\n"
     ]
    },
    {
     "name": "stdout",
     "output_type": "stream",
     "text": [
      "WARNING:tensorflow:Unable to restore custom metric. Please ensure that the layer implements `get_config` and `from_config` when saving. In addition, please use the `custom_objects` arg when calling `load_model()`.\n"
     ]
    },
    {
     "name": "stderr",
     "output_type": "stream",
     "text": [
      "WARNING:tensorflow:Unable to restore custom metric. Please ensure that the layer implements `get_config` and `from_config` when saving. In addition, please use the `custom_objects` arg when calling `load_model()`.\n"
     ]
    },
    {
     "name": "stdout",
     "output_type": "stream",
     "text": [
      "233/233 [==============================] - 17s 71ms/step - loss: 0.2032 - sensitivity: 0.7927 - specificity: 0.9811 - accuracy: 0.9680 - f1_score: 0.7621 - iou: 0.6282\n",
      "39번째 epoch 결과\n",
      "WARNING:tensorflow:Unable to restore custom metric. Please ensure that the layer implements `get_config` and `from_config` when saving. In addition, please use the `custom_objects` arg when calling `load_model()`.\n"
     ]
    },
    {
     "name": "stderr",
     "output_type": "stream",
     "text": [
      "WARNING:tensorflow:Unable to restore custom metric. Please ensure that the layer implements `get_config` and `from_config` when saving. In addition, please use the `custom_objects` arg when calling `load_model()`.\n"
     ]
    },
    {
     "name": "stdout",
     "output_type": "stream",
     "text": [
      "WARNING:tensorflow:Unable to restore custom metric. Please ensure that the layer implements `get_config` and `from_config` when saving. In addition, please use the `custom_objects` arg when calling `load_model()`.\n"
     ]
    },
    {
     "name": "stderr",
     "output_type": "stream",
     "text": [
      "WARNING:tensorflow:Unable to restore custom metric. Please ensure that the layer implements `get_config` and `from_config` when saving. In addition, please use the `custom_objects` arg when calling `load_model()`.\n"
     ]
    },
    {
     "name": "stdout",
     "output_type": "stream",
     "text": [
      "233/233 [==============================] - 17s 67ms/step - loss: 0.2003 - sensitivity: 0.7867 - specificity: 0.9821 - accuracy: 0.9686 - f1_score: 0.7644 - iou: 0.6311\n",
      "40번째 epoch 결과\n",
      "WARNING:tensorflow:Unable to restore custom metric. Please ensure that the layer implements `get_config` and `from_config` when saving. In addition, please use the `custom_objects` arg when calling `load_model()`.\n"
     ]
    },
    {
     "name": "stderr",
     "output_type": "stream",
     "text": [
      "WARNING:tensorflow:Unable to restore custom metric. Please ensure that the layer implements `get_config` and `from_config` when saving. In addition, please use the `custom_objects` arg when calling `load_model()`.\n"
     ]
    },
    {
     "name": "stdout",
     "output_type": "stream",
     "text": [
      "WARNING:tensorflow:Unable to restore custom metric. Please ensure that the layer implements `get_config` and `from_config` when saving. In addition, please use the `custom_objects` arg when calling `load_model()`.\n"
     ]
    },
    {
     "name": "stderr",
     "output_type": "stream",
     "text": [
      "WARNING:tensorflow:Unable to restore custom metric. Please ensure that the layer implements `get_config` and `from_config` when saving. In addition, please use the `custom_objects` arg when calling `load_model()`.\n"
     ]
    },
    {
     "name": "stdout",
     "output_type": "stream",
     "text": [
      "233/233 [==============================] - 17s 69ms/step - loss: 0.1995 - sensitivity: 0.7514 - specificity: 0.9860 - accuracy: 0.9698 - f1_score: 0.7626 - iou: 0.6280\n",
      "41번째 epoch 결과\n",
      "WARNING:tensorflow:Unable to restore custom metric. Please ensure that the layer implements `get_config` and `from_config` when saving. In addition, please use the `custom_objects` arg when calling `load_model()`.\n"
     ]
    },
    {
     "name": "stderr",
     "output_type": "stream",
     "text": [
      "WARNING:tensorflow:Unable to restore custom metric. Please ensure that the layer implements `get_config` and `from_config` when saving. In addition, please use the `custom_objects` arg when calling `load_model()`.\n"
     ]
    },
    {
     "name": "stdout",
     "output_type": "stream",
     "text": [
      "WARNING:tensorflow:Unable to restore custom metric. Please ensure that the layer implements `get_config` and `from_config` when saving. In addition, please use the `custom_objects` arg when calling `load_model()`.\n"
     ]
    },
    {
     "name": "stderr",
     "output_type": "stream",
     "text": [
      "WARNING:tensorflow:Unable to restore custom metric. Please ensure that the layer implements `get_config` and `from_config` when saving. In addition, please use the `custom_objects` arg when calling `load_model()`.\n"
     ]
    },
    {
     "name": "stdout",
     "output_type": "stream",
     "text": [
      "233/233 [==============================] - 16s 67ms/step - loss: 0.2044 - sensitivity: 0.8076 - specificity: 0.9791 - accuracy: 0.9672 - f1_score: 0.7612 - iou: 0.6266\n",
      "42번째 epoch 결과\n",
      "WARNING:tensorflow:Unable to restore custom metric. Please ensure that the layer implements `get_config` and `from_config` when saving. In addition, please use the `custom_objects` arg when calling `load_model()`.\n"
     ]
    },
    {
     "name": "stderr",
     "output_type": "stream",
     "text": [
      "WARNING:tensorflow:Unable to restore custom metric. Please ensure that the layer implements `get_config` and `from_config` when saving. In addition, please use the `custom_objects` arg when calling `load_model()`.\n"
     ]
    },
    {
     "name": "stdout",
     "output_type": "stream",
     "text": [
      "WARNING:tensorflow:Unable to restore custom metric. Please ensure that the layer implements `get_config` and `from_config` when saving. In addition, please use the `custom_objects` arg when calling `load_model()`.\n"
     ]
    },
    {
     "name": "stderr",
     "output_type": "stream",
     "text": [
      "WARNING:tensorflow:Unable to restore custom metric. Please ensure that the layer implements `get_config` and `from_config` when saving. In addition, please use the `custom_objects` arg when calling `load_model()`.\n"
     ]
    },
    {
     "name": "stdout",
     "output_type": "stream",
     "text": [
      "233/233 [==============================] - 16s 66ms/step - loss: 0.2022 - sensitivity: 0.8102 - specificity: 0.9792 - accuracy: 0.9676 - f1_score: 0.7639 - iou: 0.6305\n",
      "43번째 epoch 결과\n",
      "WARNING:tensorflow:Unable to restore custom metric. Please ensure that the layer implements `get_config` and `from_config` when saving. In addition, please use the `custom_objects` arg when calling `load_model()`.\n"
     ]
    },
    {
     "name": "stderr",
     "output_type": "stream",
     "text": [
      "WARNING:tensorflow:Unable to restore custom metric. Please ensure that the layer implements `get_config` and `from_config` when saving. In addition, please use the `custom_objects` arg when calling `load_model()`.\n"
     ]
    },
    {
     "name": "stdout",
     "output_type": "stream",
     "text": [
      "WARNING:tensorflow:Unable to restore custom metric. Please ensure that the layer implements `get_config` and `from_config` when saving. In addition, please use the `custom_objects` arg when calling `load_model()`.\n"
     ]
    },
    {
     "name": "stderr",
     "output_type": "stream",
     "text": [
      "WARNING:tensorflow:Unable to restore custom metric. Please ensure that the layer implements `get_config` and `from_config` when saving. In addition, please use the `custom_objects` arg when calling `load_model()`.\n"
     ]
    },
    {
     "name": "stdout",
     "output_type": "stream",
     "text": [
      "233/233 [==============================] - 17s 71ms/step - loss: 0.1987 - sensitivity: 0.7651 - specificity: 0.9847 - accuracy: 0.9695 - f1_score: 0.7643 - iou: 0.6305\n",
      "44번째 epoch 결과\n",
      "WARNING:tensorflow:Unable to restore custom metric. Please ensure that the layer implements `get_config` and `from_config` when saving. In addition, please use the `custom_objects` arg when calling `load_model()`.\n"
     ]
    },
    {
     "name": "stderr",
     "output_type": "stream",
     "text": [
      "WARNING:tensorflow:Unable to restore custom metric. Please ensure that the layer implements `get_config` and `from_config` when saving. In addition, please use the `custom_objects` arg when calling `load_model()`.\n"
     ]
    },
    {
     "name": "stdout",
     "output_type": "stream",
     "text": [
      "WARNING:tensorflow:Unable to restore custom metric. Please ensure that the layer implements `get_config` and `from_config` when saving. In addition, please use the `custom_objects` arg when calling `load_model()`.\n"
     ]
    },
    {
     "name": "stderr",
     "output_type": "stream",
     "text": [
      "WARNING:tensorflow:Unable to restore custom metric. Please ensure that the layer implements `get_config` and `from_config` when saving. In addition, please use the `custom_objects` arg when calling `load_model()`.\n"
     ]
    },
    {
     "name": "stdout",
     "output_type": "stream",
     "text": [
      "233/233 [==============================] - 17s 68ms/step - loss: 0.1988 - sensitivity: 0.8013 - specificity: 0.9808 - accuracy: 0.9684 - f1_score: 0.7665 - iou: 0.6340\n",
      "45번째 epoch 결과\n",
      "WARNING:tensorflow:Unable to restore custom metric. Please ensure that the layer implements `get_config` and `from_config` when saving. In addition, please use the `custom_objects` arg when calling `load_model()`.\n"
     ]
    },
    {
     "name": "stderr",
     "output_type": "stream",
     "text": [
      "WARNING:tensorflow:Unable to restore custom metric. Please ensure that the layer implements `get_config` and `from_config` when saving. In addition, please use the `custom_objects` arg when calling `load_model()`.\n"
     ]
    },
    {
     "name": "stdout",
     "output_type": "stream",
     "text": [
      "WARNING:tensorflow:Unable to restore custom metric. Please ensure that the layer implements `get_config` and `from_config` when saving. In addition, please use the `custom_objects` arg when calling `load_model()`.\n"
     ]
    },
    {
     "name": "stderr",
     "output_type": "stream",
     "text": [
      "WARNING:tensorflow:Unable to restore custom metric. Please ensure that the layer implements `get_config` and `from_config` when saving. In addition, please use the `custom_objects` arg when calling `load_model()`.\n"
     ]
    },
    {
     "name": "stdout",
     "output_type": "stream",
     "text": [
      "233/233 [==============================] - 17s 70ms/step - loss: 0.2028 - sensitivity: 0.7579 - specificity: 0.9848 - accuracy: 0.9692 - f1_score: 0.7605 - iou: 0.6254\n",
      "46번째 epoch 결과\n",
      "WARNING:tensorflow:Unable to restore custom metric. Please ensure that the layer implements `get_config` and `from_config` when saving. In addition, please use the `custom_objects` arg when calling `load_model()`.\n"
     ]
    },
    {
     "name": "stderr",
     "output_type": "stream",
     "text": [
      "WARNING:tensorflow:Unable to restore custom metric. Please ensure that the layer implements `get_config` and `from_config` when saving. In addition, please use the `custom_objects` arg when calling `load_model()`.\n"
     ]
    },
    {
     "name": "stdout",
     "output_type": "stream",
     "text": [
      "WARNING:tensorflow:Unable to restore custom metric. Please ensure that the layer implements `get_config` and `from_config` when saving. In addition, please use the `custom_objects` arg when calling `load_model()`.\n"
     ]
    },
    {
     "name": "stderr",
     "output_type": "stream",
     "text": [
      "WARNING:tensorflow:Unable to restore custom metric. Please ensure that the layer implements `get_config` and `from_config` when saving. In addition, please use the `custom_objects` arg when calling `load_model()`.\n"
     ]
    },
    {
     "name": "stdout",
     "output_type": "stream",
     "text": [
      "233/233 [==============================] - 16s 64ms/step - loss: 0.1989 - sensitivity: 0.7747 - specificity: 0.9836 - accuracy: 0.9692 - f1_score: 0.7650 - iou: 0.6316\n",
      "47번째 epoch 결과\n",
      "WARNING:tensorflow:Unable to restore custom metric. Please ensure that the layer implements `get_config` and `from_config` when saving. In addition, please use the `custom_objects` arg when calling `load_model()`.\n"
     ]
    },
    {
     "name": "stderr",
     "output_type": "stream",
     "text": [
      "WARNING:tensorflow:Unable to restore custom metric. Please ensure that the layer implements `get_config` and `from_config` when saving. In addition, please use the `custom_objects` arg when calling `load_model()`.\n"
     ]
    },
    {
     "name": "stdout",
     "output_type": "stream",
     "text": [
      "WARNING:tensorflow:Unable to restore custom metric. Please ensure that the layer implements `get_config` and `from_config` when saving. In addition, please use the `custom_objects` arg when calling `load_model()`.\n"
     ]
    },
    {
     "name": "stderr",
     "output_type": "stream",
     "text": [
      "WARNING:tensorflow:Unable to restore custom metric. Please ensure that the layer implements `get_config` and `from_config` when saving. In addition, please use the `custom_objects` arg when calling `load_model()`.\n"
     ]
    },
    {
     "name": "stdout",
     "output_type": "stream",
     "text": [
      "233/233 [==============================] - 17s 71ms/step - loss: 0.1983 - sensitivity: 0.7962 - specificity: 0.9815 - accuracy: 0.9687 - f1_score: 0.7666 - iou: 0.6341\n",
      "48번째 epoch 결과\n",
      "WARNING:tensorflow:Unable to restore custom metric. Please ensure that the layer implements `get_config` and `from_config` when saving. In addition, please use the `custom_objects` arg when calling `load_model()`.\n"
     ]
    },
    {
     "name": "stderr",
     "output_type": "stream",
     "text": [
      "WARNING:tensorflow:Unable to restore custom metric. Please ensure that the layer implements `get_config` and `from_config` when saving. In addition, please use the `custom_objects` arg when calling `load_model()`.\n"
     ]
    },
    {
     "name": "stdout",
     "output_type": "stream",
     "text": [
      "WARNING:tensorflow:Unable to restore custom metric. Please ensure that the layer implements `get_config` and `from_config` when saving. In addition, please use the `custom_objects` arg when calling `load_model()`.\n"
     ]
    },
    {
     "name": "stderr",
     "output_type": "stream",
     "text": [
      "WARNING:tensorflow:Unable to restore custom metric. Please ensure that the layer implements `get_config` and `from_config` when saving. In addition, please use the `custom_objects` arg when calling `load_model()`.\n"
     ]
    },
    {
     "name": "stdout",
     "output_type": "stream",
     "text": [
      "233/233 [==============================] - 16s 65ms/step - loss: 0.1984 - sensitivity: 0.7786 - specificity: 0.9835 - accuracy: 0.9693 - f1_score: 0.7663 - iou: 0.6335\n",
      "49번째 epoch 결과\n",
      "WARNING:tensorflow:Unable to restore custom metric. Please ensure that the layer implements `get_config` and `from_config` when saving. In addition, please use the `custom_objects` arg when calling `load_model()`.\n"
     ]
    },
    {
     "name": "stderr",
     "output_type": "stream",
     "text": [
      "WARNING:tensorflow:Unable to restore custom metric. Please ensure that the layer implements `get_config` and `from_config` when saving. In addition, please use the `custom_objects` arg when calling `load_model()`.\n"
     ]
    },
    {
     "name": "stdout",
     "output_type": "stream",
     "text": [
      "WARNING:tensorflow:Unable to restore custom metric. Please ensure that the layer implements `get_config` and `from_config` when saving. In addition, please use the `custom_objects` arg when calling `load_model()`.\n"
     ]
    },
    {
     "name": "stderr",
     "output_type": "stream",
     "text": [
      "WARNING:tensorflow:Unable to restore custom metric. Please ensure that the layer implements `get_config` and `from_config` when saving. In addition, please use the `custom_objects` arg when calling `load_model()`.\n"
     ]
    },
    {
     "name": "stdout",
     "output_type": "stream",
     "text": [
      "233/233 [==============================] - 16s 65ms/step - loss: 0.2005 - sensitivity: 0.7765 - specificity: 0.9834 - accuracy: 0.9692 - f1_score: 0.7650 - iou: 0.6319\n",
      "50번째 epoch 결과\n",
      "WARNING:tensorflow:Unable to restore custom metric. Please ensure that the layer implements `get_config` and `from_config` when saving. In addition, please use the `custom_objects` arg when calling `load_model()`.\n"
     ]
    },
    {
     "name": "stderr",
     "output_type": "stream",
     "text": [
      "WARNING:tensorflow:Unable to restore custom metric. Please ensure that the layer implements `get_config` and `from_config` when saving. In addition, please use the `custom_objects` arg when calling `load_model()`.\n"
     ]
    },
    {
     "name": "stdout",
     "output_type": "stream",
     "text": [
      "WARNING:tensorflow:Unable to restore custom metric. Please ensure that the layer implements `get_config` and `from_config` when saving. In addition, please use the `custom_objects` arg when calling `load_model()`.\n"
     ]
    },
    {
     "name": "stderr",
     "output_type": "stream",
     "text": [
      "WARNING:tensorflow:Unable to restore custom metric. Please ensure that the layer implements `get_config` and `from_config` when saving. In addition, please use the `custom_objects` arg when calling `load_model()`.\n"
     ]
    },
    {
     "name": "stdout",
     "output_type": "stream",
     "text": [
      "233/233 [==============================] - 16s 66ms/step - loss: 0.2076 - sensitivity: 0.8278 - specificity: 0.9760 - accuracy: 0.9659 - f1_score: 0.7590 - iou: 0.6244\n"
     ]
    }
   ],
   "source": [
    "custom_objects = {'DiceLoss': loss.DiceLoss(), \n",
    "                  'sensitivity': metrics.sensitivity,\n",
    "                  'specificity': metrics.specificity,\n",
    "                  'accuracy' : metrics.accuracy,\n",
    "                  'f1_score' : metrics.f1_score,\n",
    "                  'iou' : metrics.iou}\n",
    "\n",
    "model_param_path = '/visuworks/Blindless_AIFFELTON/Ablation Study/Pyramid/model_parameters/pyramid_50ep_512_sG_wo_slice.tf'\n",
    "test_preproc = preprocess.build_augmentation_for_general(RESIZE_SHAPE[0], RESIZE_SHAPE[0], is_train=False)\n",
    "test_generator = data_generator.SlicedDataGenerator(\n",
    "    TEST_SOURCE,\n",
    "    number_of_images = 1,\n",
    "    img_size=INPUT_SHAPE,\n",
    "    output_size=INPUT_SHAPE,\n",
    "    resize_shape = RESIZE_SHAPE,\n",
    "    is_train=False,\n",
    "    is_test=True,\n",
    "    slice_black=False,\n",
    "    augmentation= test_preproc\n",
    ")\n",
    "\n",
    "loss, sen, spe, acc, f1, iou = metrics.retrive_all_evaluation_of_test_dataset(test_generator, model_param_path, custom_objects)"
   ]
  },
  {
   "cell_type": "code",
   "execution_count": 6,
   "id": "77d56fc0",
   "metadata": {},
   "outputs": [],
   "source": [
    "import pickle\n",
    "# Save the metrics as a dictionary\n",
    "metrics_dict = {\n",
    "    'loss': loss,\n",
    "    'sen': sen,\n",
    "    'spe': spe,\n",
    "    'acc': acc,\n",
    "    'f1': f1,\n",
    "    'iou': iou\n",
    "}\n",
    "\n",
    "# Define the file path\n",
    "file_path = 'pyramid_50ep_512_sG_wo_slice_metrics_data.pkl'\n",
    "\n",
    "# Write the metrics to a file using pickle\n",
    "with open(file_path, 'wb') as f:\n",
    "    pickle.dump(metrics_dict, f)"
   ]
  },
  {
   "cell_type": "code",
   "execution_count": 7,
   "id": "4ea265d1",
   "metadata": {},
   "outputs": [],
   "source": [
    "file_path = 'pyramid_50ep_512_sG_wo_slice_metrics_data.pkl'\n",
    "\n",
    "# Load the metrics from the pickle file\n",
    "with open(file_path, 'rb') as f:\n",
    "    metrics_dict = pickle.load(f)\n",
    "\n",
    "# Access the metrics from the loaded dictionary\n",
    "loss = metrics_dict['loss']\n",
    "sen = metrics_dict['sen']\n",
    "spe = metrics_dict['spe']\n",
    "acc = metrics_dict['acc']\n",
    "f1 = metrics_dict['f1']\n",
    "iou = metrics_dict['iou']"
   ]
  },
  {
   "cell_type": "code",
   "execution_count": 8,
   "id": "1fd6b83e",
   "metadata": {},
   "outputs": [
    {
     "data": {
      "image/png": "[encoded data removed]",
      "text/plain": [
       "<Figure size 1200x800 with 1 Axes>"
      ]
     },
     "metadata": {},
     "output_type": "display_data"
    },
    {
     "data": {
      "image/png": "[encoded data removed]",
      "text/plain": [
       "<Figure size 640x480 with 1 Axes>"
      ]
     },
     "metadata": {},
     "output_type": "display_data"
    },
    {
     "data": {
      "image/png": "[encoded data removed]",
      "text/plain": [
       "<Figure size 640x480 with 1 Axes>"
      ]
     },
     "metadata": {},
     "output_type": "display_data"
    },
    {
     "data": {
      "image/png": "[encoded data removed]",
      "text/plain": [
       "<Figure size 640x480 with 1 Axes>"
      ]
     },
     "metadata": {},
     "output_type": "display_data"
    },
    {
     "data": {
      "image/png": "[encoded data removed]",
      "text/plain": [
       "<Figure size 640x480 with 1 Axes>"
      ]
     },
     "metadata": {},
     "output_type": "display_data"
    },
    {
     "data": {
      "image/png": "[encoded data removed]",
      "text/plain": [
       "<Figure size 640x480 with 1 Axes>"
      ]
     },
     "metadata": {},
     "output_type": "display_data"
    },
    {
     "data": {
      "text/plain": [
       "<Figure size 640x480 with 0 Axes>"
      ]
     },
     "metadata": {},
     "output_type": "display_data"
    }
   ],
   "source": [
    "metrics.plot_test_evaluation_result(loss, sen, spe, acc ,f1, iou)"
   ]
  }
 ],
 "metadata": {
  "kernelspec": {
   "display_name": "Python 3 (ipykernel)",
   "language": "python",
   "name": "python3"
  },
  "language_info": {
   "codemirror_mode": {
    "name": "ipython",
    "version": 3
   },
   "file_extension": ".py",
   "mimetype": "text/x-python",
   "name": "python",
   "nbconvert_exporter": "python",
   "pygments_lexer": "ipython3",
   "version": "3.10.12"
  }
 },
 "nbformat": 4,
 "nbformat_minor": 5
}
