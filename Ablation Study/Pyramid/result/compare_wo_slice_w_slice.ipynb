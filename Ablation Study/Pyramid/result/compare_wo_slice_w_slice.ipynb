{
 "cells": [
  {
   "cell_type": "code",
   "execution_count": 3,
   "metadata": {},
   "outputs": [],
   "source": [
    "import sys\n",
    "import tensorflow as tf\n",
    "sys.path.append(\"/visuworks/Blindless_AIFFELTON/Ablation Study/\")\n",
    "\n",
    "import preprocess,  check_result, metrics, loss\n",
    "\n",
    "MODEL_PATH_p_512_fG_wo_slice = '/visuworks/Blindless_AIFFELTON/Ablation Study/Pyramid/model_parameters/pyramid_50ep_1024_fG_wo_slice.tf/48--0.2004-0.7765-0.9827-0.2032-0.7533-0.9852.pb'\n",
    "MODEL_PATH_p_512_fG_w_slice = '/visuworks/Blindless_AIFFELTON/Ablation Study/Pyramid/model_parameters/pyramid_50ep_1024_fG_w_slice.tf/48--0.2096-0.7679-0.9814-0.2049-0.7975-0.9787.pb'\n",
    "\n",
    "INPUT_SHAPE = (1024, 1024, 1)\n",
    "RESIZE_SHAPE = (1024, 1024, 1)\n",
    "SOURCE = '/visuworks/Dataset/Selected Dataset 3/Test'"
   ]
  },
  {
   "cell_type": "code",
   "execution_count": 4,
   "metadata": {},
   "outputs": [],
   "source": [
    "# Define custom objects for loading the model\n",
    "custom_objects = {'DiceLoss': loss.DiceLoss(), \n",
    "                  'sensitivity': metrics.sensitivity,\n",
    "                  'specificity': metrics.specificity,\n",
    "                  'accuracy' : metrics.accuracy}\n",
    "\n",
    "\n",
    "# Create augmentation\n",
    "test_preproc = preprocess.build_augmentation_for_general(RESIZE_SHAPE[0], RESIZE_SHAPE[0], is_train=False)"
   ]
  },
  {
   "cell_type": "code",
   "execution_count": 6,
   "metadata": {},
   "outputs": [],
   "source": [
    "model_wo_full = tf.keras.models.load_model(MODEL_PATH_p_512_fG_wo_slice, custom_objects=custom_objects)\n",
    "model_w_full = tf.keras.models.load_model(MODEL_PATH_p_512_fG_w_slice, custom_objects=custom_objects)"
   ]
  },
  {
   "cell_type": "code",
   "execution_count": 8,
   "metadata": {},
   "outputs": [],
   "source": [
    "data_wo_fG = check_result.FG_result(model_wo_full, 100, SOURCE, INPUT_SHAPE, test_preproc, is_test=True)\n",
    "data_w_fG = check_result.FG_result(model_w_full, 100, SOURCE, INPUT_SHAPE, test_preproc, is_test=True)"
   ]
  },
  {
   "cell_type": "code",
   "execution_count": null,
   "metadata": {},
   "outputs": [],
   "source": [
    "check_result.compare_model_result(data_wo_fG, data_w_fG, 100)"
   ]
  }
 ],
 "metadata": {
  "kernelspec": {
   "display_name": "Python 3",
   "language": "python",
   "name": "python3"
  },
  "language_info": {
   "codemirror_mode": {
    "name": "ipython",
    "version": 3
   },
   "file_extension": ".py",
   "mimetype": "text/x-python",
   "name": "python",
   "nbconvert_exporter": "python",
   "pygments_lexer": "ipython3",
   "version": "3.10.12"
  }
 },
 "nbformat": 4,
 "nbformat_minor": 2
}
