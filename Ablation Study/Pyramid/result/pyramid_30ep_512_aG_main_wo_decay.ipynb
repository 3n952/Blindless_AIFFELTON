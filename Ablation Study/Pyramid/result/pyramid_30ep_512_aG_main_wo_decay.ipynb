{
 "cells": [
  {
   "cell_type": "code",
   "execution_count": 1,
   "metadata": {},
   "outputs": [
    {
     "name": "stderr",
     "output_type": "stream",
     "text": [
      "2024-01-31 13:34:08.781678: E external/local_xla/xla/stream_executor/cuda/cuda_dnn.cc:9261] Unable to register cuDNN factory: Attempting to register factory for plugin cuDNN when one has already been registered\n",
      "2024-01-31 13:34:08.781703: E external/local_xla/xla/stream_executor/cuda/cuda_fft.cc:607] Unable to register cuFFT factory: Attempting to register factory for plugin cuFFT when one has already been registered\n",
      "2024-01-31 13:34:08.782739: E external/local_xla/xla/stream_executor/cuda/cuda_blas.cc:1515] Unable to register cuBLAS factory: Attempting to register factory for plugin cuBLAS when one has already been registered\n",
      "2024-01-31 13:34:08.788021: I tensorflow/core/platform/cpu_feature_guard.cc:182] This TensorFlow binary is optimized to use available CPU instructions in performance-critical operations.\n",
      "To enable the following instructions: AVX2 FMA, in other operations, rebuild TensorFlow with the appropriate compiler flags.\n",
      "2024-01-31 13:34:09.362517: W tensorflow/compiler/tf2tensorrt/utils/py_utils.cc:38] TF-TRT Warning: Could not find TensorRT\n"
     ]
    }
   ],
   "source": [
    "import sys\n",
    "import tensorflow as tf\n",
    "sys.path.append(\"/visuworks/Blindless_AIFFELTON/Ablation Study/\")\n",
    "\n",
    "# import customized modules\n",
    "import preprocess, data_generator, check_result, metrics, loss, train\n",
    "\n",
    "sys.path.append(\"/visuworks/Blindless_AIFFELTON/Ablation Study/Pyramid\")\n",
    "import pyramid\n",
    "\n",
    "\n",
    "# Insert Path\n",
    "# {model_name}_{epoch}ep_{model_inpusize}_{Generator | aG/fG/sG}\n",
    "FILE_NAME = 'pyramid_30ep_512_aG_wo_decay'\n",
    "INPUT_SHAPE = (512, 512, 1)\n",
    "MODEL_PATH = \"/visuworks/Blindless_AIFFELTON/Ablation Study/Pyramid/model_parameters/\" + FILE_NAME + \".tf\"\n",
    "HISTORY_PATH = \"/visuworks/Blindless_AIFFELTON/Ablation Study/Pyramid/history/\" + FILE_NAME + '_history' \".json\"\n",
    "\n",
    "TRAIN_SOURCE = '/visuworks/Dataset/Selected Dataset 3/Train'\n",
    "TEST_SOURCE = '/visuworks/Dataset/Selected Dataset 3/Test'"
   ]
  },
  {
   "cell_type": "code",
   "execution_count": 2,
   "metadata": {},
   "outputs": [
    {
     "name": "stderr",
     "output_type": "stream",
     "text": [
      "2024-01-31 13:34:10.533333: I external/local_xla/xla/stream_executor/cuda/cuda_executor.cc:901] successful NUMA node read from SysFS had negative value (-1), but there must be at least one NUMA node, so returning NUMA node zero. See more at https://github.com/torvalds/linux/blob/v6.0/Documentation/ABI/testing/sysfs-bus-pci#L344-L355\n",
      "2024-01-31 13:34:10.566265: I external/local_xla/xla/stream_executor/cuda/cuda_executor.cc:901] successful NUMA node read from SysFS had negative value (-1), but there must be at least one NUMA node, so returning NUMA node zero. See more at https://github.com/torvalds/linux/blob/v6.0/Documentation/ABI/testing/sysfs-bus-pci#L344-L355\n",
      "2024-01-31 13:34:10.566456: I external/local_xla/xla/stream_executor/cuda/cuda_executor.cc:901] successful NUMA node read from SysFS had negative value (-1), but there must be at least one NUMA node, so returning NUMA node zero. See more at https://github.com/torvalds/linux/blob/v6.0/Documentation/ABI/testing/sysfs-bus-pci#L344-L355\n",
      "2024-01-31 13:34:10.568420: I external/local_xla/xla/stream_executor/cuda/cuda_executor.cc:901] successful NUMA node read from SysFS had negative value (-1), but there must be at least one NUMA node, so returning NUMA node zero. See more at https://github.com/torvalds/linux/blob/v6.0/Documentation/ABI/testing/sysfs-bus-pci#L344-L355\n",
      "2024-01-31 13:34:10.568592: I external/local_xla/xla/stream_executor/cuda/cuda_executor.cc:901] successful NUMA node read from SysFS had negative value (-1), but there must be at least one NUMA node, so returning NUMA node zero. See more at https://github.com/torvalds/linux/blob/v6.0/Documentation/ABI/testing/sysfs-bus-pci#L344-L355\n",
      "2024-01-31 13:34:10.568749: I external/local_xla/xla/stream_executor/cuda/cuda_executor.cc:901] successful NUMA node read from SysFS had negative value (-1), but there must be at least one NUMA node, so returning NUMA node zero. See more at https://github.com/torvalds/linux/blob/v6.0/Documentation/ABI/testing/sysfs-bus-pci#L344-L355\n",
      "2024-01-31 13:34:10.626253: I external/local_xla/xla/stream_executor/cuda/cuda_executor.cc:901] successful NUMA node read from SysFS had negative value (-1), but there must be at least one NUMA node, so returning NUMA node zero. See more at https://github.com/torvalds/linux/blob/v6.0/Documentation/ABI/testing/sysfs-bus-pci#L344-L355\n",
      "2024-01-31 13:34:10.626436: I external/local_xla/xla/stream_executor/cuda/cuda_executor.cc:901] successful NUMA node read from SysFS had negative value (-1), but there must be at least one NUMA node, so returning NUMA node zero. See more at https://github.com/torvalds/linux/blob/v6.0/Documentation/ABI/testing/sysfs-bus-pci#L344-L355\n",
      "2024-01-31 13:34:10.626602: I external/local_xla/xla/stream_executor/cuda/cuda_executor.cc:901] successful NUMA node read from SysFS had negative value (-1), but there must be at least one NUMA node, so returning NUMA node zero. See more at https://github.com/torvalds/linux/blob/v6.0/Documentation/ABI/testing/sysfs-bus-pci#L344-L355\n",
      "2024-01-31 13:34:10.626716: I tensorflow/core/common_runtime/gpu/gpu_device.cc:1929] Created device /job:localhost/replica:0/task:0/device:GPU:0 with 9927 MB memory:  -> device: 0, name: NVIDIA GeForce RTX 3080 Ti, pci bus id: 0000:43:00.0, compute capability: 8.6\n"
     ]
    },
    {
     "name": "stdout",
     "output_type": "stream",
     "text": [
      "Model: \"model\"\n",
      "__________________________________________________________________________________________________\n",
      " Layer (type)                Output Shape                 Param #   Connected to                  \n",
      "==================================================================================================\n",
      " input_1 (InputLayer)        [(None, 512, 512, 1)]        0         []                            \n",
      "                                                                                                  \n",
      " conv2d_2 (Conv2D)           (None, 512, 512, 16)         32        ['input_1[0][0]']             \n",
      "                                                                                                  \n",
      " conv2d (Conv2D)             (None, 512, 512, 8)          16        ['input_1[0][0]']             \n",
      "                                                                                                  \n",
      " conv2d_1 (Conv2D)           (None, 512, 512, 16)         160       ['input_1[0][0]']             \n",
      "                                                                                                  \n",
      " conv2d_3 (Conv2D)           (None, 512, 512, 32)         4640      ['conv2d_2[0][0]']            \n",
      "                                                                                                  \n",
      " concatenate (Concatenate)   (None, 512, 512, 56)         0         ['conv2d[0][0]',              \n",
      "                                                                     'conv2d_1[0][0]',            \n",
      "                                                                     'conv2d_3[0][0]']            \n",
      "                                                                                                  \n",
      " conv2d_4 (Conv2D)           (None, 512, 512, 16)         912       ['concatenate[0][0]']         \n",
      "                                                                                                  \n",
      " max_pooling2d (MaxPooling2  (None, 256, 256, 16)         0         ['conv2d_4[0][0]']            \n",
      " D)                                                                                               \n",
      "                                                                                                  \n",
      " conv2d_7 (Conv2D)           (None, 256, 256, 32)         544       ['max_pooling2d[0][0]']       \n",
      "                                                                                                  \n",
      " conv2d_5 (Conv2D)           (None, 256, 256, 16)         272       ['max_pooling2d[0][0]']       \n",
      "                                                                                                  \n",
      " conv2d_6 (Conv2D)           (None, 256, 256, 32)         4640      ['max_pooling2d[0][0]']       \n",
      "                                                                                                  \n",
      " conv2d_8 (Conv2D)           (None, 256, 256, 64)         18496     ['conv2d_7[0][0]']            \n",
      "                                                                                                  \n",
      " concatenate_1 (Concatenate  (None, 256, 256, 112)        0         ['conv2d_5[0][0]',            \n",
      " )                                                                   'conv2d_6[0][0]',            \n",
      "                                                                     'conv2d_8[0][0]']            \n",
      "                                                                                                  \n",
      " conv2d_9 (Conv2D)           (None, 256, 256, 32)         3616      ['concatenate_1[0][0]']       \n",
      "                                                                                                  \n",
      " max_pooling2d_1 (MaxPoolin  (None, 128, 128, 32)         0         ['conv2d_9[0][0]']            \n",
      " g2D)                                                                                             \n",
      "                                                                                                  \n",
      " conv2d_12 (Conv2D)          (None, 128, 128, 64)         2112      ['max_pooling2d_1[0][0]']     \n",
      "                                                                                                  \n",
      " conv2d_10 (Conv2D)          (None, 128, 128, 32)         1056      ['max_pooling2d_1[0][0]']     \n",
      "                                                                                                  \n",
      " conv2d_11 (Conv2D)          (None, 128, 128, 64)         18496     ['max_pooling2d_1[0][0]']     \n",
      "                                                                                                  \n",
      " conv2d_13 (Conv2D)          (None, 128, 128, 128)        73856     ['conv2d_12[0][0]']           \n",
      "                                                                                                  \n",
      " concatenate_2 (Concatenate  (None, 128, 128, 224)        0         ['conv2d_10[0][0]',           \n",
      " )                                                                   'conv2d_11[0][0]',           \n",
      "                                                                     'conv2d_13[0][0]']           \n",
      "                                                                                                  \n",
      " conv2d_14 (Conv2D)          (None, 128, 128, 64)         14400     ['concatenate_2[0][0]']       \n",
      "                                                                                                  \n",
      " max_pooling2d_2 (MaxPoolin  (None, 64, 64, 64)           0         ['conv2d_14[0][0]']           \n",
      " g2D)                                                                                             \n",
      "                                                                                                  \n",
      " conv2d_17 (Conv2D)          (None, 64, 64, 128)          8320      ['max_pooling2d_2[0][0]']     \n",
      "                                                                                                  \n",
      " conv2d_15 (Conv2D)          (None, 64, 64, 64)           4160      ['max_pooling2d_2[0][0]']     \n",
      "                                                                                                  \n",
      " conv2d_16 (Conv2D)          (None, 64, 64, 128)          73856     ['max_pooling2d_2[0][0]']     \n",
      "                                                                                                  \n",
      " conv2d_18 (Conv2D)          (None, 64, 64, 256)          295168    ['conv2d_17[0][0]']           \n",
      "                                                                                                  \n",
      " concatenate_3 (Concatenate  (None, 64, 64, 448)          0         ['conv2d_15[0][0]',           \n",
      " )                                                                   'conv2d_16[0][0]',           \n",
      "                                                                     'conv2d_18[0][0]']           \n",
      "                                                                                                  \n",
      " conv2d_19 (Conv2D)          (None, 64, 64, 128)          57472     ['concatenate_3[0][0]']       \n",
      "                                                                                                  \n",
      " max_pooling2d_3 (MaxPoolin  (None, 32, 32, 128)          0         ['conv2d_19[0][0]']           \n",
      " g2D)                                                                                             \n",
      "                                                                                                  \n",
      " average_pooling2d (Average  (None, 32, 32, 128)          0         ['max_pooling2d_3[0][0]']     \n",
      " Pooling2D)                                                                                       \n",
      "                                                                                                  \n",
      " average_pooling2d_1 (Avera  (None, 16, 16, 128)          0         ['max_pooling2d_3[0][0]']     \n",
      " gePooling2D)                                                                                     \n",
      "                                                                                                  \n",
      " average_pooling2d_2 (Avera  (None, 8, 8, 128)            0         ['max_pooling2d_3[0][0]']     \n",
      " gePooling2D)                                                                                     \n",
      "                                                                                                  \n",
      " average_pooling2d_3 (Avera  (None, 4, 4, 128)            0         ['max_pooling2d_3[0][0]']     \n",
      " gePooling2D)                                                                                     \n",
      "                                                                                                  \n",
      " conv2d_20 (Conv2D)          (None, 32, 32, 32)           4128      ['average_pooling2d[0][0]']   \n",
      "                                                                                                  \n",
      " conv2d_21 (Conv2D)          (None, 16, 16, 32)           4128      ['average_pooling2d_1[0][0]'] \n",
      "                                                                                                  \n",
      " conv2d_22 (Conv2D)          (None, 8, 8, 32)             4128      ['average_pooling2d_2[0][0]'] \n",
      "                                                                                                  \n",
      " conv2d_23 (Conv2D)          (None, 4, 4, 32)             4128      ['average_pooling2d_3[0][0]'] \n",
      "                                                                                                  \n",
      " conv2d_transpose (Conv2DTr  (None, 32, 32, 16)           528       ['conv2d_20[0][0]']           \n",
      " anspose)                                                                                         \n",
      "                                                                                                  \n",
      " conv2d_transpose_1 (Conv2D  (None, 32, 32, 16)           2064      ['conv2d_21[0][0]']           \n",
      " Transpose)                                                                                       \n",
      "                                                                                                  \n",
      " conv2d_transpose_2 (Conv2D  (None, 32, 32, 16)           8208      ['conv2d_22[0][0]']           \n",
      " Transpose)                                                                                       \n",
      "                                                                                                  \n",
      " conv2d_transpose_3 (Conv2D  (None, 32, 32, 16)           32784     ['conv2d_23[0][0]']           \n",
      " Transpose)                                                                                       \n",
      "                                                                                                  \n",
      " concatenate_4 (Concatenate  (None, 32, 32, 192)          0         ['conv2d_transpose[0][0]',    \n",
      " )                                                                   'conv2d_transpose_1[0][0]',  \n",
      "                                                                     'conv2d_transpose_2[0][0]',  \n",
      "                                                                     'conv2d_transpose_3[0][0]',  \n",
      "                                                                     'max_pooling2d_3[0][0]']     \n",
      "                                                                                                  \n",
      " conv2d_transpose_4 (Conv2D  (None, 64, 64, 256)          196864    ['concatenate_4[0][0]']       \n",
      " Transpose)                                                                                       \n",
      "                                                                                                  \n",
      " average_pooling2d_4 (Avera  (None, 64, 64, 256)          0         ['conv2d_transpose_4[0][0]']  \n",
      " gePooling2D)                                                                                     \n",
      "                                                                                                  \n",
      " average_pooling2d_5 (Avera  (None, 32, 32, 256)          0         ['conv2d_transpose_4[0][0]']  \n",
      " gePooling2D)                                                                                     \n",
      "                                                                                                  \n",
      " average_pooling2d_6 (Avera  (None, 16, 16, 256)          0         ['conv2d_transpose_4[0][0]']  \n",
      " gePooling2D)                                                                                     \n",
      "                                                                                                  \n",
      " average_pooling2d_7 (Avera  (None, 8, 8, 256)            0         ['conv2d_transpose_4[0][0]']  \n",
      " gePooling2D)                                                                                     \n",
      "                                                                                                  \n",
      " conv2d_24 (Conv2D)          (None, 64, 64, 32)           8224      ['average_pooling2d_4[0][0]'] \n",
      "                                                                                                  \n",
      " conv2d_25 (Conv2D)          (None, 32, 32, 32)           8224      ['average_pooling2d_5[0][0]'] \n",
      "                                                                                                  \n",
      " conv2d_26 (Conv2D)          (None, 16, 16, 32)           8224      ['average_pooling2d_6[0][0]'] \n",
      "                                                                                                  \n",
      " conv2d_27 (Conv2D)          (None, 8, 8, 32)             8224      ['average_pooling2d_7[0][0]'] \n",
      "                                                                                                  \n",
      " conv2d_transpose_5 (Conv2D  (None, 64, 64, 16)           528       ['conv2d_24[0][0]']           \n",
      " Transpose)                                                                                       \n",
      "                                                                                                  \n",
      " conv2d_transpose_6 (Conv2D  (None, 64, 64, 16)           2064      ['conv2d_25[0][0]']           \n",
      " Transpose)                                                                                       \n",
      "                                                                                                  \n",
      " conv2d_transpose_7 (Conv2D  (None, 64, 64, 16)           8208      ['conv2d_26[0][0]']           \n",
      " Transpose)                                                                                       \n",
      "                                                                                                  \n",
      " conv2d_transpose_8 (Conv2D  (None, 64, 64, 16)           32784     ['conv2d_27[0][0]']           \n",
      " Transpose)                                                                                       \n",
      "                                                                                                  \n",
      " concatenate_5 (Concatenate  (None, 64, 64, 320)          0         ['conv2d_transpose_5[0][0]',  \n",
      " )                                                                   'conv2d_transpose_6[0][0]',  \n",
      "                                                                     'conv2d_transpose_7[0][0]',  \n",
      "                                                                     'conv2d_transpose_8[0][0]',  \n",
      "                                                                     'conv2d_transpose_4[0][0]']  \n",
      "                                                                                                  \n",
      " concatenate_6 (Concatenate  (None, 64, 64, 384)          0         ['max_pooling2d_2[0][0]',     \n",
      " )                                                                   'concatenate_5[0][0]']       \n",
      "                                                                                                  \n",
      " conv2d_transpose_9 (Conv2D  (None, 128, 128, 128)        196736    ['concatenate_6[0][0]']       \n",
      " Transpose)                                                                                       \n",
      "                                                                                                  \n",
      " average_pooling2d_8 (Avera  (None, 128, 128, 128)        0         ['conv2d_transpose_9[0][0]']  \n",
      " gePooling2D)                                                                                     \n",
      "                                                                                                  \n",
      " average_pooling2d_9 (Avera  (None, 64, 64, 128)          0         ['conv2d_transpose_9[0][0]']  \n",
      " gePooling2D)                                                                                     \n",
      "                                                                                                  \n",
      " average_pooling2d_10 (Aver  (None, 32, 32, 128)          0         ['conv2d_transpose_9[0][0]']  \n",
      " agePooling2D)                                                                                    \n",
      "                                                                                                  \n",
      " average_pooling2d_11 (Aver  (None, 16, 16, 128)          0         ['conv2d_transpose_9[0][0]']  \n",
      " agePooling2D)                                                                                    \n",
      "                                                                                                  \n",
      " conv2d_28 (Conv2D)          (None, 128, 128, 32)         4128      ['average_pooling2d_8[0][0]'] \n",
      "                                                                                                  \n",
      " conv2d_29 (Conv2D)          (None, 64, 64, 32)           4128      ['average_pooling2d_9[0][0]'] \n",
      "                                                                                                  \n",
      " conv2d_30 (Conv2D)          (None, 32, 32, 32)           4128      ['average_pooling2d_10[0][0]']\n",
      "                                                                                                  \n",
      " conv2d_31 (Conv2D)          (None, 16, 16, 32)           4128      ['average_pooling2d_11[0][0]']\n",
      "                                                                                                  \n",
      " conv2d_transpose_10 (Conv2  (None, 128, 128, 16)         528       ['conv2d_28[0][0]']           \n",
      " DTranspose)                                                                                      \n",
      "                                                                                                  \n",
      " conv2d_transpose_11 (Conv2  (None, 128, 128, 16)         2064      ['conv2d_29[0][0]']           \n",
      " DTranspose)                                                                                      \n",
      "                                                                                                  \n",
      " conv2d_transpose_12 (Conv2  (None, 128, 128, 16)         8208      ['conv2d_30[0][0]']           \n",
      " DTranspose)                                                                                      \n",
      "                                                                                                  \n",
      " conv2d_transpose_13 (Conv2  (None, 128, 128, 16)         32784     ['conv2d_31[0][0]']           \n",
      " DTranspose)                                                                                      \n",
      "                                                                                                  \n",
      " concatenate_7 (Concatenate  (None, 128, 128, 192)        0         ['conv2d_transpose_10[0][0]', \n",
      " )                                                                   'conv2d_transpose_11[0][0]', \n",
      "                                                                     'conv2d_transpose_12[0][0]', \n",
      "                                                                     'conv2d_transpose_13[0][0]', \n",
      "                                                                     'conv2d_transpose_9[0][0]']  \n",
      "                                                                                                  \n",
      " concatenate_8 (Concatenate  (None, 128, 128, 224)        0         ['max_pooling2d_1[0][0]',     \n",
      " )                                                                   'concatenate_7[0][0]']       \n",
      "                                                                                                  \n",
      " conv2d_transpose_14 (Conv2  (None, 256, 256, 64)         57408     ['concatenate_8[0][0]']       \n",
      " DTranspose)                                                                                      \n",
      "                                                                                                  \n",
      " average_pooling2d_12 (Aver  (None, 256, 256, 64)         0         ['conv2d_transpose_14[0][0]'] \n",
      " agePooling2D)                                                                                    \n",
      "                                                                                                  \n",
      " average_pooling2d_13 (Aver  (None, 128, 128, 64)         0         ['conv2d_transpose_14[0][0]'] \n",
      " agePooling2D)                                                                                    \n",
      "                                                                                                  \n",
      " average_pooling2d_14 (Aver  (None, 64, 64, 64)           0         ['conv2d_transpose_14[0][0]'] \n",
      " agePooling2D)                                                                                    \n",
      "                                                                                                  \n",
      " average_pooling2d_15 (Aver  (None, 32, 32, 64)           0         ['conv2d_transpose_14[0][0]'] \n",
      " agePooling2D)                                                                                    \n",
      "                                                                                                  \n",
      " conv2d_32 (Conv2D)          (None, 256, 256, 32)         2080      ['average_pooling2d_12[0][0]']\n",
      "                                                                                                  \n",
      " conv2d_33 (Conv2D)          (None, 128, 128, 32)         2080      ['average_pooling2d_13[0][0]']\n",
      "                                                                                                  \n",
      " conv2d_34 (Conv2D)          (None, 64, 64, 32)           2080      ['average_pooling2d_14[0][0]']\n",
      "                                                                                                  \n",
      " conv2d_35 (Conv2D)          (None, 32, 32, 32)           2080      ['average_pooling2d_15[0][0]']\n",
      "                                                                                                  \n",
      " conv2d_transpose_15 (Conv2  (None, 256, 256, 16)         528       ['conv2d_32[0][0]']           \n",
      " DTranspose)                                                                                      \n",
      "                                                                                                  \n",
      " conv2d_transpose_16 (Conv2  (None, 256, 256, 16)         2064      ['conv2d_33[0][0]']           \n",
      " DTranspose)                                                                                      \n",
      "                                                                                                  \n",
      " conv2d_transpose_17 (Conv2  (None, 256, 256, 16)         8208      ['conv2d_34[0][0]']           \n",
      " DTranspose)                                                                                      \n",
      "                                                                                                  \n",
      " conv2d_transpose_18 (Conv2  (None, 256, 256, 16)         32784     ['conv2d_35[0][0]']           \n",
      " DTranspose)                                                                                      \n",
      "                                                                                                  \n",
      " concatenate_9 (Concatenate  (None, 256, 256, 128)        0         ['conv2d_transpose_15[0][0]', \n",
      " )                                                                   'conv2d_transpose_16[0][0]', \n",
      "                                                                     'conv2d_transpose_17[0][0]', \n",
      "                                                                     'conv2d_transpose_18[0][0]', \n",
      "                                                                     'conv2d_transpose_14[0][0]'] \n",
      "                                                                                                  \n",
      " concatenate_10 (Concatenat  (None, 256, 256, 144)        0         ['max_pooling2d[0][0]',       \n",
      " e)                                                                  'concatenate_9[0][0]']       \n",
      "                                                                                                  \n",
      " conv2d_transpose_19 (Conv2  (None, 512, 512, 32)         18464     ['concatenate_10[0][0]']      \n",
      " DTranspose)                                                                                      \n",
      "                                                                                                  \n",
      " conv2d_36 (Conv2D)          (None, 512, 512, 1)          33        ['conv2d_transpose_19[0][0]'] \n",
      "                                                                                                  \n",
      "==================================================================================================\n",
      "Total params: 1300305 (4.96 MB)\n",
      "Trainable params: 1300305 (4.96 MB)\n",
      "Non-trainable params: 0 (0.00 Byte)\n",
      "__________________________________________________________________________________________________\n"
     ]
    }
   ],
   "source": [
    "# Define custom objects for loading the model\n",
    "custom_objects = {'DiceLoss': loss.DiceLoss(), \n",
    "                  'sensitivity': metrics.sensitivity,\n",
    "                  'specificity': metrics.specificity,\n",
    "                  'accuracy' : metrics.accuracy}\n",
    "\n",
    "\n",
    "# Create augmentation\n",
    "train_preproc = preprocess.build_augmentation_for_adaptive()\n",
    "test_preproc = preprocess.build_augmentation_for_adaptive(is_train=False)\n",
    "\n",
    "# Create train, test generator\n",
    "train_generator = data_generator.AdaptiveDataGenerator(\n",
    "    TRAIN_SOURCE, \n",
    "    number_of_images = 2,\n",
    "    img_size=INPUT_SHAPE,\n",
    "    output_size=INPUT_SHAPE,\n",
    "    is_train=True,\n",
    "    augmentation= train_preproc\n",
    ")\n",
    "\n",
    "test_generator = data_generator.AdaptiveDataGenerator(\n",
    "    TRAIN_SOURCE, \n",
    "    number_of_images = 2,\n",
    "    img_size=INPUT_SHAPE,\n",
    "    output_size=INPUT_SHAPE,\n",
    "    is_train=True,\n",
    "    augmentation= train_preproc\n",
    ")\n",
    "\n",
    "# Create model\n",
    "model = pyramid.build_model(INPUT_SHAPE)\n",
    "model.summary()"
   ]
  },
  {
   "cell_type": "code",
   "execution_count": 3,
   "metadata": {},
   "outputs": [
    {
     "name": "stdout",
     "output_type": "stream",
     "text": [
      "Epoch 1/30\n"
     ]
    },
    {
     "name": "stderr",
     "output_type": "stream",
     "text": [
      "2024-01-31 13:34:16.084769: I external/local_xla/xla/stream_executor/cuda/cuda_dnn.cc:454] Loaded cuDNN version 8904\n",
      "2024-01-31 13:34:18.755902: I external/local_xla/xla/service/service.cc:168] XLA service 0x7f301f370f50 initialized for platform CUDA (this does not guarantee that XLA will be used). Devices:\n",
      "2024-01-31 13:34:18.755923: I external/local_xla/xla/service/service.cc:176]   StreamExecutor device (0): NVIDIA GeForce RTX 3080 Ti, Compute Capability 8.6\n",
      "2024-01-31 13:34:18.759247: I tensorflow/compiler/mlir/tensorflow/utils/dump_mlir_util.cc:269] disabling MLIR crash reproducer, set env var `MLIR_CRASH_REPRODUCER_DIRECTORY` to enable.\n",
      "WARNING: All log messages before absl::InitializeLog() is called are written to STDERR\n",
      "I0000 00:00:1706708058.831360   16065 device_compiler.h:186] Compiled cluster using XLA!  This line is logged at most once for the lifetime of the process.\n"
     ]
    },
    {
     "name": "stdout",
     "output_type": "stream",
     "text": [
      "440/440 [==============================] - ETA: 0s - loss: 0.7025 - sensitivity: 0.0778 - specificity: 0.9782 - accuracy: 0.9165INFO:tensorflow:Assets written to: /visuworks/Blindless_AIFFELTON/Ablation Study/Pyramid/model_parameters/pyramid_30ep_512_aG_wo_decay.tf/1--0.7025-0.0778-0.9782-0.3116-0.9834.pb/assets\n"
     ]
    },
    {
     "name": "stderr",
     "output_type": "stream",
     "text": [
      "INFO:tensorflow:Assets written to: /visuworks/Blindless_AIFFELTON/Ablation Study/Pyramid/model_parameters/pyramid_30ep_512_aG_wo_decay.tf/1--0.7025-0.0778-0.9782-0.3116-0.9834.pb/assets\n"
     ]
    },
    {
     "name": "stdout",
     "output_type": "stream",
     "text": [
      "Model saved to /visuworks/Blindless_AIFFELTON/Ablation Study/Pyramid/model_parameters/pyramid_30ep_512_aG_wo_decay.tf/1--0.7025-0.0778-0.9782-0.3116-0.9834.pb\n",
      "440/440 [==============================] - 192s 398ms/step - loss: 0.7025 - sensitivity: 0.0778 - specificity: 0.9782 - accuracy: 0.9165 - val_loss: 0.5209 - val_sensitivity: 0.3116 - val_specificity: 0.9834 - val_accuracy: 0.9413\n",
      "Epoch 2/30\n",
      "440/440 [==============================] - ETA: 0s - loss: 0.4492 - sensitivity: 0.5433 - specificity: 0.9518 - accuracy: 0.9261INFO:tensorflow:Assets written to: /visuworks/Blindless_AIFFELTON/Ablation Study/Pyramid/model_parameters/pyramid_30ep_512_aG_wo_decay.tf/2--0.4492-0.5433-0.9518-0.4863-0.9732.pb/assets\n"
     ]
    },
    {
     "name": "stderr",
     "output_type": "stream",
     "text": [
      "INFO:tensorflow:Assets written to: /visuworks/Blindless_AIFFELTON/Ablation Study/Pyramid/model_parameters/pyramid_30ep_512_aG_wo_decay.tf/2--0.4492-0.5433-0.9518-0.4863-0.9732.pb/assets\n"
     ]
    },
    {
     "name": "stdout",
     "output_type": "stream",
     "text": [
      "Model saved to /visuworks/Blindless_AIFFELTON/Ablation Study/Pyramid/model_parameters/pyramid_30ep_512_aG_wo_decay.tf/2--0.4492-0.5433-0.9518-0.4863-0.9732.pb\n",
      "440/440 [==============================] - 190s 431ms/step - loss: 0.4492 - sensitivity: 0.5433 - specificity: 0.9518 - accuracy: 0.9261 - val_loss: 0.4287 - val_sensitivity: 0.4863 - val_specificity: 0.9732 - val_accuracy: 0.9433\n",
      "Epoch 3/30\n",
      "440/440 [==============================] - ETA: 0s - loss: 0.4197 - sensitivity: 0.5574 - specificity: 0.9596 - accuracy: 0.9348INFO:tensorflow:Assets written to: /visuworks/Blindless_AIFFELTON/Ablation Study/Pyramid/model_parameters/pyramid_30ep_512_aG_wo_decay.tf/3--0.4197-0.5574-0.9596-0.6140-0.9475.pb/assets\n"
     ]
    },
    {
     "name": "stderr",
     "output_type": "stream",
     "text": [
      "INFO:tensorflow:Assets written to: /visuworks/Blindless_AIFFELTON/Ablation Study/Pyramid/model_parameters/pyramid_30ep_512_aG_wo_decay.tf/3--0.4197-0.5574-0.9596-0.6140-0.9475.pb/assets\n"
     ]
    },
    {
     "name": "stdout",
     "output_type": "stream",
     "text": [
      "Model saved to /visuworks/Blindless_AIFFELTON/Ablation Study/Pyramid/model_parameters/pyramid_30ep_512_aG_wo_decay.tf/3--0.4197-0.5574-0.9596-0.6140-0.9475.pb\n",
      "440/440 [==============================] - 192s 437ms/step - loss: 0.4197 - sensitivity: 0.5574 - specificity: 0.9596 - accuracy: 0.9348 - val_loss: 0.4255 - val_sensitivity: 0.6140 - val_specificity: 0.9475 - val_accuracy: 0.9289\n",
      "Epoch 4/30\n",
      "440/440 [==============================] - ETA: 0s - loss: 0.3865 - sensitivity: 0.5844 - specificity: 0.9622 - accuracy: 0.9379INFO:tensorflow:Assets written to: /visuworks/Blindless_AIFFELTON/Ablation Study/Pyramid/model_parameters/pyramid_30ep_512_aG_wo_decay.tf/4--0.3865-0.5844-0.9622-0.6653-0.9502.pb/assets\n"
     ]
    },
    {
     "name": "stderr",
     "output_type": "stream",
     "text": [
      "INFO:tensorflow:Assets written to: /visuworks/Blindless_AIFFELTON/Ablation Study/Pyramid/model_parameters/pyramid_30ep_512_aG_wo_decay.tf/4--0.3865-0.5844-0.9622-0.6653-0.9502.pb/assets\n"
     ]
    },
    {
     "name": "stdout",
     "output_type": "stream",
     "text": [
      "Model saved to /visuworks/Blindless_AIFFELTON/Ablation Study/Pyramid/model_parameters/pyramid_30ep_512_aG_wo_decay.tf/4--0.3865-0.5844-0.9622-0.6653-0.9502.pb\n",
      "440/440 [==============================] - 171s 388ms/step - loss: 0.3865 - sensitivity: 0.5844 - specificity: 0.9622 - accuracy: 0.9379 - val_loss: 0.3860 - val_sensitivity: 0.6653 - val_specificity: 0.9502 - val_accuracy: 0.9334\n",
      "Epoch 5/30\n",
      "440/440 [==============================] - ETA: 0s - loss: 0.3939 - sensitivity: 0.5761 - specificity: 0.9647 - accuracy: 0.9417INFO:tensorflow:Assets written to: /visuworks/Blindless_AIFFELTON/Ablation Study/Pyramid/model_parameters/pyramid_30ep_512_aG_wo_decay.tf/5--0.3939-0.5761-0.9647-0.6942-0.9397.pb/assets\n"
     ]
    },
    {
     "name": "stderr",
     "output_type": "stream",
     "text": [
      "INFO:tensorflow:Assets written to: /visuworks/Blindless_AIFFELTON/Ablation Study/Pyramid/model_parameters/pyramid_30ep_512_aG_wo_decay.tf/5--0.3939-0.5761-0.9647-0.6942-0.9397.pb/assets\n"
     ]
    },
    {
     "name": "stdout",
     "output_type": "stream",
     "text": [
      "Model saved to /visuworks/Blindless_AIFFELTON/Ablation Study/Pyramid/model_parameters/pyramid_30ep_512_aG_wo_decay.tf/5--0.3939-0.5761-0.9647-0.6942-0.9397.pb\n",
      "440/440 [==============================] - 193s 440ms/step - loss: 0.3939 - sensitivity: 0.5761 - specificity: 0.9647 - accuracy: 0.9417 - val_loss: 0.4034 - val_sensitivity: 0.6942 - val_specificity: 0.9397 - val_accuracy: 0.9265\n",
      "Epoch 6/30\n",
      "440/440 [==============================] - ETA: 0s - loss: 0.3741 - sensitivity: 0.5959 - specificity: 0.9659 - accuracy: 0.9442INFO:tensorflow:Assets written to: /visuworks/Blindless_AIFFELTON/Ablation Study/Pyramid/model_parameters/pyramid_30ep_512_aG_wo_decay.tf/6--0.3741-0.5959-0.9659-0.6392-0.9638.pb/assets\n"
     ]
    },
    {
     "name": "stderr",
     "output_type": "stream",
     "text": [
      "INFO:tensorflow:Assets written to: /visuworks/Blindless_AIFFELTON/Ablation Study/Pyramid/model_parameters/pyramid_30ep_512_aG_wo_decay.tf/6--0.3741-0.5959-0.9659-0.6392-0.9638.pb/assets\n"
     ]
    },
    {
     "name": "stdout",
     "output_type": "stream",
     "text": [
      "Model saved to /visuworks/Blindless_AIFFELTON/Ablation Study/Pyramid/model_parameters/pyramid_30ep_512_aG_wo_decay.tf/6--0.3741-0.5959-0.9659-0.6392-0.9638.pb\n",
      "440/440 [==============================] - 184s 419ms/step - loss: 0.3741 - sensitivity: 0.5959 - specificity: 0.9659 - accuracy: 0.9442 - val_loss: 0.3556 - val_sensitivity: 0.6392 - val_specificity: 0.9638 - val_accuracy: 0.9443\n",
      "Epoch 7/30\n",
      "440/440 [==============================] - ETA: 0s - loss: 0.3673 - sensitivity: 0.6058 - specificity: 0.9673 - accuracy: 0.9452INFO:tensorflow:Assets written to: /visuworks/Blindless_AIFFELTON/Ablation Study/Pyramid/model_parameters/pyramid_30ep_512_aG_wo_decay.tf/7--0.3673-0.6058-0.9673-0.5637-0.9750.pb/assets\n"
     ]
    },
    {
     "name": "stderr",
     "output_type": "stream",
     "text": [
      "INFO:tensorflow:Assets written to: /visuworks/Blindless_AIFFELTON/Ablation Study/Pyramid/model_parameters/pyramid_30ep_512_aG_wo_decay.tf/7--0.3673-0.6058-0.9673-0.5637-0.9750.pb/assets\n"
     ]
    },
    {
     "name": "stdout",
     "output_type": "stream",
     "text": [
      "Model saved to /visuworks/Blindless_AIFFELTON/Ablation Study/Pyramid/model_parameters/pyramid_30ep_512_aG_wo_decay.tf/7--0.3673-0.6058-0.9673-0.5637-0.9750.pb\n",
      "440/440 [==============================] - 190s 433ms/step - loss: 0.3673 - sensitivity: 0.6058 - specificity: 0.9673 - accuracy: 0.9452 - val_loss: 0.3588 - val_sensitivity: 0.5637 - val_specificity: 0.9750 - val_accuracy: 0.9496\n",
      "Epoch 8/30\n",
      "440/440 [==============================] - ETA: 0s - loss: 0.3580 - sensitivity: 0.6068 - specificity: 0.9678 - accuracy: 0.9455INFO:tensorflow:Assets written to: /visuworks/Blindless_AIFFELTON/Ablation Study/Pyramid/model_parameters/pyramid_30ep_512_aG_wo_decay.tf/8--0.3580-0.6068-0.9678-0.6582-0.9618.pb/assets\n"
     ]
    },
    {
     "name": "stderr",
     "output_type": "stream",
     "text": [
      "INFO:tensorflow:Assets written to: /visuworks/Blindless_AIFFELTON/Ablation Study/Pyramid/model_parameters/pyramid_30ep_512_aG_wo_decay.tf/8--0.3580-0.6068-0.9678-0.6582-0.9618.pb/assets\n"
     ]
    },
    {
     "name": "stdout",
     "output_type": "stream",
     "text": [
      "Model saved to /visuworks/Blindless_AIFFELTON/Ablation Study/Pyramid/model_parameters/pyramid_30ep_512_aG_wo_decay.tf/8--0.3580-0.6068-0.9678-0.6582-0.9618.pb\n",
      "440/440 [==============================] - 188s 428ms/step - loss: 0.3580 - sensitivity: 0.6068 - specificity: 0.9678 - accuracy: 0.9455 - val_loss: 0.3489 - val_sensitivity: 0.6582 - val_specificity: 0.9618 - val_accuracy: 0.9430\n",
      "Epoch 9/30\n",
      "440/440 [==============================] - ETA: 0s - loss: 0.3589 - sensitivity: 0.6090 - specificity: 0.9690 - accuracy: 0.9471INFO:tensorflow:Assets written to: /visuworks/Blindless_AIFFELTON/Ablation Study/Pyramid/model_parameters/pyramid_30ep_512_aG_wo_decay.tf/9--0.3589-0.6090-0.9690-0.6853-0.9607.pb/assets\n"
     ]
    },
    {
     "name": "stderr",
     "output_type": "stream",
     "text": [
      "INFO:tensorflow:Assets written to: /visuworks/Blindless_AIFFELTON/Ablation Study/Pyramid/model_parameters/pyramid_30ep_512_aG_wo_decay.tf/9--0.3589-0.6090-0.9690-0.6853-0.9607.pb/assets\n"
     ]
    },
    {
     "name": "stdout",
     "output_type": "stream",
     "text": [
      "Model saved to /visuworks/Blindless_AIFFELTON/Ablation Study/Pyramid/model_parameters/pyramid_30ep_512_aG_wo_decay.tf/9--0.3589-0.6090-0.9690-0.6853-0.9607.pb\n",
      "440/440 [==============================] - 187s 426ms/step - loss: 0.3589 - sensitivity: 0.6090 - specificity: 0.9690 - accuracy: 0.9471 - val_loss: 0.3457 - val_sensitivity: 0.6853 - val_specificity: 0.9607 - val_accuracy: 0.9445\n",
      "Epoch 10/30\n",
      "440/440 [==============================] - ETA: 0s - loss: 0.3500 - sensitivity: 0.6196 - specificity: 0.9697 - accuracy: 0.9490INFO:tensorflow:Assets written to: /visuworks/Blindless_AIFFELTON/Ablation Study/Pyramid/model_parameters/pyramid_30ep_512_aG_wo_decay.tf/10--0.3500-0.6196-0.9697-0.6561-0.9652.pb/assets\n"
     ]
    },
    {
     "name": "stderr",
     "output_type": "stream",
     "text": [
      "INFO:tensorflow:Assets written to: /visuworks/Blindless_AIFFELTON/Ablation Study/Pyramid/model_parameters/pyramid_30ep_512_aG_wo_decay.tf/10--0.3500-0.6196-0.9697-0.6561-0.9652.pb/assets\n"
     ]
    },
    {
     "name": "stdout",
     "output_type": "stream",
     "text": [
      "Model saved to /visuworks/Blindless_AIFFELTON/Ablation Study/Pyramid/model_parameters/pyramid_30ep_512_aG_wo_decay.tf/10--0.3500-0.6196-0.9697-0.6561-0.9652.pb\n",
      "440/440 [==============================] - 192s 437ms/step - loss: 0.3500 - sensitivity: 0.6196 - specificity: 0.9697 - accuracy: 0.9490 - val_loss: 0.3424 - val_sensitivity: 0.6561 - val_specificity: 0.9652 - val_accuracy: 0.9462\n",
      "Epoch 11/30\n",
      "440/440 [==============================] - ETA: 0s - loss: 0.3319 - sensitivity: 0.6332 - specificity: 0.9701 - accuracy: 0.9493INFO:tensorflow:Assets written to: /visuworks/Blindless_AIFFELTON/Ablation Study/Pyramid/model_parameters/pyramid_30ep_512_aG_wo_decay.tf/11--0.3319-0.6332-0.9701-0.5909-0.9785.pb/assets\n"
     ]
    },
    {
     "name": "stderr",
     "output_type": "stream",
     "text": [
      "INFO:tensorflow:Assets written to: /visuworks/Blindless_AIFFELTON/Ablation Study/Pyramid/model_parameters/pyramid_30ep_512_aG_wo_decay.tf/11--0.3319-0.6332-0.9701-0.5909-0.9785.pb/assets\n"
     ]
    },
    {
     "name": "stdout",
     "output_type": "stream",
     "text": [
      "Model saved to /visuworks/Blindless_AIFFELTON/Ablation Study/Pyramid/model_parameters/pyramid_30ep_512_aG_wo_decay.tf/11--0.3319-0.6332-0.9701-0.5909-0.9785.pb\n",
      "440/440 [==============================] - 191s 435ms/step - loss: 0.3319 - sensitivity: 0.6332 - specificity: 0.9701 - accuracy: 0.9493 - val_loss: 0.3312 - val_sensitivity: 0.5909 - val_specificity: 0.9785 - val_accuracy: 0.9545\n",
      "Epoch 12/30\n",
      "440/440 [==============================] - ETA: 0s - loss: 0.3289 - sensitivity: 0.6318 - specificity: 0.9718 - accuracy: 0.9508INFO:tensorflow:Assets written to: /visuworks/Blindless_AIFFELTON/Ablation Study/Pyramid/model_parameters/pyramid_30ep_512_aG_wo_decay.tf/12--0.3289-0.6318-0.9718-0.7567-0.9468.pb/assets\n"
     ]
    },
    {
     "name": "stderr",
     "output_type": "stream",
     "text": [
      "INFO:tensorflow:Assets written to: /visuworks/Blindless_AIFFELTON/Ablation Study/Pyramid/model_parameters/pyramid_30ep_512_aG_wo_decay.tf/12--0.3289-0.6318-0.9718-0.7567-0.9468.pb/assets\n"
     ]
    },
    {
     "name": "stdout",
     "output_type": "stream",
     "text": [
      "Model saved to /visuworks/Blindless_AIFFELTON/Ablation Study/Pyramid/model_parameters/pyramid_30ep_512_aG_wo_decay.tf/12--0.3289-0.6318-0.9718-0.7567-0.9468.pb\n",
      "440/440 [==============================] - 186s 423ms/step - loss: 0.3289 - sensitivity: 0.6318 - specificity: 0.9718 - accuracy: 0.9508 - val_loss: 0.3486 - val_sensitivity: 0.7567 - val_specificity: 0.9468 - val_accuracy: 0.9358\n",
      "Epoch 13/30\n",
      "440/440 [==============================] - ETA: 0s - loss: 0.3323 - sensitivity: 0.6307 - specificity: 0.9727 - accuracy: 0.9521INFO:tensorflow:Assets written to: /visuworks/Blindless_AIFFELTON/Ablation Study/Pyramid/model_parameters/pyramid_30ep_512_aG_wo_decay.tf/13--0.3323-0.6307-0.9727-0.6257-0.9747.pb/assets\n"
     ]
    },
    {
     "name": "stderr",
     "output_type": "stream",
     "text": [
      "INFO:tensorflow:Assets written to: /visuworks/Blindless_AIFFELTON/Ablation Study/Pyramid/model_parameters/pyramid_30ep_512_aG_wo_decay.tf/13--0.3323-0.6307-0.9727-0.6257-0.9747.pb/assets\n"
     ]
    },
    {
     "name": "stdout",
     "output_type": "stream",
     "text": [
      "Model saved to /visuworks/Blindless_AIFFELTON/Ablation Study/Pyramid/model_parameters/pyramid_30ep_512_aG_wo_decay.tf/13--0.3323-0.6307-0.9727-0.6257-0.9747.pb\n",
      "440/440 [==============================] - 188s 428ms/step - loss: 0.3323 - sensitivity: 0.6307 - specificity: 0.9727 - accuracy: 0.9521 - val_loss: 0.3232 - val_sensitivity: 0.6257 - val_specificity: 0.9747 - val_accuracy: 0.9534\n",
      "Epoch 14/30\n",
      "440/440 [==============================] - ETA: 0s - loss: 0.3226 - sensitivity: 0.6418 - specificity: 0.9735 - accuracy: 0.9536INFO:tensorflow:Assets written to: /visuworks/Blindless_AIFFELTON/Ablation Study/Pyramid/model_parameters/pyramid_30ep_512_aG_wo_decay.tf/14--0.3226-0.6418-0.9735-0.6119-0.9775.pb/assets\n"
     ]
    },
    {
     "name": "stderr",
     "output_type": "stream",
     "text": [
      "INFO:tensorflow:Assets written to: /visuworks/Blindless_AIFFELTON/Ablation Study/Pyramid/model_parameters/pyramid_30ep_512_aG_wo_decay.tf/14--0.3226-0.6418-0.9735-0.6119-0.9775.pb/assets\n"
     ]
    },
    {
     "name": "stdout",
     "output_type": "stream",
     "text": [
      "Model saved to /visuworks/Blindless_AIFFELTON/Ablation Study/Pyramid/model_parameters/pyramid_30ep_512_aG_wo_decay.tf/14--0.3226-0.6418-0.9735-0.6119-0.9775.pb\n",
      "440/440 [==============================] - 183s 416ms/step - loss: 0.3226 - sensitivity: 0.6418 - specificity: 0.9735 - accuracy: 0.9536 - val_loss: 0.3229 - val_sensitivity: 0.6119 - val_specificity: 0.9775 - val_accuracy: 0.9555\n",
      "Epoch 15/30\n",
      "440/440 [==============================] - ETA: 0s - loss: 0.3197 - sensitivity: 0.6440 - specificity: 0.9740 - accuracy: 0.9542INFO:tensorflow:Assets written to: /visuworks/Blindless_AIFFELTON/Ablation Study/Pyramid/model_parameters/pyramid_30ep_512_aG_wo_decay.tf/15--0.3197-0.6440-0.9740-0.6729-0.9668.pb/assets\n"
     ]
    },
    {
     "name": "stderr",
     "output_type": "stream",
     "text": [
      "INFO:tensorflow:Assets written to: /visuworks/Blindless_AIFFELTON/Ablation Study/Pyramid/model_parameters/pyramid_30ep_512_aG_wo_decay.tf/15--0.3197-0.6440-0.9740-0.6729-0.9668.pb/assets\n"
     ]
    },
    {
     "name": "stdout",
     "output_type": "stream",
     "text": [
      "Model saved to /visuworks/Blindless_AIFFELTON/Ablation Study/Pyramid/model_parameters/pyramid_30ep_512_aG_wo_decay.tf/15--0.3197-0.6440-0.9740-0.6729-0.9668.pb\n",
      "440/440 [==============================] - 182s 415ms/step - loss: 0.3197 - sensitivity: 0.6440 - specificity: 0.9740 - accuracy: 0.9542 - val_loss: 0.3263 - val_sensitivity: 0.6729 - val_specificity: 0.9668 - val_accuracy: 0.9491\n",
      "Epoch 16/30\n",
      "440/440 [==============================] - ETA: 0s - loss: 0.3222 - sensitivity: 0.6396 - specificity: 0.9747 - accuracy: 0.9547INFO:tensorflow:Assets written to: /visuworks/Blindless_AIFFELTON/Ablation Study/Pyramid/model_parameters/pyramid_30ep_512_aG_wo_decay.tf/16--0.3222-0.6396-0.9747-0.5939-0.9826.pb/assets\n"
     ]
    },
    {
     "name": "stderr",
     "output_type": "stream",
     "text": [
      "INFO:tensorflow:Assets written to: /visuworks/Blindless_AIFFELTON/Ablation Study/Pyramid/model_parameters/pyramid_30ep_512_aG_wo_decay.tf/16--0.3222-0.6396-0.9747-0.5939-0.9826.pb/assets\n"
     ]
    },
    {
     "name": "stdout",
     "output_type": "stream",
     "text": [
      "Model saved to /visuworks/Blindless_AIFFELTON/Ablation Study/Pyramid/model_parameters/pyramid_30ep_512_aG_wo_decay.tf/16--0.3222-0.6396-0.9747-0.5939-0.9826.pb\n",
      "440/440 [==============================] - 183s 417ms/step - loss: 0.3222 - sensitivity: 0.6396 - specificity: 0.9747 - accuracy: 0.9547 - val_loss: 0.3104 - val_sensitivity: 0.5939 - val_specificity: 0.9826 - val_accuracy: 0.9587\n",
      "Epoch 17/30\n",
      "440/440 [==============================] - ETA: 0s - loss: 0.3224 - sensitivity: 0.6400 - specificity: 0.9740 - accuracy: 0.9542INFO:tensorflow:Assets written to: /visuworks/Blindless_AIFFELTON/Ablation Study/Pyramid/model_parameters/pyramid_30ep_512_aG_wo_decay.tf/17--0.3224-0.6400-0.9740-0.6383-0.9767.pb/assets\n"
     ]
    },
    {
     "name": "stderr",
     "output_type": "stream",
     "text": [
      "INFO:tensorflow:Assets written to: /visuworks/Blindless_AIFFELTON/Ablation Study/Pyramid/model_parameters/pyramid_30ep_512_aG_wo_decay.tf/17--0.3224-0.6400-0.9740-0.6383-0.9767.pb/assets\n"
     ]
    },
    {
     "name": "stdout",
     "output_type": "stream",
     "text": [
      "Model saved to /visuworks/Blindless_AIFFELTON/Ablation Study/Pyramid/model_parameters/pyramid_30ep_512_aG_wo_decay.tf/17--0.3224-0.6400-0.9740-0.6383-0.9767.pb\n",
      "440/440 [==============================] - 185s 422ms/step - loss: 0.3224 - sensitivity: 0.6400 - specificity: 0.9740 - accuracy: 0.9542 - val_loss: 0.3125 - val_sensitivity: 0.6383 - val_specificity: 0.9767 - val_accuracy: 0.9560\n",
      "Epoch 18/30\n",
      "440/440 [==============================] - ETA: 0s - loss: 0.3138 - sensitivity: 0.6512 - specificity: 0.9750 - accuracy: 0.9558INFO:tensorflow:Assets written to: /visuworks/Blindless_AIFFELTON/Ablation Study/Pyramid/model_parameters/pyramid_30ep_512_aG_wo_decay.tf/18--0.3138-0.6512-0.9750-0.5840-0.9821.pb/assets\n"
     ]
    },
    {
     "name": "stderr",
     "output_type": "stream",
     "text": [
      "INFO:tensorflow:Assets written to: /visuworks/Blindless_AIFFELTON/Ablation Study/Pyramid/model_parameters/pyramid_30ep_512_aG_wo_decay.tf/18--0.3138-0.6512-0.9750-0.5840-0.9821.pb/assets\n"
     ]
    },
    {
     "name": "stdout",
     "output_type": "stream",
     "text": [
      "Model saved to /visuworks/Blindless_AIFFELTON/Ablation Study/Pyramid/model_parameters/pyramid_30ep_512_aG_wo_decay.tf/18--0.3138-0.6512-0.9750-0.5840-0.9821.pb\n",
      "440/440 [==============================] - 180s 409ms/step - loss: 0.3138 - sensitivity: 0.6512 - specificity: 0.9750 - accuracy: 0.9558 - val_loss: 0.3203 - val_sensitivity: 0.5840 - val_specificity: 0.9821 - val_accuracy: 0.9572\n",
      "Epoch 19/30\n",
      "440/440 [==============================] - ETA: 0s - loss: 0.3070 - sensitivity: 0.6512 - specificity: 0.9753 - accuracy: 0.9556INFO:tensorflow:Assets written to: /visuworks/Blindless_AIFFELTON/Ablation Study/Pyramid/model_parameters/pyramid_30ep_512_aG_wo_decay.tf/19--0.3070-0.6512-0.9753-0.6411-0.9817.pb/assets\n"
     ]
    },
    {
     "name": "stderr",
     "output_type": "stream",
     "text": [
      "INFO:tensorflow:Assets written to: /visuworks/Blindless_AIFFELTON/Ablation Study/Pyramid/model_parameters/pyramid_30ep_512_aG_wo_decay.tf/19--0.3070-0.6512-0.9753-0.6411-0.9817.pb/assets\n"
     ]
    },
    {
     "name": "stdout",
     "output_type": "stream",
     "text": [
      "Model saved to /visuworks/Blindless_AIFFELTON/Ablation Study/Pyramid/model_parameters/pyramid_30ep_512_aG_wo_decay.tf/19--0.3070-0.6512-0.9753-0.6411-0.9817.pb\n",
      "440/440 [==============================] - 185s 420ms/step - loss: 0.3070 - sensitivity: 0.6512 - specificity: 0.9753 - accuracy: 0.9556 - val_loss: 0.2884 - val_sensitivity: 0.6411 - val_specificity: 0.9817 - val_accuracy: 0.9612\n",
      "Epoch 20/30\n",
      "440/440 [==============================] - ETA: 0s - loss: 0.2990 - sensitivity: 0.6619 - specificity: 0.9751 - accuracy: 0.9554INFO:tensorflow:Assets written to: /visuworks/Blindless_AIFFELTON/Ablation Study/Pyramid/model_parameters/pyramid_30ep_512_aG_wo_decay.tf/20--0.2990-0.6619-0.9751-0.6455-0.9785.pb/assets\n"
     ]
    },
    {
     "name": "stderr",
     "output_type": "stream",
     "text": [
      "INFO:tensorflow:Assets written to: /visuworks/Blindless_AIFFELTON/Ablation Study/Pyramid/model_parameters/pyramid_30ep_512_aG_wo_decay.tf/20--0.2990-0.6619-0.9751-0.6455-0.9785.pb/assets\n"
     ]
    },
    {
     "name": "stdout",
     "output_type": "stream",
     "text": [
      "Model saved to /visuworks/Blindless_AIFFELTON/Ablation Study/Pyramid/model_parameters/pyramid_30ep_512_aG_wo_decay.tf/20--0.2990-0.6619-0.9751-0.6455-0.9785.pb\n",
      "440/440 [==============================] - 185s 421ms/step - loss: 0.2990 - sensitivity: 0.6619 - specificity: 0.9751 - accuracy: 0.9554 - val_loss: 0.2995 - val_sensitivity: 0.6455 - val_specificity: 0.9785 - val_accuracy: 0.9589\n",
      "Epoch 21/30\n",
      "440/440 [==============================] - ETA: 0s - loss: 0.3008 - sensitivity: 0.6587 - specificity: 0.9764 - accuracy: 0.9573INFO:tensorflow:Assets written to: /visuworks/Blindless_AIFFELTON/Ablation Study/Pyramid/model_parameters/pyramid_30ep_512_aG_wo_decay.tf/21--0.3008-0.6587-0.9764-0.6676-0.9783.pb/assets\n"
     ]
    },
    {
     "name": "stderr",
     "output_type": "stream",
     "text": [
      "INFO:tensorflow:Assets written to: /visuworks/Blindless_AIFFELTON/Ablation Study/Pyramid/model_parameters/pyramid_30ep_512_aG_wo_decay.tf/21--0.3008-0.6587-0.9764-0.6676-0.9783.pb/assets\n"
     ]
    },
    {
     "name": "stdout",
     "output_type": "stream",
     "text": [
      "Model saved to /visuworks/Blindless_AIFFELTON/Ablation Study/Pyramid/model_parameters/pyramid_30ep_512_aG_wo_decay.tf/21--0.3008-0.6587-0.9764-0.6676-0.9783.pb\n",
      "440/440 [==============================] - 195s 444ms/step - loss: 0.3008 - sensitivity: 0.6587 - specificity: 0.9764 - accuracy: 0.9573 - val_loss: 0.2898 - val_sensitivity: 0.6676 - val_specificity: 0.9783 - val_accuracy: 0.9601\n",
      "Epoch 22/30\n",
      "440/440 [==============================] - ETA: 0s - loss: 0.2927 - sensitivity: 0.6674 - specificity: 0.9769 - accuracy: 0.9577INFO:tensorflow:Assets written to: /visuworks/Blindless_AIFFELTON/Ablation Study/Pyramid/model_parameters/pyramid_30ep_512_aG_wo_decay.tf/22--0.2927-0.6674-0.9769-0.6627-0.9787.pb/assets\n"
     ]
    },
    {
     "name": "stderr",
     "output_type": "stream",
     "text": [
      "INFO:tensorflow:Assets written to: /visuworks/Blindless_AIFFELTON/Ablation Study/Pyramid/model_parameters/pyramid_30ep_512_aG_wo_decay.tf/22--0.2927-0.6674-0.9769-0.6627-0.9787.pb/assets\n"
     ]
    },
    {
     "name": "stdout",
     "output_type": "stream",
     "text": [
      "Model saved to /visuworks/Blindless_AIFFELTON/Ablation Study/Pyramid/model_parameters/pyramid_30ep_512_aG_wo_decay.tf/22--0.2927-0.6674-0.9769-0.6627-0.9787.pb\n",
      "440/440 [==============================] - 193s 439ms/step - loss: 0.2927 - sensitivity: 0.6674 - specificity: 0.9769 - accuracy: 0.9577 - val_loss: 0.2894 - val_sensitivity: 0.6627 - val_specificity: 0.9787 - val_accuracy: 0.9603\n",
      "Epoch 23/30\n",
      "440/440 [==============================] - ETA: 0s - loss: 0.2796 - sensitivity: 0.6767 - specificity: 0.9767 - accuracy: 0.9582INFO:tensorflow:Assets written to: /visuworks/Blindless_AIFFELTON/Ablation Study/Pyramid/model_parameters/pyramid_30ep_512_aG_wo_decay.tf/23--0.2796-0.6767-0.9767-0.6465-0.9782.pb/assets\n"
     ]
    },
    {
     "name": "stderr",
     "output_type": "stream",
     "text": [
      "INFO:tensorflow:Assets written to: /visuworks/Blindless_AIFFELTON/Ablation Study/Pyramid/model_parameters/pyramid_30ep_512_aG_wo_decay.tf/23--0.2796-0.6767-0.9767-0.6465-0.9782.pb/assets\n"
     ]
    },
    {
     "name": "stdout",
     "output_type": "stream",
     "text": [
      "Model saved to /visuworks/Blindless_AIFFELTON/Ablation Study/Pyramid/model_parameters/pyramid_30ep_512_aG_wo_decay.tf/23--0.2796-0.6767-0.9767-0.6465-0.9782.pb\n",
      "440/440 [==============================] - 191s 434ms/step - loss: 0.2796 - sensitivity: 0.6767 - specificity: 0.9767 - accuracy: 0.9582 - val_loss: 0.3063 - val_sensitivity: 0.6465 - val_specificity: 0.9782 - val_accuracy: 0.9590\n",
      "Epoch 24/30\n",
      "440/440 [==============================] - ETA: 0s - loss: 0.2764 - sensitivity: 0.6831 - specificity: 0.9777 - accuracy: 0.9592INFO:tensorflow:Assets written to: /visuworks/Blindless_AIFFELTON/Ablation Study/Pyramid/model_parameters/pyramid_30ep_512_aG_wo_decay.tf/24--0.2764-0.6831-0.9777-0.6242-0.9828.pb/assets\n"
     ]
    },
    {
     "name": "stderr",
     "output_type": "stream",
     "text": [
      "INFO:tensorflow:Assets written to: /visuworks/Blindless_AIFFELTON/Ablation Study/Pyramid/model_parameters/pyramid_30ep_512_aG_wo_decay.tf/24--0.2764-0.6831-0.9777-0.6242-0.9828.pb/assets\n"
     ]
    },
    {
     "name": "stdout",
     "output_type": "stream",
     "text": [
      "Model saved to /visuworks/Blindless_AIFFELTON/Ablation Study/Pyramid/model_parameters/pyramid_30ep_512_aG_wo_decay.tf/24--0.2764-0.6831-0.9777-0.6242-0.9828.pb\n",
      "440/440 [==============================] - 190s 431ms/step - loss: 0.2764 - sensitivity: 0.6831 - specificity: 0.9777 - accuracy: 0.9592 - val_loss: 0.2983 - val_sensitivity: 0.6242 - val_specificity: 0.9828 - val_accuracy: 0.9610\n",
      "Epoch 25/30\n",
      "440/440 [==============================] - ETA: 0s - loss: 0.2794 - sensitivity: 0.6777 - specificity: 0.9781 - accuracy: 0.9599INFO:tensorflow:Assets written to: /visuworks/Blindless_AIFFELTON/Ablation Study/Pyramid/model_parameters/pyramid_30ep_512_aG_wo_decay.tf/25--0.2794-0.6777-0.9781-0.6656-0.9778.pb/assets\n"
     ]
    },
    {
     "name": "stderr",
     "output_type": "stream",
     "text": [
      "INFO:tensorflow:Assets written to: /visuworks/Blindless_AIFFELTON/Ablation Study/Pyramid/model_parameters/pyramid_30ep_512_aG_wo_decay.tf/25--0.2794-0.6777-0.9781-0.6656-0.9778.pb/assets\n"
     ]
    },
    {
     "name": "stdout",
     "output_type": "stream",
     "text": [
      "Model saved to /visuworks/Blindless_AIFFELTON/Ablation Study/Pyramid/model_parameters/pyramid_30ep_512_aG_wo_decay.tf/25--0.2794-0.6777-0.9781-0.6656-0.9778.pb\n",
      "440/440 [==============================] - 195s 443ms/step - loss: 0.2794 - sensitivity: 0.6777 - specificity: 0.9781 - accuracy: 0.9599 - val_loss: 0.2884 - val_sensitivity: 0.6656 - val_specificity: 0.9778 - val_accuracy: 0.9590\n",
      "Epoch 26/30\n",
      "440/440 [==============================] - ETA: 0s - loss: 0.2817 - sensitivity: 0.6753 - specificity: 0.9764 - accuracy: 0.9573INFO:tensorflow:Assets written to: /visuworks/Blindless_AIFFELTON/Ablation Study/Pyramid/model_parameters/pyramid_30ep_512_aG_wo_decay.tf/26--0.2817-0.6753-0.9764-0.6306-0.9825.pb/assets\n"
     ]
    },
    {
     "name": "stderr",
     "output_type": "stream",
     "text": [
      "INFO:tensorflow:Assets written to: /visuworks/Blindless_AIFFELTON/Ablation Study/Pyramid/model_parameters/pyramid_30ep_512_aG_wo_decay.tf/26--0.2817-0.6753-0.9764-0.6306-0.9825.pb/assets\n"
     ]
    },
    {
     "name": "stdout",
     "output_type": "stream",
     "text": [
      "Model saved to /visuworks/Blindless_AIFFELTON/Ablation Study/Pyramid/model_parameters/pyramid_30ep_512_aG_wo_decay.tf/26--0.2817-0.6753-0.9764-0.6306-0.9825.pb\n",
      "440/440 [==============================] - 194s 443ms/step - loss: 0.2817 - sensitivity: 0.6753 - specificity: 0.9764 - accuracy: 0.9573 - val_loss: 0.2928 - val_sensitivity: 0.6306 - val_specificity: 0.9825 - val_accuracy: 0.9600\n",
      "Epoch 27/30\n",
      "440/440 [==============================] - ETA: 0s - loss: 0.2829 - sensitivity: 0.6766 - specificity: 0.9773 - accuracy: 0.9588INFO:tensorflow:Assets written to: /visuworks/Blindless_AIFFELTON/Ablation Study/Pyramid/model_parameters/pyramid_30ep_512_aG_wo_decay.tf/27--0.2829-0.6766-0.9773-0.7828-0.9570.pb/assets\n"
     ]
    },
    {
     "name": "stderr",
     "output_type": "stream",
     "text": [
      "INFO:tensorflow:Assets written to: /visuworks/Blindless_AIFFELTON/Ablation Study/Pyramid/model_parameters/pyramid_30ep_512_aG_wo_decay.tf/27--0.2829-0.6766-0.9773-0.7828-0.9570.pb/assets\n"
     ]
    },
    {
     "name": "stdout",
     "output_type": "stream",
     "text": [
      "Model saved to /visuworks/Blindless_AIFFELTON/Ablation Study/Pyramid/model_parameters/pyramid_30ep_512_aG_wo_decay.tf/27--0.2829-0.6766-0.9773-0.7828-0.9570.pb\n",
      "440/440 [==============================] - 186s 424ms/step - loss: 0.2829 - sensitivity: 0.6766 - specificity: 0.9773 - accuracy: 0.9588 - val_loss: 0.3128 - val_sensitivity: 0.7828 - val_specificity: 0.9570 - val_accuracy: 0.9477\n",
      "Epoch 28/30\n",
      "440/440 [==============================] - ETA: 0s - loss: 0.2877 - sensitivity: 0.6768 - specificity: 0.9766 - accuracy: 0.9579INFO:tensorflow:Assets written to: /visuworks/Blindless_AIFFELTON/Ablation Study/Pyramid/model_parameters/pyramid_30ep_512_aG_wo_decay.tf/28--0.2877-0.6768-0.9766-0.7507-0.9633.pb/assets\n"
     ]
    },
    {
     "name": "stderr",
     "output_type": "stream",
     "text": [
      "INFO:tensorflow:Assets written to: /visuworks/Blindless_AIFFELTON/Ablation Study/Pyramid/model_parameters/pyramid_30ep_512_aG_wo_decay.tf/28--0.2877-0.6768-0.9766-0.7507-0.9633.pb/assets\n"
     ]
    },
    {
     "name": "stdout",
     "output_type": "stream",
     "text": [
      "Model saved to /visuworks/Blindless_AIFFELTON/Ablation Study/Pyramid/model_parameters/pyramid_30ep_512_aG_wo_decay.tf/28--0.2877-0.6768-0.9766-0.7507-0.9633.pb\n",
      "440/440 [==============================] - 185s 421ms/step - loss: 0.2877 - sensitivity: 0.6768 - specificity: 0.9766 - accuracy: 0.9579 - val_loss: 0.3043 - val_sensitivity: 0.7507 - val_specificity: 0.9633 - val_accuracy: 0.9519\n",
      "Epoch 29/30\n",
      "439/440 [============================>.] - ETA: 0s - loss: 0.2827 - sensitivity: 0.6770 - specificity: 0.9780 - accuracy: 0.9599INFO:tensorflow:Assets written to: /visuworks/Blindless_AIFFELTON/Ablation Study/Pyramid/model_parameters/pyramid_30ep_512_aG_wo_decay.tf/29--0.2826-0.6772-0.9780-0.7079-0.9779.pb/assets\n"
     ]
    },
    {
     "name": "stderr",
     "output_type": "stream",
     "text": [
      "INFO:tensorflow:Assets written to: /visuworks/Blindless_AIFFELTON/Ablation Study/Pyramid/model_parameters/pyramid_30ep_512_aG_wo_decay.tf/29--0.2826-0.6772-0.9780-0.7079-0.9779.pb/assets\n"
     ]
    },
    {
     "name": "stdout",
     "output_type": "stream",
     "text": [
      "Model saved to /visuworks/Blindless_AIFFELTON/Ablation Study/Pyramid/model_parameters/pyramid_30ep_512_aG_wo_decay.tf/29--0.2826-0.6772-0.9780-0.7079-0.9779.pb\n",
      "440/440 [==============================] - 182s 414ms/step - loss: 0.2826 - sensitivity: 0.6772 - specificity: 0.9780 - accuracy: 0.9599 - val_loss: 0.2687 - val_sensitivity: 0.7079 - val_specificity: 0.9779 - val_accuracy: 0.9621\n",
      "Epoch 30/30\n",
      "440/440 [==============================] - ETA: 0s - loss: 0.2754 - sensitivity: 0.6863 - specificity: 0.9770 - accuracy: 0.9588INFO:tensorflow:Assets written to: /visuworks/Blindless_AIFFELTON/Ablation Study/Pyramid/model_parameters/pyramid_30ep_512_aG_wo_decay.tf/30--0.2754-0.6863-0.9770-0.6899-0.9789.pb/assets\n"
     ]
    },
    {
     "name": "stderr",
     "output_type": "stream",
     "text": [
      "INFO:tensorflow:Assets written to: /visuworks/Blindless_AIFFELTON/Ablation Study/Pyramid/model_parameters/pyramid_30ep_512_aG_wo_decay.tf/30--0.2754-0.6863-0.9770-0.6899-0.9789.pb/assets\n"
     ]
    },
    {
     "name": "stdout",
     "output_type": "stream",
     "text": [
      "Model saved to /visuworks/Blindless_AIFFELTON/Ablation Study/Pyramid/model_parameters/pyramid_30ep_512_aG_wo_decay.tf/30--0.2754-0.6863-0.9770-0.6899-0.9789.pb\n",
      "440/440 [==============================] - 187s 426ms/step - loss: 0.2754 - sensitivity: 0.6863 - specificity: 0.9770 - accuracy: 0.9588 - val_loss: 0.2704 - val_sensitivity: 0.6899 - val_specificity: 0.9789 - val_accuracy: 0.9614\n"
     ]
    }
   ],
   "source": [
    "train.model_train(model,\n",
    "                  epoch = 30,\n",
    "                  train_generator = train_generator,\n",
    "                  test_generator = test_generator,\n",
    "                  model_path = MODEL_PATH,\n",
    "                  history_path = HISTORY_PATH,\n",
    "                  save_every_epoch=True,\n",
    "                  apply_weight_decay=False)"
   ]
  }
 ],
 "metadata": {
  "kernelspec": {
   "display_name": "Python 3",
   "language": "python",
   "name": "python3"
  },
  "language_info": {
   "codemirror_mode": {
    "name": "ipython",
    "version": 3
   },
   "file_extension": ".py",
   "mimetype": "text/x-python",
   "name": "python",
   "nbconvert_exporter": "python",
   "pygments_lexer": "ipython3",
   "version": "3.10.12"
  }
 },
 "nbformat": 4,
 "nbformat_minor": 2
}
