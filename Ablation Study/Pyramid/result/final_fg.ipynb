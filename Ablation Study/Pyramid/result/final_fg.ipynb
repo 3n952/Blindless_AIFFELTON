{
 "cells": [
  {
   "cell_type": "code",
   "execution_count": null,
   "metadata": {},
   "outputs": [],
   "source": [
    "import sys\n",
    "import pickle\n",
    "import tensorflow as tf\n",
    "sys.path.append(\"/visuworks/Blindless_AIFFELTON/Ablation Study/\")\n",
    "\n",
    "# import customized modules\n",
    "import preprocess, data_generator, check_result, metrics, loss, train\n",
    "\n",
    "sys.path.append(\"/visuworks/Blindless_AIFFELTON/Ablation Study/FR_Unet\")\n",
    "import fr_unet\n",
    "\n",
    "# Insert Path\n",
    "# {model_name}_{epoch}ep_{model_inpusize}_{Generator | aG/fG/sG}\n",
    "FILE_NAME = 'fr_unet_50ep_960_fG_wo_slice'\n",
    "INPUT_SHAPE = (960, 960, 1)\n",
    "MODEL_PATH = \"/visuworks/Blindless_AIFFELTON/Ablation Study/FR_Unet/model_parameters/\" + FILE_NAME + \".tf\"\n",
    "HISTORY_PATH = \"/visuworks/Blindless_AIFFELTON/Ablation Study/FR_Unet/history/\" + FILE_NAME + '_history' \".json\"\n",
    "\n",
    "TRAIN_SOURCE = '/visuworks/Dataset/Selected Dataset 3/Train'\n",
    "TEST_SOURCE = '/visuworks/Dataset/Selected Dataset 3/Test'"
   ]
  },
  {
   "cell_type": "code",
   "execution_count": null,
   "metadata": {},
   "outputs": [],
   "source": [
    "# Define custom objects for loading the model\n",
    "custom_objects = {'DiceLoss': loss.DiceLoss(), \n",
    "                  'sensitivity': metrics.sensitivity,\n",
    "                  'specificity': metrics.specificity,\n",
    "                  'accuracy' : metrics.accuracy}\n",
    "MODEL_PATH = '/visuworks/Blindless_AIFFELTON/Ablation Study/FR_Unet/model_parameters/temp_represent/41--0.1632-0.8071-0.9860-0.2053-0.7445-0.9854.pb'\n",
    "TEST_SOURCE = '/visuworks/Dataset/Selected Dataset 3/Test'\n",
    "test_preproc = preprocess.build_augmentation_for_general(INPUT_SHAPE[0], INPUT_SHAPE[0], is_train=False)\n",
    "model = tf.keras.models.load_model(MODEL_PATH, custom_objects=custom_objects)\n",
    "\n",
    "# file_list = [\"AFIO\", \"ARIA\", \"Chase\", \"DR_HAGIS\", \"DRIVE\", \"DualModal\", \"FIVES\", \"HRF\", \"IOSTAR\", \"LES-AV\", \"ORVS\", \"RETA\", \"STARE\", \"TREND\", \"UoA-DR\"]\n",
    "# for file in file_list:\n",
    "metrics.plot_result(TEST_SOURCE, \"Chase\", model=model, img_size=INPUT_SHAPE, preproc=test_preproc)"
   ]
  }
 ],
 "metadata": {
  "language_info": {
   "name": "python"
  }
 },
 "nbformat": 4,
 "nbformat_minor": 2
}
