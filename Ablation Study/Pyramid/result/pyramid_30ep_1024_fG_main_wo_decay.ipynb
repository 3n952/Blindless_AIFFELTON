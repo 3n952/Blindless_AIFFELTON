{
 "cells": [
  {
   "cell_type": "code",
   "execution_count": 1,
   "metadata": {},
   "outputs": [
    {
     "name": "stderr",
     "output_type": "stream",
     "text": [
      "2024-01-31 07:44:29.264009: E external/local_xla/xla/stream_executor/cuda/cuda_dnn.cc:9261] Unable to register cuDNN factory: Attempting to register factory for plugin cuDNN when one has already been registered\n",
      "2024-01-31 07:44:29.264037: E external/local_xla/xla/stream_executor/cuda/cuda_fft.cc:607] Unable to register cuFFT factory: Attempting to register factory for plugin cuFFT when one has already been registered\n",
      "2024-01-31 07:44:29.265133: E external/local_xla/xla/stream_executor/cuda/cuda_blas.cc:1515] Unable to register cuBLAS factory: Attempting to register factory for plugin cuBLAS when one has already been registered\n",
      "2024-01-31 07:44:29.270461: I tensorflow/core/platform/cpu_feature_guard.cc:182] This TensorFlow binary is optimized to use available CPU instructions in performance-critical operations.\n",
      "To enable the following instructions: AVX2 FMA, in other operations, rebuild TensorFlow with the appropriate compiler flags.\n",
      "2024-01-31 07:44:29.843832: W tensorflow/compiler/tf2tensorrt/utils/py_utils.cc:38] TF-TRT Warning: Could not find TensorRT\n"
     ]
    }
   ],
   "source": [
    "import sys\n",
    "import tensorflow as tf\n",
    "sys.path.append(\"/visuworks/Blindless_AIFFELTON/Ablation Study/\")\n",
    "\n",
    "# import customized modules\n",
    "import preprocess, data_generator, check_result, metrics, loss, train\n",
    "\n",
    "sys.path.append(\"/visuworks/Blindless_AIFFELTON/Ablation Study/Pyramid\")\n",
    "import pyramid\n",
    "\n",
    "# Insert Path\n",
    "# {model_name}_{epoch}ep_{model_inpusize}_{Generator | aG/fG/sG}\n",
    "FILE_NAME = 'pyramid_30ep_1024_fG_wo_decay'\n",
    "INPUT_SHAPE = (1024, 1024, 1)\n",
    "MODEL_PATH = \"/visuworks/Blindless_AIFFELTON/Ablation Study/Pyramid/model_parameters/\" + FILE_NAME + \".tf\"\n",
    "HISTORY_PATH = \"/visuworks/Blindless_AIFFELTON/Ablation Study/Pyramid/history/\" + FILE_NAME + '_history' \".json\"\n",
    "\n",
    "TRAIN_SOURCE = '/visuworks/Dataset/Selected Dataset 3/Train'\n",
    "TEST_SOURCE = '/visuworks/Dataset/Selected Dataset 3/Test'"
   ]
  },
  {
   "cell_type": "code",
   "execution_count": 2,
   "metadata": {},
   "outputs": [
    {
     "name": "stderr",
     "output_type": "stream",
     "text": [
      "2024-01-31 07:44:31.006826: I external/local_xla/xla/stream_executor/cuda/cuda_executor.cc:901] successful NUMA node read from SysFS had negative value (-1), but there must be at least one NUMA node, so returning NUMA node zero. See more at https://github.com/torvalds/linux/blob/v6.0/Documentation/ABI/testing/sysfs-bus-pci#L344-L355\n",
      "2024-01-31 07:44:31.042202: I external/local_xla/xla/stream_executor/cuda/cuda_executor.cc:901] successful NUMA node read from SysFS had negative value (-1), but there must be at least one NUMA node, so returning NUMA node zero. See more at https://github.com/torvalds/linux/blob/v6.0/Documentation/ABI/testing/sysfs-bus-pci#L344-L355\n",
      "2024-01-31 07:44:31.042427: I external/local_xla/xla/stream_executor/cuda/cuda_executor.cc:901] successful NUMA node read from SysFS had negative value (-1), but there must be at least one NUMA node, so returning NUMA node zero. See more at https://github.com/torvalds/linux/blob/v6.0/Documentation/ABI/testing/sysfs-bus-pci#L344-L355\n",
      "2024-01-31 07:44:31.044512: I external/local_xla/xla/stream_executor/cuda/cuda_executor.cc:901] successful NUMA node read from SysFS had negative value (-1), but there must be at least one NUMA node, so returning NUMA node zero. See more at https://github.com/torvalds/linux/blob/v6.0/Documentation/ABI/testing/sysfs-bus-pci#L344-L355\n",
      "2024-01-31 07:44:31.044697: I external/local_xla/xla/stream_executor/cuda/cuda_executor.cc:901] successful NUMA node read from SysFS had negative value (-1), but there must be at least one NUMA node, so returning NUMA node zero. See more at https://github.com/torvalds/linux/blob/v6.0/Documentation/ABI/testing/sysfs-bus-pci#L344-L355\n",
      "2024-01-31 07:44:31.044864: I external/local_xla/xla/stream_executor/cuda/cuda_executor.cc:901] successful NUMA node read from SysFS had negative value (-1), but there must be at least one NUMA node, so returning NUMA node zero. See more at https://github.com/torvalds/linux/blob/v6.0/Documentation/ABI/testing/sysfs-bus-pci#L344-L355\n",
      "2024-01-31 07:44:31.107233: I external/local_xla/xla/stream_executor/cuda/cuda_executor.cc:901] successful NUMA node read from SysFS had negative value (-1), but there must be at least one NUMA node, so returning NUMA node zero. See more at https://github.com/torvalds/linux/blob/v6.0/Documentation/ABI/testing/sysfs-bus-pci#L344-L355\n",
      "2024-01-31 07:44:31.107421: I external/local_xla/xla/stream_executor/cuda/cuda_executor.cc:901] successful NUMA node read from SysFS had negative value (-1), but there must be at least one NUMA node, so returning NUMA node zero. See more at https://github.com/torvalds/linux/blob/v6.0/Documentation/ABI/testing/sysfs-bus-pci#L344-L355\n",
      "2024-01-31 07:44:31.107588: I external/local_xla/xla/stream_executor/cuda/cuda_executor.cc:901] successful NUMA node read from SysFS had negative value (-1), but there must be at least one NUMA node, so returning NUMA node zero. See more at https://github.com/torvalds/linux/blob/v6.0/Documentation/ABI/testing/sysfs-bus-pci#L344-L355\n",
      "2024-01-31 07:44:31.107703: I tensorflow/core/common_runtime/gpu/gpu_device.cc:1929] Created device /job:localhost/replica:0/task:0/device:GPU:0 with 10004 MB memory:  -> device: 0, name: NVIDIA GeForce RTX 3080 Ti, pci bus id: 0000:43:00.0, compute capability: 8.6\n"
     ]
    },
    {
     "name": "stdout",
     "output_type": "stream",
     "text": [
      "Model: \"model\"\n",
      "__________________________________________________________________________________________________\n",
      " Layer (type)                Output Shape                 Param #   Connected to                  \n",
      "==================================================================================================\n",
      " input_1 (InputLayer)        [(None, 1024, 1024, 1)]      0         []                            \n",
      "                                                                                                  \n",
      " conv2d_2 (Conv2D)           (None, 1024, 1024, 16)       32        ['input_1[0][0]']             \n",
      "                                                                                                  \n",
      " conv2d (Conv2D)             (None, 1024, 1024, 8)        16        ['input_1[0][0]']             \n",
      "                                                                                                  \n",
      " conv2d_1 (Conv2D)           (None, 1024, 1024, 16)       160       ['input_1[0][0]']             \n",
      "                                                                                                  \n",
      " conv2d_3 (Conv2D)           (None, 1024, 1024, 32)       4640      ['conv2d_2[0][0]']            \n",
      "                                                                                                  \n",
      " concatenate (Concatenate)   (None, 1024, 1024, 56)       0         ['conv2d[0][0]',              \n",
      "                                                                     'conv2d_1[0][0]',            \n",
      "                                                                     'conv2d_3[0][0]']            \n",
      "                                                                                                  \n",
      " conv2d_4 (Conv2D)           (None, 1024, 1024, 16)       912       ['concatenate[0][0]']         \n",
      "                                                                                                  \n",
      " max_pooling2d (MaxPooling2  (None, 512, 512, 16)         0         ['conv2d_4[0][0]']            \n",
      " D)                                                                                               \n",
      "                                                                                                  \n",
      " conv2d_7 (Conv2D)           (None, 512, 512, 32)         544       ['max_pooling2d[0][0]']       \n",
      "                                                                                                  \n",
      " conv2d_5 (Conv2D)           (None, 512, 512, 16)         272       ['max_pooling2d[0][0]']       \n",
      "                                                                                                  \n",
      " conv2d_6 (Conv2D)           (None, 512, 512, 32)         4640      ['max_pooling2d[0][0]']       \n",
      "                                                                                                  \n",
      " conv2d_8 (Conv2D)           (None, 512, 512, 64)         18496     ['conv2d_7[0][0]']            \n",
      "                                                                                                  \n",
      " concatenate_1 (Concatenate  (None, 512, 512, 112)        0         ['conv2d_5[0][0]',            \n",
      " )                                                                   'conv2d_6[0][0]',            \n",
      "                                                                     'conv2d_8[0][0]']            \n",
      "                                                                                                  \n",
      " conv2d_9 (Conv2D)           (None, 512, 512, 32)         3616      ['concatenate_1[0][0]']       \n",
      "                                                                                                  \n",
      " max_pooling2d_1 (MaxPoolin  (None, 256, 256, 32)         0         ['conv2d_9[0][0]']            \n",
      " g2D)                                                                                             \n",
      "                                                                                                  \n",
      " conv2d_12 (Conv2D)          (None, 256, 256, 64)         2112      ['max_pooling2d_1[0][0]']     \n",
      "                                                                                                  \n",
      " conv2d_10 (Conv2D)          (None, 256, 256, 32)         1056      ['max_pooling2d_1[0][0]']     \n",
      "                                                                                                  \n",
      " conv2d_11 (Conv2D)          (None, 256, 256, 64)         18496     ['max_pooling2d_1[0][0]']     \n",
      "                                                                                                  \n",
      " conv2d_13 (Conv2D)          (None, 256, 256, 128)        73856     ['conv2d_12[0][0]']           \n",
      "                                                                                                  \n",
      " concatenate_2 (Concatenate  (None, 256, 256, 224)        0         ['conv2d_10[0][0]',           \n",
      " )                                                                   'conv2d_11[0][0]',           \n",
      "                                                                     'conv2d_13[0][0]']           \n",
      "                                                                                                  \n",
      " conv2d_14 (Conv2D)          (None, 256, 256, 64)         14400     ['concatenate_2[0][0]']       \n",
      "                                                                                                  \n",
      " max_pooling2d_2 (MaxPoolin  (None, 128, 128, 64)         0         ['conv2d_14[0][0]']           \n",
      " g2D)                                                                                             \n",
      "                                                                                                  \n",
      " conv2d_17 (Conv2D)          (None, 128, 128, 128)        8320      ['max_pooling2d_2[0][0]']     \n",
      "                                                                                                  \n",
      " conv2d_15 (Conv2D)          (None, 128, 128, 64)         4160      ['max_pooling2d_2[0][0]']     \n",
      "                                                                                                  \n",
      " conv2d_16 (Conv2D)          (None, 128, 128, 128)        73856     ['max_pooling2d_2[0][0]']     \n",
      "                                                                                                  \n",
      " conv2d_18 (Conv2D)          (None, 128, 128, 256)        295168    ['conv2d_17[0][0]']           \n",
      "                                                                                                  \n",
      " concatenate_3 (Concatenate  (None, 128, 128, 448)        0         ['conv2d_15[0][0]',           \n",
      " )                                                                   'conv2d_16[0][0]',           \n",
      "                                                                     'conv2d_18[0][0]']           \n",
      "                                                                                                  \n",
      " conv2d_19 (Conv2D)          (None, 128, 128, 128)        57472     ['concatenate_3[0][0]']       \n",
      "                                                                                                  \n",
      " max_pooling2d_3 (MaxPoolin  (None, 64, 64, 128)          0         ['conv2d_19[0][0]']           \n",
      " g2D)                                                                                             \n",
      "                                                                                                  \n",
      " average_pooling2d (Average  (None, 64, 64, 128)          0         ['max_pooling2d_3[0][0]']     \n",
      " Pooling2D)                                                                                       \n",
      "                                                                                                  \n",
      " average_pooling2d_1 (Avera  (None, 32, 32, 128)          0         ['max_pooling2d_3[0][0]']     \n",
      " gePooling2D)                                                                                     \n",
      "                                                                                                  \n",
      " average_pooling2d_2 (Avera  (None, 16, 16, 128)          0         ['max_pooling2d_3[0][0]']     \n",
      " gePooling2D)                                                                                     \n",
      "                                                                                                  \n",
      " average_pooling2d_3 (Avera  (None, 8, 8, 128)            0         ['max_pooling2d_3[0][0]']     \n",
      " gePooling2D)                                                                                     \n",
      "                                                                                                  \n",
      " conv2d_20 (Conv2D)          (None, 64, 64, 32)           4128      ['average_pooling2d[0][0]']   \n",
      "                                                                                                  \n",
      " conv2d_21 (Conv2D)          (None, 32, 32, 32)           4128      ['average_pooling2d_1[0][0]'] \n",
      "                                                                                                  \n",
      " conv2d_22 (Conv2D)          (None, 16, 16, 32)           4128      ['average_pooling2d_2[0][0]'] \n",
      "                                                                                                  \n",
      " conv2d_23 (Conv2D)          (None, 8, 8, 32)             4128      ['average_pooling2d_3[0][0]'] \n",
      "                                                                                                  \n",
      " conv2d_transpose (Conv2DTr  (None, 64, 64, 16)           528       ['conv2d_20[0][0]']           \n",
      " anspose)                                                                                         \n",
      "                                                                                                  \n",
      " conv2d_transpose_1 (Conv2D  (None, 64, 64, 16)           2064      ['conv2d_21[0][0]']           \n",
      " Transpose)                                                                                       \n",
      "                                                                                                  \n",
      " conv2d_transpose_2 (Conv2D  (None, 64, 64, 16)           8208      ['conv2d_22[0][0]']           \n",
      " Transpose)                                                                                       \n",
      "                                                                                                  \n",
      " conv2d_transpose_3 (Conv2D  (None, 64, 64, 16)           32784     ['conv2d_23[0][0]']           \n",
      " Transpose)                                                                                       \n",
      "                                                                                                  \n",
      " concatenate_4 (Concatenate  (None, 64, 64, 192)          0         ['conv2d_transpose[0][0]',    \n",
      " )                                                                   'conv2d_transpose_1[0][0]',  \n",
      "                                                                     'conv2d_transpose_2[0][0]',  \n",
      "                                                                     'conv2d_transpose_3[0][0]',  \n",
      "                                                                     'max_pooling2d_3[0][0]']     \n",
      "                                                                                                  \n",
      " conv2d_transpose_4 (Conv2D  (None, 128, 128, 256)        196864    ['concatenate_4[0][0]']       \n",
      " Transpose)                                                                                       \n",
      "                                                                                                  \n",
      " average_pooling2d_4 (Avera  (None, 128, 128, 256)        0         ['conv2d_transpose_4[0][0]']  \n",
      " gePooling2D)                                                                                     \n",
      "                                                                                                  \n",
      " average_pooling2d_5 (Avera  (None, 64, 64, 256)          0         ['conv2d_transpose_4[0][0]']  \n",
      " gePooling2D)                                                                                     \n",
      "                                                                                                  \n",
      " average_pooling2d_6 (Avera  (None, 32, 32, 256)          0         ['conv2d_transpose_4[0][0]']  \n",
      " gePooling2D)                                                                                     \n",
      "                                                                                                  \n",
      " average_pooling2d_7 (Avera  (None, 16, 16, 256)          0         ['conv2d_transpose_4[0][0]']  \n",
      " gePooling2D)                                                                                     \n",
      "                                                                                                  \n",
      " conv2d_24 (Conv2D)          (None, 128, 128, 32)         8224      ['average_pooling2d_4[0][0]'] \n",
      "                                                                                                  \n",
      " conv2d_25 (Conv2D)          (None, 64, 64, 32)           8224      ['average_pooling2d_5[0][0]'] \n",
      "                                                                                                  \n",
      " conv2d_26 (Conv2D)          (None, 32, 32, 32)           8224      ['average_pooling2d_6[0][0]'] \n",
      "                                                                                                  \n",
      " conv2d_27 (Conv2D)          (None, 16, 16, 32)           8224      ['average_pooling2d_7[0][0]'] \n",
      "                                                                                                  \n",
      " conv2d_transpose_5 (Conv2D  (None, 128, 128, 16)         528       ['conv2d_24[0][0]']           \n",
      " Transpose)                                                                                       \n",
      "                                                                                                  \n",
      " conv2d_transpose_6 (Conv2D  (None, 128, 128, 16)         2064      ['conv2d_25[0][0]']           \n",
      " Transpose)                                                                                       \n",
      "                                                                                                  \n",
      " conv2d_transpose_7 (Conv2D  (None, 128, 128, 16)         8208      ['conv2d_26[0][0]']           \n",
      " Transpose)                                                                                       \n",
      "                                                                                                  \n",
      " conv2d_transpose_8 (Conv2D  (None, 128, 128, 16)         32784     ['conv2d_27[0][0]']           \n",
      " Transpose)                                                                                       \n",
      "                                                                                                  \n",
      " concatenate_5 (Concatenate  (None, 128, 128, 320)        0         ['conv2d_transpose_5[0][0]',  \n",
      " )                                                                   'conv2d_transpose_6[0][0]',  \n",
      "                                                                     'conv2d_transpose_7[0][0]',  \n",
      "                                                                     'conv2d_transpose_8[0][0]',  \n",
      "                                                                     'conv2d_transpose_4[0][0]']  \n",
      "                                                                                                  \n",
      " concatenate_6 (Concatenate  (None, 128, 128, 384)        0         ['max_pooling2d_2[0][0]',     \n",
      " )                                                                   'concatenate_5[0][0]']       \n",
      "                                                                                                  \n",
      " conv2d_transpose_9 (Conv2D  (None, 256, 256, 128)        196736    ['concatenate_6[0][0]']       \n",
      " Transpose)                                                                                       \n",
      "                                                                                                  \n",
      " average_pooling2d_8 (Avera  (None, 256, 256, 128)        0         ['conv2d_transpose_9[0][0]']  \n",
      " gePooling2D)                                                                                     \n",
      "                                                                                                  \n",
      " average_pooling2d_9 (Avera  (None, 128, 128, 128)        0         ['conv2d_transpose_9[0][0]']  \n",
      " gePooling2D)                                                                                     \n",
      "                                                                                                  \n",
      " average_pooling2d_10 (Aver  (None, 64, 64, 128)          0         ['conv2d_transpose_9[0][0]']  \n",
      " agePooling2D)                                                                                    \n",
      "                                                                                                  \n",
      " average_pooling2d_11 (Aver  (None, 32, 32, 128)          0         ['conv2d_transpose_9[0][0]']  \n",
      " agePooling2D)                                                                                    \n",
      "                                                                                                  \n",
      " conv2d_28 (Conv2D)          (None, 256, 256, 32)         4128      ['average_pooling2d_8[0][0]'] \n",
      "                                                                                                  \n",
      " conv2d_29 (Conv2D)          (None, 128, 128, 32)         4128      ['average_pooling2d_9[0][0]'] \n",
      "                                                                                                  \n",
      " conv2d_30 (Conv2D)          (None, 64, 64, 32)           4128      ['average_pooling2d_10[0][0]']\n",
      "                                                                                                  \n",
      " conv2d_31 (Conv2D)          (None, 32, 32, 32)           4128      ['average_pooling2d_11[0][0]']\n",
      "                                                                                                  \n",
      " conv2d_transpose_10 (Conv2  (None, 256, 256, 16)         528       ['conv2d_28[0][0]']           \n",
      " DTranspose)                                                                                      \n",
      "                                                                                                  \n",
      " conv2d_transpose_11 (Conv2  (None, 256, 256, 16)         2064      ['conv2d_29[0][0]']           \n",
      " DTranspose)                                                                                      \n",
      "                                                                                                  \n",
      " conv2d_transpose_12 (Conv2  (None, 256, 256, 16)         8208      ['conv2d_30[0][0]']           \n",
      " DTranspose)                                                                                      \n",
      "                                                                                                  \n",
      " conv2d_transpose_13 (Conv2  (None, 256, 256, 16)         32784     ['conv2d_31[0][0]']           \n",
      " DTranspose)                                                                                      \n",
      "                                                                                                  \n",
      " concatenate_7 (Concatenate  (None, 256, 256, 192)        0         ['conv2d_transpose_10[0][0]', \n",
      " )                                                                   'conv2d_transpose_11[0][0]', \n",
      "                                                                     'conv2d_transpose_12[0][0]', \n",
      "                                                                     'conv2d_transpose_13[0][0]', \n",
      "                                                                     'conv2d_transpose_9[0][0]']  \n",
      "                                                                                                  \n",
      " concatenate_8 (Concatenate  (None, 256, 256, 224)        0         ['max_pooling2d_1[0][0]',     \n",
      " )                                                                   'concatenate_7[0][0]']       \n",
      "                                                                                                  \n",
      " conv2d_transpose_14 (Conv2  (None, 512, 512, 64)         57408     ['concatenate_8[0][0]']       \n",
      " DTranspose)                                                                                      \n",
      "                                                                                                  \n",
      " average_pooling2d_12 (Aver  (None, 512, 512, 64)         0         ['conv2d_transpose_14[0][0]'] \n",
      " agePooling2D)                                                                                    \n",
      "                                                                                                  \n",
      " average_pooling2d_13 (Aver  (None, 256, 256, 64)         0         ['conv2d_transpose_14[0][0]'] \n",
      " agePooling2D)                                                                                    \n",
      "                                                                                                  \n",
      " average_pooling2d_14 (Aver  (None, 128, 128, 64)         0         ['conv2d_transpose_14[0][0]'] \n",
      " agePooling2D)                                                                                    \n",
      "                                                                                                  \n",
      " average_pooling2d_15 (Aver  (None, 64, 64, 64)           0         ['conv2d_transpose_14[0][0]'] \n",
      " agePooling2D)                                                                                    \n",
      "                                                                                                  \n",
      " conv2d_32 (Conv2D)          (None, 512, 512, 32)         2080      ['average_pooling2d_12[0][0]']\n",
      "                                                                                                  \n",
      " conv2d_33 (Conv2D)          (None, 256, 256, 32)         2080      ['average_pooling2d_13[0][0]']\n",
      "                                                                                                  \n",
      " conv2d_34 (Conv2D)          (None, 128, 128, 32)         2080      ['average_pooling2d_14[0][0]']\n",
      "                                                                                                  \n",
      " conv2d_35 (Conv2D)          (None, 64, 64, 32)           2080      ['average_pooling2d_15[0][0]']\n",
      "                                                                                                  \n",
      " conv2d_transpose_15 (Conv2  (None, 512, 512, 16)         528       ['conv2d_32[0][0]']           \n",
      " DTranspose)                                                                                      \n",
      "                                                                                                  \n",
      " conv2d_transpose_16 (Conv2  (None, 512, 512, 16)         2064      ['conv2d_33[0][0]']           \n",
      " DTranspose)                                                                                      \n",
      "                                                                                                  \n",
      " conv2d_transpose_17 (Conv2  (None, 512, 512, 16)         8208      ['conv2d_34[0][0]']           \n",
      " DTranspose)                                                                                      \n",
      "                                                                                                  \n",
      " conv2d_transpose_18 (Conv2  (None, 512, 512, 16)         32784     ['conv2d_35[0][0]']           \n",
      " DTranspose)                                                                                      \n",
      "                                                                                                  \n",
      " concatenate_9 (Concatenate  (None, 512, 512, 128)        0         ['conv2d_transpose_15[0][0]', \n",
      " )                                                                   'conv2d_transpose_16[0][0]', \n",
      "                                                                     'conv2d_transpose_17[0][0]', \n",
      "                                                                     'conv2d_transpose_18[0][0]', \n",
      "                                                                     'conv2d_transpose_14[0][0]'] \n",
      "                                                                                                  \n",
      " concatenate_10 (Concatenat  (None, 512, 512, 144)        0         ['max_pooling2d[0][0]',       \n",
      " e)                                                                  'concatenate_9[0][0]']       \n",
      "                                                                                                  \n",
      " conv2d_transpose_19 (Conv2  (None, 1024, 1024, 32)       18464     ['concatenate_10[0][0]']      \n",
      " DTranspose)                                                                                      \n",
      "                                                                                                  \n",
      " conv2d_36 (Conv2D)          (None, 1024, 1024, 1)        33        ['conv2d_transpose_19[0][0]'] \n",
      "                                                                                                  \n",
      "==================================================================================================\n",
      "Total params: 1300305 (4.96 MB)\n",
      "Trainable params: 1300305 (4.96 MB)\n",
      "Non-trainable params: 0 (0.00 Byte)\n",
      "__________________________________________________________________________________________________\n"
     ]
    }
   ],
   "source": [
    "# Define custom objects for loading the model\n",
    "custom_objects = {'DiceLoss': loss.DiceLoss(), \n",
    "                  'sensitivity': metrics.sensitivity,\n",
    "                  'specificity': metrics.specificity,\n",
    "                  'accuracy' : metrics.accuracy,}\n",
    "\n",
    "# Create augmentation\n",
    "train_preproc = preprocess.build_augmentation_for_general(INPUT_SHAPE[0], INPUT_SHAPE[0])\n",
    "test_preproc = preprocess.build_augmentation_for_general(INPUT_SHAPE[0], INPUT_SHAPE[0],is_train=False)\n",
    "\n",
    "# Create train, test generator\n",
    "train_generator = data_generator.FullSizedDataGenerator(\n",
    "    TRAIN_SOURCE, \n",
    "    batch_size=1, \n",
    "    img_size=INPUT_SHAPE,\n",
    "    output_size=INPUT_SHAPE,\n",
    "    is_train=True,\n",
    "    augmentation= train_preproc\n",
    ")\n",
    "\n",
    "test_generator = data_generator.FullSizedDataGenerator(\n",
    "    TRAIN_SOURCE, \n",
    "    batch_size=1, \n",
    "    img_size=INPUT_SHAPE,\n",
    "    output_size=INPUT_SHAPE,\n",
    "    is_train=False,\n",
    "    augmentation= test_preproc\n",
    ")\n",
    "\n",
    "# Create model\n",
    "model = pyramid.build_model(INPUT_SHAPE)\n",
    "model.summary()"
   ]
  },
  {
   "cell_type": "code",
   "execution_count": 3,
   "metadata": {},
   "outputs": [
    {
     "name": "stdout",
     "output_type": "stream",
     "text": [
      "Epoch 1/30\n"
     ]
    },
    {
     "name": "stderr",
     "output_type": "stream",
     "text": [
      "2024-01-31 07:44:36.041551: I external/local_xla/xla/stream_executor/cuda/cuda_dnn.cc:454] Loaded cuDNN version 8904\n",
      "2024-01-31 07:44:39.153066: I external/local_xla/xla/service/service.cc:168] XLA service 0x7fb84fa500a0 initialized for platform CUDA (this does not guarantee that XLA will be used). Devices:\n",
      "2024-01-31 07:44:39.153089: I external/local_xla/xla/service/service.cc:176]   StreamExecutor device (0): NVIDIA GeForce RTX 3080 Ti, Compute Capability 8.6\n",
      "2024-01-31 07:44:39.156472: I tensorflow/compiler/mlir/tensorflow/utils/dump_mlir_util.cc:269] disabling MLIR crash reproducer, set env var `MLIR_CRASH_REPRODUCER_DIRECTORY` to enable.\n",
      "WARNING: All log messages before absl::InitializeLog() is called are written to STDERR\n",
      "I0000 00:00:1706687079.229101 1082436 device_compiler.h:186] Compiled cluster using XLA!  This line is logged at most once for the lifetime of the process.\n"
     ]
    },
    {
     "name": "stdout",
     "output_type": "stream",
     "text": [
      "879/880 [============================>.] - ETA: 0s - loss: 0.4689 - sensitivity: 0.4545 - specificity: 0.9680 - accuracy: 0.9331INFO:tensorflow:Assets written to: /visuworks/Blindless_AIFFELTON/Ablation Study/Pyramid/model_parameters/pyramid_30ep_1024_fG_wo_decay.tf/1--0.4687-0.4548-0.9680-0.5994-0.9727.pb/assets\n"
     ]
    },
    {
     "name": "stderr",
     "output_type": "stream",
     "text": [
      "INFO:tensorflow:Assets written to: /visuworks/Blindless_AIFFELTON/Ablation Study/Pyramid/model_parameters/pyramid_30ep_1024_fG_wo_decay.tf/1--0.4687-0.4548-0.9680-0.5994-0.9727.pb/assets\n"
     ]
    },
    {
     "name": "stdout",
     "output_type": "stream",
     "text": [
      "Model saved to /visuworks/Blindless_AIFFELTON/Ablation Study/Pyramid/model_parameters/pyramid_30ep_1024_fG_wo_decay.tf/1--0.4687-0.4548-0.9680-0.5994-0.9727.pb\n",
      "880/880 [==============================] - 142s 141ms/step - loss: 0.4687 - sensitivity: 0.4548 - specificity: 0.9680 - accuracy: 0.9331 - val_loss: 0.3459 - val_sensitivity: 0.5994 - val_specificity: 0.9727 - val_accuracy: 0.9478\n",
      "Epoch 2/30\n",
      "880/880 [==============================] - ETA: 0s - loss: 0.3276 - sensitivity: 0.6487 - specificity: 0.9695 - accuracy: 0.9484INFO:tensorflow:Assets written to: /visuworks/Blindless_AIFFELTON/Ablation Study/Pyramid/model_parameters/pyramid_30ep_1024_fG_wo_decay.tf/2--0.3276-0.6487-0.9695-0.6806-0.9695.pb/assets\n"
     ]
    },
    {
     "name": "stderr",
     "output_type": "stream",
     "text": [
      "INFO:tensorflow:Assets written to: /visuworks/Blindless_AIFFELTON/Ablation Study/Pyramid/model_parameters/pyramid_30ep_1024_fG_wo_decay.tf/2--0.3276-0.6487-0.9695-0.6806-0.9695.pb/assets\n"
     ]
    },
    {
     "name": "stdout",
     "output_type": "stream",
     "text": [
      "Model saved to /visuworks/Blindless_AIFFELTON/Ablation Study/Pyramid/model_parameters/pyramid_30ep_1024_fG_wo_decay.tf/2--0.3276-0.6487-0.9695-0.6806-0.9695.pb\n",
      "880/880 [==============================] - 124s 141ms/step - loss: 0.3276 - sensitivity: 0.6487 - specificity: 0.9695 - accuracy: 0.9484 - val_loss: 0.3090 - val_sensitivity: 0.6806 - val_specificity: 0.9695 - val_accuracy: 0.9504\n",
      "Epoch 3/30\n",
      "880/880 [==============================] - ETA: 0s - loss: 0.3023 - sensitivity: 0.6768 - specificity: 0.9718 - accuracy: 0.9525INFO:tensorflow:Assets written to: /visuworks/Blindless_AIFFELTON/Ablation Study/Pyramid/model_parameters/pyramid_30ep_1024_fG_wo_decay.tf/3--0.3023-0.6768-0.9718-0.6713-0.9753.pb/assets\n"
     ]
    },
    {
     "name": "stderr",
     "output_type": "stream",
     "text": [
      "INFO:tensorflow:Assets written to: /visuworks/Blindless_AIFFELTON/Ablation Study/Pyramid/model_parameters/pyramid_30ep_1024_fG_wo_decay.tf/3--0.3023-0.6768-0.9718-0.6713-0.9753.pb/assets\n"
     ]
    },
    {
     "name": "stdout",
     "output_type": "stream",
     "text": [
      "Model saved to /visuworks/Blindless_AIFFELTON/Ablation Study/Pyramid/model_parameters/pyramid_30ep_1024_fG_wo_decay.tf/3--0.3023-0.6768-0.9718-0.6713-0.9753.pb\n",
      "880/880 [==============================] - 120s 137ms/step - loss: 0.3023 - sensitivity: 0.6768 - specificity: 0.9718 - accuracy: 0.9525 - val_loss: 0.2904 - val_sensitivity: 0.6713 - val_specificity: 0.9753 - val_accuracy: 0.9553\n",
      "Epoch 4/30\n",
      "880/880 [==============================] - ETA: 0s - loss: 0.2846 - sensitivity: 0.6932 - specificity: 0.9739 - accuracy: 0.9557INFO:tensorflow:Assets written to: /visuworks/Blindless_AIFFELTON/Ablation Study/Pyramid/model_parameters/pyramid_30ep_1024_fG_wo_decay.tf/4--0.2846-0.6932-0.9739-0.5876-0.9858.pb/assets\n"
     ]
    },
    {
     "name": "stderr",
     "output_type": "stream",
     "text": [
      "INFO:tensorflow:Assets written to: /visuworks/Blindless_AIFFELTON/Ablation Study/Pyramid/model_parameters/pyramid_30ep_1024_fG_wo_decay.tf/4--0.2846-0.6932-0.9739-0.5876-0.9858.pb/assets\n"
     ]
    },
    {
     "name": "stdout",
     "output_type": "stream",
     "text": [
      "Model saved to /visuworks/Blindless_AIFFELTON/Ablation Study/Pyramid/model_parameters/pyramid_30ep_1024_fG_wo_decay.tf/4--0.2846-0.6932-0.9739-0.5876-0.9858.pb\n",
      "880/880 [==============================] - 118s 134ms/step - loss: 0.2846 - sensitivity: 0.6932 - specificity: 0.9739 - accuracy: 0.9557 - val_loss: 0.2997 - val_sensitivity: 0.5876 - val_specificity: 0.9858 - val_accuracy: 0.9590\n",
      "Epoch 5/30\n",
      "880/880 [==============================] - ETA: 0s - loss: 0.2734 - sensitivity: 0.7048 - specificity: 0.9751 - accuracy: 0.9575INFO:tensorflow:Assets written to: /visuworks/Blindless_AIFFELTON/Ablation Study/Pyramid/model_parameters/pyramid_30ep_1024_fG_wo_decay.tf/5--0.2734-0.7048-0.9751-0.7124-0.9758.pb/assets\n"
     ]
    },
    {
     "name": "stderr",
     "output_type": "stream",
     "text": [
      "INFO:tensorflow:Assets written to: /visuworks/Blindless_AIFFELTON/Ablation Study/Pyramid/model_parameters/pyramid_30ep_1024_fG_wo_decay.tf/5--0.2734-0.7048-0.9751-0.7124-0.9758.pb/assets\n"
     ]
    },
    {
     "name": "stdout",
     "output_type": "stream",
     "text": [
      "Model saved to /visuworks/Blindless_AIFFELTON/Ablation Study/Pyramid/model_parameters/pyramid_30ep_1024_fG_wo_decay.tf/5--0.2734-0.7048-0.9751-0.7124-0.9758.pb\n",
      "880/880 [==============================] - 117s 133ms/step - loss: 0.2734 - sensitivity: 0.7048 - specificity: 0.9751 - accuracy: 0.9575 - val_loss: 0.2656 - val_sensitivity: 0.7124 - val_specificity: 0.9758 - val_accuracy: 0.9586\n",
      "Epoch 6/30\n",
      "880/880 [==============================] - ETA: 0s - loss: 0.2650 - sensitivity: 0.7140 - specificity: 0.9759 - accuracy: 0.9589INFO:tensorflow:Assets written to: /visuworks/Blindless_AIFFELTON/Ablation Study/Pyramid/model_parameters/pyramid_30ep_1024_fG_wo_decay.tf/6--0.2650-0.7140-0.9759-0.7198-0.9751.pb/assets\n"
     ]
    },
    {
     "name": "stderr",
     "output_type": "stream",
     "text": [
      "INFO:tensorflow:Assets written to: /visuworks/Blindless_AIFFELTON/Ablation Study/Pyramid/model_parameters/pyramid_30ep_1024_fG_wo_decay.tf/6--0.2650-0.7140-0.9759-0.7198-0.9751.pb/assets\n"
     ]
    },
    {
     "name": "stdout",
     "output_type": "stream",
     "text": [
      "Model saved to /visuworks/Blindless_AIFFELTON/Ablation Study/Pyramid/model_parameters/pyramid_30ep_1024_fG_wo_decay.tf/6--0.2650-0.7140-0.9759-0.7198-0.9751.pb\n",
      "880/880 [==============================] - 119s 136ms/step - loss: 0.2650 - sensitivity: 0.7140 - specificity: 0.9759 - accuracy: 0.9589 - val_loss: 0.2653 - val_sensitivity: 0.7198 - val_specificity: 0.9751 - val_accuracy: 0.9584\n",
      "Epoch 7/30\n",
      "880/880 [==============================] - ETA: 0s - loss: 0.2600 - sensitivity: 0.7184 - specificity: 0.9765 - accuracy: 0.9597INFO:tensorflow:Assets written to: /visuworks/Blindless_AIFFELTON/Ablation Study/Pyramid/model_parameters/pyramid_30ep_1024_fG_wo_decay.tf/7--0.2600-0.7184-0.9765-0.7691-0.9666.pb/assets\n"
     ]
    },
    {
     "name": "stderr",
     "output_type": "stream",
     "text": [
      "INFO:tensorflow:Assets written to: /visuworks/Blindless_AIFFELTON/Ablation Study/Pyramid/model_parameters/pyramid_30ep_1024_fG_wo_decay.tf/7--0.2600-0.7184-0.9765-0.7691-0.9666.pb/assets\n"
     ]
    },
    {
     "name": "stdout",
     "output_type": "stream",
     "text": [
      "Model saved to /visuworks/Blindless_AIFFELTON/Ablation Study/Pyramid/model_parameters/pyramid_30ep_1024_fG_wo_decay.tf/7--0.2600-0.7184-0.9765-0.7691-0.9666.pb\n",
      "880/880 [==============================] - 117s 133ms/step - loss: 0.2600 - sensitivity: 0.7184 - specificity: 0.9765 - accuracy: 0.9597 - val_loss: 0.2722 - val_sensitivity: 0.7691 - val_specificity: 0.9666 - val_accuracy: 0.9538\n",
      "Epoch 8/30\n",
      "880/880 [==============================] - ETA: 0s - loss: 0.2554 - sensitivity: 0.7238 - specificity: 0.9769 - accuracy: 0.9605INFO:tensorflow:Assets written to: /visuworks/Blindless_AIFFELTON/Ablation Study/Pyramid/model_parameters/pyramid_30ep_1024_fG_wo_decay.tf/8--0.2554-0.7238-0.9769-0.7381-0.9750.pb/assets\n"
     ]
    },
    {
     "name": "stderr",
     "output_type": "stream",
     "text": [
      "INFO:tensorflow:Assets written to: /visuworks/Blindless_AIFFELTON/Ablation Study/Pyramid/model_parameters/pyramid_30ep_1024_fG_wo_decay.tf/8--0.2554-0.7238-0.9769-0.7381-0.9750.pb/assets\n"
     ]
    },
    {
     "name": "stdout",
     "output_type": "stream",
     "text": [
      "Model saved to /visuworks/Blindless_AIFFELTON/Ablation Study/Pyramid/model_parameters/pyramid_30ep_1024_fG_wo_decay.tf/8--0.2554-0.7238-0.9769-0.7381-0.9750.pb\n",
      "880/880 [==============================] - 119s 135ms/step - loss: 0.2554 - sensitivity: 0.7238 - specificity: 0.9769 - accuracy: 0.9605 - val_loss: 0.2537 - val_sensitivity: 0.7381 - val_specificity: 0.9750 - val_accuracy: 0.9597\n",
      "Epoch 9/30\n",
      "880/880 [==============================] - ETA: 0s - loss: 0.2492 - sensitivity: 0.7292 - specificity: 0.9776 - accuracy: 0.9615INFO:tensorflow:Assets written to: /visuworks/Blindless_AIFFELTON/Ablation Study/Pyramid/model_parameters/pyramid_30ep_1024_fG_wo_decay.tf/9--0.2492-0.7292-0.9776-0.7945-0.9654.pb/assets\n"
     ]
    },
    {
     "name": "stderr",
     "output_type": "stream",
     "text": [
      "INFO:tensorflow:Assets written to: /visuworks/Blindless_AIFFELTON/Ablation Study/Pyramid/model_parameters/pyramid_30ep_1024_fG_wo_decay.tf/9--0.2492-0.7292-0.9776-0.7945-0.9654.pb/assets\n"
     ]
    },
    {
     "name": "stdout",
     "output_type": "stream",
     "text": [
      "Model saved to /visuworks/Blindless_AIFFELTON/Ablation Study/Pyramid/model_parameters/pyramid_30ep_1024_fG_wo_decay.tf/9--0.2492-0.7292-0.9776-0.7945-0.9654.pb\n",
      "880/880 [==============================] - 125s 142ms/step - loss: 0.2492 - sensitivity: 0.7292 - specificity: 0.9776 - accuracy: 0.9615 - val_loss: 0.2619 - val_sensitivity: 0.7945 - val_specificity: 0.9654 - val_accuracy: 0.9546\n",
      "Epoch 10/30\n",
      "879/880 [============================>.] - ETA: 0s - loss: 0.2454 - sensitivity: 0.7331 - specificity: 0.9780 - accuracy: 0.9621INFO:tensorflow:Assets written to: /visuworks/Blindless_AIFFELTON/Ablation Study/Pyramid/model_parameters/pyramid_30ep_1024_fG_wo_decay.tf/10--0.2454-0.7333-0.9780-0.7250-0.9784.pb/assets\n"
     ]
    },
    {
     "name": "stderr",
     "output_type": "stream",
     "text": [
      "INFO:tensorflow:Assets written to: /visuworks/Blindless_AIFFELTON/Ablation Study/Pyramid/model_parameters/pyramid_30ep_1024_fG_wo_decay.tf/10--0.2454-0.7333-0.9780-0.7250-0.9784.pb/assets\n"
     ]
    },
    {
     "name": "stdout",
     "output_type": "stream",
     "text": [
      "Model saved to /visuworks/Blindless_AIFFELTON/Ablation Study/Pyramid/model_parameters/pyramid_30ep_1024_fG_wo_decay.tf/10--0.2454-0.7333-0.9780-0.7250-0.9784.pb\n",
      "880/880 [==============================] - 117s 133ms/step - loss: 0.2454 - sensitivity: 0.7333 - specificity: 0.9780 - accuracy: 0.9621 - val_loss: 0.2473 - val_sensitivity: 0.7250 - val_specificity: 0.9784 - val_accuracy: 0.9618\n",
      "Epoch 11/30\n",
      "880/880 [==============================] - ETA: 0s - loss: 0.2420 - sensitivity: 0.7350 - specificity: 0.9786 - accuracy: 0.9628INFO:tensorflow:Assets written to: /visuworks/Blindless_AIFFELTON/Ablation Study/Pyramid/model_parameters/pyramid_30ep_1024_fG_wo_decay.tf/11--0.2420-0.7350-0.9786-0.7715-0.9713.pb/assets\n"
     ]
    },
    {
     "name": "stderr",
     "output_type": "stream",
     "text": [
      "INFO:tensorflow:Assets written to: /visuworks/Blindless_AIFFELTON/Ablation Study/Pyramid/model_parameters/pyramid_30ep_1024_fG_wo_decay.tf/11--0.2420-0.7350-0.9786-0.7715-0.9713.pb/assets\n"
     ]
    },
    {
     "name": "stdout",
     "output_type": "stream",
     "text": [
      "Model saved to /visuworks/Blindless_AIFFELTON/Ablation Study/Pyramid/model_parameters/pyramid_30ep_1024_fG_wo_decay.tf/11--0.2420-0.7350-0.9786-0.7715-0.9713.pb\n",
      "880/880 [==============================] - 125s 142ms/step - loss: 0.2420 - sensitivity: 0.7350 - specificity: 0.9786 - accuracy: 0.9628 - val_loss: 0.2503 - val_sensitivity: 0.7715 - val_specificity: 0.9713 - val_accuracy: 0.9585\n",
      "Epoch 12/30\n",
      "880/880 [==============================] - ETA: 0s - loss: 0.2410 - sensitivity: 0.7378 - specificity: 0.9784 - accuracy: 0.9628INFO:tensorflow:Assets written to: /visuworks/Blindless_AIFFELTON/Ablation Study/Pyramid/model_parameters/pyramid_30ep_1024_fG_wo_decay.tf/12--0.2410-0.7378-0.9784-0.8076-0.9654.pb/assets\n"
     ]
    },
    {
     "name": "stderr",
     "output_type": "stream",
     "text": [
      "INFO:tensorflow:Assets written to: /visuworks/Blindless_AIFFELTON/Ablation Study/Pyramid/model_parameters/pyramid_30ep_1024_fG_wo_decay.tf/12--0.2410-0.7378-0.9784-0.8076-0.9654.pb/assets\n"
     ]
    },
    {
     "name": "stdout",
     "output_type": "stream",
     "text": [
      "Model saved to /visuworks/Blindless_AIFFELTON/Ablation Study/Pyramid/model_parameters/pyramid_30ep_1024_fG_wo_decay.tf/12--0.2410-0.7378-0.9784-0.8076-0.9654.pb\n",
      "880/880 [==============================] - 122s 139ms/step - loss: 0.2410 - sensitivity: 0.7378 - specificity: 0.9784 - accuracy: 0.9628 - val_loss: 0.2551 - val_sensitivity: 0.8076 - val_specificity: 0.9654 - val_accuracy: 0.9554\n",
      "Epoch 13/30\n",
      "880/880 [==============================] - ETA: 0s - loss: 0.2382 - sensitivity: 0.7404 - specificity: 0.9787 - accuracy: 0.9631INFO:tensorflow:Assets written to: /visuworks/Blindless_AIFFELTON/Ablation Study/Pyramid/model_parameters/pyramid_30ep_1024_fG_wo_decay.tf/13--0.2382-0.7404-0.9787-0.7205-0.9811.pb/assets\n"
     ]
    },
    {
     "name": "stderr",
     "output_type": "stream",
     "text": [
      "INFO:tensorflow:Assets written to: /visuworks/Blindless_AIFFELTON/Ablation Study/Pyramid/model_parameters/pyramid_30ep_1024_fG_wo_decay.tf/13--0.2382-0.7404-0.9787-0.7205-0.9811.pb/assets\n"
     ]
    },
    {
     "name": "stdout",
     "output_type": "stream",
     "text": [
      "Model saved to /visuworks/Blindless_AIFFELTON/Ablation Study/Pyramid/model_parameters/pyramid_30ep_1024_fG_wo_decay.tf/13--0.2382-0.7404-0.9787-0.7205-0.9811.pb\n",
      "880/880 [==============================] - 118s 133ms/step - loss: 0.2382 - sensitivity: 0.7404 - specificity: 0.9787 - accuracy: 0.9631 - val_loss: 0.2387 - val_sensitivity: 0.7205 - val_specificity: 0.9811 - val_accuracy: 0.9639\n",
      "Epoch 14/30\n",
      "880/880 [==============================] - ETA: 0s - loss: 0.2359 - sensitivity: 0.7429 - specificity: 0.9790 - accuracy: 0.9638INFO:tensorflow:Assets written to: /visuworks/Blindless_AIFFELTON/Ablation Study/Pyramid/model_parameters/pyramid_30ep_1024_fG_wo_decay.tf/14--0.2359-0.7429-0.9790-0.7492-0.9783.pb/assets\n"
     ]
    },
    {
     "name": "stderr",
     "output_type": "stream",
     "text": [
      "INFO:tensorflow:Assets written to: /visuworks/Blindless_AIFFELTON/Ablation Study/Pyramid/model_parameters/pyramid_30ep_1024_fG_wo_decay.tf/14--0.2359-0.7429-0.9790-0.7492-0.9783.pb/assets\n"
     ]
    },
    {
     "name": "stdout",
     "output_type": "stream",
     "text": [
      "Model saved to /visuworks/Blindless_AIFFELTON/Ablation Study/Pyramid/model_parameters/pyramid_30ep_1024_fG_wo_decay.tf/14--0.2359-0.7429-0.9790-0.7492-0.9783.pb\n",
      "880/880 [==============================] - 118s 134ms/step - loss: 0.2359 - sensitivity: 0.7429 - specificity: 0.9790 - accuracy: 0.9638 - val_loss: 0.2364 - val_sensitivity: 0.7492 - val_specificity: 0.9783 - val_accuracy: 0.9631\n",
      "Epoch 15/30\n",
      "880/880 [==============================] - ETA: 0s - loss: 0.2333 - sensitivity: 0.7449 - specificity: 0.9793 - accuracy: 0.9640INFO:tensorflow:Assets written to: /visuworks/Blindless_AIFFELTON/Ablation Study/Pyramid/model_parameters/pyramid_30ep_1024_fG_wo_decay.tf/15--0.2333-0.7449-0.9793-0.7570-0.9781.pb/assets\n"
     ]
    },
    {
     "name": "stderr",
     "output_type": "stream",
     "text": [
      "INFO:tensorflow:Assets written to: /visuworks/Blindless_AIFFELTON/Ablation Study/Pyramid/model_parameters/pyramid_30ep_1024_fG_wo_decay.tf/15--0.2333-0.7449-0.9793-0.7570-0.9781.pb/assets\n"
     ]
    },
    {
     "name": "stdout",
     "output_type": "stream",
     "text": [
      "Model saved to /visuworks/Blindless_AIFFELTON/Ablation Study/Pyramid/model_parameters/pyramid_30ep_1024_fG_wo_decay.tf/15--0.2333-0.7449-0.9793-0.7570-0.9781.pb\n",
      "880/880 [==============================] - 119s 135ms/step - loss: 0.2333 - sensitivity: 0.7449 - specificity: 0.9793 - accuracy: 0.9640 - val_loss: 0.2316 - val_sensitivity: 0.7570 - val_specificity: 0.9781 - val_accuracy: 0.9637\n",
      "Epoch 16/30\n",
      "880/880 [==============================] - ETA: 0s - loss: 0.2306 - sensitivity: 0.7477 - specificity: 0.9796 - accuracy: 0.9646INFO:tensorflow:Assets written to: /visuworks/Blindless_AIFFELTON/Ablation Study/Pyramid/model_parameters/pyramid_30ep_1024_fG_wo_decay.tf/16--0.2306-0.7477-0.9796-0.7565-0.9779.pb/assets\n"
     ]
    },
    {
     "name": "stderr",
     "output_type": "stream",
     "text": [
      "INFO:tensorflow:Assets written to: /visuworks/Blindless_AIFFELTON/Ablation Study/Pyramid/model_parameters/pyramid_30ep_1024_fG_wo_decay.tf/16--0.2306-0.7477-0.9796-0.7565-0.9779.pb/assets\n"
     ]
    },
    {
     "name": "stdout",
     "output_type": "stream",
     "text": [
      "Model saved to /visuworks/Blindless_AIFFELTON/Ablation Study/Pyramid/model_parameters/pyramid_30ep_1024_fG_wo_decay.tf/16--0.2306-0.7477-0.9796-0.7565-0.9779.pb\n",
      "880/880 [==============================] - 123s 139ms/step - loss: 0.2306 - sensitivity: 0.7477 - specificity: 0.9796 - accuracy: 0.9646 - val_loss: 0.2319 - val_sensitivity: 0.7565 - val_specificity: 0.9779 - val_accuracy: 0.9636\n",
      "Epoch 17/30\n",
      "880/880 [==============================] - ETA: 0s - loss: 0.2303 - sensitivity: 0.7481 - specificity: 0.9795 - accuracy: 0.9646INFO:tensorflow:Assets written to: /visuworks/Blindless_AIFFELTON/Ablation Study/Pyramid/model_parameters/pyramid_30ep_1024_fG_wo_decay.tf/17--0.2303-0.7481-0.9795-0.7601-0.9782.pb/assets\n"
     ]
    },
    {
     "name": "stderr",
     "output_type": "stream",
     "text": [
      "INFO:tensorflow:Assets written to: /visuworks/Blindless_AIFFELTON/Ablation Study/Pyramid/model_parameters/pyramid_30ep_1024_fG_wo_decay.tf/17--0.2303-0.7481-0.9795-0.7601-0.9782.pb/assets\n"
     ]
    },
    {
     "name": "stdout",
     "output_type": "stream",
     "text": [
      "Model saved to /visuworks/Blindless_AIFFELTON/Ablation Study/Pyramid/model_parameters/pyramid_30ep_1024_fG_wo_decay.tf/17--0.2303-0.7481-0.9795-0.7601-0.9782.pb\n",
      "880/880 [==============================] - 114s 130ms/step - loss: 0.2303 - sensitivity: 0.7481 - specificity: 0.9795 - accuracy: 0.9646 - val_loss: 0.2297 - val_sensitivity: 0.7601 - val_specificity: 0.9782 - val_accuracy: 0.9640\n",
      "Epoch 18/30\n",
      "880/880 [==============================] - ETA: 0s - loss: 0.2285 - sensitivity: 0.7502 - specificity: 0.9798 - accuracy: 0.9650INFO:tensorflow:Assets written to: /visuworks/Blindless_AIFFELTON/Ablation Study/Pyramid/model_parameters/pyramid_30ep_1024_fG_wo_decay.tf/18--0.2285-0.7502-0.9798-0.7298-0.9814.pb/assets\n"
     ]
    },
    {
     "name": "stderr",
     "output_type": "stream",
     "text": [
      "INFO:tensorflow:Assets written to: /visuworks/Blindless_AIFFELTON/Ablation Study/Pyramid/model_parameters/pyramid_30ep_1024_fG_wo_decay.tf/18--0.2285-0.7502-0.9798-0.7298-0.9814.pb/assets\n"
     ]
    },
    {
     "name": "stdout",
     "output_type": "stream",
     "text": [
      "Model saved to /visuworks/Blindless_AIFFELTON/Ablation Study/Pyramid/model_parameters/pyramid_30ep_1024_fG_wo_decay.tf/18--0.2285-0.7502-0.9798-0.7298-0.9814.pb\n",
      "880/880 [==============================] - 121s 138ms/step - loss: 0.2285 - sensitivity: 0.7502 - specificity: 0.9798 - accuracy: 0.9650 - val_loss: 0.2322 - val_sensitivity: 0.7298 - val_specificity: 0.9814 - val_accuracy: 0.9648\n",
      "Epoch 19/30\n",
      "880/880 [==============================] - ETA: 0s - loss: 0.2264 - sensitivity: 0.7516 - specificity: 0.9801 - accuracy: 0.9653INFO:tensorflow:Assets written to: /visuworks/Blindless_AIFFELTON/Ablation Study/Pyramid/model_parameters/pyramid_30ep_1024_fG_wo_decay.tf/19--0.2264-0.7516-0.9801-0.7858-0.9743.pb/assets\n"
     ]
    },
    {
     "name": "stderr",
     "output_type": "stream",
     "text": [
      "INFO:tensorflow:Assets written to: /visuworks/Blindless_AIFFELTON/Ablation Study/Pyramid/model_parameters/pyramid_30ep_1024_fG_wo_decay.tf/19--0.2264-0.7516-0.9801-0.7858-0.9743.pb/assets\n"
     ]
    },
    {
     "name": "stdout",
     "output_type": "stream",
     "text": [
      "Model saved to /visuworks/Blindless_AIFFELTON/Ablation Study/Pyramid/model_parameters/pyramid_30ep_1024_fG_wo_decay.tf/19--0.2264-0.7516-0.9801-0.7858-0.9743.pb\n",
      "880/880 [==============================] - 115s 130ms/step - loss: 0.2264 - sensitivity: 0.7516 - specificity: 0.9801 - accuracy: 0.9653 - val_loss: 0.2331 - val_sensitivity: 0.7858 - val_specificity: 0.9743 - val_accuracy: 0.9621\n",
      "Epoch 20/30\n",
      "880/880 [==============================] - ETA: 0s - loss: 0.2280 - sensitivity: 0.7507 - specificity: 0.9799 - accuracy: 0.9651INFO:tensorflow:Assets written to: /visuworks/Blindless_AIFFELTON/Ablation Study/Pyramid/model_parameters/pyramid_30ep_1024_fG_wo_decay.tf/20--0.2280-0.7507-0.9799-0.7622-0.9782.pb/assets\n"
     ]
    },
    {
     "name": "stderr",
     "output_type": "stream",
     "text": [
      "INFO:tensorflow:Assets written to: /visuworks/Blindless_AIFFELTON/Ablation Study/Pyramid/model_parameters/pyramid_30ep_1024_fG_wo_decay.tf/20--0.2280-0.7507-0.9799-0.7622-0.9782.pb/assets\n"
     ]
    },
    {
     "name": "stdout",
     "output_type": "stream",
     "text": [
      "Model saved to /visuworks/Blindless_AIFFELTON/Ablation Study/Pyramid/model_parameters/pyramid_30ep_1024_fG_wo_decay.tf/20--0.2280-0.7507-0.9799-0.7622-0.9782.pb\n",
      "880/880 [==============================] - 118s 134ms/step - loss: 0.2280 - sensitivity: 0.7507 - specificity: 0.9799 - accuracy: 0.9651 - val_loss: 0.2285 - val_sensitivity: 0.7622 - val_specificity: 0.9782 - val_accuracy: 0.9642\n",
      "Epoch 21/30\n",
      "879/880 [============================>.] - ETA: 0s - loss: 0.2237 - sensitivity: 0.7550 - specificity: 0.9802 - accuracy: 0.9656INFO:tensorflow:Assets written to: /visuworks/Blindless_AIFFELTON/Ablation Study/Pyramid/model_parameters/pyramid_30ep_1024_fG_wo_decay.tf/21--0.2239-0.7550-0.9802-0.7587-0.9794.pb/assets\n"
     ]
    },
    {
     "name": "stderr",
     "output_type": "stream",
     "text": [
      "INFO:tensorflow:Assets written to: /visuworks/Blindless_AIFFELTON/Ablation Study/Pyramid/model_parameters/pyramid_30ep_1024_fG_wo_decay.tf/21--0.2239-0.7550-0.9802-0.7587-0.9794.pb/assets\n"
     ]
    },
    {
     "name": "stdout",
     "output_type": "stream",
     "text": [
      "Model saved to /visuworks/Blindless_AIFFELTON/Ablation Study/Pyramid/model_parameters/pyramid_30ep_1024_fG_wo_decay.tf/21--0.2239-0.7550-0.9802-0.7587-0.9794.pb\n",
      "880/880 [==============================] - 119s 135ms/step - loss: 0.2239 - sensitivity: 0.7550 - specificity: 0.9802 - accuracy: 0.9656 - val_loss: 0.2249 - val_sensitivity: 0.7587 - val_specificity: 0.9794 - val_accuracy: 0.9650\n",
      "Epoch 22/30\n",
      "880/880 [==============================] - ETA: 0s - loss: 0.2228 - sensitivity: 0.7565 - specificity: 0.9803 - accuracy: 0.9658INFO:tensorflow:Assets written to: /visuworks/Blindless_AIFFELTON/Ablation Study/Pyramid/model_parameters/pyramid_30ep_1024_fG_wo_decay.tf/22--0.2228-0.7565-0.9803-0.6924-0.9853.pb/assets\n"
     ]
    },
    {
     "name": "stderr",
     "output_type": "stream",
     "text": [
      "INFO:tensorflow:Assets written to: /visuworks/Blindless_AIFFELTON/Ablation Study/Pyramid/model_parameters/pyramid_30ep_1024_fG_wo_decay.tf/22--0.2228-0.7565-0.9803-0.6924-0.9853.pb/assets\n"
     ]
    },
    {
     "name": "stdout",
     "output_type": "stream",
     "text": [
      "Model saved to /visuworks/Blindless_AIFFELTON/Ablation Study/Pyramid/model_parameters/pyramid_30ep_1024_fG_wo_decay.tf/22--0.2228-0.7565-0.9803-0.6924-0.9853.pb\n",
      "880/880 [==============================] - 121s 137ms/step - loss: 0.2228 - sensitivity: 0.7565 - specificity: 0.9803 - accuracy: 0.9658 - val_loss: 0.2335 - val_sensitivity: 0.6924 - val_specificity: 0.9853 - val_accuracy: 0.9659\n",
      "Epoch 23/30\n",
      "880/880 [==============================] - ETA: 0s - loss: 0.2213 - sensitivity: 0.7575 - specificity: 0.9805 - accuracy: 0.9661INFO:tensorflow:Assets written to: /visuworks/Blindless_AIFFELTON/Ablation Study/Pyramid/model_parameters/pyramid_30ep_1024_fG_wo_decay.tf/23--0.2213-0.7575-0.9805-0.7867-0.9759.pb/assets\n"
     ]
    },
    {
     "name": "stderr",
     "output_type": "stream",
     "text": [
      "INFO:tensorflow:Assets written to: /visuworks/Blindless_AIFFELTON/Ablation Study/Pyramid/model_parameters/pyramid_30ep_1024_fG_wo_decay.tf/23--0.2213-0.7575-0.9805-0.7867-0.9759.pb/assets\n"
     ]
    },
    {
     "name": "stdout",
     "output_type": "stream",
     "text": [
      "Model saved to /visuworks/Blindless_AIFFELTON/Ablation Study/Pyramid/model_parameters/pyramid_30ep_1024_fG_wo_decay.tf/23--0.2213-0.7575-0.9805-0.7867-0.9759.pb\n",
      "880/880 [==============================] - 116s 132ms/step - loss: 0.2213 - sensitivity: 0.7575 - specificity: 0.9805 - accuracy: 0.9661 - val_loss: 0.2258 - val_sensitivity: 0.7867 - val_specificity: 0.9759 - val_accuracy: 0.9636\n",
      "Epoch 24/30\n",
      "880/880 [==============================] - ETA: 0s - loss: 0.2209 - sensitivity: 0.7589 - specificity: 0.9804 - accuracy: 0.9660INFO:tensorflow:Assets written to: /visuworks/Blindless_AIFFELTON/Ablation Study/Pyramid/model_parameters/pyramid_30ep_1024_fG_wo_decay.tf/24--0.2209-0.7589-0.9804-0.7239-0.9827.pb/assets\n"
     ]
    },
    {
     "name": "stderr",
     "output_type": "stream",
     "text": [
      "INFO:tensorflow:Assets written to: /visuworks/Blindless_AIFFELTON/Ablation Study/Pyramid/model_parameters/pyramid_30ep_1024_fG_wo_decay.tf/24--0.2209-0.7589-0.9804-0.7239-0.9827.pb/assets\n"
     ]
    },
    {
     "name": "stdout",
     "output_type": "stream",
     "text": [
      "Model saved to /visuworks/Blindless_AIFFELTON/Ablation Study/Pyramid/model_parameters/pyramid_30ep_1024_fG_wo_decay.tf/24--0.2209-0.7589-0.9804-0.7239-0.9827.pb\n",
      "880/880 [==============================] - 119s 135ms/step - loss: 0.2209 - sensitivity: 0.7589 - specificity: 0.9804 - accuracy: 0.9660 - val_loss: 0.2286 - val_sensitivity: 0.7239 - val_specificity: 0.9827 - val_accuracy: 0.9657\n",
      "Epoch 25/30\n",
      "880/880 [==============================] - ETA: 0s - loss: 0.2194 - sensitivity: 0.7604 - specificity: 0.9806 - accuracy: 0.9663INFO:tensorflow:Assets written to: /visuworks/Blindless_AIFFELTON/Ablation Study/Pyramid/model_parameters/pyramid_30ep_1024_fG_wo_decay.tf/25--0.2194-0.7604-0.9806-0.7527-0.9802.pb/assets\n"
     ]
    },
    {
     "name": "stderr",
     "output_type": "stream",
     "text": [
      "INFO:tensorflow:Assets written to: /visuworks/Blindless_AIFFELTON/Ablation Study/Pyramid/model_parameters/pyramid_30ep_1024_fG_wo_decay.tf/25--0.2194-0.7604-0.9806-0.7527-0.9802.pb/assets\n"
     ]
    },
    {
     "name": "stdout",
     "output_type": "stream",
     "text": [
      "Model saved to /visuworks/Blindless_AIFFELTON/Ablation Study/Pyramid/model_parameters/pyramid_30ep_1024_fG_wo_decay.tf/25--0.2194-0.7604-0.9806-0.7527-0.9802.pb\n",
      "880/880 [==============================] - 119s 135ms/step - loss: 0.2194 - sensitivity: 0.7604 - specificity: 0.9806 - accuracy: 0.9663 - val_loss: 0.2243 - val_sensitivity: 0.7527 - val_specificity: 0.9802 - val_accuracy: 0.9654\n",
      "Epoch 26/30\n",
      "880/880 [==============================] - ETA: 0s - loss: 0.2180 - sensitivity: 0.7610 - specificity: 0.9807 - accuracy: 0.9665INFO:tensorflow:Assets written to: /visuworks/Blindless_AIFFELTON/Ablation Study/Pyramid/model_parameters/pyramid_30ep_1024_fG_wo_decay.tf/26--0.2180-0.7610-0.9807-0.7290-0.9830.pb/assets\n"
     ]
    },
    {
     "name": "stderr",
     "output_type": "stream",
     "text": [
      "INFO:tensorflow:Assets written to: /visuworks/Blindless_AIFFELTON/Ablation Study/Pyramid/model_parameters/pyramid_30ep_1024_fG_wo_decay.tf/26--0.2180-0.7610-0.9807-0.7290-0.9830.pb/assets\n"
     ]
    },
    {
     "name": "stdout",
     "output_type": "stream",
     "text": [
      "Model saved to /visuworks/Blindless_AIFFELTON/Ablation Study/Pyramid/model_parameters/pyramid_30ep_1024_fG_wo_decay.tf/26--0.2180-0.7610-0.9807-0.7290-0.9830.pb\n",
      "880/880 [==============================] - 123s 140ms/step - loss: 0.2180 - sensitivity: 0.7610 - specificity: 0.9807 - accuracy: 0.9665 - val_loss: 0.2247 - val_sensitivity: 0.7290 - val_specificity: 0.9830 - val_accuracy: 0.9663\n",
      "Epoch 27/30\n",
      "880/880 [==============================] - ETA: 0s - loss: 0.2182 - sensitivity: 0.7605 - specificity: 0.9808 - accuracy: 0.9666INFO:tensorflow:Assets written to: /visuworks/Blindless_AIFFELTON/Ablation Study/Pyramid/model_parameters/pyramid_30ep_1024_fG_wo_decay.tf/27--0.2182-0.7605-0.9808-0.7920-0.9760.pb/assets\n"
     ]
    },
    {
     "name": "stderr",
     "output_type": "stream",
     "text": [
      "INFO:tensorflow:Assets written to: /visuworks/Blindless_AIFFELTON/Ablation Study/Pyramid/model_parameters/pyramid_30ep_1024_fG_wo_decay.tf/27--0.2182-0.7605-0.9808-0.7920-0.9760.pb/assets\n"
     ]
    },
    {
     "name": "stdout",
     "output_type": "stream",
     "text": [
      "Model saved to /visuworks/Blindless_AIFFELTON/Ablation Study/Pyramid/model_parameters/pyramid_30ep_1024_fG_wo_decay.tf/27--0.2182-0.7605-0.9808-0.7920-0.9760.pb\n",
      "880/880 [==============================] - 115s 131ms/step - loss: 0.2182 - sensitivity: 0.7605 - specificity: 0.9808 - accuracy: 0.9666 - val_loss: 0.2225 - val_sensitivity: 0.7920 - val_specificity: 0.9760 - val_accuracy: 0.9641\n",
      "Epoch 28/30\n",
      "879/880 [============================>.] - ETA: 0s - loss: 0.2170 - sensitivity: 0.7627 - specificity: 0.9809 - accuracy: 0.9668INFO:tensorflow:Assets written to: /visuworks/Blindless_AIFFELTON/Ablation Study/Pyramid/model_parameters/pyramid_30ep_1024_fG_wo_decay.tf/28--0.2170-0.7626-0.9809-0.7113-0.9847.pb/assets\n"
     ]
    },
    {
     "name": "stderr",
     "output_type": "stream",
     "text": [
      "INFO:tensorflow:Assets written to: /visuworks/Blindless_AIFFELTON/Ablation Study/Pyramid/model_parameters/pyramid_30ep_1024_fG_wo_decay.tf/28--0.2170-0.7626-0.9809-0.7113-0.9847.pb/assets\n"
     ]
    },
    {
     "name": "stdout",
     "output_type": "stream",
     "text": [
      "Model saved to /visuworks/Blindless_AIFFELTON/Ablation Study/Pyramid/model_parameters/pyramid_30ep_1024_fG_wo_decay.tf/28--0.2170-0.7626-0.9809-0.7113-0.9847.pb\n",
      "880/880 [==============================] - 117s 133ms/step - loss: 0.2170 - sensitivity: 0.7626 - specificity: 0.9809 - accuracy: 0.9668 - val_loss: 0.2266 - val_sensitivity: 0.7113 - val_specificity: 0.9847 - val_accuracy: 0.9666\n",
      "Epoch 29/30\n",
      "880/880 [==============================] - ETA: 0s - loss: 0.2160 - sensitivity: 0.7629 - specificity: 0.9811 - accuracy: 0.9670INFO:tensorflow:Assets written to: /visuworks/Blindless_AIFFELTON/Ablation Study/Pyramid/model_parameters/pyramid_30ep_1024_fG_wo_decay.tf/29--0.2160-0.7629-0.9811-0.7637-0.9796.pb/assets\n"
     ]
    },
    {
     "name": "stderr",
     "output_type": "stream",
     "text": [
      "INFO:tensorflow:Assets written to: /visuworks/Blindless_AIFFELTON/Ablation Study/Pyramid/model_parameters/pyramid_30ep_1024_fG_wo_decay.tf/29--0.2160-0.7629-0.9811-0.7637-0.9796.pb/assets\n"
     ]
    },
    {
     "name": "stdout",
     "output_type": "stream",
     "text": [
      "Model saved to /visuworks/Blindless_AIFFELTON/Ablation Study/Pyramid/model_parameters/pyramid_30ep_1024_fG_wo_decay.tf/29--0.2160-0.7629-0.9811-0.7637-0.9796.pb\n",
      "880/880 [==============================] - 115s 131ms/step - loss: 0.2160 - sensitivity: 0.7629 - specificity: 0.9811 - accuracy: 0.9670 - val_loss: 0.2215 - val_sensitivity: 0.7637 - val_specificity: 0.9796 - val_accuracy: 0.9657\n",
      "Epoch 30/30\n",
      "879/880 [============================>.] - ETA: 0s - loss: 0.2144 - sensitivity: 0.7646 - specificity: 0.9812 - accuracy: 0.9672INFO:tensorflow:Assets written to: /visuworks/Blindless_AIFFELTON/Ablation Study/Pyramid/model_parameters/pyramid_30ep_1024_fG_wo_decay.tf/30--0.2146-0.7646-0.9812-0.7205-0.9843.pb/assets\n"
     ]
    },
    {
     "name": "stderr",
     "output_type": "stream",
     "text": [
      "INFO:tensorflow:Assets written to: /visuworks/Blindless_AIFFELTON/Ablation Study/Pyramid/model_parameters/pyramid_30ep_1024_fG_wo_decay.tf/30--0.2146-0.7646-0.9812-0.7205-0.9843.pb/assets\n"
     ]
    },
    {
     "name": "stdout",
     "output_type": "stream",
     "text": [
      "Model saved to /visuworks/Blindless_AIFFELTON/Ablation Study/Pyramid/model_parameters/pyramid_30ep_1024_fG_wo_decay.tf/30--0.2146-0.7646-0.9812-0.7205-0.9843.pb\n",
      "880/880 [==============================] - 116s 131ms/step - loss: 0.2146 - sensitivity: 0.7646 - specificity: 0.9812 - accuracy: 0.9671 - val_loss: 0.2223 - val_sensitivity: 0.7205 - val_specificity: 0.9843 - val_accuracy: 0.9669\n"
     ]
    }
   ],
   "source": [
    "train.model_train(model,\n",
    "                  epoch = 30,\n",
    "                  train_generator = train_generator,\n",
    "                  test_generator = test_generator,\n",
    "                  model_path = MODEL_PATH,\n",
    "                  history_path = HISTORY_PATH,\n",
    "                  save_every_epoch=True,\n",
    "                  apply_weight_decay=False)"
   ]
  }
 ],
 "metadata": {
  "kernelspec": {
   "display_name": "Python 3",
   "language": "python",
   "name": "python3"
  },
  "language_info": {
   "codemirror_mode": {
    "name": "ipython",
    "version": 3
   },
   "file_extension": ".py",
   "mimetype": "text/x-python",
   "name": "python",
   "nbconvert_exporter": "python",
   "pygments_lexer": "ipython3",
   "version": "3.10.12"
  }
 },
 "nbformat": 4,
 "nbformat_minor": 2
}
