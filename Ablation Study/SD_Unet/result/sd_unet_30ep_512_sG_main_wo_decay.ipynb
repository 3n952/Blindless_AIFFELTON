{
 "cells": [
  {
   "cell_type": "code",
   "execution_count": 2,
   "metadata": {},
   "outputs": [
    {
     "name": "stderr",
     "output_type": "stream",
     "text": [
      "2024-01-31 05:22:54.017145: E external/local_xla/xla/stream_executor/cuda/cuda_dnn.cc:9261] Unable to register cuDNN factory: Attempting to register factory for plugin cuDNN when one has already been registered\n",
      "2024-01-31 05:22:54.017171: E external/local_xla/xla/stream_executor/cuda/cuda_fft.cc:607] Unable to register cuFFT factory: Attempting to register factory for plugin cuFFT when one has already been registered\n",
      "2024-01-31 05:22:54.018334: E external/local_xla/xla/stream_executor/cuda/cuda_blas.cc:1515] Unable to register cuBLAS factory: Attempting to register factory for plugin cuBLAS when one has already been registered\n",
      "2024-01-31 05:22:54.024004: I tensorflow/core/platform/cpu_feature_guard.cc:182] This TensorFlow binary is optimized to use available CPU instructions in performance-critical operations.\n",
      "To enable the following instructions: AVX2 FMA, in other operations, rebuild TensorFlow with the appropriate compiler flags.\n",
      "2024-01-31 05:22:54.585737: W tensorflow/compiler/tf2tensorrt/utils/py_utils.cc:38] TF-TRT Warning: Could not find TensorRT\n"
     ]
    }
   ],
   "source": [
    "import sys\n",
    "import tensorflow as tf\n",
    "sys.path.append(\"/visuworks/Blindless_AIFFELTON/Ablation Study/\")\n",
    "\n",
    "# import customized modules\n",
    "import preprocess, data_generator, check_result, metrics, loss, train\n",
    "\n",
    "sys.path.append(\"/visuworks/Blindless_AIFFELTON/Ablation Study/SD_Unet\")\n",
    "import sd_unet\n",
    "\n",
    "# Insert Path\n",
    "# {model_name}_{epoch}ep_{model_inpusize}_{Generator | aG/fG/sG}\n",
    "FILE_NAME = 'sd_unet_30ep_512_sG_wo_decay'\n",
    "INPUT_SHAPE = (512, 512, 1)\n",
    "RESIZE_SHAPE = (1024, 1024, 1)\n",
    "MODEL_PATH = \"/visuworks/Blindless_AIFFELTON/Ablation Study/SD_Unet/model_parameters/\" + FILE_NAME + \".tf\"\n",
    "HISTORY_PATH = \"/visuworks/Blindless_AIFFELTON/Ablation Study/SD_Unet/history/\" + FILE_NAME + '_history' \".json\"\n",
    "\n",
    "TRAIN_SOURCE = '/visuworks/Dataset/Selected Dataset 3/Train'\n",
    "TEST_SOURCE = '/visuworks/Dataset/Selected Dataset 3/Test'"
   ]
  },
  {
   "cell_type": "code",
   "execution_count": 2,
   "metadata": {},
   "outputs": [
    {
     "name": "stderr",
     "output_type": "stream",
     "text": [
      "2024-01-31 05:09:56.824738: I external/local_xla/xla/stream_executor/cuda/cuda_executor.cc:901] successful NUMA node read from SysFS had negative value (-1), but there must be at least one NUMA node, so returning NUMA node zero. See more at https://github.com/torvalds/linux/blob/v6.0/Documentation/ABI/testing/sysfs-bus-pci#L344-L355\n",
      "2024-01-31 05:09:56.860233: I external/local_xla/xla/stream_executor/cuda/cuda_executor.cc:901] successful NUMA node read from SysFS had negative value (-1), but there must be at least one NUMA node, so returning NUMA node zero. See more at https://github.com/torvalds/linux/blob/v6.0/Documentation/ABI/testing/sysfs-bus-pci#L344-L355\n",
      "2024-01-31 05:09:56.860436: I external/local_xla/xla/stream_executor/cuda/cuda_executor.cc:901] successful NUMA node read from SysFS had negative value (-1), but there must be at least one NUMA node, so returning NUMA node zero. See more at https://github.com/torvalds/linux/blob/v6.0/Documentation/ABI/testing/sysfs-bus-pci#L344-L355\n",
      "2024-01-31 05:09:56.862463: I external/local_xla/xla/stream_executor/cuda/cuda_executor.cc:901] successful NUMA node read from SysFS had negative value (-1), but there must be at least one NUMA node, so returning NUMA node zero. See more at https://github.com/torvalds/linux/blob/v6.0/Documentation/ABI/testing/sysfs-bus-pci#L344-L355\n",
      "2024-01-31 05:09:56.862641: I external/local_xla/xla/stream_executor/cuda/cuda_executor.cc:901] successful NUMA node read from SysFS had negative value (-1), but there must be at least one NUMA node, so returning NUMA node zero. See more at https://github.com/torvalds/linux/blob/v6.0/Documentation/ABI/testing/sysfs-bus-pci#L344-L355\n",
      "2024-01-31 05:09:56.862800: I external/local_xla/xla/stream_executor/cuda/cuda_executor.cc:901] successful NUMA node read from SysFS had negative value (-1), but there must be at least one NUMA node, so returning NUMA node zero. See more at https://github.com/torvalds/linux/blob/v6.0/Documentation/ABI/testing/sysfs-bus-pci#L344-L355\n",
      "2024-01-31 05:09:56.930339: I external/local_xla/xla/stream_executor/cuda/cuda_executor.cc:901] successful NUMA node read from SysFS had negative value (-1), but there must be at least one NUMA node, so returning NUMA node zero. See more at https://github.com/torvalds/linux/blob/v6.0/Documentation/ABI/testing/sysfs-bus-pci#L344-L355\n",
      "2024-01-31 05:09:56.930526: I external/local_xla/xla/stream_executor/cuda/cuda_executor.cc:901] successful NUMA node read from SysFS had negative value (-1), but there must be at least one NUMA node, so returning NUMA node zero. See more at https://github.com/torvalds/linux/blob/v6.0/Documentation/ABI/testing/sysfs-bus-pci#L344-L355\n",
      "2024-01-31 05:09:56.930690: I external/local_xla/xla/stream_executor/cuda/cuda_executor.cc:901] successful NUMA node read from SysFS had negative value (-1), but there must be at least one NUMA node, so returning NUMA node zero. See more at https://github.com/torvalds/linux/blob/v6.0/Documentation/ABI/testing/sysfs-bus-pci#L344-L355\n",
      "2024-01-31 05:09:56.930811: I tensorflow/core/common_runtime/gpu/gpu_device.cc:1929] Created device /job:localhost/replica:0/task:0/device:GPU:0 with 9927 MB memory:  -> device: 0, name: NVIDIA GeForce RTX 3080 Ti, pci bus id: 0000:43:00.0, compute capability: 8.6\n"
     ]
    },
    {
     "name": "stdout",
     "output_type": "stream",
     "text": [
      "Model: \"model\"\n",
      "__________________________________________________________________________________________________\n",
      " Layer (type)                Output Shape                 Param #   Connected to                  \n",
      "==================================================================================================\n",
      " input_1 (InputLayer)        [(None, 512, 512, 1)]        0         []                            \n",
      "                                                                                                  \n",
      " conv2d (Conv2D)             (None, 512, 512, 8)          80        ['input_1[0][0]']             \n",
      "                                                                                                  \n",
      " drop_block2d (DropBlock2D)  (None, 512, 512, 8)          524288    ['conv2d[0][0]']              \n",
      "                                                                                                  \n",
      " activation (Activation)     (None, 512, 512, 8)          0         ['drop_block2d[0][0]']        \n",
      "                                                                                                  \n",
      " conv2d_1 (Conv2D)           (None, 512, 512, 8)          584       ['activation[0][0]']          \n",
      "                                                                                                  \n",
      " drop_block2d_1 (DropBlock2  (None, 512, 512, 8)          524288    ['conv2d_1[0][0]']            \n",
      " D)                                                                                               \n",
      "                                                                                                  \n",
      " activation_1 (Activation)   (None, 512, 512, 8)          0         ['drop_block2d_1[0][0]']      \n",
      "                                                                                                  \n",
      " max_pooling2d (MaxPooling2  (None, 256, 256, 8)          0         ['activation_1[0][0]']        \n",
      " D)                                                                                               \n",
      "                                                                                                  \n",
      " conv2d_2 (Conv2D)           (None, 256, 256, 16)         1168      ['max_pooling2d[0][0]']       \n",
      "                                                                                                  \n",
      " drop_block2d_2 (DropBlock2  (None, 256, 256, 16)         131072    ['conv2d_2[0][0]']            \n",
      " D)                                                                                               \n",
      "                                                                                                  \n",
      " activation_2 (Activation)   (None, 256, 256, 16)         0         ['drop_block2d_2[0][0]']      \n",
      "                                                                                                  \n",
      " conv2d_3 (Conv2D)           (None, 256, 256, 16)         2320      ['activation_2[0][0]']        \n",
      "                                                                                                  \n",
      " drop_block2d_3 (DropBlock2  (None, 256, 256, 16)         131072    ['conv2d_3[0][0]']            \n",
      " D)                                                                                               \n",
      "                                                                                                  \n",
      " activation_3 (Activation)   (None, 256, 256, 16)         0         ['drop_block2d_3[0][0]']      \n",
      "                                                                                                  \n",
      " max_pooling2d_1 (MaxPoolin  (None, 128, 128, 16)         0         ['activation_3[0][0]']        \n",
      " g2D)                                                                                             \n",
      "                                                                                                  \n",
      " conv2d_4 (Conv2D)           (None, 128, 128, 32)         4640      ['max_pooling2d_1[0][0]']     \n",
      "                                                                                                  \n",
      " drop_block2d_4 (DropBlock2  (None, 128, 128, 32)         32768     ['conv2d_4[0][0]']            \n",
      " D)                                                                                               \n",
      "                                                                                                  \n",
      " activation_4 (Activation)   (None, 128, 128, 32)         0         ['drop_block2d_4[0][0]']      \n",
      "                                                                                                  \n",
      " conv2d_5 (Conv2D)           (None, 128, 128, 32)         9248      ['activation_4[0][0]']        \n",
      "                                                                                                  \n",
      " drop_block2d_5 (DropBlock2  (None, 128, 128, 32)         32768     ['conv2d_5[0][0]']            \n",
      " D)                                                                                               \n",
      "                                                                                                  \n",
      " activation_5 (Activation)   (None, 128, 128, 32)         0         ['drop_block2d_5[0][0]']      \n",
      "                                                                                                  \n",
      " max_pooling2d_2 (MaxPoolin  (None, 64, 64, 32)           0         ['activation_5[0][0]']        \n",
      " g2D)                                                                                             \n",
      "                                                                                                  \n",
      " conv2d_6 (Conv2D)           (None, 64, 64, 64)           18496     ['max_pooling2d_2[0][0]']     \n",
      "                                                                                                  \n",
      " drop_block2d_6 (DropBlock2  (None, 64, 64, 64)           8192      ['conv2d_6[0][0]']            \n",
      " D)                                                                                               \n",
      "                                                                                                  \n",
      " activation_6 (Activation)   (None, 64, 64, 64)           0         ['drop_block2d_6[0][0]']      \n",
      "                                                                                                  \n",
      " conv2d_7 (Conv2D)           (None, 64, 64, 64)           36928     ['activation_6[0][0]']        \n",
      "                                                                                                  \n",
      " drop_block2d_7 (DropBlock2  (None, 64, 64, 64)           8192      ['conv2d_7[0][0]']            \n",
      " D)                                                                                               \n",
      "                                                                                                  \n",
      " activation_7 (Activation)   (None, 64, 64, 64)           0         ['drop_block2d_7[0][0]']      \n",
      "                                                                                                  \n",
      " conv2d_transpose (Conv2DTr  (None, 128, 128, 32)         8224      ['activation_7[0][0]']        \n",
      " anspose)                                                                                         \n",
      "                                                                                                  \n",
      " concatenate (Concatenate)   (None, 128, 128, 64)         0         ['conv2d_transpose[0][0]',    \n",
      "                                                                     'activation_5[0][0]']        \n",
      "                                                                                                  \n",
      " conv2d_8 (Conv2D)           (None, 128, 128, 32)         18464     ['concatenate[0][0]']         \n",
      "                                                                                                  \n",
      " drop_block2d_8 (DropBlock2  (None, 128, 128, 32)         32768     ['conv2d_8[0][0]']            \n",
      " D)                                                                                               \n",
      "                                                                                                  \n",
      " activation_8 (Activation)   (None, 128, 128, 32)         0         ['drop_block2d_8[0][0]']      \n",
      "                                                                                                  \n",
      " conv2d_9 (Conv2D)           (None, 128, 128, 32)         9248      ['activation_8[0][0]']        \n",
      "                                                                                                  \n",
      " drop_block2d_9 (DropBlock2  (None, 128, 128, 32)         32768     ['conv2d_9[0][0]']            \n",
      " D)                                                                                               \n",
      "                                                                                                  \n",
      " activation_9 (Activation)   (None, 128, 128, 32)         0         ['drop_block2d_9[0][0]']      \n",
      "                                                                                                  \n",
      " conv2d_transpose_1 (Conv2D  (None, 256, 256, 16)         2064      ['activation_9[0][0]']        \n",
      " Transpose)                                                                                       \n",
      "                                                                                                  \n",
      " concatenate_1 (Concatenate  (None, 256, 256, 32)         0         ['conv2d_transpose_1[0][0]',  \n",
      " )                                                                   'activation_3[0][0]']        \n",
      "                                                                                                  \n",
      " conv2d_10 (Conv2D)          (None, 256, 256, 16)         4624      ['concatenate_1[0][0]']       \n",
      "                                                                                                  \n",
      " drop_block2d_10 (DropBlock  (None, 256, 256, 16)         131072    ['conv2d_10[0][0]']           \n",
      " 2D)                                                                                              \n",
      "                                                                                                  \n",
      " activation_10 (Activation)  (None, 256, 256, 16)         0         ['drop_block2d_10[0][0]']     \n",
      "                                                                                                  \n",
      " conv2d_11 (Conv2D)          (None, 256, 256, 16)         2320      ['activation_10[0][0]']       \n",
      "                                                                                                  \n",
      " drop_block2d_11 (DropBlock  (None, 256, 256, 16)         131072    ['conv2d_11[0][0]']           \n",
      " 2D)                                                                                              \n",
      "                                                                                                  \n",
      " activation_11 (Activation)  (None, 256, 256, 16)         0         ['drop_block2d_11[0][0]']     \n",
      "                                                                                                  \n",
      " conv2d_transpose_2 (Conv2D  (None, 512, 512, 8)          520       ['activation_11[0][0]']       \n",
      " Transpose)                                                                                       \n",
      "                                                                                                  \n",
      " concatenate_2 (Concatenate  (None, 512, 512, 16)         0         ['conv2d_transpose_2[0][0]',  \n",
      " )                                                                   'activation_1[0][0]']        \n",
      "                                                                                                  \n",
      " conv2d_12 (Conv2D)          (None, 512, 512, 8)          1160      ['concatenate_2[0][0]']       \n",
      "                                                                                                  \n",
      " drop_block2d_12 (DropBlock  (None, 512, 512, 8)          524288    ['conv2d_12[0][0]']           \n",
      " 2D)                                                                                              \n",
      "                                                                                                  \n",
      " activation_12 (Activation)  (None, 512, 512, 8)          0         ['drop_block2d_12[0][0]']     \n",
      "                                                                                                  \n",
      " conv2d_13 (Conv2D)          (None, 512, 512, 8)          584       ['activation_12[0][0]']       \n",
      "                                                                                                  \n",
      " drop_block2d_13 (DropBlock  (None, 512, 512, 8)          524288    ['conv2d_13[0][0]']           \n",
      " 2D)                                                                                              \n",
      "                                                                                                  \n",
      " activation_13 (Activation)  (None, 512, 512, 8)          0         ['drop_block2d_13[0][0]']     \n",
      "                                                                                                  \n",
      " conv2d_14 (Conv2D)          (None, 512, 512, 1)          9         ['activation_13[0][0]']       \n",
      "                                                                                                  \n",
      " activation_14 (Activation)  (None, 512, 512, 1)          0         ['conv2d_14[0][0]']           \n",
      "                                                                                                  \n",
      "==================================================================================================\n",
      "Total params: 2889577 (11.02 MB)\n",
      "Trainable params: 2889577 (11.02 MB)\n",
      "Non-trainable params: 0 (0.00 Byte)\n",
      "__________________________________________________________________________________________________\n"
     ]
    }
   ],
   "source": [
    "# Define custom objects for loading the model\n",
    "custom_objects = {'DiceLoss': loss.DiceLoss(), \n",
    "                  'sensitivity': metrics.sensitivity,\n",
    "                  'specificity': metrics.specificity,\n",
    "                  'accuracy' : metrics.accuracy,\n",
    "                  'DropBlock2D': sd_unet.DropBlock2D}\n",
    "\n",
    "\n",
    "# Create augmentation\n",
    "train_preproc = preprocess.build_augmentation_for_general(RESIZE_SHAPE[0], RESIZE_SHAPE[0])\n",
    "test_preproc = preprocess.build_augmentation_for_general(RESIZE_SHAPE[0], RESIZE_SHAPE[0], is_train=False)\n",
    "\n",
    "# Create train, test generator\n",
    "train_generator = data_generator.SlicedDataGenerator(\n",
    "    TRAIN_SOURCE, \n",
    "    number_of_images = 1,\n",
    "    img_size=INPUT_SHAPE,\n",
    "    output_size=INPUT_SHAPE,\n",
    "    resize_shape = RESIZE_SHAPE,\n",
    "    is_train=True,\n",
    "    augmentation= train_preproc\n",
    ")\n",
    "\n",
    "test_generator = data_generator.SlicedDataGenerator(\n",
    "    TRAIN_SOURCE,\n",
    "    number_of_images = 1,\n",
    "    img_size=INPUT_SHAPE,\n",
    "    output_size=INPUT_SHAPE,\n",
    "    resize_shape = RESIZE_SHAPE,\n",
    "    is_train=False,\n",
    "    augmentation= test_preproc\n",
    ")\n",
    "\n",
    "# Create model\n",
    "model = sd_unet.SD_UNet(INPUT_SHAPE)\n",
    "model.summary()"
   ]
  },
  {
   "cell_type": "code",
   "execution_count": 3,
   "metadata": {},
   "outputs": [
    {
     "name": "stdout",
     "output_type": "stream",
     "text": [
      "Epoch 1/30\n"
     ]
    },
    {
     "name": "stderr",
     "output_type": "stream",
     "text": [
      "/usr/local/lib/python3.10/dist-packages/tensorflow/python/util/dispatch.py:1260: UserWarning: `tf.keras.backend.random_binomial` is deprecated, and will be removed in a future version.Please use `tf.keras.backend.random_bernoulli` instead.\n",
      "  return dispatch_target(*args, **kwargs)\n",
      "2024-01-31 03:59:37.444062: I external/local_xla/xla/stream_executor/cuda/cuda_dnn.cc:454] Loaded cuDNN version 8904\n",
      "2024-01-31 03:59:39.095896: I external/local_xla/xla/service/service.cc:168] XLA service 0x7f3f8d4256f0 initialized for platform CUDA (this does not guarantee that XLA will be used). Devices:\n",
      "2024-01-31 03:59:39.095919: I external/local_xla/xla/service/service.cc:176]   StreamExecutor device (0): NVIDIA GeForce RTX 3080 Ti, Compute Capability 8.6\n",
      "2024-01-31 03:59:39.099244: I tensorflow/compiler/mlir/tensorflow/utils/dump_mlir_util.cc:269] disabling MLIR crash reproducer, set env var `MLIR_CRASH_REPRODUCER_DIRECTORY` to enable.\n",
      "WARNING: All log messages before absl::InitializeLog() is called are written to STDERR\n",
      "I0000 00:00:1706673579.171881  923233 device_compiler.h:186] Compiled cluster using XLA!  This line is logged at most once for the lifetime of the process.\n"
     ]
    },
    {
     "name": "stdout",
     "output_type": "stream",
     "text": [
      "880/880 [==============================] - ETA: 0s - loss: 0.6004 - sensitivity: 0.2709 - specificity: 0.9624 - accuracy: 0.9145"
     ]
    },
    {
     "name": "stderr",
     "output_type": "stream",
     "text": [
      "/usr/local/lib/python3.10/dist-packages/tensorflow/python/util/dispatch.py:1260: UserWarning: `tf.keras.backend.random_binomial` is deprecated, and will be removed in a future version.Please use `tf.keras.backend.random_bernoulli` instead.\n",
      "  return dispatch_target(*args, **kwargs)\n",
      "/usr/local/lib/python3.10/dist-packages/tensorflow/python/util/dispatch.py:1260: UserWarning: `tf.keras.backend.random_binomial` is deprecated, and will be removed in a future version.Please use `tf.keras.backend.random_bernoulli` instead.\n",
      "  return dispatch_target(*args, **kwargs)\n",
      "/usr/local/lib/python3.10/dist-packages/tensorflow/python/util/dispatch.py:1260: UserWarning: `tf.keras.backend.random_binomial` is deprecated, and will be removed in a future version.Please use `tf.keras.backend.random_bernoulli` instead.\n",
      "  return dispatch_target(*args, **kwargs)\n",
      "/usr/local/lib/python3.10/dist-packages/tensorflow/python/util/dispatch.py:1260: UserWarning: `tf.keras.backend.random_binomial` is deprecated, and will be removed in a future version.Please use `tf.keras.backend.random_bernoulli` instead.\n",
      "  return dispatch_target(*args, **kwargs)\n",
      "/usr/local/lib/python3.10/dist-packages/tensorflow/python/util/dispatch.py:1260: UserWarning: `tf.keras.backend.random_binomial` is deprecated, and will be removed in a future version.Please use `tf.keras.backend.random_bernoulli` instead.\n",
      "  return dispatch_target(*args, **kwargs)\n",
      "/usr/local/lib/python3.10/dist-packages/tensorflow/python/util/dispatch.py:1260: UserWarning: `tf.keras.backend.random_binomial` is deprecated, and will be removed in a future version.Please use `tf.keras.backend.random_bernoulli` instead.\n",
      "  return dispatch_target(*args, **kwargs)\n",
      "/usr/local/lib/python3.10/dist-packages/tensorflow/python/util/dispatch.py:1260: UserWarning: `tf.keras.backend.random_binomial` is deprecated, and will be removed in a future version.Please use `tf.keras.backend.random_bernoulli` instead.\n",
      "  return dispatch_target(*args, **kwargs)\n",
      "/usr/local/lib/python3.10/dist-packages/tensorflow/python/util/dispatch.py:1260: UserWarning: `tf.keras.backend.random_binomial` is deprecated, and will be removed in a future version.Please use `tf.keras.backend.random_bernoulli` instead.\n",
      "  return dispatch_target(*args, **kwargs)\n",
      "/usr/local/lib/python3.10/dist-packages/tensorflow/python/util/dispatch.py:1260: UserWarning: `tf.keras.backend.random_binomial` is deprecated, and will be removed in a future version.Please use `tf.keras.backend.random_bernoulli` instead.\n",
      "  return dispatch_target(*args, **kwargs)\n",
      "/usr/local/lib/python3.10/dist-packages/tensorflow/python/util/dispatch.py:1260: UserWarning: `tf.keras.backend.random_binomial` is deprecated, and will be removed in a future version.Please use `tf.keras.backend.random_bernoulli` instead.\n",
      "  return dispatch_target(*args, **kwargs)\n",
      "/usr/local/lib/python3.10/dist-packages/tensorflow/python/util/dispatch.py:1260: UserWarning: `tf.keras.backend.random_binomial` is deprecated, and will be removed in a future version.Please use `tf.keras.backend.random_bernoulli` instead.\n",
      "  return dispatch_target(*args, **kwargs)\n",
      "/usr/local/lib/python3.10/dist-packages/tensorflow/python/util/dispatch.py:1260: UserWarning: `tf.keras.backend.random_binomial` is deprecated, and will be removed in a future version.Please use `tf.keras.backend.random_bernoulli` instead.\n",
      "  return dispatch_target(*args, **kwargs)\n",
      "/usr/local/lib/python3.10/dist-packages/tensorflow/python/util/dispatch.py:1260: UserWarning: `tf.keras.backend.random_binomial` is deprecated, and will be removed in a future version.Please use `tf.keras.backend.random_bernoulli` instead.\n",
      "  return dispatch_target(*args, **kwargs)\n",
      "/usr/local/lib/python3.10/dist-packages/tensorflow/python/util/dispatch.py:1260: UserWarning: `tf.keras.backend.random_binomial` is deprecated, and will be removed in a future version.Please use `tf.keras.backend.random_bernoulli` instead.\n",
      "  return dispatch_target(*args, **kwargs)\n"
     ]
    },
    {
     "name": "stdout",
     "output_type": "stream",
     "text": [
      "INFO:tensorflow:Assets written to: /visuworks/Blindless_AIFFELTON/Ablation Study/SD_Unet/model_parameters/sd_unet_30ep_512_sG_wo_decay.tf/1--0.6004-0.2709-0.9624-0.3784-0.9875.pb/assets\n"
     ]
    },
    {
     "name": "stderr",
     "output_type": "stream",
     "text": [
      "INFO:tensorflow:Assets written to: /visuworks/Blindless_AIFFELTON/Ablation Study/SD_Unet/model_parameters/sd_unet_30ep_512_sG_wo_decay.tf/1--0.6004-0.2709-0.9624-0.3784-0.9875.pb/assets\n"
     ]
    },
    {
     "name": "stdout",
     "output_type": "stream",
     "text": [
      "Model saved to /visuworks/Blindless_AIFFELTON/Ablation Study/SD_Unet/model_parameters/sd_unet_30ep_512_sG_wo_decay.tf/1--0.6004-0.2709-0.9624-0.3784-0.9875.pb\n",
      "880/880 [==============================] - 127s 132ms/step - loss: 0.6004 - sensitivity: 0.2709 - specificity: 0.9624 - accuracy: 0.9145 - val_loss: 0.4684 - val_sensitivity: 0.3784 - val_specificity: 0.9875 - val_accuracy: 0.9452\n",
      "Epoch 2/30\n",
      "879/880 [============================>.] - ETA: 0s - loss: 0.4205 - sensitivity: 0.5250 - specificity: 0.9693 - accuracy: 0.9396"
     ]
    },
    {
     "name": "stderr",
     "output_type": "stream",
     "text": [
      "/usr/local/lib/python3.10/dist-packages/tensorflow/python/util/dispatch.py:1260: UserWarning: `tf.keras.backend.random_binomial` is deprecated, and will be removed in a future version.Please use `tf.keras.backend.random_bernoulli` instead.\n",
      "  return dispatch_target(*args, **kwargs)\n",
      "/usr/local/lib/python3.10/dist-packages/tensorflow/python/util/dispatch.py:1260: UserWarning: `tf.keras.backend.random_binomial` is deprecated, and will be removed in a future version.Please use `tf.keras.backend.random_bernoulli` instead.\n",
      "  return dispatch_target(*args, **kwargs)\n",
      "/usr/local/lib/python3.10/dist-packages/tensorflow/python/util/dispatch.py:1260: UserWarning: `tf.keras.backend.random_binomial` is deprecated, and will be removed in a future version.Please use `tf.keras.backend.random_bernoulli` instead.\n",
      "  return dispatch_target(*args, **kwargs)\n",
      "/usr/local/lib/python3.10/dist-packages/tensorflow/python/util/dispatch.py:1260: UserWarning: `tf.keras.backend.random_binomial` is deprecated, and will be removed in a future version.Please use `tf.keras.backend.random_bernoulli` instead.\n",
      "  return dispatch_target(*args, **kwargs)\n",
      "/usr/local/lib/python3.10/dist-packages/tensorflow/python/util/dispatch.py:1260: UserWarning: `tf.keras.backend.random_binomial` is deprecated, and will be removed in a future version.Please use `tf.keras.backend.random_bernoulli` instead.\n",
      "  return dispatch_target(*args, **kwargs)\n",
      "/usr/local/lib/python3.10/dist-packages/tensorflow/python/util/dispatch.py:1260: UserWarning: `tf.keras.backend.random_binomial` is deprecated, and will be removed in a future version.Please use `tf.keras.backend.random_bernoulli` instead.\n",
      "  return dispatch_target(*args, **kwargs)\n",
      "/usr/local/lib/python3.10/dist-packages/tensorflow/python/util/dispatch.py:1260: UserWarning: `tf.keras.backend.random_binomial` is deprecated, and will be removed in a future version.Please use `tf.keras.backend.random_bernoulli` instead.\n",
      "  return dispatch_target(*args, **kwargs)\n",
      "/usr/local/lib/python3.10/dist-packages/tensorflow/python/util/dispatch.py:1260: UserWarning: `tf.keras.backend.random_binomial` is deprecated, and will be removed in a future version.Please use `tf.keras.backend.random_bernoulli` instead.\n",
      "  return dispatch_target(*args, **kwargs)\n",
      "/usr/local/lib/python3.10/dist-packages/tensorflow/python/util/dispatch.py:1260: UserWarning: `tf.keras.backend.random_binomial` is deprecated, and will be removed in a future version.Please use `tf.keras.backend.random_bernoulli` instead.\n",
      "  return dispatch_target(*args, **kwargs)\n",
      "/usr/local/lib/python3.10/dist-packages/tensorflow/python/util/dispatch.py:1260: UserWarning: `tf.keras.backend.random_binomial` is deprecated, and will be removed in a future version.Please use `tf.keras.backend.random_bernoulli` instead.\n",
      "  return dispatch_target(*args, **kwargs)\n",
      "/usr/local/lib/python3.10/dist-packages/tensorflow/python/util/dispatch.py:1260: UserWarning: `tf.keras.backend.random_binomial` is deprecated, and will be removed in a future version.Please use `tf.keras.backend.random_bernoulli` instead.\n",
      "  return dispatch_target(*args, **kwargs)\n",
      "/usr/local/lib/python3.10/dist-packages/tensorflow/python/util/dispatch.py:1260: UserWarning: `tf.keras.backend.random_binomial` is deprecated, and will be removed in a future version.Please use `tf.keras.backend.random_bernoulli` instead.\n",
      "  return dispatch_target(*args, **kwargs)\n",
      "/usr/local/lib/python3.10/dist-packages/tensorflow/python/util/dispatch.py:1260: UserWarning: `tf.keras.backend.random_binomial` is deprecated, and will be removed in a future version.Please use `tf.keras.backend.random_bernoulli` instead.\n",
      "  return dispatch_target(*args, **kwargs)\n",
      "/usr/local/lib/python3.10/dist-packages/tensorflow/python/util/dispatch.py:1260: UserWarning: `tf.keras.backend.random_binomial` is deprecated, and will be removed in a future version.Please use `tf.keras.backend.random_bernoulli` instead.\n",
      "  return dispatch_target(*args, **kwargs)\n",
      "/usr/local/lib/python3.10/dist-packages/tensorflow/python/util/dispatch.py:1260: UserWarning: `tf.keras.backend.random_binomial` is deprecated, and will be removed in a future version.Please use `tf.keras.backend.random_bernoulli` instead.\n",
      "  return dispatch_target(*args, **kwargs)\n"
     ]
    },
    {
     "name": "stdout",
     "output_type": "stream",
     "text": [
      "INFO:tensorflow:Assets written to: /visuworks/Blindless_AIFFELTON/Ablation Study/SD_Unet/model_parameters/sd_unet_30ep_512_sG_wo_decay.tf/2--0.4204-0.5253-0.9693-0.4473-0.9880.pb/assets\n"
     ]
    },
    {
     "name": "stderr",
     "output_type": "stream",
     "text": [
      "INFO:tensorflow:Assets written to: /visuworks/Blindless_AIFFELTON/Ablation Study/SD_Unet/model_parameters/sd_unet_30ep_512_sG_wo_decay.tf/2--0.4204-0.5253-0.9693-0.4473-0.9880.pb/assets\n"
     ]
    },
    {
     "name": "stdout",
     "output_type": "stream",
     "text": [
      "Model saved to /visuworks/Blindless_AIFFELTON/Ablation Study/SD_Unet/model_parameters/sd_unet_30ep_512_sG_wo_decay.tf/2--0.4204-0.5253-0.9693-0.4473-0.9880.pb\n",
      "880/880 [==============================] - 114s 130ms/step - loss: 0.4204 - sensitivity: 0.5253 - specificity: 0.9693 - accuracy: 0.9396 - val_loss: 0.4084 - val_sensitivity: 0.4473 - val_specificity: 0.9880 - val_accuracy: 0.9507\n",
      "Epoch 3/30\n",
      "880/880 [==============================] - ETA: 0s - loss: 0.3782 - sensitivity: 0.5703 - specificity: 0.9719 - accuracy: 0.9453"
     ]
    },
    {
     "name": "stderr",
     "output_type": "stream",
     "text": [
      "/usr/local/lib/python3.10/dist-packages/tensorflow/python/util/dispatch.py:1260: UserWarning: `tf.keras.backend.random_binomial` is deprecated, and will be removed in a future version.Please use `tf.keras.backend.random_bernoulli` instead.\n",
      "  return dispatch_target(*args, **kwargs)\n",
      "/usr/local/lib/python3.10/dist-packages/tensorflow/python/util/dispatch.py:1260: UserWarning: `tf.keras.backend.random_binomial` is deprecated, and will be removed in a future version.Please use `tf.keras.backend.random_bernoulli` instead.\n",
      "  return dispatch_target(*args, **kwargs)\n",
      "/usr/local/lib/python3.10/dist-packages/tensorflow/python/util/dispatch.py:1260: UserWarning: `tf.keras.backend.random_binomial` is deprecated, and will be removed in a future version.Please use `tf.keras.backend.random_bernoulli` instead.\n",
      "  return dispatch_target(*args, **kwargs)\n",
      "/usr/local/lib/python3.10/dist-packages/tensorflow/python/util/dispatch.py:1260: UserWarning: `tf.keras.backend.random_binomial` is deprecated, and will be removed in a future version.Please use `tf.keras.backend.random_bernoulli` instead.\n",
      "  return dispatch_target(*args, **kwargs)\n",
      "/usr/local/lib/python3.10/dist-packages/tensorflow/python/util/dispatch.py:1260: UserWarning: `tf.keras.backend.random_binomial` is deprecated, and will be removed in a future version.Please use `tf.keras.backend.random_bernoulli` instead.\n",
      "  return dispatch_target(*args, **kwargs)\n",
      "/usr/local/lib/python3.10/dist-packages/tensorflow/python/util/dispatch.py:1260: UserWarning: `tf.keras.backend.random_binomial` is deprecated, and will be removed in a future version.Please use `tf.keras.backend.random_bernoulli` instead.\n",
      "  return dispatch_target(*args, **kwargs)\n",
      "/usr/local/lib/python3.10/dist-packages/tensorflow/python/util/dispatch.py:1260: UserWarning: `tf.keras.backend.random_binomial` is deprecated, and will be removed in a future version.Please use `tf.keras.backend.random_bernoulli` instead.\n",
      "  return dispatch_target(*args, **kwargs)\n",
      "/usr/local/lib/python3.10/dist-packages/tensorflow/python/util/dispatch.py:1260: UserWarning: `tf.keras.backend.random_binomial` is deprecated, and will be removed in a future version.Please use `tf.keras.backend.random_bernoulli` instead.\n",
      "  return dispatch_target(*args, **kwargs)\n",
      "/usr/local/lib/python3.10/dist-packages/tensorflow/python/util/dispatch.py:1260: UserWarning: `tf.keras.backend.random_binomial` is deprecated, and will be removed in a future version.Please use `tf.keras.backend.random_bernoulli` instead.\n",
      "  return dispatch_target(*args, **kwargs)\n",
      "/usr/local/lib/python3.10/dist-packages/tensorflow/python/util/dispatch.py:1260: UserWarning: `tf.keras.backend.random_binomial` is deprecated, and will be removed in a future version.Please use `tf.keras.backend.random_bernoulli` instead.\n",
      "  return dispatch_target(*args, **kwargs)\n",
      "/usr/local/lib/python3.10/dist-packages/tensorflow/python/util/dispatch.py:1260: UserWarning: `tf.keras.backend.random_binomial` is deprecated, and will be removed in a future version.Please use `tf.keras.backend.random_bernoulli` instead.\n",
      "  return dispatch_target(*args, **kwargs)\n",
      "/usr/local/lib/python3.10/dist-packages/tensorflow/python/util/dispatch.py:1260: UserWarning: `tf.keras.backend.random_binomial` is deprecated, and will be removed in a future version.Please use `tf.keras.backend.random_bernoulli` instead.\n",
      "  return dispatch_target(*args, **kwargs)\n",
      "/usr/local/lib/python3.10/dist-packages/tensorflow/python/util/dispatch.py:1260: UserWarning: `tf.keras.backend.random_binomial` is deprecated, and will be removed in a future version.Please use `tf.keras.backend.random_bernoulli` instead.\n",
      "  return dispatch_target(*args, **kwargs)\n",
      "/usr/local/lib/python3.10/dist-packages/tensorflow/python/util/dispatch.py:1260: UserWarning: `tf.keras.backend.random_binomial` is deprecated, and will be removed in a future version.Please use `tf.keras.backend.random_bernoulli` instead.\n",
      "  return dispatch_target(*args, **kwargs)\n",
      "/usr/local/lib/python3.10/dist-packages/tensorflow/python/util/dispatch.py:1260: UserWarning: `tf.keras.backend.random_binomial` is deprecated, and will be removed in a future version.Please use `tf.keras.backend.random_bernoulli` instead.\n",
      "  return dispatch_target(*args, **kwargs)\n"
     ]
    },
    {
     "name": "stdout",
     "output_type": "stream",
     "text": [
      "INFO:tensorflow:Assets written to: /visuworks/Blindless_AIFFELTON/Ablation Study/SD_Unet/model_parameters/sd_unet_30ep_512_sG_wo_decay.tf/3--0.3782-0.5703-0.9719-0.5285-0.9851.pb/assets\n"
     ]
    },
    {
     "name": "stderr",
     "output_type": "stream",
     "text": [
      "INFO:tensorflow:Assets written to: /visuworks/Blindless_AIFFELTON/Ablation Study/SD_Unet/model_parameters/sd_unet_30ep_512_sG_wo_decay.tf/3--0.3782-0.5703-0.9719-0.5285-0.9851.pb/assets\n"
     ]
    },
    {
     "name": "stdout",
     "output_type": "stream",
     "text": [
      "Model saved to /visuworks/Blindless_AIFFELTON/Ablation Study/SD_Unet/model_parameters/sd_unet_30ep_512_sG_wo_decay.tf/3--0.3782-0.5703-0.9719-0.5285-0.9851.pb\n",
      "880/880 [==============================] - 115s 131ms/step - loss: 0.3782 - sensitivity: 0.5703 - specificity: 0.9719 - accuracy: 0.9453 - val_loss: 0.3549 - val_sensitivity: 0.5285 - val_specificity: 0.9851 - val_accuracy: 0.9540\n",
      "Epoch 4/30\n",
      "880/880 [==============================] - ETA: 0s - loss: 0.3533 - sensitivity: 0.5988 - specificity: 0.9732 - accuracy: 0.9485"
     ]
    },
    {
     "name": "stderr",
     "output_type": "stream",
     "text": [
      "/usr/local/lib/python3.10/dist-packages/tensorflow/python/util/dispatch.py:1260: UserWarning: `tf.keras.backend.random_binomial` is deprecated, and will be removed in a future version.Please use `tf.keras.backend.random_bernoulli` instead.\n",
      "  return dispatch_target(*args, **kwargs)\n",
      "/usr/local/lib/python3.10/dist-packages/tensorflow/python/util/dispatch.py:1260: UserWarning: `tf.keras.backend.random_binomial` is deprecated, and will be removed in a future version.Please use `tf.keras.backend.random_bernoulli` instead.\n",
      "  return dispatch_target(*args, **kwargs)\n",
      "/usr/local/lib/python3.10/dist-packages/tensorflow/python/util/dispatch.py:1260: UserWarning: `tf.keras.backend.random_binomial` is deprecated, and will be removed in a future version.Please use `tf.keras.backend.random_bernoulli` instead.\n",
      "  return dispatch_target(*args, **kwargs)\n",
      "/usr/local/lib/python3.10/dist-packages/tensorflow/python/util/dispatch.py:1260: UserWarning: `tf.keras.backend.random_binomial` is deprecated, and will be removed in a future version.Please use `tf.keras.backend.random_bernoulli` instead.\n",
      "  return dispatch_target(*args, **kwargs)\n",
      "/usr/local/lib/python3.10/dist-packages/tensorflow/python/util/dispatch.py:1260: UserWarning: `tf.keras.backend.random_binomial` is deprecated, and will be removed in a future version.Please use `tf.keras.backend.random_bernoulli` instead.\n",
      "  return dispatch_target(*args, **kwargs)\n",
      "/usr/local/lib/python3.10/dist-packages/tensorflow/python/util/dispatch.py:1260: UserWarning: `tf.keras.backend.random_binomial` is deprecated, and will be removed in a future version.Please use `tf.keras.backend.random_bernoulli` instead.\n",
      "  return dispatch_target(*args, **kwargs)\n",
      "/usr/local/lib/python3.10/dist-packages/tensorflow/python/util/dispatch.py:1260: UserWarning: `tf.keras.backend.random_binomial` is deprecated, and will be removed in a future version.Please use `tf.keras.backend.random_bernoulli` instead.\n",
      "  return dispatch_target(*args, **kwargs)\n",
      "/usr/local/lib/python3.10/dist-packages/tensorflow/python/util/dispatch.py:1260: UserWarning: `tf.keras.backend.random_binomial` is deprecated, and will be removed in a future version.Please use `tf.keras.backend.random_bernoulli` instead.\n",
      "  return dispatch_target(*args, **kwargs)\n",
      "/usr/local/lib/python3.10/dist-packages/tensorflow/python/util/dispatch.py:1260: UserWarning: `tf.keras.backend.random_binomial` is deprecated, and will be removed in a future version.Please use `tf.keras.backend.random_bernoulli` instead.\n",
      "  return dispatch_target(*args, **kwargs)\n",
      "/usr/local/lib/python3.10/dist-packages/tensorflow/python/util/dispatch.py:1260: UserWarning: `tf.keras.backend.random_binomial` is deprecated, and will be removed in a future version.Please use `tf.keras.backend.random_bernoulli` instead.\n",
      "  return dispatch_target(*args, **kwargs)\n",
      "/usr/local/lib/python3.10/dist-packages/tensorflow/python/util/dispatch.py:1260: UserWarning: `tf.keras.backend.random_binomial` is deprecated, and will be removed in a future version.Please use `tf.keras.backend.random_bernoulli` instead.\n",
      "  return dispatch_target(*args, **kwargs)\n",
      "/usr/local/lib/python3.10/dist-packages/tensorflow/python/util/dispatch.py:1260: UserWarning: `tf.keras.backend.random_binomial` is deprecated, and will be removed in a future version.Please use `tf.keras.backend.random_bernoulli` instead.\n",
      "  return dispatch_target(*args, **kwargs)\n",
      "/usr/local/lib/python3.10/dist-packages/tensorflow/python/util/dispatch.py:1260: UserWarning: `tf.keras.backend.random_binomial` is deprecated, and will be removed in a future version.Please use `tf.keras.backend.random_bernoulli` instead.\n",
      "  return dispatch_target(*args, **kwargs)\n",
      "/usr/local/lib/python3.10/dist-packages/tensorflow/python/util/dispatch.py:1260: UserWarning: `tf.keras.backend.random_binomial` is deprecated, and will be removed in a future version.Please use `tf.keras.backend.random_bernoulli` instead.\n",
      "  return dispatch_target(*args, **kwargs)\n",
      "/usr/local/lib/python3.10/dist-packages/tensorflow/python/util/dispatch.py:1260: UserWarning: `tf.keras.backend.random_binomial` is deprecated, and will be removed in a future version.Please use `tf.keras.backend.random_bernoulli` instead.\n",
      "  return dispatch_target(*args, **kwargs)\n"
     ]
    },
    {
     "name": "stdout",
     "output_type": "stream",
     "text": [
      "INFO:tensorflow:Assets written to: /visuworks/Blindless_AIFFELTON/Ablation Study/SD_Unet/model_parameters/sd_unet_30ep_512_sG_wo_decay.tf/4--0.3533-0.5988-0.9732-0.6020-0.9814.pb/assets\n"
     ]
    },
    {
     "name": "stderr",
     "output_type": "stream",
     "text": [
      "INFO:tensorflow:Assets written to: /visuworks/Blindless_AIFFELTON/Ablation Study/SD_Unet/model_parameters/sd_unet_30ep_512_sG_wo_decay.tf/4--0.3533-0.5988-0.9732-0.6020-0.9814.pb/assets\n"
     ]
    },
    {
     "name": "stdout",
     "output_type": "stream",
     "text": [
      "Model saved to /visuworks/Blindless_AIFFELTON/Ablation Study/SD_Unet/model_parameters/sd_unet_30ep_512_sG_wo_decay.tf/4--0.3533-0.5988-0.9732-0.6020-0.9814.pb\n",
      "880/880 [==============================] - 115s 130ms/step - loss: 0.3533 - sensitivity: 0.5988 - specificity: 0.9732 - accuracy: 0.9485 - val_loss: 0.3136 - val_sensitivity: 0.6020 - val_specificity: 0.9814 - val_accuracy: 0.9559\n",
      "Epoch 5/30\n",
      "879/880 [============================>.] - ETA: 0s - loss: 0.3340 - sensitivity: 0.6188 - specificity: 0.9747 - accuracy: 0.9513"
     ]
    },
    {
     "name": "stderr",
     "output_type": "stream",
     "text": [
      "/usr/local/lib/python3.10/dist-packages/tensorflow/python/util/dispatch.py:1260: UserWarning: `tf.keras.backend.random_binomial` is deprecated, and will be removed in a future version.Please use `tf.keras.backend.random_bernoulli` instead.\n",
      "  return dispatch_target(*args, **kwargs)\n",
      "/usr/local/lib/python3.10/dist-packages/tensorflow/python/util/dispatch.py:1260: UserWarning: `tf.keras.backend.random_binomial` is deprecated, and will be removed in a future version.Please use `tf.keras.backend.random_bernoulli` instead.\n",
      "  return dispatch_target(*args, **kwargs)\n",
      "/usr/local/lib/python3.10/dist-packages/tensorflow/python/util/dispatch.py:1260: UserWarning: `tf.keras.backend.random_binomial` is deprecated, and will be removed in a future version.Please use `tf.keras.backend.random_bernoulli` instead.\n",
      "  return dispatch_target(*args, **kwargs)\n",
      "/usr/local/lib/python3.10/dist-packages/tensorflow/python/util/dispatch.py:1260: UserWarning: `tf.keras.backend.random_binomial` is deprecated, and will be removed in a future version.Please use `tf.keras.backend.random_bernoulli` instead.\n",
      "  return dispatch_target(*args, **kwargs)\n",
      "/usr/local/lib/python3.10/dist-packages/tensorflow/python/util/dispatch.py:1260: UserWarning: `tf.keras.backend.random_binomial` is deprecated, and will be removed in a future version.Please use `tf.keras.backend.random_bernoulli` instead.\n",
      "  return dispatch_target(*args, **kwargs)\n",
      "/usr/local/lib/python3.10/dist-packages/tensorflow/python/util/dispatch.py:1260: UserWarning: `tf.keras.backend.random_binomial` is deprecated, and will be removed in a future version.Please use `tf.keras.backend.random_bernoulli` instead.\n",
      "  return dispatch_target(*args, **kwargs)\n",
      "/usr/local/lib/python3.10/dist-packages/tensorflow/python/util/dispatch.py:1260: UserWarning: `tf.keras.backend.random_binomial` is deprecated, and will be removed in a future version.Please use `tf.keras.backend.random_bernoulli` instead.\n",
      "  return dispatch_target(*args, **kwargs)\n",
      "/usr/local/lib/python3.10/dist-packages/tensorflow/python/util/dispatch.py:1260: UserWarning: `tf.keras.backend.random_binomial` is deprecated, and will be removed in a future version.Please use `tf.keras.backend.random_bernoulli` instead.\n",
      "  return dispatch_target(*args, **kwargs)\n",
      "/usr/local/lib/python3.10/dist-packages/tensorflow/python/util/dispatch.py:1260: UserWarning: `tf.keras.backend.random_binomial` is deprecated, and will be removed in a future version.Please use `tf.keras.backend.random_bernoulli` instead.\n",
      "  return dispatch_target(*args, **kwargs)\n",
      "/usr/local/lib/python3.10/dist-packages/tensorflow/python/util/dispatch.py:1260: UserWarning: `tf.keras.backend.random_binomial` is deprecated, and will be removed in a future version.Please use `tf.keras.backend.random_bernoulli` instead.\n",
      "  return dispatch_target(*args, **kwargs)\n",
      "/usr/local/lib/python3.10/dist-packages/tensorflow/python/util/dispatch.py:1260: UserWarning: `tf.keras.backend.random_binomial` is deprecated, and will be removed in a future version.Please use `tf.keras.backend.random_bernoulli` instead.\n",
      "  return dispatch_target(*args, **kwargs)\n",
      "/usr/local/lib/python3.10/dist-packages/tensorflow/python/util/dispatch.py:1260: UserWarning: `tf.keras.backend.random_binomial` is deprecated, and will be removed in a future version.Please use `tf.keras.backend.random_bernoulli` instead.\n",
      "  return dispatch_target(*args, **kwargs)\n",
      "/usr/local/lib/python3.10/dist-packages/tensorflow/python/util/dispatch.py:1260: UserWarning: `tf.keras.backend.random_binomial` is deprecated, and will be removed in a future version.Please use `tf.keras.backend.random_bernoulli` instead.\n",
      "  return dispatch_target(*args, **kwargs)\n",
      "/usr/local/lib/python3.10/dist-packages/tensorflow/python/util/dispatch.py:1260: UserWarning: `tf.keras.backend.random_binomial` is deprecated, and will be removed in a future version.Please use `tf.keras.backend.random_bernoulli` instead.\n",
      "  return dispatch_target(*args, **kwargs)\n",
      "/usr/local/lib/python3.10/dist-packages/tensorflow/python/util/dispatch.py:1260: UserWarning: `tf.keras.backend.random_binomial` is deprecated, and will be removed in a future version.Please use `tf.keras.backend.random_bernoulli` instead.\n",
      "  return dispatch_target(*args, **kwargs)\n"
     ]
    },
    {
     "name": "stdout",
     "output_type": "stream",
     "text": [
      "INFO:tensorflow:Assets written to: /visuworks/Blindless_AIFFELTON/Ablation Study/SD_Unet/model_parameters/sd_unet_30ep_512_sG_wo_decay.tf/5--0.3339-0.6189-0.9747-0.6680-0.9767.pb/assets\n"
     ]
    },
    {
     "name": "stderr",
     "output_type": "stream",
     "text": [
      "INFO:tensorflow:Assets written to: /visuworks/Blindless_AIFFELTON/Ablation Study/SD_Unet/model_parameters/sd_unet_30ep_512_sG_wo_decay.tf/5--0.3339-0.6189-0.9747-0.6680-0.9767.pb/assets\n"
     ]
    },
    {
     "name": "stdout",
     "output_type": "stream",
     "text": [
      "Model saved to /visuworks/Blindless_AIFFELTON/Ablation Study/SD_Unet/model_parameters/sd_unet_30ep_512_sG_wo_decay.tf/5--0.3339-0.6189-0.9747-0.6680-0.9767.pb\n",
      "880/880 [==============================] - 115s 130ms/step - loss: 0.3339 - sensitivity: 0.6189 - specificity: 0.9747 - accuracy: 0.9513 - val_loss: 0.2890 - val_sensitivity: 0.6680 - val_specificity: 0.9767 - val_accuracy: 0.9562\n",
      "Epoch 6/30\n",
      "880/880 [==============================] - ETA: 0s - loss: 0.3197 - sensitivity: 0.6345 - specificity: 0.9755 - accuracy: 0.9531"
     ]
    },
    {
     "name": "stderr",
     "output_type": "stream",
     "text": [
      "/usr/local/lib/python3.10/dist-packages/tensorflow/python/util/dispatch.py:1260: UserWarning: `tf.keras.backend.random_binomial` is deprecated, and will be removed in a future version.Please use `tf.keras.backend.random_bernoulli` instead.\n",
      "  return dispatch_target(*args, **kwargs)\n",
      "/usr/local/lib/python3.10/dist-packages/tensorflow/python/util/dispatch.py:1260: UserWarning: `tf.keras.backend.random_binomial` is deprecated, and will be removed in a future version.Please use `tf.keras.backend.random_bernoulli` instead.\n",
      "  return dispatch_target(*args, **kwargs)\n",
      "/usr/local/lib/python3.10/dist-packages/tensorflow/python/util/dispatch.py:1260: UserWarning: `tf.keras.backend.random_binomial` is deprecated, and will be removed in a future version.Please use `tf.keras.backend.random_bernoulli` instead.\n",
      "  return dispatch_target(*args, **kwargs)\n",
      "/usr/local/lib/python3.10/dist-packages/tensorflow/python/util/dispatch.py:1260: UserWarning: `tf.keras.backend.random_binomial` is deprecated, and will be removed in a future version.Please use `tf.keras.backend.random_bernoulli` instead.\n",
      "  return dispatch_target(*args, **kwargs)\n",
      "/usr/local/lib/python3.10/dist-packages/tensorflow/python/util/dispatch.py:1260: UserWarning: `tf.keras.backend.random_binomial` is deprecated, and will be removed in a future version.Please use `tf.keras.backend.random_bernoulli` instead.\n",
      "  return dispatch_target(*args, **kwargs)\n",
      "/usr/local/lib/python3.10/dist-packages/tensorflow/python/util/dispatch.py:1260: UserWarning: `tf.keras.backend.random_binomial` is deprecated, and will be removed in a future version.Please use `tf.keras.backend.random_bernoulli` instead.\n",
      "  return dispatch_target(*args, **kwargs)\n",
      "/usr/local/lib/python3.10/dist-packages/tensorflow/python/util/dispatch.py:1260: UserWarning: `tf.keras.backend.random_binomial` is deprecated, and will be removed in a future version.Please use `tf.keras.backend.random_bernoulli` instead.\n",
      "  return dispatch_target(*args, **kwargs)\n",
      "/usr/local/lib/python3.10/dist-packages/tensorflow/python/util/dispatch.py:1260: UserWarning: `tf.keras.backend.random_binomial` is deprecated, and will be removed in a future version.Please use `tf.keras.backend.random_bernoulli` instead.\n",
      "  return dispatch_target(*args, **kwargs)\n",
      "/usr/local/lib/python3.10/dist-packages/tensorflow/python/util/dispatch.py:1260: UserWarning: `tf.keras.backend.random_binomial` is deprecated, and will be removed in a future version.Please use `tf.keras.backend.random_bernoulli` instead.\n",
      "  return dispatch_target(*args, **kwargs)\n",
      "/usr/local/lib/python3.10/dist-packages/tensorflow/python/util/dispatch.py:1260: UserWarning: `tf.keras.backend.random_binomial` is deprecated, and will be removed in a future version.Please use `tf.keras.backend.random_bernoulli` instead.\n",
      "  return dispatch_target(*args, **kwargs)\n",
      "/usr/local/lib/python3.10/dist-packages/tensorflow/python/util/dispatch.py:1260: UserWarning: `tf.keras.backend.random_binomial` is deprecated, and will be removed in a future version.Please use `tf.keras.backend.random_bernoulli` instead.\n",
      "  return dispatch_target(*args, **kwargs)\n",
      "/usr/local/lib/python3.10/dist-packages/tensorflow/python/util/dispatch.py:1260: UserWarning: `tf.keras.backend.random_binomial` is deprecated, and will be removed in a future version.Please use `tf.keras.backend.random_bernoulli` instead.\n",
      "  return dispatch_target(*args, **kwargs)\n",
      "/usr/local/lib/python3.10/dist-packages/tensorflow/python/util/dispatch.py:1260: UserWarning: `tf.keras.backend.random_binomial` is deprecated, and will be removed in a future version.Please use `tf.keras.backend.random_bernoulli` instead.\n",
      "  return dispatch_target(*args, **kwargs)\n",
      "/usr/local/lib/python3.10/dist-packages/tensorflow/python/util/dispatch.py:1260: UserWarning: `tf.keras.backend.random_binomial` is deprecated, and will be removed in a future version.Please use `tf.keras.backend.random_bernoulli` instead.\n",
      "  return dispatch_target(*args, **kwargs)\n",
      "/usr/local/lib/python3.10/dist-packages/tensorflow/python/util/dispatch.py:1260: UserWarning: `tf.keras.backend.random_binomial` is deprecated, and will be removed in a future version.Please use `tf.keras.backend.random_bernoulli` instead.\n",
      "  return dispatch_target(*args, **kwargs)\n"
     ]
    },
    {
     "name": "stdout",
     "output_type": "stream",
     "text": [
      "INFO:tensorflow:Assets written to: /visuworks/Blindless_AIFFELTON/Ablation Study/SD_Unet/model_parameters/sd_unet_30ep_512_sG_wo_decay.tf/6--0.3197-0.6345-0.9755-0.6768-0.9782.pb/assets\n"
     ]
    },
    {
     "name": "stderr",
     "output_type": "stream",
     "text": [
      "INFO:tensorflow:Assets written to: /visuworks/Blindless_AIFFELTON/Ablation Study/SD_Unet/model_parameters/sd_unet_30ep_512_sG_wo_decay.tf/6--0.3197-0.6345-0.9755-0.6768-0.9782.pb/assets\n"
     ]
    },
    {
     "name": "stdout",
     "output_type": "stream",
     "text": [
      "Model saved to /visuworks/Blindless_AIFFELTON/Ablation Study/SD_Unet/model_parameters/sd_unet_30ep_512_sG_wo_decay.tf/6--0.3197-0.6345-0.9755-0.6768-0.9782.pb\n",
      "880/880 [==============================] - 118s 134ms/step - loss: 0.3197 - sensitivity: 0.6345 - specificity: 0.9755 - accuracy: 0.9531 - val_loss: 0.2781 - val_sensitivity: 0.6768 - val_specificity: 0.9782 - val_accuracy: 0.9580\n",
      "Epoch 7/30\n",
      "880/880 [==============================] - ETA: 0s - loss: 0.3100 - sensitivity: 0.6452 - specificity: 0.9762 - accuracy: 0.9546"
     ]
    },
    {
     "name": "stderr",
     "output_type": "stream",
     "text": [
      "/usr/local/lib/python3.10/dist-packages/tensorflow/python/util/dispatch.py:1260: UserWarning: `tf.keras.backend.random_binomial` is deprecated, and will be removed in a future version.Please use `tf.keras.backend.random_bernoulli` instead.\n",
      "  return dispatch_target(*args, **kwargs)\n",
      "/usr/local/lib/python3.10/dist-packages/tensorflow/python/util/dispatch.py:1260: UserWarning: `tf.keras.backend.random_binomial` is deprecated, and will be removed in a future version.Please use `tf.keras.backend.random_bernoulli` instead.\n",
      "  return dispatch_target(*args, **kwargs)\n",
      "/usr/local/lib/python3.10/dist-packages/tensorflow/python/util/dispatch.py:1260: UserWarning: `tf.keras.backend.random_binomial` is deprecated, and will be removed in a future version.Please use `tf.keras.backend.random_bernoulli` instead.\n",
      "  return dispatch_target(*args, **kwargs)\n",
      "/usr/local/lib/python3.10/dist-packages/tensorflow/python/util/dispatch.py:1260: UserWarning: `tf.keras.backend.random_binomial` is deprecated, and will be removed in a future version.Please use `tf.keras.backend.random_bernoulli` instead.\n",
      "  return dispatch_target(*args, **kwargs)\n",
      "/usr/local/lib/python3.10/dist-packages/tensorflow/python/util/dispatch.py:1260: UserWarning: `tf.keras.backend.random_binomial` is deprecated, and will be removed in a future version.Please use `tf.keras.backend.random_bernoulli` instead.\n",
      "  return dispatch_target(*args, **kwargs)\n",
      "/usr/local/lib/python3.10/dist-packages/tensorflow/python/util/dispatch.py:1260: UserWarning: `tf.keras.backend.random_binomial` is deprecated, and will be removed in a future version.Please use `tf.keras.backend.random_bernoulli` instead.\n",
      "  return dispatch_target(*args, **kwargs)\n",
      "/usr/local/lib/python3.10/dist-packages/tensorflow/python/util/dispatch.py:1260: UserWarning: `tf.keras.backend.random_binomial` is deprecated, and will be removed in a future version.Please use `tf.keras.backend.random_bernoulli` instead.\n",
      "  return dispatch_target(*args, **kwargs)\n",
      "/usr/local/lib/python3.10/dist-packages/tensorflow/python/util/dispatch.py:1260: UserWarning: `tf.keras.backend.random_binomial` is deprecated, and will be removed in a future version.Please use `tf.keras.backend.random_bernoulli` instead.\n",
      "  return dispatch_target(*args, **kwargs)\n",
      "/usr/local/lib/python3.10/dist-packages/tensorflow/python/util/dispatch.py:1260: UserWarning: `tf.keras.backend.random_binomial` is deprecated, and will be removed in a future version.Please use `tf.keras.backend.random_bernoulli` instead.\n",
      "  return dispatch_target(*args, **kwargs)\n",
      "/usr/local/lib/python3.10/dist-packages/tensorflow/python/util/dispatch.py:1260: UserWarning: `tf.keras.backend.random_binomial` is deprecated, and will be removed in a future version.Please use `tf.keras.backend.random_bernoulli` instead.\n",
      "  return dispatch_target(*args, **kwargs)\n",
      "/usr/local/lib/python3.10/dist-packages/tensorflow/python/util/dispatch.py:1260: UserWarning: `tf.keras.backend.random_binomial` is deprecated, and will be removed in a future version.Please use `tf.keras.backend.random_bernoulli` instead.\n",
      "  return dispatch_target(*args, **kwargs)\n",
      "/usr/local/lib/python3.10/dist-packages/tensorflow/python/util/dispatch.py:1260: UserWarning: `tf.keras.backend.random_binomial` is deprecated, and will be removed in a future version.Please use `tf.keras.backend.random_bernoulli` instead.\n",
      "  return dispatch_target(*args, **kwargs)\n",
      "/usr/local/lib/python3.10/dist-packages/tensorflow/python/util/dispatch.py:1260: UserWarning: `tf.keras.backend.random_binomial` is deprecated, and will be removed in a future version.Please use `tf.keras.backend.random_bernoulli` instead.\n",
      "  return dispatch_target(*args, **kwargs)\n",
      "/usr/local/lib/python3.10/dist-packages/tensorflow/python/util/dispatch.py:1260: UserWarning: `tf.keras.backend.random_binomial` is deprecated, and will be removed in a future version.Please use `tf.keras.backend.random_bernoulli` instead.\n",
      "  return dispatch_target(*args, **kwargs)\n",
      "/usr/local/lib/python3.10/dist-packages/tensorflow/python/util/dispatch.py:1260: UserWarning: `tf.keras.backend.random_binomial` is deprecated, and will be removed in a future version.Please use `tf.keras.backend.random_bernoulli` instead.\n",
      "  return dispatch_target(*args, **kwargs)\n"
     ]
    },
    {
     "name": "stdout",
     "output_type": "stream",
     "text": [
      "INFO:tensorflow:Assets written to: /visuworks/Blindless_AIFFELTON/Ablation Study/SD_Unet/model_parameters/sd_unet_30ep_512_sG_wo_decay.tf/7--0.3100-0.6452-0.9762-0.7012-0.9765.pb/assets\n"
     ]
    },
    {
     "name": "stderr",
     "output_type": "stream",
     "text": [
      "INFO:tensorflow:Assets written to: /visuworks/Blindless_AIFFELTON/Ablation Study/SD_Unet/model_parameters/sd_unet_30ep_512_sG_wo_decay.tf/7--0.3100-0.6452-0.9762-0.7012-0.9765.pb/assets\n"
     ]
    },
    {
     "name": "stdout",
     "output_type": "stream",
     "text": [
      "Model saved to /visuworks/Blindless_AIFFELTON/Ablation Study/SD_Unet/model_parameters/sd_unet_30ep_512_sG_wo_decay.tf/7--0.3100-0.6452-0.9762-0.7012-0.9765.pb\n",
      "880/880 [==============================] - 121s 138ms/step - loss: 0.3100 - sensitivity: 0.6452 - specificity: 0.9762 - accuracy: 0.9546 - val_loss: 0.2693 - val_sensitivity: 0.7012 - val_specificity: 0.9765 - val_accuracy: 0.9583\n",
      "Epoch 8/30\n",
      "880/880 [==============================] - ETA: 0s - loss: 0.3021 - sensitivity: 0.6533 - specificity: 0.9768 - accuracy: 0.9557"
     ]
    },
    {
     "name": "stderr",
     "output_type": "stream",
     "text": [
      "/usr/local/lib/python3.10/dist-packages/tensorflow/python/util/dispatch.py:1260: UserWarning: `tf.keras.backend.random_binomial` is deprecated, and will be removed in a future version.Please use `tf.keras.backend.random_bernoulli` instead.\n",
      "  return dispatch_target(*args, **kwargs)\n",
      "/usr/local/lib/python3.10/dist-packages/tensorflow/python/util/dispatch.py:1260: UserWarning: `tf.keras.backend.random_binomial` is deprecated, and will be removed in a future version.Please use `tf.keras.backend.random_bernoulli` instead.\n",
      "  return dispatch_target(*args, **kwargs)\n",
      "/usr/local/lib/python3.10/dist-packages/tensorflow/python/util/dispatch.py:1260: UserWarning: `tf.keras.backend.random_binomial` is deprecated, and will be removed in a future version.Please use `tf.keras.backend.random_bernoulli` instead.\n",
      "  return dispatch_target(*args, **kwargs)\n",
      "/usr/local/lib/python3.10/dist-packages/tensorflow/python/util/dispatch.py:1260: UserWarning: `tf.keras.backend.random_binomial` is deprecated, and will be removed in a future version.Please use `tf.keras.backend.random_bernoulli` instead.\n",
      "  return dispatch_target(*args, **kwargs)\n",
      "/usr/local/lib/python3.10/dist-packages/tensorflow/python/util/dispatch.py:1260: UserWarning: `tf.keras.backend.random_binomial` is deprecated, and will be removed in a future version.Please use `tf.keras.backend.random_bernoulli` instead.\n",
      "  return dispatch_target(*args, **kwargs)\n",
      "/usr/local/lib/python3.10/dist-packages/tensorflow/python/util/dispatch.py:1260: UserWarning: `tf.keras.backend.random_binomial` is deprecated, and will be removed in a future version.Please use `tf.keras.backend.random_bernoulli` instead.\n",
      "  return dispatch_target(*args, **kwargs)\n",
      "/usr/local/lib/python3.10/dist-packages/tensorflow/python/util/dispatch.py:1260: UserWarning: `tf.keras.backend.random_binomial` is deprecated, and will be removed in a future version.Please use `tf.keras.backend.random_bernoulli` instead.\n",
      "  return dispatch_target(*args, **kwargs)\n",
      "/usr/local/lib/python3.10/dist-packages/tensorflow/python/util/dispatch.py:1260: UserWarning: `tf.keras.backend.random_binomial` is deprecated, and will be removed in a future version.Please use `tf.keras.backend.random_bernoulli` instead.\n",
      "  return dispatch_target(*args, **kwargs)\n",
      "/usr/local/lib/python3.10/dist-packages/tensorflow/python/util/dispatch.py:1260: UserWarning: `tf.keras.backend.random_binomial` is deprecated, and will be removed in a future version.Please use `tf.keras.backend.random_bernoulli` instead.\n",
      "  return dispatch_target(*args, **kwargs)\n",
      "/usr/local/lib/python3.10/dist-packages/tensorflow/python/util/dispatch.py:1260: UserWarning: `tf.keras.backend.random_binomial` is deprecated, and will be removed in a future version.Please use `tf.keras.backend.random_bernoulli` instead.\n",
      "  return dispatch_target(*args, **kwargs)\n",
      "/usr/local/lib/python3.10/dist-packages/tensorflow/python/util/dispatch.py:1260: UserWarning: `tf.keras.backend.random_binomial` is deprecated, and will be removed in a future version.Please use `tf.keras.backend.random_bernoulli` instead.\n",
      "  return dispatch_target(*args, **kwargs)\n",
      "/usr/local/lib/python3.10/dist-packages/tensorflow/python/util/dispatch.py:1260: UserWarning: `tf.keras.backend.random_binomial` is deprecated, and will be removed in a future version.Please use `tf.keras.backend.random_bernoulli` instead.\n",
      "  return dispatch_target(*args, **kwargs)\n",
      "/usr/local/lib/python3.10/dist-packages/tensorflow/python/util/dispatch.py:1260: UserWarning: `tf.keras.backend.random_binomial` is deprecated, and will be removed in a future version.Please use `tf.keras.backend.random_bernoulli` instead.\n",
      "  return dispatch_target(*args, **kwargs)\n",
      "/usr/local/lib/python3.10/dist-packages/tensorflow/python/util/dispatch.py:1260: UserWarning: `tf.keras.backend.random_binomial` is deprecated, and will be removed in a future version.Please use `tf.keras.backend.random_bernoulli` instead.\n",
      "  return dispatch_target(*args, **kwargs)\n",
      "/usr/local/lib/python3.10/dist-packages/tensorflow/python/util/dispatch.py:1260: UserWarning: `tf.keras.backend.random_binomial` is deprecated, and will be removed in a future version.Please use `tf.keras.backend.random_bernoulli` instead.\n",
      "  return dispatch_target(*args, **kwargs)\n"
     ]
    },
    {
     "name": "stdout",
     "output_type": "stream",
     "text": [
      "INFO:tensorflow:Assets written to: /visuworks/Blindless_AIFFELTON/Ablation Study/SD_Unet/model_parameters/sd_unet_30ep_512_sG_wo_decay.tf/8--0.3021-0.6533-0.9768-0.6260-0.9848.pb/assets\n"
     ]
    },
    {
     "name": "stderr",
     "output_type": "stream",
     "text": [
      "INFO:tensorflow:Assets written to: /visuworks/Blindless_AIFFELTON/Ablation Study/SD_Unet/model_parameters/sd_unet_30ep_512_sG_wo_decay.tf/8--0.3021-0.6533-0.9768-0.6260-0.9848.pb/assets\n"
     ]
    },
    {
     "name": "stdout",
     "output_type": "stream",
     "text": [
      "Model saved to /visuworks/Blindless_AIFFELTON/Ablation Study/SD_Unet/model_parameters/sd_unet_30ep_512_sG_wo_decay.tf/8--0.3021-0.6533-0.9768-0.6260-0.9848.pb\n",
      "880/880 [==============================] - 115s 130ms/step - loss: 0.3021 - sensitivity: 0.6533 - specificity: 0.9768 - accuracy: 0.9557 - val_loss: 0.2807 - val_sensitivity: 0.6260 - val_specificity: 0.9848 - val_accuracy: 0.9606\n",
      "Epoch 9/30\n",
      "879/880 [============================>.] - ETA: 0s - loss: 0.2964 - sensitivity: 0.6596 - specificity: 0.9773 - accuracy: 0.9565"
     ]
    },
    {
     "name": "stderr",
     "output_type": "stream",
     "text": [
      "/usr/local/lib/python3.10/dist-packages/tensorflow/python/util/dispatch.py:1260: UserWarning: `tf.keras.backend.random_binomial` is deprecated, and will be removed in a future version.Please use `tf.keras.backend.random_bernoulli` instead.\n",
      "  return dispatch_target(*args, **kwargs)\n",
      "/usr/local/lib/python3.10/dist-packages/tensorflow/python/util/dispatch.py:1260: UserWarning: `tf.keras.backend.random_binomial` is deprecated, and will be removed in a future version.Please use `tf.keras.backend.random_bernoulli` instead.\n",
      "  return dispatch_target(*args, **kwargs)\n",
      "/usr/local/lib/python3.10/dist-packages/tensorflow/python/util/dispatch.py:1260: UserWarning: `tf.keras.backend.random_binomial` is deprecated, and will be removed in a future version.Please use `tf.keras.backend.random_bernoulli` instead.\n",
      "  return dispatch_target(*args, **kwargs)\n",
      "/usr/local/lib/python3.10/dist-packages/tensorflow/python/util/dispatch.py:1260: UserWarning: `tf.keras.backend.random_binomial` is deprecated, and will be removed in a future version.Please use `tf.keras.backend.random_bernoulli` instead.\n",
      "  return dispatch_target(*args, **kwargs)\n",
      "/usr/local/lib/python3.10/dist-packages/tensorflow/python/util/dispatch.py:1260: UserWarning: `tf.keras.backend.random_binomial` is deprecated, and will be removed in a future version.Please use `tf.keras.backend.random_bernoulli` instead.\n",
      "  return dispatch_target(*args, **kwargs)\n",
      "/usr/local/lib/python3.10/dist-packages/tensorflow/python/util/dispatch.py:1260: UserWarning: `tf.keras.backend.random_binomial` is deprecated, and will be removed in a future version.Please use `tf.keras.backend.random_bernoulli` instead.\n",
      "  return dispatch_target(*args, **kwargs)\n",
      "/usr/local/lib/python3.10/dist-packages/tensorflow/python/util/dispatch.py:1260: UserWarning: `tf.keras.backend.random_binomial` is deprecated, and will be removed in a future version.Please use `tf.keras.backend.random_bernoulli` instead.\n",
      "  return dispatch_target(*args, **kwargs)\n",
      "/usr/local/lib/python3.10/dist-packages/tensorflow/python/util/dispatch.py:1260: UserWarning: `tf.keras.backend.random_binomial` is deprecated, and will be removed in a future version.Please use `tf.keras.backend.random_bernoulli` instead.\n",
      "  return dispatch_target(*args, **kwargs)\n",
      "/usr/local/lib/python3.10/dist-packages/tensorflow/python/util/dispatch.py:1260: UserWarning: `tf.keras.backend.random_binomial` is deprecated, and will be removed in a future version.Please use `tf.keras.backend.random_bernoulli` instead.\n",
      "  return dispatch_target(*args, **kwargs)\n",
      "/usr/local/lib/python3.10/dist-packages/tensorflow/python/util/dispatch.py:1260: UserWarning: `tf.keras.backend.random_binomial` is deprecated, and will be removed in a future version.Please use `tf.keras.backend.random_bernoulli` instead.\n",
      "  return dispatch_target(*args, **kwargs)\n",
      "/usr/local/lib/python3.10/dist-packages/tensorflow/python/util/dispatch.py:1260: UserWarning: `tf.keras.backend.random_binomial` is deprecated, and will be removed in a future version.Please use `tf.keras.backend.random_bernoulli` instead.\n",
      "  return dispatch_target(*args, **kwargs)\n",
      "/usr/local/lib/python3.10/dist-packages/tensorflow/python/util/dispatch.py:1260: UserWarning: `tf.keras.backend.random_binomial` is deprecated, and will be removed in a future version.Please use `tf.keras.backend.random_bernoulli` instead.\n",
      "  return dispatch_target(*args, **kwargs)\n",
      "/usr/local/lib/python3.10/dist-packages/tensorflow/python/util/dispatch.py:1260: UserWarning: `tf.keras.backend.random_binomial` is deprecated, and will be removed in a future version.Please use `tf.keras.backend.random_bernoulli` instead.\n",
      "  return dispatch_target(*args, **kwargs)\n",
      "/usr/local/lib/python3.10/dist-packages/tensorflow/python/util/dispatch.py:1260: UserWarning: `tf.keras.backend.random_binomial` is deprecated, and will be removed in a future version.Please use `tf.keras.backend.random_bernoulli` instead.\n",
      "  return dispatch_target(*args, **kwargs)\n",
      "/usr/local/lib/python3.10/dist-packages/tensorflow/python/util/dispatch.py:1260: UserWarning: `tf.keras.backend.random_binomial` is deprecated, and will be removed in a future version.Please use `tf.keras.backend.random_bernoulli` instead.\n",
      "  return dispatch_target(*args, **kwargs)\n"
     ]
    },
    {
     "name": "stdout",
     "output_type": "stream",
     "text": [
      "INFO:tensorflow:Assets written to: /visuworks/Blindless_AIFFELTON/Ablation Study/SD_Unet/model_parameters/sd_unet_30ep_512_sG_wo_decay.tf/9--0.2963-0.6598-0.9773-0.7353-0.9737.pb/assets\n"
     ]
    },
    {
     "name": "stderr",
     "output_type": "stream",
     "text": [
      "INFO:tensorflow:Assets written to: /visuworks/Blindless_AIFFELTON/Ablation Study/SD_Unet/model_parameters/sd_unet_30ep_512_sG_wo_decay.tf/9--0.2963-0.6598-0.9773-0.7353-0.9737.pb/assets\n"
     ]
    },
    {
     "name": "stdout",
     "output_type": "stream",
     "text": [
      "Model saved to /visuworks/Blindless_AIFFELTON/Ablation Study/SD_Unet/model_parameters/sd_unet_30ep_512_sG_wo_decay.tf/9--0.2963-0.6598-0.9773-0.7353-0.9737.pb\n",
      "880/880 [==============================] - 122s 138ms/step - loss: 0.2963 - sensitivity: 0.6598 - specificity: 0.9773 - accuracy: 0.9565 - val_loss: 0.2634 - val_sensitivity: 0.7353 - val_specificity: 0.9737 - val_accuracy: 0.9580\n",
      "Epoch 10/30\n",
      "880/880 [==============================] - ETA: 0s - loss: 0.2908 - sensitivity: 0.6660 - specificity: 0.9776 - accuracy: 0.9573"
     ]
    },
    {
     "name": "stderr",
     "output_type": "stream",
     "text": [
      "/usr/local/lib/python3.10/dist-packages/tensorflow/python/util/dispatch.py:1260: UserWarning: `tf.keras.backend.random_binomial` is deprecated, and will be removed in a future version.Please use `tf.keras.backend.random_bernoulli` instead.\n",
      "  return dispatch_target(*args, **kwargs)\n",
      "/usr/local/lib/python3.10/dist-packages/tensorflow/python/util/dispatch.py:1260: UserWarning: `tf.keras.backend.random_binomial` is deprecated, and will be removed in a future version.Please use `tf.keras.backend.random_bernoulli` instead.\n",
      "  return dispatch_target(*args, **kwargs)\n",
      "/usr/local/lib/python3.10/dist-packages/tensorflow/python/util/dispatch.py:1260: UserWarning: `tf.keras.backend.random_binomial` is deprecated, and will be removed in a future version.Please use `tf.keras.backend.random_bernoulli` instead.\n",
      "  return dispatch_target(*args, **kwargs)\n",
      "/usr/local/lib/python3.10/dist-packages/tensorflow/python/util/dispatch.py:1260: UserWarning: `tf.keras.backend.random_binomial` is deprecated, and will be removed in a future version.Please use `tf.keras.backend.random_bernoulli` instead.\n",
      "  return dispatch_target(*args, **kwargs)\n",
      "/usr/local/lib/python3.10/dist-packages/tensorflow/python/util/dispatch.py:1260: UserWarning: `tf.keras.backend.random_binomial` is deprecated, and will be removed in a future version.Please use `tf.keras.backend.random_bernoulli` instead.\n",
      "  return dispatch_target(*args, **kwargs)\n",
      "/usr/local/lib/python3.10/dist-packages/tensorflow/python/util/dispatch.py:1260: UserWarning: `tf.keras.backend.random_binomial` is deprecated, and will be removed in a future version.Please use `tf.keras.backend.random_bernoulli` instead.\n",
      "  return dispatch_target(*args, **kwargs)\n",
      "/usr/local/lib/python3.10/dist-packages/tensorflow/python/util/dispatch.py:1260: UserWarning: `tf.keras.backend.random_binomial` is deprecated, and will be removed in a future version.Please use `tf.keras.backend.random_bernoulli` instead.\n",
      "  return dispatch_target(*args, **kwargs)\n",
      "/usr/local/lib/python3.10/dist-packages/tensorflow/python/util/dispatch.py:1260: UserWarning: `tf.keras.backend.random_binomial` is deprecated, and will be removed in a future version.Please use `tf.keras.backend.random_bernoulli` instead.\n",
      "  return dispatch_target(*args, **kwargs)\n",
      "/usr/local/lib/python3.10/dist-packages/tensorflow/python/util/dispatch.py:1260: UserWarning: `tf.keras.backend.random_binomial` is deprecated, and will be removed in a future version.Please use `tf.keras.backend.random_bernoulli` instead.\n",
      "  return dispatch_target(*args, **kwargs)\n",
      "/usr/local/lib/python3.10/dist-packages/tensorflow/python/util/dispatch.py:1260: UserWarning: `tf.keras.backend.random_binomial` is deprecated, and will be removed in a future version.Please use `tf.keras.backend.random_bernoulli` instead.\n",
      "  return dispatch_target(*args, **kwargs)\n",
      "/usr/local/lib/python3.10/dist-packages/tensorflow/python/util/dispatch.py:1260: UserWarning: `tf.keras.backend.random_binomial` is deprecated, and will be removed in a future version.Please use `tf.keras.backend.random_bernoulli` instead.\n",
      "  return dispatch_target(*args, **kwargs)\n",
      "/usr/local/lib/python3.10/dist-packages/tensorflow/python/util/dispatch.py:1260: UserWarning: `tf.keras.backend.random_binomial` is deprecated, and will be removed in a future version.Please use `tf.keras.backend.random_bernoulli` instead.\n",
      "  return dispatch_target(*args, **kwargs)\n",
      "/usr/local/lib/python3.10/dist-packages/tensorflow/python/util/dispatch.py:1260: UserWarning: `tf.keras.backend.random_binomial` is deprecated, and will be removed in a future version.Please use `tf.keras.backend.random_bernoulli` instead.\n",
      "  return dispatch_target(*args, **kwargs)\n",
      "/usr/local/lib/python3.10/dist-packages/tensorflow/python/util/dispatch.py:1260: UserWarning: `tf.keras.backend.random_binomial` is deprecated, and will be removed in a future version.Please use `tf.keras.backend.random_bernoulli` instead.\n",
      "  return dispatch_target(*args, **kwargs)\n",
      "/usr/local/lib/python3.10/dist-packages/tensorflow/python/util/dispatch.py:1260: UserWarning: `tf.keras.backend.random_binomial` is deprecated, and will be removed in a future version.Please use `tf.keras.backend.random_bernoulli` instead.\n",
      "  return dispatch_target(*args, **kwargs)\n"
     ]
    },
    {
     "name": "stdout",
     "output_type": "stream",
     "text": [
      "INFO:tensorflow:Assets written to: /visuworks/Blindless_AIFFELTON/Ablation Study/SD_Unet/model_parameters/sd_unet_30ep_512_sG_wo_decay.tf/10--0.2908-0.6660-0.9776-0.7320-0.9749.pb/assets\n"
     ]
    },
    {
     "name": "stderr",
     "output_type": "stream",
     "text": [
      "INFO:tensorflow:Assets written to: /visuworks/Blindless_AIFFELTON/Ablation Study/SD_Unet/model_parameters/sd_unet_30ep_512_sG_wo_decay.tf/10--0.2908-0.6660-0.9776-0.7320-0.9749.pb/assets\n"
     ]
    },
    {
     "name": "stdout",
     "output_type": "stream",
     "text": [
      "Model saved to /visuworks/Blindless_AIFFELTON/Ablation Study/SD_Unet/model_parameters/sd_unet_30ep_512_sG_wo_decay.tf/10--0.2908-0.6660-0.9776-0.7320-0.9749.pb\n",
      "880/880 [==============================] - 115s 130ms/step - loss: 0.2908 - sensitivity: 0.6660 - specificity: 0.9776 - accuracy: 0.9573 - val_loss: 0.2602 - val_sensitivity: 0.7320 - val_specificity: 0.9749 - val_accuracy: 0.9588\n",
      "Epoch 11/30\n",
      "880/880 [==============================] - ETA: 0s - loss: 0.2874 - sensitivity: 0.6720 - specificity: 0.9775 - accuracy: 0.9575"
     ]
    },
    {
     "name": "stderr",
     "output_type": "stream",
     "text": [
      "/usr/local/lib/python3.10/dist-packages/tensorflow/python/util/dispatch.py:1260: UserWarning: `tf.keras.backend.random_binomial` is deprecated, and will be removed in a future version.Please use `tf.keras.backend.random_bernoulli` instead.\n",
      "  return dispatch_target(*args, **kwargs)\n",
      "/usr/local/lib/python3.10/dist-packages/tensorflow/python/util/dispatch.py:1260: UserWarning: `tf.keras.backend.random_binomial` is deprecated, and will be removed in a future version.Please use `tf.keras.backend.random_bernoulli` instead.\n",
      "  return dispatch_target(*args, **kwargs)\n",
      "/usr/local/lib/python3.10/dist-packages/tensorflow/python/util/dispatch.py:1260: UserWarning: `tf.keras.backend.random_binomial` is deprecated, and will be removed in a future version.Please use `tf.keras.backend.random_bernoulli` instead.\n",
      "  return dispatch_target(*args, **kwargs)\n",
      "/usr/local/lib/python3.10/dist-packages/tensorflow/python/util/dispatch.py:1260: UserWarning: `tf.keras.backend.random_binomial` is deprecated, and will be removed in a future version.Please use `tf.keras.backend.random_bernoulli` instead.\n",
      "  return dispatch_target(*args, **kwargs)\n",
      "/usr/local/lib/python3.10/dist-packages/tensorflow/python/util/dispatch.py:1260: UserWarning: `tf.keras.backend.random_binomial` is deprecated, and will be removed in a future version.Please use `tf.keras.backend.random_bernoulli` instead.\n",
      "  return dispatch_target(*args, **kwargs)\n",
      "/usr/local/lib/python3.10/dist-packages/tensorflow/python/util/dispatch.py:1260: UserWarning: `tf.keras.backend.random_binomial` is deprecated, and will be removed in a future version.Please use `tf.keras.backend.random_bernoulli` instead.\n",
      "  return dispatch_target(*args, **kwargs)\n",
      "/usr/local/lib/python3.10/dist-packages/tensorflow/python/util/dispatch.py:1260: UserWarning: `tf.keras.backend.random_binomial` is deprecated, and will be removed in a future version.Please use `tf.keras.backend.random_bernoulli` instead.\n",
      "  return dispatch_target(*args, **kwargs)\n",
      "/usr/local/lib/python3.10/dist-packages/tensorflow/python/util/dispatch.py:1260: UserWarning: `tf.keras.backend.random_binomial` is deprecated, and will be removed in a future version.Please use `tf.keras.backend.random_bernoulli` instead.\n",
      "  return dispatch_target(*args, **kwargs)\n",
      "/usr/local/lib/python3.10/dist-packages/tensorflow/python/util/dispatch.py:1260: UserWarning: `tf.keras.backend.random_binomial` is deprecated, and will be removed in a future version.Please use `tf.keras.backend.random_bernoulli` instead.\n",
      "  return dispatch_target(*args, **kwargs)\n",
      "/usr/local/lib/python3.10/dist-packages/tensorflow/python/util/dispatch.py:1260: UserWarning: `tf.keras.backend.random_binomial` is deprecated, and will be removed in a future version.Please use `tf.keras.backend.random_bernoulli` instead.\n",
      "  return dispatch_target(*args, **kwargs)\n",
      "/usr/local/lib/python3.10/dist-packages/tensorflow/python/util/dispatch.py:1260: UserWarning: `tf.keras.backend.random_binomial` is deprecated, and will be removed in a future version.Please use `tf.keras.backend.random_bernoulli` instead.\n",
      "  return dispatch_target(*args, **kwargs)\n",
      "/usr/local/lib/python3.10/dist-packages/tensorflow/python/util/dispatch.py:1260: UserWarning: `tf.keras.backend.random_binomial` is deprecated, and will be removed in a future version.Please use `tf.keras.backend.random_bernoulli` instead.\n",
      "  return dispatch_target(*args, **kwargs)\n",
      "/usr/local/lib/python3.10/dist-packages/tensorflow/python/util/dispatch.py:1260: UserWarning: `tf.keras.backend.random_binomial` is deprecated, and will be removed in a future version.Please use `tf.keras.backend.random_bernoulli` instead.\n",
      "  return dispatch_target(*args, **kwargs)\n",
      "/usr/local/lib/python3.10/dist-packages/tensorflow/python/util/dispatch.py:1260: UserWarning: `tf.keras.backend.random_binomial` is deprecated, and will be removed in a future version.Please use `tf.keras.backend.random_bernoulli` instead.\n",
      "  return dispatch_target(*args, **kwargs)\n",
      "/usr/local/lib/python3.10/dist-packages/tensorflow/python/util/dispatch.py:1260: UserWarning: `tf.keras.backend.random_binomial` is deprecated, and will be removed in a future version.Please use `tf.keras.backend.random_bernoulli` instead.\n",
      "  return dispatch_target(*args, **kwargs)\n"
     ]
    },
    {
     "name": "stdout",
     "output_type": "stream",
     "text": [
      "INFO:tensorflow:Assets written to: /visuworks/Blindless_AIFFELTON/Ablation Study/SD_Unet/model_parameters/sd_unet_30ep_512_sG_wo_decay.tf/11--0.2874-0.6720-0.9775-0.7001-0.9797.pb/assets\n"
     ]
    },
    {
     "name": "stderr",
     "output_type": "stream",
     "text": [
      "INFO:tensorflow:Assets written to: /visuworks/Blindless_AIFFELTON/Ablation Study/SD_Unet/model_parameters/sd_unet_30ep_512_sG_wo_decay.tf/11--0.2874-0.6720-0.9775-0.7001-0.9797.pb/assets\n"
     ]
    },
    {
     "name": "stdout",
     "output_type": "stream",
     "text": [
      "Model saved to /visuworks/Blindless_AIFFELTON/Ablation Study/SD_Unet/model_parameters/sd_unet_30ep_512_sG_wo_decay.tf/11--0.2874-0.6720-0.9775-0.7001-0.9797.pb\n",
      "880/880 [==============================] - 121s 138ms/step - loss: 0.2874 - sensitivity: 0.6720 - specificity: 0.9775 - accuracy: 0.9575 - val_loss: 0.2550 - val_sensitivity: 0.7001 - val_specificity: 0.9797 - val_accuracy: 0.9611\n",
      "Epoch 12/30\n",
      "879/880 [============================>.] - ETA: 0s - loss: 0.2833 - sensitivity: 0.6757 - specificity: 0.9779 - accuracy: 0.9582"
     ]
    },
    {
     "name": "stderr",
     "output_type": "stream",
     "text": [
      "/usr/local/lib/python3.10/dist-packages/tensorflow/python/util/dispatch.py:1260: UserWarning: `tf.keras.backend.random_binomial` is deprecated, and will be removed in a future version.Please use `tf.keras.backend.random_bernoulli` instead.\n",
      "  return dispatch_target(*args, **kwargs)\n",
      "/usr/local/lib/python3.10/dist-packages/tensorflow/python/util/dispatch.py:1260: UserWarning: `tf.keras.backend.random_binomial` is deprecated, and will be removed in a future version.Please use `tf.keras.backend.random_bernoulli` instead.\n",
      "  return dispatch_target(*args, **kwargs)\n",
      "/usr/local/lib/python3.10/dist-packages/tensorflow/python/util/dispatch.py:1260: UserWarning: `tf.keras.backend.random_binomial` is deprecated, and will be removed in a future version.Please use `tf.keras.backend.random_bernoulli` instead.\n",
      "  return dispatch_target(*args, **kwargs)\n",
      "/usr/local/lib/python3.10/dist-packages/tensorflow/python/util/dispatch.py:1260: UserWarning: `tf.keras.backend.random_binomial` is deprecated, and will be removed in a future version.Please use `tf.keras.backend.random_bernoulli` instead.\n",
      "  return dispatch_target(*args, **kwargs)\n",
      "/usr/local/lib/python3.10/dist-packages/tensorflow/python/util/dispatch.py:1260: UserWarning: `tf.keras.backend.random_binomial` is deprecated, and will be removed in a future version.Please use `tf.keras.backend.random_bernoulli` instead.\n",
      "  return dispatch_target(*args, **kwargs)\n",
      "/usr/local/lib/python3.10/dist-packages/tensorflow/python/util/dispatch.py:1260: UserWarning: `tf.keras.backend.random_binomial` is deprecated, and will be removed in a future version.Please use `tf.keras.backend.random_bernoulli` instead.\n",
      "  return dispatch_target(*args, **kwargs)\n",
      "/usr/local/lib/python3.10/dist-packages/tensorflow/python/util/dispatch.py:1260: UserWarning: `tf.keras.backend.random_binomial` is deprecated, and will be removed in a future version.Please use `tf.keras.backend.random_bernoulli` instead.\n",
      "  return dispatch_target(*args, **kwargs)\n",
      "/usr/local/lib/python3.10/dist-packages/tensorflow/python/util/dispatch.py:1260: UserWarning: `tf.keras.backend.random_binomial` is deprecated, and will be removed in a future version.Please use `tf.keras.backend.random_bernoulli` instead.\n",
      "  return dispatch_target(*args, **kwargs)\n",
      "/usr/local/lib/python3.10/dist-packages/tensorflow/python/util/dispatch.py:1260: UserWarning: `tf.keras.backend.random_binomial` is deprecated, and will be removed in a future version.Please use `tf.keras.backend.random_bernoulli` instead.\n",
      "  return dispatch_target(*args, **kwargs)\n",
      "/usr/local/lib/python3.10/dist-packages/tensorflow/python/util/dispatch.py:1260: UserWarning: `tf.keras.backend.random_binomial` is deprecated, and will be removed in a future version.Please use `tf.keras.backend.random_bernoulli` instead.\n",
      "  return dispatch_target(*args, **kwargs)\n",
      "/usr/local/lib/python3.10/dist-packages/tensorflow/python/util/dispatch.py:1260: UserWarning: `tf.keras.backend.random_binomial` is deprecated, and will be removed in a future version.Please use `tf.keras.backend.random_bernoulli` instead.\n",
      "  return dispatch_target(*args, **kwargs)\n",
      "/usr/local/lib/python3.10/dist-packages/tensorflow/python/util/dispatch.py:1260: UserWarning: `tf.keras.backend.random_binomial` is deprecated, and will be removed in a future version.Please use `tf.keras.backend.random_bernoulli` instead.\n",
      "  return dispatch_target(*args, **kwargs)\n",
      "/usr/local/lib/python3.10/dist-packages/tensorflow/python/util/dispatch.py:1260: UserWarning: `tf.keras.backend.random_binomial` is deprecated, and will be removed in a future version.Please use `tf.keras.backend.random_bernoulli` instead.\n",
      "  return dispatch_target(*args, **kwargs)\n",
      "/usr/local/lib/python3.10/dist-packages/tensorflow/python/util/dispatch.py:1260: UserWarning: `tf.keras.backend.random_binomial` is deprecated, and will be removed in a future version.Please use `tf.keras.backend.random_bernoulli` instead.\n",
      "  return dispatch_target(*args, **kwargs)\n",
      "/usr/local/lib/python3.10/dist-packages/tensorflow/python/util/dispatch.py:1260: UserWarning: `tf.keras.backend.random_binomial` is deprecated, and will be removed in a future version.Please use `tf.keras.backend.random_bernoulli` instead.\n",
      "  return dispatch_target(*args, **kwargs)\n"
     ]
    },
    {
     "name": "stdout",
     "output_type": "stream",
     "text": [
      "INFO:tensorflow:Assets written to: /visuworks/Blindless_AIFFELTON/Ablation Study/SD_Unet/model_parameters/sd_unet_30ep_512_sG_wo_decay.tf/12--0.2834-0.6757-0.9779-0.7020-0.9803.pb/assets\n"
     ]
    },
    {
     "name": "stderr",
     "output_type": "stream",
     "text": [
      "INFO:tensorflow:Assets written to: /visuworks/Blindless_AIFFELTON/Ablation Study/SD_Unet/model_parameters/sd_unet_30ep_512_sG_wo_decay.tf/12--0.2834-0.6757-0.9779-0.7020-0.9803.pb/assets\n"
     ]
    },
    {
     "name": "stdout",
     "output_type": "stream",
     "text": [
      "Model saved to /visuworks/Blindless_AIFFELTON/Ablation Study/SD_Unet/model_parameters/sd_unet_30ep_512_sG_wo_decay.tf/12--0.2834-0.6757-0.9779-0.7020-0.9803.pb\n",
      "880/880 [==============================] - 120s 137ms/step - loss: 0.2834 - sensitivity: 0.6757 - specificity: 0.9779 - accuracy: 0.9582 - val_loss: 0.2525 - val_sensitivity: 0.7020 - val_specificity: 0.9803 - val_accuracy: 0.9618\n",
      "Epoch 13/30\n",
      "879/880 [============================>.] - ETA: 0s - loss: 0.2797 - sensitivity: 0.6806 - specificity: 0.9780 - accuracy: 0.9586"
     ]
    },
    {
     "name": "stderr",
     "output_type": "stream",
     "text": [
      "/usr/local/lib/python3.10/dist-packages/tensorflow/python/util/dispatch.py:1260: UserWarning: `tf.keras.backend.random_binomial` is deprecated, and will be removed in a future version.Please use `tf.keras.backend.random_bernoulli` instead.\n",
      "  return dispatch_target(*args, **kwargs)\n",
      "/usr/local/lib/python3.10/dist-packages/tensorflow/python/util/dispatch.py:1260: UserWarning: `tf.keras.backend.random_binomial` is deprecated, and will be removed in a future version.Please use `tf.keras.backend.random_bernoulli` instead.\n",
      "  return dispatch_target(*args, **kwargs)\n",
      "/usr/local/lib/python3.10/dist-packages/tensorflow/python/util/dispatch.py:1260: UserWarning: `tf.keras.backend.random_binomial` is deprecated, and will be removed in a future version.Please use `tf.keras.backend.random_bernoulli` instead.\n",
      "  return dispatch_target(*args, **kwargs)\n",
      "/usr/local/lib/python3.10/dist-packages/tensorflow/python/util/dispatch.py:1260: UserWarning: `tf.keras.backend.random_binomial` is deprecated, and will be removed in a future version.Please use `tf.keras.backend.random_bernoulli` instead.\n",
      "  return dispatch_target(*args, **kwargs)\n",
      "/usr/local/lib/python3.10/dist-packages/tensorflow/python/util/dispatch.py:1260: UserWarning: `tf.keras.backend.random_binomial` is deprecated, and will be removed in a future version.Please use `tf.keras.backend.random_bernoulli` instead.\n",
      "  return dispatch_target(*args, **kwargs)\n",
      "/usr/local/lib/python3.10/dist-packages/tensorflow/python/util/dispatch.py:1260: UserWarning: `tf.keras.backend.random_binomial` is deprecated, and will be removed in a future version.Please use `tf.keras.backend.random_bernoulli` instead.\n",
      "  return dispatch_target(*args, **kwargs)\n",
      "/usr/local/lib/python3.10/dist-packages/tensorflow/python/util/dispatch.py:1260: UserWarning: `tf.keras.backend.random_binomial` is deprecated, and will be removed in a future version.Please use `tf.keras.backend.random_bernoulli` instead.\n",
      "  return dispatch_target(*args, **kwargs)\n",
      "/usr/local/lib/python3.10/dist-packages/tensorflow/python/util/dispatch.py:1260: UserWarning: `tf.keras.backend.random_binomial` is deprecated, and will be removed in a future version.Please use `tf.keras.backend.random_bernoulli` instead.\n",
      "  return dispatch_target(*args, **kwargs)\n",
      "/usr/local/lib/python3.10/dist-packages/tensorflow/python/util/dispatch.py:1260: UserWarning: `tf.keras.backend.random_binomial` is deprecated, and will be removed in a future version.Please use `tf.keras.backend.random_bernoulli` instead.\n",
      "  return dispatch_target(*args, **kwargs)\n",
      "/usr/local/lib/python3.10/dist-packages/tensorflow/python/util/dispatch.py:1260: UserWarning: `tf.keras.backend.random_binomial` is deprecated, and will be removed in a future version.Please use `tf.keras.backend.random_bernoulli` instead.\n",
      "  return dispatch_target(*args, **kwargs)\n",
      "/usr/local/lib/python3.10/dist-packages/tensorflow/python/util/dispatch.py:1260: UserWarning: `tf.keras.backend.random_binomial` is deprecated, and will be removed in a future version.Please use `tf.keras.backend.random_bernoulli` instead.\n",
      "  return dispatch_target(*args, **kwargs)\n",
      "/usr/local/lib/python3.10/dist-packages/tensorflow/python/util/dispatch.py:1260: UserWarning: `tf.keras.backend.random_binomial` is deprecated, and will be removed in a future version.Please use `tf.keras.backend.random_bernoulli` instead.\n",
      "  return dispatch_target(*args, **kwargs)\n",
      "/usr/local/lib/python3.10/dist-packages/tensorflow/python/util/dispatch.py:1260: UserWarning: `tf.keras.backend.random_binomial` is deprecated, and will be removed in a future version.Please use `tf.keras.backend.random_bernoulli` instead.\n",
      "  return dispatch_target(*args, **kwargs)\n",
      "/usr/local/lib/python3.10/dist-packages/tensorflow/python/util/dispatch.py:1260: UserWarning: `tf.keras.backend.random_binomial` is deprecated, and will be removed in a future version.Please use `tf.keras.backend.random_bernoulli` instead.\n",
      "  return dispatch_target(*args, **kwargs)\n",
      "/usr/local/lib/python3.10/dist-packages/tensorflow/python/util/dispatch.py:1260: UserWarning: `tf.keras.backend.random_binomial` is deprecated, and will be removed in a future version.Please use `tf.keras.backend.random_bernoulli` instead.\n",
      "  return dispatch_target(*args, **kwargs)\n"
     ]
    },
    {
     "name": "stdout",
     "output_type": "stream",
     "text": [
      "INFO:tensorflow:Assets written to: /visuworks/Blindless_AIFFELTON/Ablation Study/SD_Unet/model_parameters/sd_unet_30ep_512_sG_wo_decay.tf/13--0.2798-0.6808-0.9780-0.7444-0.9752.pb/assets\n"
     ]
    },
    {
     "name": "stderr",
     "output_type": "stream",
     "text": [
      "INFO:tensorflow:Assets written to: /visuworks/Blindless_AIFFELTON/Ablation Study/SD_Unet/model_parameters/sd_unet_30ep_512_sG_wo_decay.tf/13--0.2798-0.6808-0.9780-0.7444-0.9752.pb/assets\n"
     ]
    },
    {
     "name": "stdout",
     "output_type": "stream",
     "text": [
      "Model saved to /visuworks/Blindless_AIFFELTON/Ablation Study/SD_Unet/model_parameters/sd_unet_30ep_512_sG_wo_decay.tf/13--0.2798-0.6808-0.9780-0.7444-0.9752.pb\n",
      "880/880 [==============================] - 123s 140ms/step - loss: 0.2798 - sensitivity: 0.6808 - specificity: 0.9780 - accuracy: 0.9586 - val_loss: 0.2512 - val_sensitivity: 0.7444 - val_specificity: 0.9752 - val_accuracy: 0.9600\n",
      "Epoch 14/30\n",
      "880/880 [==============================] - ETA: 0s - loss: 0.2768 - sensitivity: 0.6848 - specificity: 0.9781 - accuracy: 0.9590"
     ]
    },
    {
     "name": "stderr",
     "output_type": "stream",
     "text": [
      "/usr/local/lib/python3.10/dist-packages/tensorflow/python/util/dispatch.py:1260: UserWarning: `tf.keras.backend.random_binomial` is deprecated, and will be removed in a future version.Please use `tf.keras.backend.random_bernoulli` instead.\n",
      "  return dispatch_target(*args, **kwargs)\n",
      "/usr/local/lib/python3.10/dist-packages/tensorflow/python/util/dispatch.py:1260: UserWarning: `tf.keras.backend.random_binomial` is deprecated, and will be removed in a future version.Please use `tf.keras.backend.random_bernoulli` instead.\n",
      "  return dispatch_target(*args, **kwargs)\n",
      "/usr/local/lib/python3.10/dist-packages/tensorflow/python/util/dispatch.py:1260: UserWarning: `tf.keras.backend.random_binomial` is deprecated, and will be removed in a future version.Please use `tf.keras.backend.random_bernoulli` instead.\n",
      "  return dispatch_target(*args, **kwargs)\n",
      "/usr/local/lib/python3.10/dist-packages/tensorflow/python/util/dispatch.py:1260: UserWarning: `tf.keras.backend.random_binomial` is deprecated, and will be removed in a future version.Please use `tf.keras.backend.random_bernoulli` instead.\n",
      "  return dispatch_target(*args, **kwargs)\n",
      "/usr/local/lib/python3.10/dist-packages/tensorflow/python/util/dispatch.py:1260: UserWarning: `tf.keras.backend.random_binomial` is deprecated, and will be removed in a future version.Please use `tf.keras.backend.random_bernoulli` instead.\n",
      "  return dispatch_target(*args, **kwargs)\n",
      "/usr/local/lib/python3.10/dist-packages/tensorflow/python/util/dispatch.py:1260: UserWarning: `tf.keras.backend.random_binomial` is deprecated, and will be removed in a future version.Please use `tf.keras.backend.random_bernoulli` instead.\n",
      "  return dispatch_target(*args, **kwargs)\n",
      "/usr/local/lib/python3.10/dist-packages/tensorflow/python/util/dispatch.py:1260: UserWarning: `tf.keras.backend.random_binomial` is deprecated, and will be removed in a future version.Please use `tf.keras.backend.random_bernoulli` instead.\n",
      "  return dispatch_target(*args, **kwargs)\n",
      "/usr/local/lib/python3.10/dist-packages/tensorflow/python/util/dispatch.py:1260: UserWarning: `tf.keras.backend.random_binomial` is deprecated, and will be removed in a future version.Please use `tf.keras.backend.random_bernoulli` instead.\n",
      "  return dispatch_target(*args, **kwargs)\n",
      "/usr/local/lib/python3.10/dist-packages/tensorflow/python/util/dispatch.py:1260: UserWarning: `tf.keras.backend.random_binomial` is deprecated, and will be removed in a future version.Please use `tf.keras.backend.random_bernoulli` instead.\n",
      "  return dispatch_target(*args, **kwargs)\n",
      "/usr/local/lib/python3.10/dist-packages/tensorflow/python/util/dispatch.py:1260: UserWarning: `tf.keras.backend.random_binomial` is deprecated, and will be removed in a future version.Please use `tf.keras.backend.random_bernoulli` instead.\n",
      "  return dispatch_target(*args, **kwargs)\n",
      "/usr/local/lib/python3.10/dist-packages/tensorflow/python/util/dispatch.py:1260: UserWarning: `tf.keras.backend.random_binomial` is deprecated, and will be removed in a future version.Please use `tf.keras.backend.random_bernoulli` instead.\n",
      "  return dispatch_target(*args, **kwargs)\n",
      "/usr/local/lib/python3.10/dist-packages/tensorflow/python/util/dispatch.py:1260: UserWarning: `tf.keras.backend.random_binomial` is deprecated, and will be removed in a future version.Please use `tf.keras.backend.random_bernoulli` instead.\n",
      "  return dispatch_target(*args, **kwargs)\n",
      "/usr/local/lib/python3.10/dist-packages/tensorflow/python/util/dispatch.py:1260: UserWarning: `tf.keras.backend.random_binomial` is deprecated, and will be removed in a future version.Please use `tf.keras.backend.random_bernoulli` instead.\n",
      "  return dispatch_target(*args, **kwargs)\n",
      "/usr/local/lib/python3.10/dist-packages/tensorflow/python/util/dispatch.py:1260: UserWarning: `tf.keras.backend.random_binomial` is deprecated, and will be removed in a future version.Please use `tf.keras.backend.random_bernoulli` instead.\n",
      "  return dispatch_target(*args, **kwargs)\n",
      "/usr/local/lib/python3.10/dist-packages/tensorflow/python/util/dispatch.py:1260: UserWarning: `tf.keras.backend.random_binomial` is deprecated, and will be removed in a future version.Please use `tf.keras.backend.random_bernoulli` instead.\n",
      "  return dispatch_target(*args, **kwargs)\n"
     ]
    },
    {
     "name": "stdout",
     "output_type": "stream",
     "text": [
      "INFO:tensorflow:Assets written to: /visuworks/Blindless_AIFFELTON/Ablation Study/SD_Unet/model_parameters/sd_unet_30ep_512_sG_wo_decay.tf/14--0.2768-0.6848-0.9781-0.7726-0.9710.pb/assets\n"
     ]
    },
    {
     "name": "stderr",
     "output_type": "stream",
     "text": [
      "INFO:tensorflow:Assets written to: /visuworks/Blindless_AIFFELTON/Ablation Study/SD_Unet/model_parameters/sd_unet_30ep_512_sG_wo_decay.tf/14--0.2768-0.6848-0.9781-0.7726-0.9710.pb/assets\n"
     ]
    },
    {
     "name": "stdout",
     "output_type": "stream",
     "text": [
      "Model saved to /visuworks/Blindless_AIFFELTON/Ablation Study/SD_Unet/model_parameters/sd_unet_30ep_512_sG_wo_decay.tf/14--0.2768-0.6848-0.9781-0.7726-0.9710.pb\n",
      "880/880 [==============================] - 116s 132ms/step - loss: 0.2768 - sensitivity: 0.6848 - specificity: 0.9781 - accuracy: 0.9590 - val_loss: 0.2541 - val_sensitivity: 0.7726 - val_specificity: 0.9710 - val_accuracy: 0.9581\n",
      "Epoch 15/30\n",
      "879/880 [============================>.] - ETA: 0s - loss: 0.2733 - sensitivity: 0.6892 - specificity: 0.9782 - accuracy: 0.9594"
     ]
    },
    {
     "name": "stderr",
     "output_type": "stream",
     "text": [
      "/usr/local/lib/python3.10/dist-packages/tensorflow/python/util/dispatch.py:1260: UserWarning: `tf.keras.backend.random_binomial` is deprecated, and will be removed in a future version.Please use `tf.keras.backend.random_bernoulli` instead.\n",
      "  return dispatch_target(*args, **kwargs)\n",
      "/usr/local/lib/python3.10/dist-packages/tensorflow/python/util/dispatch.py:1260: UserWarning: `tf.keras.backend.random_binomial` is deprecated, and will be removed in a future version.Please use `tf.keras.backend.random_bernoulli` instead.\n",
      "  return dispatch_target(*args, **kwargs)\n",
      "/usr/local/lib/python3.10/dist-packages/tensorflow/python/util/dispatch.py:1260: UserWarning: `tf.keras.backend.random_binomial` is deprecated, and will be removed in a future version.Please use `tf.keras.backend.random_bernoulli` instead.\n",
      "  return dispatch_target(*args, **kwargs)\n",
      "/usr/local/lib/python3.10/dist-packages/tensorflow/python/util/dispatch.py:1260: UserWarning: `tf.keras.backend.random_binomial` is deprecated, and will be removed in a future version.Please use `tf.keras.backend.random_bernoulli` instead.\n",
      "  return dispatch_target(*args, **kwargs)\n",
      "/usr/local/lib/python3.10/dist-packages/tensorflow/python/util/dispatch.py:1260: UserWarning: `tf.keras.backend.random_binomial` is deprecated, and will be removed in a future version.Please use `tf.keras.backend.random_bernoulli` instead.\n",
      "  return dispatch_target(*args, **kwargs)\n",
      "/usr/local/lib/python3.10/dist-packages/tensorflow/python/util/dispatch.py:1260: UserWarning: `tf.keras.backend.random_binomial` is deprecated, and will be removed in a future version.Please use `tf.keras.backend.random_bernoulli` instead.\n",
      "  return dispatch_target(*args, **kwargs)\n",
      "/usr/local/lib/python3.10/dist-packages/tensorflow/python/util/dispatch.py:1260: UserWarning: `tf.keras.backend.random_binomial` is deprecated, and will be removed in a future version.Please use `tf.keras.backend.random_bernoulli` instead.\n",
      "  return dispatch_target(*args, **kwargs)\n",
      "/usr/local/lib/python3.10/dist-packages/tensorflow/python/util/dispatch.py:1260: UserWarning: `tf.keras.backend.random_binomial` is deprecated, and will be removed in a future version.Please use `tf.keras.backend.random_bernoulli` instead.\n",
      "  return dispatch_target(*args, **kwargs)\n",
      "/usr/local/lib/python3.10/dist-packages/tensorflow/python/util/dispatch.py:1260: UserWarning: `tf.keras.backend.random_binomial` is deprecated, and will be removed in a future version.Please use `tf.keras.backend.random_bernoulli` instead.\n",
      "  return dispatch_target(*args, **kwargs)\n",
      "/usr/local/lib/python3.10/dist-packages/tensorflow/python/util/dispatch.py:1260: UserWarning: `tf.keras.backend.random_binomial` is deprecated, and will be removed in a future version.Please use `tf.keras.backend.random_bernoulli` instead.\n",
      "  return dispatch_target(*args, **kwargs)\n",
      "/usr/local/lib/python3.10/dist-packages/tensorflow/python/util/dispatch.py:1260: UserWarning: `tf.keras.backend.random_binomial` is deprecated, and will be removed in a future version.Please use `tf.keras.backend.random_bernoulli` instead.\n",
      "  return dispatch_target(*args, **kwargs)\n",
      "/usr/local/lib/python3.10/dist-packages/tensorflow/python/util/dispatch.py:1260: UserWarning: `tf.keras.backend.random_binomial` is deprecated, and will be removed in a future version.Please use `tf.keras.backend.random_bernoulli` instead.\n",
      "  return dispatch_target(*args, **kwargs)\n",
      "/usr/local/lib/python3.10/dist-packages/tensorflow/python/util/dispatch.py:1260: UserWarning: `tf.keras.backend.random_binomial` is deprecated, and will be removed in a future version.Please use `tf.keras.backend.random_bernoulli` instead.\n",
      "  return dispatch_target(*args, **kwargs)\n",
      "/usr/local/lib/python3.10/dist-packages/tensorflow/python/util/dispatch.py:1260: UserWarning: `tf.keras.backend.random_binomial` is deprecated, and will be removed in a future version.Please use `tf.keras.backend.random_bernoulli` instead.\n",
      "  return dispatch_target(*args, **kwargs)\n",
      "/usr/local/lib/python3.10/dist-packages/tensorflow/python/util/dispatch.py:1260: UserWarning: `tf.keras.backend.random_binomial` is deprecated, and will be removed in a future version.Please use `tf.keras.backend.random_bernoulli` instead.\n",
      "  return dispatch_target(*args, **kwargs)\n"
     ]
    },
    {
     "name": "stdout",
     "output_type": "stream",
     "text": [
      "INFO:tensorflow:Assets written to: /visuworks/Blindless_AIFFELTON/Ablation Study/SD_Unet/model_parameters/sd_unet_30ep_512_sG_wo_decay.tf/15--0.2732-0.6893-0.9782-0.7476-0.9760.pb/assets\n"
     ]
    },
    {
     "name": "stderr",
     "output_type": "stream",
     "text": [
      "INFO:tensorflow:Assets written to: /visuworks/Blindless_AIFFELTON/Ablation Study/SD_Unet/model_parameters/sd_unet_30ep_512_sG_wo_decay.tf/15--0.2732-0.6893-0.9782-0.7476-0.9760.pb/assets\n"
     ]
    },
    {
     "name": "stdout",
     "output_type": "stream",
     "text": [
      "Model saved to /visuworks/Blindless_AIFFELTON/Ablation Study/SD_Unet/model_parameters/sd_unet_30ep_512_sG_wo_decay.tf/15--0.2732-0.6893-0.9782-0.7476-0.9760.pb\n",
      "880/880 [==============================] - 119s 135ms/step - loss: 0.2732 - sensitivity: 0.6893 - specificity: 0.9782 - accuracy: 0.9594 - val_loss: 0.2466 - val_sensitivity: 0.7476 - val_specificity: 0.9760 - val_accuracy: 0.9610\n",
      "Epoch 16/30\n",
      "880/880 [==============================] - ETA: 0s - loss: 0.2719 - sensitivity: 0.6907 - specificity: 0.9784 - accuracy: 0.9597"
     ]
    },
    {
     "name": "stderr",
     "output_type": "stream",
     "text": [
      "/usr/local/lib/python3.10/dist-packages/tensorflow/python/util/dispatch.py:1260: UserWarning: `tf.keras.backend.random_binomial` is deprecated, and will be removed in a future version.Please use `tf.keras.backend.random_bernoulli` instead.\n",
      "  return dispatch_target(*args, **kwargs)\n",
      "/usr/local/lib/python3.10/dist-packages/tensorflow/python/util/dispatch.py:1260: UserWarning: `tf.keras.backend.random_binomial` is deprecated, and will be removed in a future version.Please use `tf.keras.backend.random_bernoulli` instead.\n",
      "  return dispatch_target(*args, **kwargs)\n",
      "/usr/local/lib/python3.10/dist-packages/tensorflow/python/util/dispatch.py:1260: UserWarning: `tf.keras.backend.random_binomial` is deprecated, and will be removed in a future version.Please use `tf.keras.backend.random_bernoulli` instead.\n",
      "  return dispatch_target(*args, **kwargs)\n",
      "/usr/local/lib/python3.10/dist-packages/tensorflow/python/util/dispatch.py:1260: UserWarning: `tf.keras.backend.random_binomial` is deprecated, and will be removed in a future version.Please use `tf.keras.backend.random_bernoulli` instead.\n",
      "  return dispatch_target(*args, **kwargs)\n",
      "/usr/local/lib/python3.10/dist-packages/tensorflow/python/util/dispatch.py:1260: UserWarning: `tf.keras.backend.random_binomial` is deprecated, and will be removed in a future version.Please use `tf.keras.backend.random_bernoulli` instead.\n",
      "  return dispatch_target(*args, **kwargs)\n",
      "/usr/local/lib/python3.10/dist-packages/tensorflow/python/util/dispatch.py:1260: UserWarning: `tf.keras.backend.random_binomial` is deprecated, and will be removed in a future version.Please use `tf.keras.backend.random_bernoulli` instead.\n",
      "  return dispatch_target(*args, **kwargs)\n",
      "/usr/local/lib/python3.10/dist-packages/tensorflow/python/util/dispatch.py:1260: UserWarning: `tf.keras.backend.random_binomial` is deprecated, and will be removed in a future version.Please use `tf.keras.backend.random_bernoulli` instead.\n",
      "  return dispatch_target(*args, **kwargs)\n",
      "/usr/local/lib/python3.10/dist-packages/tensorflow/python/util/dispatch.py:1260: UserWarning: `tf.keras.backend.random_binomial` is deprecated, and will be removed in a future version.Please use `tf.keras.backend.random_bernoulli` instead.\n",
      "  return dispatch_target(*args, **kwargs)\n",
      "/usr/local/lib/python3.10/dist-packages/tensorflow/python/util/dispatch.py:1260: UserWarning: `tf.keras.backend.random_binomial` is deprecated, and will be removed in a future version.Please use `tf.keras.backend.random_bernoulli` instead.\n",
      "  return dispatch_target(*args, **kwargs)\n",
      "/usr/local/lib/python3.10/dist-packages/tensorflow/python/util/dispatch.py:1260: UserWarning: `tf.keras.backend.random_binomial` is deprecated, and will be removed in a future version.Please use `tf.keras.backend.random_bernoulli` instead.\n",
      "  return dispatch_target(*args, **kwargs)\n",
      "/usr/local/lib/python3.10/dist-packages/tensorflow/python/util/dispatch.py:1260: UserWarning: `tf.keras.backend.random_binomial` is deprecated, and will be removed in a future version.Please use `tf.keras.backend.random_bernoulli` instead.\n",
      "  return dispatch_target(*args, **kwargs)\n",
      "/usr/local/lib/python3.10/dist-packages/tensorflow/python/util/dispatch.py:1260: UserWarning: `tf.keras.backend.random_binomial` is deprecated, and will be removed in a future version.Please use `tf.keras.backend.random_bernoulli` instead.\n",
      "  return dispatch_target(*args, **kwargs)\n",
      "/usr/local/lib/python3.10/dist-packages/tensorflow/python/util/dispatch.py:1260: UserWarning: `tf.keras.backend.random_binomial` is deprecated, and will be removed in a future version.Please use `tf.keras.backend.random_bernoulli` instead.\n",
      "  return dispatch_target(*args, **kwargs)\n",
      "/usr/local/lib/python3.10/dist-packages/tensorflow/python/util/dispatch.py:1260: UserWarning: `tf.keras.backend.random_binomial` is deprecated, and will be removed in a future version.Please use `tf.keras.backend.random_bernoulli` instead.\n",
      "  return dispatch_target(*args, **kwargs)\n",
      "/usr/local/lib/python3.10/dist-packages/tensorflow/python/util/dispatch.py:1260: UserWarning: `tf.keras.backend.random_binomial` is deprecated, and will be removed in a future version.Please use `tf.keras.backend.random_bernoulli` instead.\n",
      "  return dispatch_target(*args, **kwargs)\n"
     ]
    },
    {
     "name": "stdout",
     "output_type": "stream",
     "text": [
      "INFO:tensorflow:Assets written to: /visuworks/Blindless_AIFFELTON/Ablation Study/SD_Unet/model_parameters/sd_unet_30ep_512_sG_wo_decay.tf/16--0.2719-0.6907-0.9784-0.7101-0.9810.pb/assets\n"
     ]
    },
    {
     "name": "stderr",
     "output_type": "stream",
     "text": [
      "INFO:tensorflow:Assets written to: /visuworks/Blindless_AIFFELTON/Ablation Study/SD_Unet/model_parameters/sd_unet_30ep_512_sG_wo_decay.tf/16--0.2719-0.6907-0.9784-0.7101-0.9810.pb/assets\n"
     ]
    },
    {
     "name": "stdout",
     "output_type": "stream",
     "text": [
      "Model saved to /visuworks/Blindless_AIFFELTON/Ablation Study/SD_Unet/model_parameters/sd_unet_30ep_512_sG_wo_decay.tf/16--0.2719-0.6907-0.9784-0.7101-0.9810.pb\n",
      "880/880 [==============================] - 115s 130ms/step - loss: 0.2719 - sensitivity: 0.6907 - specificity: 0.9784 - accuracy: 0.9597 - val_loss: 0.2449 - val_sensitivity: 0.7101 - val_specificity: 0.9810 - val_accuracy: 0.9630\n",
      "Epoch 17/30\n",
      "880/880 [==============================] - ETA: 0s - loss: 0.2686 - sensitivity: 0.6944 - specificity: 0.9787 - accuracy: 0.9602"
     ]
    },
    {
     "name": "stderr",
     "output_type": "stream",
     "text": [
      "/usr/local/lib/python3.10/dist-packages/tensorflow/python/util/dispatch.py:1260: UserWarning: `tf.keras.backend.random_binomial` is deprecated, and will be removed in a future version.Please use `tf.keras.backend.random_bernoulli` instead.\n",
      "  return dispatch_target(*args, **kwargs)\n",
      "/usr/local/lib/python3.10/dist-packages/tensorflow/python/util/dispatch.py:1260: UserWarning: `tf.keras.backend.random_binomial` is deprecated, and will be removed in a future version.Please use `tf.keras.backend.random_bernoulli` instead.\n",
      "  return dispatch_target(*args, **kwargs)\n",
      "/usr/local/lib/python3.10/dist-packages/tensorflow/python/util/dispatch.py:1260: UserWarning: `tf.keras.backend.random_binomial` is deprecated, and will be removed in a future version.Please use `tf.keras.backend.random_bernoulli` instead.\n",
      "  return dispatch_target(*args, **kwargs)\n",
      "/usr/local/lib/python3.10/dist-packages/tensorflow/python/util/dispatch.py:1260: UserWarning: `tf.keras.backend.random_binomial` is deprecated, and will be removed in a future version.Please use `tf.keras.backend.random_bernoulli` instead.\n",
      "  return dispatch_target(*args, **kwargs)\n",
      "/usr/local/lib/python3.10/dist-packages/tensorflow/python/util/dispatch.py:1260: UserWarning: `tf.keras.backend.random_binomial` is deprecated, and will be removed in a future version.Please use `tf.keras.backend.random_bernoulli` instead.\n",
      "  return dispatch_target(*args, **kwargs)\n",
      "/usr/local/lib/python3.10/dist-packages/tensorflow/python/util/dispatch.py:1260: UserWarning: `tf.keras.backend.random_binomial` is deprecated, and will be removed in a future version.Please use `tf.keras.backend.random_bernoulli` instead.\n",
      "  return dispatch_target(*args, **kwargs)\n",
      "/usr/local/lib/python3.10/dist-packages/tensorflow/python/util/dispatch.py:1260: UserWarning: `tf.keras.backend.random_binomial` is deprecated, and will be removed in a future version.Please use `tf.keras.backend.random_bernoulli` instead.\n",
      "  return dispatch_target(*args, **kwargs)\n",
      "/usr/local/lib/python3.10/dist-packages/tensorflow/python/util/dispatch.py:1260: UserWarning: `tf.keras.backend.random_binomial` is deprecated, and will be removed in a future version.Please use `tf.keras.backend.random_bernoulli` instead.\n",
      "  return dispatch_target(*args, **kwargs)\n",
      "/usr/local/lib/python3.10/dist-packages/tensorflow/python/util/dispatch.py:1260: UserWarning: `tf.keras.backend.random_binomial` is deprecated, and will be removed in a future version.Please use `tf.keras.backend.random_bernoulli` instead.\n",
      "  return dispatch_target(*args, **kwargs)\n",
      "/usr/local/lib/python3.10/dist-packages/tensorflow/python/util/dispatch.py:1260: UserWarning: `tf.keras.backend.random_binomial` is deprecated, and will be removed in a future version.Please use `tf.keras.backend.random_bernoulli` instead.\n",
      "  return dispatch_target(*args, **kwargs)\n",
      "/usr/local/lib/python3.10/dist-packages/tensorflow/python/util/dispatch.py:1260: UserWarning: `tf.keras.backend.random_binomial` is deprecated, and will be removed in a future version.Please use `tf.keras.backend.random_bernoulli` instead.\n",
      "  return dispatch_target(*args, **kwargs)\n",
      "/usr/local/lib/python3.10/dist-packages/tensorflow/python/util/dispatch.py:1260: UserWarning: `tf.keras.backend.random_binomial` is deprecated, and will be removed in a future version.Please use `tf.keras.backend.random_bernoulli` instead.\n",
      "  return dispatch_target(*args, **kwargs)\n",
      "/usr/local/lib/python3.10/dist-packages/tensorflow/python/util/dispatch.py:1260: UserWarning: `tf.keras.backend.random_binomial` is deprecated, and will be removed in a future version.Please use `tf.keras.backend.random_bernoulli` instead.\n",
      "  return dispatch_target(*args, **kwargs)\n",
      "/usr/local/lib/python3.10/dist-packages/tensorflow/python/util/dispatch.py:1260: UserWarning: `tf.keras.backend.random_binomial` is deprecated, and will be removed in a future version.Please use `tf.keras.backend.random_bernoulli` instead.\n",
      "  return dispatch_target(*args, **kwargs)\n",
      "/usr/local/lib/python3.10/dist-packages/tensorflow/python/util/dispatch.py:1260: UserWarning: `tf.keras.backend.random_binomial` is deprecated, and will be removed in a future version.Please use `tf.keras.backend.random_bernoulli` instead.\n",
      "  return dispatch_target(*args, **kwargs)\n"
     ]
    },
    {
     "name": "stdout",
     "output_type": "stream",
     "text": [
      "INFO:tensorflow:Assets written to: /visuworks/Blindless_AIFFELTON/Ablation Study/SD_Unet/model_parameters/sd_unet_30ep_512_sG_wo_decay.tf/17--0.2686-0.6944-0.9787-0.7576-0.9755.pb/assets\n"
     ]
    },
    {
     "name": "stderr",
     "output_type": "stream",
     "text": [
      "INFO:tensorflow:Assets written to: /visuworks/Blindless_AIFFELTON/Ablation Study/SD_Unet/model_parameters/sd_unet_30ep_512_sG_wo_decay.tf/17--0.2686-0.6944-0.9787-0.7576-0.9755.pb/assets\n"
     ]
    },
    {
     "name": "stdout",
     "output_type": "stream",
     "text": [
      "Model saved to /visuworks/Blindless_AIFFELTON/Ablation Study/SD_Unet/model_parameters/sd_unet_30ep_512_sG_wo_decay.tf/17--0.2686-0.6944-0.9787-0.7576-0.9755.pb\n",
      "880/880 [==============================] - 114s 130ms/step - loss: 0.2686 - sensitivity: 0.6944 - specificity: 0.9787 - accuracy: 0.9602 - val_loss: 0.2422 - val_sensitivity: 0.7576 - val_specificity: 0.9755 - val_accuracy: 0.9612\n",
      "Epoch 18/30\n",
      "880/880 [==============================] - ETA: 0s - loss: 0.2666 - sensitivity: 0.6977 - specificity: 0.9785 - accuracy: 0.9603"
     ]
    },
    {
     "name": "stderr",
     "output_type": "stream",
     "text": [
      "/usr/local/lib/python3.10/dist-packages/tensorflow/python/util/dispatch.py:1260: UserWarning: `tf.keras.backend.random_binomial` is deprecated, and will be removed in a future version.Please use `tf.keras.backend.random_bernoulli` instead.\n",
      "  return dispatch_target(*args, **kwargs)\n",
      "/usr/local/lib/python3.10/dist-packages/tensorflow/python/util/dispatch.py:1260: UserWarning: `tf.keras.backend.random_binomial` is deprecated, and will be removed in a future version.Please use `tf.keras.backend.random_bernoulli` instead.\n",
      "  return dispatch_target(*args, **kwargs)\n",
      "/usr/local/lib/python3.10/dist-packages/tensorflow/python/util/dispatch.py:1260: UserWarning: `tf.keras.backend.random_binomial` is deprecated, and will be removed in a future version.Please use `tf.keras.backend.random_bernoulli` instead.\n",
      "  return dispatch_target(*args, **kwargs)\n",
      "/usr/local/lib/python3.10/dist-packages/tensorflow/python/util/dispatch.py:1260: UserWarning: `tf.keras.backend.random_binomial` is deprecated, and will be removed in a future version.Please use `tf.keras.backend.random_bernoulli` instead.\n",
      "  return dispatch_target(*args, **kwargs)\n",
      "/usr/local/lib/python3.10/dist-packages/tensorflow/python/util/dispatch.py:1260: UserWarning: `tf.keras.backend.random_binomial` is deprecated, and will be removed in a future version.Please use `tf.keras.backend.random_bernoulli` instead.\n",
      "  return dispatch_target(*args, **kwargs)\n",
      "/usr/local/lib/python3.10/dist-packages/tensorflow/python/util/dispatch.py:1260: UserWarning: `tf.keras.backend.random_binomial` is deprecated, and will be removed in a future version.Please use `tf.keras.backend.random_bernoulli` instead.\n",
      "  return dispatch_target(*args, **kwargs)\n",
      "/usr/local/lib/python3.10/dist-packages/tensorflow/python/util/dispatch.py:1260: UserWarning: `tf.keras.backend.random_binomial` is deprecated, and will be removed in a future version.Please use `tf.keras.backend.random_bernoulli` instead.\n",
      "  return dispatch_target(*args, **kwargs)\n",
      "/usr/local/lib/python3.10/dist-packages/tensorflow/python/util/dispatch.py:1260: UserWarning: `tf.keras.backend.random_binomial` is deprecated, and will be removed in a future version.Please use `tf.keras.backend.random_bernoulli` instead.\n",
      "  return dispatch_target(*args, **kwargs)\n",
      "/usr/local/lib/python3.10/dist-packages/tensorflow/python/util/dispatch.py:1260: UserWarning: `tf.keras.backend.random_binomial` is deprecated, and will be removed in a future version.Please use `tf.keras.backend.random_bernoulli` instead.\n",
      "  return dispatch_target(*args, **kwargs)\n",
      "/usr/local/lib/python3.10/dist-packages/tensorflow/python/util/dispatch.py:1260: UserWarning: `tf.keras.backend.random_binomial` is deprecated, and will be removed in a future version.Please use `tf.keras.backend.random_bernoulli` instead.\n",
      "  return dispatch_target(*args, **kwargs)\n",
      "/usr/local/lib/python3.10/dist-packages/tensorflow/python/util/dispatch.py:1260: UserWarning: `tf.keras.backend.random_binomial` is deprecated, and will be removed in a future version.Please use `tf.keras.backend.random_bernoulli` instead.\n",
      "  return dispatch_target(*args, **kwargs)\n",
      "/usr/local/lib/python3.10/dist-packages/tensorflow/python/util/dispatch.py:1260: UserWarning: `tf.keras.backend.random_binomial` is deprecated, and will be removed in a future version.Please use `tf.keras.backend.random_bernoulli` instead.\n",
      "  return dispatch_target(*args, **kwargs)\n",
      "/usr/local/lib/python3.10/dist-packages/tensorflow/python/util/dispatch.py:1260: UserWarning: `tf.keras.backend.random_binomial` is deprecated, and will be removed in a future version.Please use `tf.keras.backend.random_bernoulli` instead.\n",
      "  return dispatch_target(*args, **kwargs)\n",
      "/usr/local/lib/python3.10/dist-packages/tensorflow/python/util/dispatch.py:1260: UserWarning: `tf.keras.backend.random_binomial` is deprecated, and will be removed in a future version.Please use `tf.keras.backend.random_bernoulli` instead.\n",
      "  return dispatch_target(*args, **kwargs)\n",
      "/usr/local/lib/python3.10/dist-packages/tensorflow/python/util/dispatch.py:1260: UserWarning: `tf.keras.backend.random_binomial` is deprecated, and will be removed in a future version.Please use `tf.keras.backend.random_bernoulli` instead.\n",
      "  return dispatch_target(*args, **kwargs)\n"
     ]
    },
    {
     "name": "stdout",
     "output_type": "stream",
     "text": [
      "INFO:tensorflow:Assets written to: /visuworks/Blindless_AIFFELTON/Ablation Study/SD_Unet/model_parameters/sd_unet_30ep_512_sG_wo_decay.tf/18--0.2666-0.6977-0.9785-0.7744-0.9730.pb/assets\n"
     ]
    },
    {
     "name": "stderr",
     "output_type": "stream",
     "text": [
      "INFO:tensorflow:Assets written to: /visuworks/Blindless_AIFFELTON/Ablation Study/SD_Unet/model_parameters/sd_unet_30ep_512_sG_wo_decay.tf/18--0.2666-0.6977-0.9785-0.7744-0.9730.pb/assets\n"
     ]
    },
    {
     "name": "stdout",
     "output_type": "stream",
     "text": [
      "Model saved to /visuworks/Blindless_AIFFELTON/Ablation Study/SD_Unet/model_parameters/sd_unet_30ep_512_sG_wo_decay.tf/18--0.2666-0.6977-0.9785-0.7744-0.9730.pb\n",
      "880/880 [==============================] - 118s 134ms/step - loss: 0.2666 - sensitivity: 0.6977 - specificity: 0.9785 - accuracy: 0.9603 - val_loss: 0.2443 - val_sensitivity: 0.7744 - val_specificity: 0.9730 - val_accuracy: 0.9601\n",
      "Epoch 19/30\n",
      "880/880 [==============================] - ETA: 0s - loss: 0.2656 - sensitivity: 0.6998 - specificity: 0.9786 - accuracy: 0.9605"
     ]
    },
    {
     "name": "stderr",
     "output_type": "stream",
     "text": [
      "/usr/local/lib/python3.10/dist-packages/tensorflow/python/util/dispatch.py:1260: UserWarning: `tf.keras.backend.random_binomial` is deprecated, and will be removed in a future version.Please use `tf.keras.backend.random_bernoulli` instead.\n",
      "  return dispatch_target(*args, **kwargs)\n",
      "/usr/local/lib/python3.10/dist-packages/tensorflow/python/util/dispatch.py:1260: UserWarning: `tf.keras.backend.random_binomial` is deprecated, and will be removed in a future version.Please use `tf.keras.backend.random_bernoulli` instead.\n",
      "  return dispatch_target(*args, **kwargs)\n",
      "/usr/local/lib/python3.10/dist-packages/tensorflow/python/util/dispatch.py:1260: UserWarning: `tf.keras.backend.random_binomial` is deprecated, and will be removed in a future version.Please use `tf.keras.backend.random_bernoulli` instead.\n",
      "  return dispatch_target(*args, **kwargs)\n",
      "/usr/local/lib/python3.10/dist-packages/tensorflow/python/util/dispatch.py:1260: UserWarning: `tf.keras.backend.random_binomial` is deprecated, and will be removed in a future version.Please use `tf.keras.backend.random_bernoulli` instead.\n",
      "  return dispatch_target(*args, **kwargs)\n",
      "/usr/local/lib/python3.10/dist-packages/tensorflow/python/util/dispatch.py:1260: UserWarning: `tf.keras.backend.random_binomial` is deprecated, and will be removed in a future version.Please use `tf.keras.backend.random_bernoulli` instead.\n",
      "  return dispatch_target(*args, **kwargs)\n",
      "/usr/local/lib/python3.10/dist-packages/tensorflow/python/util/dispatch.py:1260: UserWarning: `tf.keras.backend.random_binomial` is deprecated, and will be removed in a future version.Please use `tf.keras.backend.random_bernoulli` instead.\n",
      "  return dispatch_target(*args, **kwargs)\n",
      "/usr/local/lib/python3.10/dist-packages/tensorflow/python/util/dispatch.py:1260: UserWarning: `tf.keras.backend.random_binomial` is deprecated, and will be removed in a future version.Please use `tf.keras.backend.random_bernoulli` instead.\n",
      "  return dispatch_target(*args, **kwargs)\n",
      "/usr/local/lib/python3.10/dist-packages/tensorflow/python/util/dispatch.py:1260: UserWarning: `tf.keras.backend.random_binomial` is deprecated, and will be removed in a future version.Please use `tf.keras.backend.random_bernoulli` instead.\n",
      "  return dispatch_target(*args, **kwargs)\n",
      "/usr/local/lib/python3.10/dist-packages/tensorflow/python/util/dispatch.py:1260: UserWarning: `tf.keras.backend.random_binomial` is deprecated, and will be removed in a future version.Please use `tf.keras.backend.random_bernoulli` instead.\n",
      "  return dispatch_target(*args, **kwargs)\n",
      "/usr/local/lib/python3.10/dist-packages/tensorflow/python/util/dispatch.py:1260: UserWarning: `tf.keras.backend.random_binomial` is deprecated, and will be removed in a future version.Please use `tf.keras.backend.random_bernoulli` instead.\n",
      "  return dispatch_target(*args, **kwargs)\n",
      "/usr/local/lib/python3.10/dist-packages/tensorflow/python/util/dispatch.py:1260: UserWarning: `tf.keras.backend.random_binomial` is deprecated, and will be removed in a future version.Please use `tf.keras.backend.random_bernoulli` instead.\n",
      "  return dispatch_target(*args, **kwargs)\n",
      "/usr/local/lib/python3.10/dist-packages/tensorflow/python/util/dispatch.py:1260: UserWarning: `tf.keras.backend.random_binomial` is deprecated, and will be removed in a future version.Please use `tf.keras.backend.random_bernoulli` instead.\n",
      "  return dispatch_target(*args, **kwargs)\n",
      "/usr/local/lib/python3.10/dist-packages/tensorflow/python/util/dispatch.py:1260: UserWarning: `tf.keras.backend.random_binomial` is deprecated, and will be removed in a future version.Please use `tf.keras.backend.random_bernoulli` instead.\n",
      "  return dispatch_target(*args, **kwargs)\n",
      "/usr/local/lib/python3.10/dist-packages/tensorflow/python/util/dispatch.py:1260: UserWarning: `tf.keras.backend.random_binomial` is deprecated, and will be removed in a future version.Please use `tf.keras.backend.random_bernoulli` instead.\n",
      "  return dispatch_target(*args, **kwargs)\n",
      "/usr/local/lib/python3.10/dist-packages/tensorflow/python/util/dispatch.py:1260: UserWarning: `tf.keras.backend.random_binomial` is deprecated, and will be removed in a future version.Please use `tf.keras.backend.random_bernoulli` instead.\n",
      "  return dispatch_target(*args, **kwargs)\n"
     ]
    },
    {
     "name": "stdout",
     "output_type": "stream",
     "text": [
      "INFO:tensorflow:Assets written to: /visuworks/Blindless_AIFFELTON/Ablation Study/SD_Unet/model_parameters/sd_unet_30ep_512_sG_wo_decay.tf/19--0.2656-0.6998-0.9786-0.7520-0.9770.pb/assets\n"
     ]
    },
    {
     "name": "stderr",
     "output_type": "stream",
     "text": [
      "INFO:tensorflow:Assets written to: /visuworks/Blindless_AIFFELTON/Ablation Study/SD_Unet/model_parameters/sd_unet_30ep_512_sG_wo_decay.tf/19--0.2656-0.6998-0.9786-0.7520-0.9770.pb/assets\n"
     ]
    },
    {
     "name": "stdout",
     "output_type": "stream",
     "text": [
      "Model saved to /visuworks/Blindless_AIFFELTON/Ablation Study/SD_Unet/model_parameters/sd_unet_30ep_512_sG_wo_decay.tf/19--0.2656-0.6998-0.9786-0.7520-0.9770.pb\n",
      "880/880 [==============================] - 115s 131ms/step - loss: 0.2656 - sensitivity: 0.6998 - specificity: 0.9786 - accuracy: 0.9605 - val_loss: 0.2394 - val_sensitivity: 0.7520 - val_specificity: 0.9770 - val_accuracy: 0.9622\n",
      "Epoch 20/30\n",
      "879/880 [============================>.] - ETA: 0s - loss: 0.2627 - sensitivity: 0.7029 - specificity: 0.9788 - accuracy: 0.9609"
     ]
    },
    {
     "name": "stderr",
     "output_type": "stream",
     "text": [
      "/usr/local/lib/python3.10/dist-packages/tensorflow/python/util/dispatch.py:1260: UserWarning: `tf.keras.backend.random_binomial` is deprecated, and will be removed in a future version.Please use `tf.keras.backend.random_bernoulli` instead.\n",
      "  return dispatch_target(*args, **kwargs)\n",
      "/usr/local/lib/python3.10/dist-packages/tensorflow/python/util/dispatch.py:1260: UserWarning: `tf.keras.backend.random_binomial` is deprecated, and will be removed in a future version.Please use `tf.keras.backend.random_bernoulli` instead.\n",
      "  return dispatch_target(*args, **kwargs)\n",
      "/usr/local/lib/python3.10/dist-packages/tensorflow/python/util/dispatch.py:1260: UserWarning: `tf.keras.backend.random_binomial` is deprecated, and will be removed in a future version.Please use `tf.keras.backend.random_bernoulli` instead.\n",
      "  return dispatch_target(*args, **kwargs)\n",
      "/usr/local/lib/python3.10/dist-packages/tensorflow/python/util/dispatch.py:1260: UserWarning: `tf.keras.backend.random_binomial` is deprecated, and will be removed in a future version.Please use `tf.keras.backend.random_bernoulli` instead.\n",
      "  return dispatch_target(*args, **kwargs)\n",
      "/usr/local/lib/python3.10/dist-packages/tensorflow/python/util/dispatch.py:1260: UserWarning: `tf.keras.backend.random_binomial` is deprecated, and will be removed in a future version.Please use `tf.keras.backend.random_bernoulli` instead.\n",
      "  return dispatch_target(*args, **kwargs)\n",
      "/usr/local/lib/python3.10/dist-packages/tensorflow/python/util/dispatch.py:1260: UserWarning: `tf.keras.backend.random_binomial` is deprecated, and will be removed in a future version.Please use `tf.keras.backend.random_bernoulli` instead.\n",
      "  return dispatch_target(*args, **kwargs)\n",
      "/usr/local/lib/python3.10/dist-packages/tensorflow/python/util/dispatch.py:1260: UserWarning: `tf.keras.backend.random_binomial` is deprecated, and will be removed in a future version.Please use `tf.keras.backend.random_bernoulli` instead.\n",
      "  return dispatch_target(*args, **kwargs)\n",
      "/usr/local/lib/python3.10/dist-packages/tensorflow/python/util/dispatch.py:1260: UserWarning: `tf.keras.backend.random_binomial` is deprecated, and will be removed in a future version.Please use `tf.keras.backend.random_bernoulli` instead.\n",
      "  return dispatch_target(*args, **kwargs)\n",
      "/usr/local/lib/python3.10/dist-packages/tensorflow/python/util/dispatch.py:1260: UserWarning: `tf.keras.backend.random_binomial` is deprecated, and will be removed in a future version.Please use `tf.keras.backend.random_bernoulli` instead.\n",
      "  return dispatch_target(*args, **kwargs)\n",
      "/usr/local/lib/python3.10/dist-packages/tensorflow/python/util/dispatch.py:1260: UserWarning: `tf.keras.backend.random_binomial` is deprecated, and will be removed in a future version.Please use `tf.keras.backend.random_bernoulli` instead.\n",
      "  return dispatch_target(*args, **kwargs)\n",
      "/usr/local/lib/python3.10/dist-packages/tensorflow/python/util/dispatch.py:1260: UserWarning: `tf.keras.backend.random_binomial` is deprecated, and will be removed in a future version.Please use `tf.keras.backend.random_bernoulli` instead.\n",
      "  return dispatch_target(*args, **kwargs)\n",
      "/usr/local/lib/python3.10/dist-packages/tensorflow/python/util/dispatch.py:1260: UserWarning: `tf.keras.backend.random_binomial` is deprecated, and will be removed in a future version.Please use `tf.keras.backend.random_bernoulli` instead.\n",
      "  return dispatch_target(*args, **kwargs)\n",
      "/usr/local/lib/python3.10/dist-packages/tensorflow/python/util/dispatch.py:1260: UserWarning: `tf.keras.backend.random_binomial` is deprecated, and will be removed in a future version.Please use `tf.keras.backend.random_bernoulli` instead.\n",
      "  return dispatch_target(*args, **kwargs)\n",
      "/usr/local/lib/python3.10/dist-packages/tensorflow/python/util/dispatch.py:1260: UserWarning: `tf.keras.backend.random_binomial` is deprecated, and will be removed in a future version.Please use `tf.keras.backend.random_bernoulli` instead.\n",
      "  return dispatch_target(*args, **kwargs)\n",
      "/usr/local/lib/python3.10/dist-packages/tensorflow/python/util/dispatch.py:1260: UserWarning: `tf.keras.backend.random_binomial` is deprecated, and will be removed in a future version.Please use `tf.keras.backend.random_bernoulli` instead.\n",
      "  return dispatch_target(*args, **kwargs)\n"
     ]
    },
    {
     "name": "stdout",
     "output_type": "stream",
     "text": [
      "INFO:tensorflow:Assets written to: /visuworks/Blindless_AIFFELTON/Ablation Study/SD_Unet/model_parameters/sd_unet_30ep_512_sG_wo_decay.tf/20--0.2628-0.7028-0.9788-0.7093-0.9821.pb/assets\n"
     ]
    },
    {
     "name": "stderr",
     "output_type": "stream",
     "text": [
      "INFO:tensorflow:Assets written to: /visuworks/Blindless_AIFFELTON/Ablation Study/SD_Unet/model_parameters/sd_unet_30ep_512_sG_wo_decay.tf/20--0.2628-0.7028-0.9788-0.7093-0.9821.pb/assets\n"
     ]
    },
    {
     "name": "stdout",
     "output_type": "stream",
     "text": [
      "Model saved to /visuworks/Blindless_AIFFELTON/Ablation Study/SD_Unet/model_parameters/sd_unet_30ep_512_sG_wo_decay.tf/20--0.2628-0.7028-0.9788-0.7093-0.9821.pb\n",
      "880/880 [==============================] - 121s 138ms/step - loss: 0.2628 - sensitivity: 0.7028 - specificity: 0.9788 - accuracy: 0.9609 - val_loss: 0.2395 - val_sensitivity: 0.7093 - val_specificity: 0.9821 - val_accuracy: 0.9638\n",
      "Epoch 21/30\n",
      "879/880 [============================>.] - ETA: 0s - loss: 0.2608 - sensitivity: 0.7043 - specificity: 0.9791 - accuracy: 0.9613"
     ]
    },
    {
     "name": "stderr",
     "output_type": "stream",
     "text": [
      "/usr/local/lib/python3.10/dist-packages/tensorflow/python/util/dispatch.py:1260: UserWarning: `tf.keras.backend.random_binomial` is deprecated, and will be removed in a future version.Please use `tf.keras.backend.random_bernoulli` instead.\n",
      "  return dispatch_target(*args, **kwargs)\n",
      "/usr/local/lib/python3.10/dist-packages/tensorflow/python/util/dispatch.py:1260: UserWarning: `tf.keras.backend.random_binomial` is deprecated, and will be removed in a future version.Please use `tf.keras.backend.random_bernoulli` instead.\n",
      "  return dispatch_target(*args, **kwargs)\n",
      "/usr/local/lib/python3.10/dist-packages/tensorflow/python/util/dispatch.py:1260: UserWarning: `tf.keras.backend.random_binomial` is deprecated, and will be removed in a future version.Please use `tf.keras.backend.random_bernoulli` instead.\n",
      "  return dispatch_target(*args, **kwargs)\n",
      "/usr/local/lib/python3.10/dist-packages/tensorflow/python/util/dispatch.py:1260: UserWarning: `tf.keras.backend.random_binomial` is deprecated, and will be removed in a future version.Please use `tf.keras.backend.random_bernoulli` instead.\n",
      "  return dispatch_target(*args, **kwargs)\n",
      "/usr/local/lib/python3.10/dist-packages/tensorflow/python/util/dispatch.py:1260: UserWarning: `tf.keras.backend.random_binomial` is deprecated, and will be removed in a future version.Please use `tf.keras.backend.random_bernoulli` instead.\n",
      "  return dispatch_target(*args, **kwargs)\n",
      "/usr/local/lib/python3.10/dist-packages/tensorflow/python/util/dispatch.py:1260: UserWarning: `tf.keras.backend.random_binomial` is deprecated, and will be removed in a future version.Please use `tf.keras.backend.random_bernoulli` instead.\n",
      "  return dispatch_target(*args, **kwargs)\n",
      "/usr/local/lib/python3.10/dist-packages/tensorflow/python/util/dispatch.py:1260: UserWarning: `tf.keras.backend.random_binomial` is deprecated, and will be removed in a future version.Please use `tf.keras.backend.random_bernoulli` instead.\n",
      "  return dispatch_target(*args, **kwargs)\n",
      "/usr/local/lib/python3.10/dist-packages/tensorflow/python/util/dispatch.py:1260: UserWarning: `tf.keras.backend.random_binomial` is deprecated, and will be removed in a future version.Please use `tf.keras.backend.random_bernoulli` instead.\n",
      "  return dispatch_target(*args, **kwargs)\n",
      "/usr/local/lib/python3.10/dist-packages/tensorflow/python/util/dispatch.py:1260: UserWarning: `tf.keras.backend.random_binomial` is deprecated, and will be removed in a future version.Please use `tf.keras.backend.random_bernoulli` instead.\n",
      "  return dispatch_target(*args, **kwargs)\n",
      "/usr/local/lib/python3.10/dist-packages/tensorflow/python/util/dispatch.py:1260: UserWarning: `tf.keras.backend.random_binomial` is deprecated, and will be removed in a future version.Please use `tf.keras.backend.random_bernoulli` instead.\n",
      "  return dispatch_target(*args, **kwargs)\n",
      "/usr/local/lib/python3.10/dist-packages/tensorflow/python/util/dispatch.py:1260: UserWarning: `tf.keras.backend.random_binomial` is deprecated, and will be removed in a future version.Please use `tf.keras.backend.random_bernoulli` instead.\n",
      "  return dispatch_target(*args, **kwargs)\n",
      "/usr/local/lib/python3.10/dist-packages/tensorflow/python/util/dispatch.py:1260: UserWarning: `tf.keras.backend.random_binomial` is deprecated, and will be removed in a future version.Please use `tf.keras.backend.random_bernoulli` instead.\n",
      "  return dispatch_target(*args, **kwargs)\n",
      "/usr/local/lib/python3.10/dist-packages/tensorflow/python/util/dispatch.py:1260: UserWarning: `tf.keras.backend.random_binomial` is deprecated, and will be removed in a future version.Please use `tf.keras.backend.random_bernoulli` instead.\n",
      "  return dispatch_target(*args, **kwargs)\n",
      "/usr/local/lib/python3.10/dist-packages/tensorflow/python/util/dispatch.py:1260: UserWarning: `tf.keras.backend.random_binomial` is deprecated, and will be removed in a future version.Please use `tf.keras.backend.random_bernoulli` instead.\n",
      "  return dispatch_target(*args, **kwargs)\n",
      "/usr/local/lib/python3.10/dist-packages/tensorflow/python/util/dispatch.py:1260: UserWarning: `tf.keras.backend.random_binomial` is deprecated, and will be removed in a future version.Please use `tf.keras.backend.random_bernoulli` instead.\n",
      "  return dispatch_target(*args, **kwargs)\n"
     ]
    },
    {
     "name": "stdout",
     "output_type": "stream",
     "text": [
      "INFO:tensorflow:Assets written to: /visuworks/Blindless_AIFFELTON/Ablation Study/SD_Unet/model_parameters/sd_unet_30ep_512_sG_wo_decay.tf/21--0.2608-0.7043-0.9791-0.7846-0.9722.pb/assets\n"
     ]
    },
    {
     "name": "stderr",
     "output_type": "stream",
     "text": [
      "INFO:tensorflow:Assets written to: /visuworks/Blindless_AIFFELTON/Ablation Study/SD_Unet/model_parameters/sd_unet_30ep_512_sG_wo_decay.tf/21--0.2608-0.7043-0.9791-0.7846-0.9722.pb/assets\n"
     ]
    },
    {
     "name": "stdout",
     "output_type": "stream",
     "text": [
      "Model saved to /visuworks/Blindless_AIFFELTON/Ablation Study/SD_Unet/model_parameters/sd_unet_30ep_512_sG_wo_decay.tf/21--0.2608-0.7043-0.9791-0.7846-0.9722.pb\n",
      "880/880 [==============================] - 114s 129ms/step - loss: 0.2608 - sensitivity: 0.7043 - specificity: 0.9791 - accuracy: 0.9613 - val_loss: 0.2431 - val_sensitivity: 0.7846 - val_specificity: 0.9722 - val_accuracy: 0.9599\n",
      "Epoch 22/30\n",
      "879/880 [============================>.] - ETA: 0s - loss: 0.2594 - sensitivity: 0.7066 - specificity: 0.9789 - accuracy: 0.9613"
     ]
    },
    {
     "name": "stderr",
     "output_type": "stream",
     "text": [
      "/usr/local/lib/python3.10/dist-packages/tensorflow/python/util/dispatch.py:1260: UserWarning: `tf.keras.backend.random_binomial` is deprecated, and will be removed in a future version.Please use `tf.keras.backend.random_bernoulli` instead.\n",
      "  return dispatch_target(*args, **kwargs)\n",
      "/usr/local/lib/python3.10/dist-packages/tensorflow/python/util/dispatch.py:1260: UserWarning: `tf.keras.backend.random_binomial` is deprecated, and will be removed in a future version.Please use `tf.keras.backend.random_bernoulli` instead.\n",
      "  return dispatch_target(*args, **kwargs)\n",
      "/usr/local/lib/python3.10/dist-packages/tensorflow/python/util/dispatch.py:1260: UserWarning: `tf.keras.backend.random_binomial` is deprecated, and will be removed in a future version.Please use `tf.keras.backend.random_bernoulli` instead.\n",
      "  return dispatch_target(*args, **kwargs)\n",
      "/usr/local/lib/python3.10/dist-packages/tensorflow/python/util/dispatch.py:1260: UserWarning: `tf.keras.backend.random_binomial` is deprecated, and will be removed in a future version.Please use `tf.keras.backend.random_bernoulli` instead.\n",
      "  return dispatch_target(*args, **kwargs)\n",
      "/usr/local/lib/python3.10/dist-packages/tensorflow/python/util/dispatch.py:1260: UserWarning: `tf.keras.backend.random_binomial` is deprecated, and will be removed in a future version.Please use `tf.keras.backend.random_bernoulli` instead.\n",
      "  return dispatch_target(*args, **kwargs)\n",
      "/usr/local/lib/python3.10/dist-packages/tensorflow/python/util/dispatch.py:1260: UserWarning: `tf.keras.backend.random_binomial` is deprecated, and will be removed in a future version.Please use `tf.keras.backend.random_bernoulli` instead.\n",
      "  return dispatch_target(*args, **kwargs)\n",
      "/usr/local/lib/python3.10/dist-packages/tensorflow/python/util/dispatch.py:1260: UserWarning: `tf.keras.backend.random_binomial` is deprecated, and will be removed in a future version.Please use `tf.keras.backend.random_bernoulli` instead.\n",
      "  return dispatch_target(*args, **kwargs)\n",
      "/usr/local/lib/python3.10/dist-packages/tensorflow/python/util/dispatch.py:1260: UserWarning: `tf.keras.backend.random_binomial` is deprecated, and will be removed in a future version.Please use `tf.keras.backend.random_bernoulli` instead.\n",
      "  return dispatch_target(*args, **kwargs)\n",
      "/usr/local/lib/python3.10/dist-packages/tensorflow/python/util/dispatch.py:1260: UserWarning: `tf.keras.backend.random_binomial` is deprecated, and will be removed in a future version.Please use `tf.keras.backend.random_bernoulli` instead.\n",
      "  return dispatch_target(*args, **kwargs)\n",
      "/usr/local/lib/python3.10/dist-packages/tensorflow/python/util/dispatch.py:1260: UserWarning: `tf.keras.backend.random_binomial` is deprecated, and will be removed in a future version.Please use `tf.keras.backend.random_bernoulli` instead.\n",
      "  return dispatch_target(*args, **kwargs)\n",
      "/usr/local/lib/python3.10/dist-packages/tensorflow/python/util/dispatch.py:1260: UserWarning: `tf.keras.backend.random_binomial` is deprecated, and will be removed in a future version.Please use `tf.keras.backend.random_bernoulli` instead.\n",
      "  return dispatch_target(*args, **kwargs)\n",
      "/usr/local/lib/python3.10/dist-packages/tensorflow/python/util/dispatch.py:1260: UserWarning: `tf.keras.backend.random_binomial` is deprecated, and will be removed in a future version.Please use `tf.keras.backend.random_bernoulli` instead.\n",
      "  return dispatch_target(*args, **kwargs)\n",
      "/usr/local/lib/python3.10/dist-packages/tensorflow/python/util/dispatch.py:1260: UserWarning: `tf.keras.backend.random_binomial` is deprecated, and will be removed in a future version.Please use `tf.keras.backend.random_bernoulli` instead.\n",
      "  return dispatch_target(*args, **kwargs)\n",
      "/usr/local/lib/python3.10/dist-packages/tensorflow/python/util/dispatch.py:1260: UserWarning: `tf.keras.backend.random_binomial` is deprecated, and will be removed in a future version.Please use `tf.keras.backend.random_bernoulli` instead.\n",
      "  return dispatch_target(*args, **kwargs)\n",
      "/usr/local/lib/python3.10/dist-packages/tensorflow/python/util/dispatch.py:1260: UserWarning: `tf.keras.backend.random_binomial` is deprecated, and will be removed in a future version.Please use `tf.keras.backend.random_bernoulli` instead.\n",
      "  return dispatch_target(*args, **kwargs)\n"
     ]
    },
    {
     "name": "stdout",
     "output_type": "stream",
     "text": [
      "INFO:tensorflow:Assets written to: /visuworks/Blindless_AIFFELTON/Ablation Study/SD_Unet/model_parameters/sd_unet_30ep_512_sG_wo_decay.tf/22--0.2594-0.7067-0.9789-0.7692-0.9754.pb/assets\n"
     ]
    },
    {
     "name": "stderr",
     "output_type": "stream",
     "text": [
      "INFO:tensorflow:Assets written to: /visuworks/Blindless_AIFFELTON/Ablation Study/SD_Unet/model_parameters/sd_unet_30ep_512_sG_wo_decay.tf/22--0.2594-0.7067-0.9789-0.7692-0.9754.pb/assets\n"
     ]
    },
    {
     "name": "stdout",
     "output_type": "stream",
     "text": [
      "Model saved to /visuworks/Blindless_AIFFELTON/Ablation Study/SD_Unet/model_parameters/sd_unet_30ep_512_sG_wo_decay.tf/22--0.2594-0.7067-0.9789-0.7692-0.9754.pb\n",
      "880/880 [==============================] - 116s 132ms/step - loss: 0.2594 - sensitivity: 0.7067 - specificity: 0.9789 - accuracy: 0.9613 - val_loss: 0.2374 - val_sensitivity: 0.7692 - val_specificity: 0.9754 - val_accuracy: 0.9618\n",
      "Epoch 23/30\n",
      "879/880 [============================>.] - ETA: 0s - loss: 0.2582 - sensitivity: 0.7091 - specificity: 0.9790 - accuracy: 0.9615"
     ]
    },
    {
     "name": "stderr",
     "output_type": "stream",
     "text": [
      "/usr/local/lib/python3.10/dist-packages/tensorflow/python/util/dispatch.py:1260: UserWarning: `tf.keras.backend.random_binomial` is deprecated, and will be removed in a future version.Please use `tf.keras.backend.random_bernoulli` instead.\n",
      "  return dispatch_target(*args, **kwargs)\n",
      "/usr/local/lib/python3.10/dist-packages/tensorflow/python/util/dispatch.py:1260: UserWarning: `tf.keras.backend.random_binomial` is deprecated, and will be removed in a future version.Please use `tf.keras.backend.random_bernoulli` instead.\n",
      "  return dispatch_target(*args, **kwargs)\n",
      "/usr/local/lib/python3.10/dist-packages/tensorflow/python/util/dispatch.py:1260: UserWarning: `tf.keras.backend.random_binomial` is deprecated, and will be removed in a future version.Please use `tf.keras.backend.random_bernoulli` instead.\n",
      "  return dispatch_target(*args, **kwargs)\n",
      "/usr/local/lib/python3.10/dist-packages/tensorflow/python/util/dispatch.py:1260: UserWarning: `tf.keras.backend.random_binomial` is deprecated, and will be removed in a future version.Please use `tf.keras.backend.random_bernoulli` instead.\n",
      "  return dispatch_target(*args, **kwargs)\n",
      "/usr/local/lib/python3.10/dist-packages/tensorflow/python/util/dispatch.py:1260: UserWarning: `tf.keras.backend.random_binomial` is deprecated, and will be removed in a future version.Please use `tf.keras.backend.random_bernoulli` instead.\n",
      "  return dispatch_target(*args, **kwargs)\n",
      "/usr/local/lib/python3.10/dist-packages/tensorflow/python/util/dispatch.py:1260: UserWarning: `tf.keras.backend.random_binomial` is deprecated, and will be removed in a future version.Please use `tf.keras.backend.random_bernoulli` instead.\n",
      "  return dispatch_target(*args, **kwargs)\n",
      "/usr/local/lib/python3.10/dist-packages/tensorflow/python/util/dispatch.py:1260: UserWarning: `tf.keras.backend.random_binomial` is deprecated, and will be removed in a future version.Please use `tf.keras.backend.random_bernoulli` instead.\n",
      "  return dispatch_target(*args, **kwargs)\n",
      "/usr/local/lib/python3.10/dist-packages/tensorflow/python/util/dispatch.py:1260: UserWarning: `tf.keras.backend.random_binomial` is deprecated, and will be removed in a future version.Please use `tf.keras.backend.random_bernoulli` instead.\n",
      "  return dispatch_target(*args, **kwargs)\n",
      "/usr/local/lib/python3.10/dist-packages/tensorflow/python/util/dispatch.py:1260: UserWarning: `tf.keras.backend.random_binomial` is deprecated, and will be removed in a future version.Please use `tf.keras.backend.random_bernoulli` instead.\n",
      "  return dispatch_target(*args, **kwargs)\n",
      "/usr/local/lib/python3.10/dist-packages/tensorflow/python/util/dispatch.py:1260: UserWarning: `tf.keras.backend.random_binomial` is deprecated, and will be removed in a future version.Please use `tf.keras.backend.random_bernoulli` instead.\n",
      "  return dispatch_target(*args, **kwargs)\n",
      "/usr/local/lib/python3.10/dist-packages/tensorflow/python/util/dispatch.py:1260: UserWarning: `tf.keras.backend.random_binomial` is deprecated, and will be removed in a future version.Please use `tf.keras.backend.random_bernoulli` instead.\n",
      "  return dispatch_target(*args, **kwargs)\n",
      "/usr/local/lib/python3.10/dist-packages/tensorflow/python/util/dispatch.py:1260: UserWarning: `tf.keras.backend.random_binomial` is deprecated, and will be removed in a future version.Please use `tf.keras.backend.random_bernoulli` instead.\n",
      "  return dispatch_target(*args, **kwargs)\n",
      "/usr/local/lib/python3.10/dist-packages/tensorflow/python/util/dispatch.py:1260: UserWarning: `tf.keras.backend.random_binomial` is deprecated, and will be removed in a future version.Please use `tf.keras.backend.random_bernoulli` instead.\n",
      "  return dispatch_target(*args, **kwargs)\n",
      "/usr/local/lib/python3.10/dist-packages/tensorflow/python/util/dispatch.py:1260: UserWarning: `tf.keras.backend.random_binomial` is deprecated, and will be removed in a future version.Please use `tf.keras.backend.random_bernoulli` instead.\n",
      "  return dispatch_target(*args, **kwargs)\n",
      "/usr/local/lib/python3.10/dist-packages/tensorflow/python/util/dispatch.py:1260: UserWarning: `tf.keras.backend.random_binomial` is deprecated, and will be removed in a future version.Please use `tf.keras.backend.random_bernoulli` instead.\n",
      "  return dispatch_target(*args, **kwargs)\n"
     ]
    },
    {
     "name": "stdout",
     "output_type": "stream",
     "text": [
      "INFO:tensorflow:Assets written to: /visuworks/Blindless_AIFFELTON/Ablation Study/SD_Unet/model_parameters/sd_unet_30ep_512_sG_wo_decay.tf/23--0.2581-0.7092-0.9790-0.7665-0.9763.pb/assets\n"
     ]
    },
    {
     "name": "stderr",
     "output_type": "stream",
     "text": [
      "INFO:tensorflow:Assets written to: /visuworks/Blindless_AIFFELTON/Ablation Study/SD_Unet/model_parameters/sd_unet_30ep_512_sG_wo_decay.tf/23--0.2581-0.7092-0.9790-0.7665-0.9763.pb/assets\n"
     ]
    },
    {
     "name": "stdout",
     "output_type": "stream",
     "text": [
      "Model saved to /visuworks/Blindless_AIFFELTON/Ablation Study/SD_Unet/model_parameters/sd_unet_30ep_512_sG_wo_decay.tf/23--0.2581-0.7092-0.9790-0.7665-0.9763.pb\n",
      "880/880 [==============================] - 119s 136ms/step - loss: 0.2581 - sensitivity: 0.7092 - specificity: 0.9790 - accuracy: 0.9615 - val_loss: 0.2349 - val_sensitivity: 0.7665 - val_specificity: 0.9763 - val_accuracy: 0.9625\n",
      "Epoch 24/30\n",
      "880/880 [==============================] - ETA: 0s - loss: 0.2563 - sensitivity: 0.7103 - specificity: 0.9793 - accuracy: 0.9619"
     ]
    },
    {
     "name": "stderr",
     "output_type": "stream",
     "text": [
      "/usr/local/lib/python3.10/dist-packages/tensorflow/python/util/dispatch.py:1260: UserWarning: `tf.keras.backend.random_binomial` is deprecated, and will be removed in a future version.Please use `tf.keras.backend.random_bernoulli` instead.\n",
      "  return dispatch_target(*args, **kwargs)\n",
      "/usr/local/lib/python3.10/dist-packages/tensorflow/python/util/dispatch.py:1260: UserWarning: `tf.keras.backend.random_binomial` is deprecated, and will be removed in a future version.Please use `tf.keras.backend.random_bernoulli` instead.\n",
      "  return dispatch_target(*args, **kwargs)\n",
      "/usr/local/lib/python3.10/dist-packages/tensorflow/python/util/dispatch.py:1260: UserWarning: `tf.keras.backend.random_binomial` is deprecated, and will be removed in a future version.Please use `tf.keras.backend.random_bernoulli` instead.\n",
      "  return dispatch_target(*args, **kwargs)\n",
      "/usr/local/lib/python3.10/dist-packages/tensorflow/python/util/dispatch.py:1260: UserWarning: `tf.keras.backend.random_binomial` is deprecated, and will be removed in a future version.Please use `tf.keras.backend.random_bernoulli` instead.\n",
      "  return dispatch_target(*args, **kwargs)\n",
      "/usr/local/lib/python3.10/dist-packages/tensorflow/python/util/dispatch.py:1260: UserWarning: `tf.keras.backend.random_binomial` is deprecated, and will be removed in a future version.Please use `tf.keras.backend.random_bernoulli` instead.\n",
      "  return dispatch_target(*args, **kwargs)\n",
      "/usr/local/lib/python3.10/dist-packages/tensorflow/python/util/dispatch.py:1260: UserWarning: `tf.keras.backend.random_binomial` is deprecated, and will be removed in a future version.Please use `tf.keras.backend.random_bernoulli` instead.\n",
      "  return dispatch_target(*args, **kwargs)\n",
      "/usr/local/lib/python3.10/dist-packages/tensorflow/python/util/dispatch.py:1260: UserWarning: `tf.keras.backend.random_binomial` is deprecated, and will be removed in a future version.Please use `tf.keras.backend.random_bernoulli` instead.\n",
      "  return dispatch_target(*args, **kwargs)\n",
      "/usr/local/lib/python3.10/dist-packages/tensorflow/python/util/dispatch.py:1260: UserWarning: `tf.keras.backend.random_binomial` is deprecated, and will be removed in a future version.Please use `tf.keras.backend.random_bernoulli` instead.\n",
      "  return dispatch_target(*args, **kwargs)\n",
      "/usr/local/lib/python3.10/dist-packages/tensorflow/python/util/dispatch.py:1260: UserWarning: `tf.keras.backend.random_binomial` is deprecated, and will be removed in a future version.Please use `tf.keras.backend.random_bernoulli` instead.\n",
      "  return dispatch_target(*args, **kwargs)\n",
      "/usr/local/lib/python3.10/dist-packages/tensorflow/python/util/dispatch.py:1260: UserWarning: `tf.keras.backend.random_binomial` is deprecated, and will be removed in a future version.Please use `tf.keras.backend.random_bernoulli` instead.\n",
      "  return dispatch_target(*args, **kwargs)\n",
      "/usr/local/lib/python3.10/dist-packages/tensorflow/python/util/dispatch.py:1260: UserWarning: `tf.keras.backend.random_binomial` is deprecated, and will be removed in a future version.Please use `tf.keras.backend.random_bernoulli` instead.\n",
      "  return dispatch_target(*args, **kwargs)\n",
      "/usr/local/lib/python3.10/dist-packages/tensorflow/python/util/dispatch.py:1260: UserWarning: `tf.keras.backend.random_binomial` is deprecated, and will be removed in a future version.Please use `tf.keras.backend.random_bernoulli` instead.\n",
      "  return dispatch_target(*args, **kwargs)\n",
      "/usr/local/lib/python3.10/dist-packages/tensorflow/python/util/dispatch.py:1260: UserWarning: `tf.keras.backend.random_binomial` is deprecated, and will be removed in a future version.Please use `tf.keras.backend.random_bernoulli` instead.\n",
      "  return dispatch_target(*args, **kwargs)\n",
      "/usr/local/lib/python3.10/dist-packages/tensorflow/python/util/dispatch.py:1260: UserWarning: `tf.keras.backend.random_binomial` is deprecated, and will be removed in a future version.Please use `tf.keras.backend.random_bernoulli` instead.\n",
      "  return dispatch_target(*args, **kwargs)\n",
      "/usr/local/lib/python3.10/dist-packages/tensorflow/python/util/dispatch.py:1260: UserWarning: `tf.keras.backend.random_binomial` is deprecated, and will be removed in a future version.Please use `tf.keras.backend.random_bernoulli` instead.\n",
      "  return dispatch_target(*args, **kwargs)\n"
     ]
    },
    {
     "name": "stdout",
     "output_type": "stream",
     "text": [
      "INFO:tensorflow:Assets written to: /visuworks/Blindless_AIFFELTON/Ablation Study/SD_Unet/model_parameters/sd_unet_30ep_512_sG_wo_decay.tf/24--0.2563-0.7103-0.9793-0.7970-0.9708.pb/assets\n"
     ]
    },
    {
     "name": "stderr",
     "output_type": "stream",
     "text": [
      "INFO:tensorflow:Assets written to: /visuworks/Blindless_AIFFELTON/Ablation Study/SD_Unet/model_parameters/sd_unet_30ep_512_sG_wo_decay.tf/24--0.2563-0.7103-0.9793-0.7970-0.9708.pb/assets\n"
     ]
    },
    {
     "name": "stdout",
     "output_type": "stream",
     "text": [
      "Model saved to /visuworks/Blindless_AIFFELTON/Ablation Study/SD_Unet/model_parameters/sd_unet_30ep_512_sG_wo_decay.tf/24--0.2563-0.7103-0.9793-0.7970-0.9708.pb\n",
      "880/880 [==============================] - 119s 135ms/step - loss: 0.2563 - sensitivity: 0.7103 - specificity: 0.9793 - accuracy: 0.9619 - val_loss: 0.2423 - val_sensitivity: 0.7970 - val_specificity: 0.9708 - val_accuracy: 0.9596\n",
      "Epoch 25/30\n",
      "879/880 [============================>.] - ETA: 0s - loss: 0.2544 - sensitivity: 0.7138 - specificity: 0.9792 - accuracy: 0.9621"
     ]
    },
    {
     "name": "stderr",
     "output_type": "stream",
     "text": [
      "/usr/local/lib/python3.10/dist-packages/tensorflow/python/util/dispatch.py:1260: UserWarning: `tf.keras.backend.random_binomial` is deprecated, and will be removed in a future version.Please use `tf.keras.backend.random_bernoulli` instead.\n",
      "  return dispatch_target(*args, **kwargs)\n",
      "/usr/local/lib/python3.10/dist-packages/tensorflow/python/util/dispatch.py:1260: UserWarning: `tf.keras.backend.random_binomial` is deprecated, and will be removed in a future version.Please use `tf.keras.backend.random_bernoulli` instead.\n",
      "  return dispatch_target(*args, **kwargs)\n",
      "/usr/local/lib/python3.10/dist-packages/tensorflow/python/util/dispatch.py:1260: UserWarning: `tf.keras.backend.random_binomial` is deprecated, and will be removed in a future version.Please use `tf.keras.backend.random_bernoulli` instead.\n",
      "  return dispatch_target(*args, **kwargs)\n",
      "/usr/local/lib/python3.10/dist-packages/tensorflow/python/util/dispatch.py:1260: UserWarning: `tf.keras.backend.random_binomial` is deprecated, and will be removed in a future version.Please use `tf.keras.backend.random_bernoulli` instead.\n",
      "  return dispatch_target(*args, **kwargs)\n",
      "/usr/local/lib/python3.10/dist-packages/tensorflow/python/util/dispatch.py:1260: UserWarning: `tf.keras.backend.random_binomial` is deprecated, and will be removed in a future version.Please use `tf.keras.backend.random_bernoulli` instead.\n",
      "  return dispatch_target(*args, **kwargs)\n",
      "/usr/local/lib/python3.10/dist-packages/tensorflow/python/util/dispatch.py:1260: UserWarning: `tf.keras.backend.random_binomial` is deprecated, and will be removed in a future version.Please use `tf.keras.backend.random_bernoulli` instead.\n",
      "  return dispatch_target(*args, **kwargs)\n",
      "/usr/local/lib/python3.10/dist-packages/tensorflow/python/util/dispatch.py:1260: UserWarning: `tf.keras.backend.random_binomial` is deprecated, and will be removed in a future version.Please use `tf.keras.backend.random_bernoulli` instead.\n",
      "  return dispatch_target(*args, **kwargs)\n",
      "/usr/local/lib/python3.10/dist-packages/tensorflow/python/util/dispatch.py:1260: UserWarning: `tf.keras.backend.random_binomial` is deprecated, and will be removed in a future version.Please use `tf.keras.backend.random_bernoulli` instead.\n",
      "  return dispatch_target(*args, **kwargs)\n",
      "/usr/local/lib/python3.10/dist-packages/tensorflow/python/util/dispatch.py:1260: UserWarning: `tf.keras.backend.random_binomial` is deprecated, and will be removed in a future version.Please use `tf.keras.backend.random_bernoulli` instead.\n",
      "  return dispatch_target(*args, **kwargs)\n",
      "/usr/local/lib/python3.10/dist-packages/tensorflow/python/util/dispatch.py:1260: UserWarning: `tf.keras.backend.random_binomial` is deprecated, and will be removed in a future version.Please use `tf.keras.backend.random_bernoulli` instead.\n",
      "  return dispatch_target(*args, **kwargs)\n",
      "/usr/local/lib/python3.10/dist-packages/tensorflow/python/util/dispatch.py:1260: UserWarning: `tf.keras.backend.random_binomial` is deprecated, and will be removed in a future version.Please use `tf.keras.backend.random_bernoulli` instead.\n",
      "  return dispatch_target(*args, **kwargs)\n",
      "/usr/local/lib/python3.10/dist-packages/tensorflow/python/util/dispatch.py:1260: UserWarning: `tf.keras.backend.random_binomial` is deprecated, and will be removed in a future version.Please use `tf.keras.backend.random_bernoulli` instead.\n",
      "  return dispatch_target(*args, **kwargs)\n",
      "/usr/local/lib/python3.10/dist-packages/tensorflow/python/util/dispatch.py:1260: UserWarning: `tf.keras.backend.random_binomial` is deprecated, and will be removed in a future version.Please use `tf.keras.backend.random_bernoulli` instead.\n",
      "  return dispatch_target(*args, **kwargs)\n",
      "/usr/local/lib/python3.10/dist-packages/tensorflow/python/util/dispatch.py:1260: UserWarning: `tf.keras.backend.random_binomial` is deprecated, and will be removed in a future version.Please use `tf.keras.backend.random_bernoulli` instead.\n",
      "  return dispatch_target(*args, **kwargs)\n",
      "/usr/local/lib/python3.10/dist-packages/tensorflow/python/util/dispatch.py:1260: UserWarning: `tf.keras.backend.random_binomial` is deprecated, and will be removed in a future version.Please use `tf.keras.backend.random_bernoulli` instead.\n",
      "  return dispatch_target(*args, **kwargs)\n"
     ]
    },
    {
     "name": "stdout",
     "output_type": "stream",
     "text": [
      "INFO:tensorflow:Assets written to: /visuworks/Blindless_AIFFELTON/Ablation Study/SD_Unet/model_parameters/sd_unet_30ep_512_sG_wo_decay.tf/25--0.2544-0.7138-0.9792-0.7868-0.9734.pb/assets\n"
     ]
    },
    {
     "name": "stderr",
     "output_type": "stream",
     "text": [
      "INFO:tensorflow:Assets written to: /visuworks/Blindless_AIFFELTON/Ablation Study/SD_Unet/model_parameters/sd_unet_30ep_512_sG_wo_decay.tf/25--0.2544-0.7138-0.9792-0.7868-0.9734.pb/assets\n"
     ]
    },
    {
     "name": "stdout",
     "output_type": "stream",
     "text": [
      "Model saved to /visuworks/Blindless_AIFFELTON/Ablation Study/SD_Unet/model_parameters/sd_unet_30ep_512_sG_wo_decay.tf/25--0.2544-0.7138-0.9792-0.7868-0.9734.pb\n",
      "880/880 [==============================] - 116s 132ms/step - loss: 0.2544 - sensitivity: 0.7138 - specificity: 0.9792 - accuracy: 0.9621 - val_loss: 0.2371 - val_sensitivity: 0.7868 - val_specificity: 0.9734 - val_accuracy: 0.9612\n",
      "Epoch 26/30\n",
      "879/880 [============================>.] - ETA: 0s - loss: 0.2536 - sensitivity: 0.7144 - specificity: 0.9794 - accuracy: 0.9622"
     ]
    },
    {
     "name": "stderr",
     "output_type": "stream",
     "text": [
      "/usr/local/lib/python3.10/dist-packages/tensorflow/python/util/dispatch.py:1260: UserWarning: `tf.keras.backend.random_binomial` is deprecated, and will be removed in a future version.Please use `tf.keras.backend.random_bernoulli` instead.\n",
      "  return dispatch_target(*args, **kwargs)\n",
      "/usr/local/lib/python3.10/dist-packages/tensorflow/python/util/dispatch.py:1260: UserWarning: `tf.keras.backend.random_binomial` is deprecated, and will be removed in a future version.Please use `tf.keras.backend.random_bernoulli` instead.\n",
      "  return dispatch_target(*args, **kwargs)\n",
      "/usr/local/lib/python3.10/dist-packages/tensorflow/python/util/dispatch.py:1260: UserWarning: `tf.keras.backend.random_binomial` is deprecated, and will be removed in a future version.Please use `tf.keras.backend.random_bernoulli` instead.\n",
      "  return dispatch_target(*args, **kwargs)\n",
      "/usr/local/lib/python3.10/dist-packages/tensorflow/python/util/dispatch.py:1260: UserWarning: `tf.keras.backend.random_binomial` is deprecated, and will be removed in a future version.Please use `tf.keras.backend.random_bernoulli` instead.\n",
      "  return dispatch_target(*args, **kwargs)\n",
      "/usr/local/lib/python3.10/dist-packages/tensorflow/python/util/dispatch.py:1260: UserWarning: `tf.keras.backend.random_binomial` is deprecated, and will be removed in a future version.Please use `tf.keras.backend.random_bernoulli` instead.\n",
      "  return dispatch_target(*args, **kwargs)\n",
      "/usr/local/lib/python3.10/dist-packages/tensorflow/python/util/dispatch.py:1260: UserWarning: `tf.keras.backend.random_binomial` is deprecated, and will be removed in a future version.Please use `tf.keras.backend.random_bernoulli` instead.\n",
      "  return dispatch_target(*args, **kwargs)\n",
      "/usr/local/lib/python3.10/dist-packages/tensorflow/python/util/dispatch.py:1260: UserWarning: `tf.keras.backend.random_binomial` is deprecated, and will be removed in a future version.Please use `tf.keras.backend.random_bernoulli` instead.\n",
      "  return dispatch_target(*args, **kwargs)\n",
      "/usr/local/lib/python3.10/dist-packages/tensorflow/python/util/dispatch.py:1260: UserWarning: `tf.keras.backend.random_binomial` is deprecated, and will be removed in a future version.Please use `tf.keras.backend.random_bernoulli` instead.\n",
      "  return dispatch_target(*args, **kwargs)\n",
      "/usr/local/lib/python3.10/dist-packages/tensorflow/python/util/dispatch.py:1260: UserWarning: `tf.keras.backend.random_binomial` is deprecated, and will be removed in a future version.Please use `tf.keras.backend.random_bernoulli` instead.\n",
      "  return dispatch_target(*args, **kwargs)\n",
      "/usr/local/lib/python3.10/dist-packages/tensorflow/python/util/dispatch.py:1260: UserWarning: `tf.keras.backend.random_binomial` is deprecated, and will be removed in a future version.Please use `tf.keras.backend.random_bernoulli` instead.\n",
      "  return dispatch_target(*args, **kwargs)\n",
      "/usr/local/lib/python3.10/dist-packages/tensorflow/python/util/dispatch.py:1260: UserWarning: `tf.keras.backend.random_binomial` is deprecated, and will be removed in a future version.Please use `tf.keras.backend.random_bernoulli` instead.\n",
      "  return dispatch_target(*args, **kwargs)\n",
      "/usr/local/lib/python3.10/dist-packages/tensorflow/python/util/dispatch.py:1260: UserWarning: `tf.keras.backend.random_binomial` is deprecated, and will be removed in a future version.Please use `tf.keras.backend.random_bernoulli` instead.\n",
      "  return dispatch_target(*args, **kwargs)\n",
      "/usr/local/lib/python3.10/dist-packages/tensorflow/python/util/dispatch.py:1260: UserWarning: `tf.keras.backend.random_binomial` is deprecated, and will be removed in a future version.Please use `tf.keras.backend.random_bernoulli` instead.\n",
      "  return dispatch_target(*args, **kwargs)\n",
      "/usr/local/lib/python3.10/dist-packages/tensorflow/python/util/dispatch.py:1260: UserWarning: `tf.keras.backend.random_binomial` is deprecated, and will be removed in a future version.Please use `tf.keras.backend.random_bernoulli` instead.\n",
      "  return dispatch_target(*args, **kwargs)\n",
      "/usr/local/lib/python3.10/dist-packages/tensorflow/python/util/dispatch.py:1260: UserWarning: `tf.keras.backend.random_binomial` is deprecated, and will be removed in a future version.Please use `tf.keras.backend.random_bernoulli` instead.\n",
      "  return dispatch_target(*args, **kwargs)\n"
     ]
    },
    {
     "name": "stdout",
     "output_type": "stream",
     "text": [
      "INFO:tensorflow:Assets written to: /visuworks/Blindless_AIFFELTON/Ablation Study/SD_Unet/model_parameters/sd_unet_30ep_512_sG_wo_decay.tf/26--0.2536-0.7143-0.9794-0.7761-0.9753.pb/assets\n"
     ]
    },
    {
     "name": "stderr",
     "output_type": "stream",
     "text": [
      "INFO:tensorflow:Assets written to: /visuworks/Blindless_AIFFELTON/Ablation Study/SD_Unet/model_parameters/sd_unet_30ep_512_sG_wo_decay.tf/26--0.2536-0.7143-0.9794-0.7761-0.9753.pb/assets\n"
     ]
    },
    {
     "name": "stdout",
     "output_type": "stream",
     "text": [
      "Model saved to /visuworks/Blindless_AIFFELTON/Ablation Study/SD_Unet/model_parameters/sd_unet_30ep_512_sG_wo_decay.tf/26--0.2536-0.7143-0.9794-0.7761-0.9753.pb\n",
      "880/880 [==============================] - 118s 135ms/step - loss: 0.2536 - sensitivity: 0.7143 - specificity: 0.9794 - accuracy: 0.9622 - val_loss: 0.2344 - val_sensitivity: 0.7761 - val_specificity: 0.9753 - val_accuracy: 0.9622\n",
      "Epoch 27/30\n",
      "880/880 [==============================] - ETA: 0s - loss: 0.2533 - sensitivity: 0.7162 - specificity: 0.9791 - accuracy: 0.9621"
     ]
    },
    {
     "name": "stderr",
     "output_type": "stream",
     "text": [
      "/usr/local/lib/python3.10/dist-packages/tensorflow/python/util/dispatch.py:1260: UserWarning: `tf.keras.backend.random_binomial` is deprecated, and will be removed in a future version.Please use `tf.keras.backend.random_bernoulli` instead.\n",
      "  return dispatch_target(*args, **kwargs)\n",
      "/usr/local/lib/python3.10/dist-packages/tensorflow/python/util/dispatch.py:1260: UserWarning: `tf.keras.backend.random_binomial` is deprecated, and will be removed in a future version.Please use `tf.keras.backend.random_bernoulli` instead.\n",
      "  return dispatch_target(*args, **kwargs)\n",
      "/usr/local/lib/python3.10/dist-packages/tensorflow/python/util/dispatch.py:1260: UserWarning: `tf.keras.backend.random_binomial` is deprecated, and will be removed in a future version.Please use `tf.keras.backend.random_bernoulli` instead.\n",
      "  return dispatch_target(*args, **kwargs)\n",
      "/usr/local/lib/python3.10/dist-packages/tensorflow/python/util/dispatch.py:1260: UserWarning: `tf.keras.backend.random_binomial` is deprecated, and will be removed in a future version.Please use `tf.keras.backend.random_bernoulli` instead.\n",
      "  return dispatch_target(*args, **kwargs)\n",
      "/usr/local/lib/python3.10/dist-packages/tensorflow/python/util/dispatch.py:1260: UserWarning: `tf.keras.backend.random_binomial` is deprecated, and will be removed in a future version.Please use `tf.keras.backend.random_bernoulli` instead.\n",
      "  return dispatch_target(*args, **kwargs)\n",
      "/usr/local/lib/python3.10/dist-packages/tensorflow/python/util/dispatch.py:1260: UserWarning: `tf.keras.backend.random_binomial` is deprecated, and will be removed in a future version.Please use `tf.keras.backend.random_bernoulli` instead.\n",
      "  return dispatch_target(*args, **kwargs)\n",
      "/usr/local/lib/python3.10/dist-packages/tensorflow/python/util/dispatch.py:1260: UserWarning: `tf.keras.backend.random_binomial` is deprecated, and will be removed in a future version.Please use `tf.keras.backend.random_bernoulli` instead.\n",
      "  return dispatch_target(*args, **kwargs)\n",
      "/usr/local/lib/python3.10/dist-packages/tensorflow/python/util/dispatch.py:1260: UserWarning: `tf.keras.backend.random_binomial` is deprecated, and will be removed in a future version.Please use `tf.keras.backend.random_bernoulli` instead.\n",
      "  return dispatch_target(*args, **kwargs)\n",
      "/usr/local/lib/python3.10/dist-packages/tensorflow/python/util/dispatch.py:1260: UserWarning: `tf.keras.backend.random_binomial` is deprecated, and will be removed in a future version.Please use `tf.keras.backend.random_bernoulli` instead.\n",
      "  return dispatch_target(*args, **kwargs)\n",
      "/usr/local/lib/python3.10/dist-packages/tensorflow/python/util/dispatch.py:1260: UserWarning: `tf.keras.backend.random_binomial` is deprecated, and will be removed in a future version.Please use `tf.keras.backend.random_bernoulli` instead.\n",
      "  return dispatch_target(*args, **kwargs)\n",
      "/usr/local/lib/python3.10/dist-packages/tensorflow/python/util/dispatch.py:1260: UserWarning: `tf.keras.backend.random_binomial` is deprecated, and will be removed in a future version.Please use `tf.keras.backend.random_bernoulli` instead.\n",
      "  return dispatch_target(*args, **kwargs)\n",
      "/usr/local/lib/python3.10/dist-packages/tensorflow/python/util/dispatch.py:1260: UserWarning: `tf.keras.backend.random_binomial` is deprecated, and will be removed in a future version.Please use `tf.keras.backend.random_bernoulli` instead.\n",
      "  return dispatch_target(*args, **kwargs)\n",
      "/usr/local/lib/python3.10/dist-packages/tensorflow/python/util/dispatch.py:1260: UserWarning: `tf.keras.backend.random_binomial` is deprecated, and will be removed in a future version.Please use `tf.keras.backend.random_bernoulli` instead.\n",
      "  return dispatch_target(*args, **kwargs)\n",
      "/usr/local/lib/python3.10/dist-packages/tensorflow/python/util/dispatch.py:1260: UserWarning: `tf.keras.backend.random_binomial` is deprecated, and will be removed in a future version.Please use `tf.keras.backend.random_bernoulli` instead.\n",
      "  return dispatch_target(*args, **kwargs)\n",
      "/usr/local/lib/python3.10/dist-packages/tensorflow/python/util/dispatch.py:1260: UserWarning: `tf.keras.backend.random_binomial` is deprecated, and will be removed in a future version.Please use `tf.keras.backend.random_bernoulli` instead.\n",
      "  return dispatch_target(*args, **kwargs)\n"
     ]
    },
    {
     "name": "stdout",
     "output_type": "stream",
     "text": [
      "INFO:tensorflow:Assets written to: /visuworks/Blindless_AIFFELTON/Ablation Study/SD_Unet/model_parameters/sd_unet_30ep_512_sG_wo_decay.tf/27--0.2533-0.7162-0.9791-0.7551-0.9786.pb/assets\n"
     ]
    },
    {
     "name": "stderr",
     "output_type": "stream",
     "text": [
      "INFO:tensorflow:Assets written to: /visuworks/Blindless_AIFFELTON/Ablation Study/SD_Unet/model_parameters/sd_unet_30ep_512_sG_wo_decay.tf/27--0.2533-0.7162-0.9791-0.7551-0.9786.pb/assets\n"
     ]
    },
    {
     "name": "stdout",
     "output_type": "stream",
     "text": [
      "Model saved to /visuworks/Blindless_AIFFELTON/Ablation Study/SD_Unet/model_parameters/sd_unet_30ep_512_sG_wo_decay.tf/27--0.2533-0.7162-0.9791-0.7551-0.9786.pb\n",
      "880/880 [==============================] - 114s 129ms/step - loss: 0.2533 - sensitivity: 0.7162 - specificity: 0.9791 - accuracy: 0.9621 - val_loss: 0.2316 - val_sensitivity: 0.7551 - val_specificity: 0.9786 - val_accuracy: 0.9637\n",
      "Epoch 28/30\n",
      "880/880 [==============================] - ETA: 0s - loss: 0.2514 - sensitivity: 0.7174 - specificity: 0.9795 - accuracy: 0.9625"
     ]
    },
    {
     "name": "stderr",
     "output_type": "stream",
     "text": [
      "/usr/local/lib/python3.10/dist-packages/tensorflow/python/util/dispatch.py:1260: UserWarning: `tf.keras.backend.random_binomial` is deprecated, and will be removed in a future version.Please use `tf.keras.backend.random_bernoulli` instead.\n",
      "  return dispatch_target(*args, **kwargs)\n",
      "/usr/local/lib/python3.10/dist-packages/tensorflow/python/util/dispatch.py:1260: UserWarning: `tf.keras.backend.random_binomial` is deprecated, and will be removed in a future version.Please use `tf.keras.backend.random_bernoulli` instead.\n",
      "  return dispatch_target(*args, **kwargs)\n",
      "/usr/local/lib/python3.10/dist-packages/tensorflow/python/util/dispatch.py:1260: UserWarning: `tf.keras.backend.random_binomial` is deprecated, and will be removed in a future version.Please use `tf.keras.backend.random_bernoulli` instead.\n",
      "  return dispatch_target(*args, **kwargs)\n",
      "/usr/local/lib/python3.10/dist-packages/tensorflow/python/util/dispatch.py:1260: UserWarning: `tf.keras.backend.random_binomial` is deprecated, and will be removed in a future version.Please use `tf.keras.backend.random_bernoulli` instead.\n",
      "  return dispatch_target(*args, **kwargs)\n",
      "/usr/local/lib/python3.10/dist-packages/tensorflow/python/util/dispatch.py:1260: UserWarning: `tf.keras.backend.random_binomial` is deprecated, and will be removed in a future version.Please use `tf.keras.backend.random_bernoulli` instead.\n",
      "  return dispatch_target(*args, **kwargs)\n",
      "/usr/local/lib/python3.10/dist-packages/tensorflow/python/util/dispatch.py:1260: UserWarning: `tf.keras.backend.random_binomial` is deprecated, and will be removed in a future version.Please use `tf.keras.backend.random_bernoulli` instead.\n",
      "  return dispatch_target(*args, **kwargs)\n",
      "/usr/local/lib/python3.10/dist-packages/tensorflow/python/util/dispatch.py:1260: UserWarning: `tf.keras.backend.random_binomial` is deprecated, and will be removed in a future version.Please use `tf.keras.backend.random_bernoulli` instead.\n",
      "  return dispatch_target(*args, **kwargs)\n",
      "/usr/local/lib/python3.10/dist-packages/tensorflow/python/util/dispatch.py:1260: UserWarning: `tf.keras.backend.random_binomial` is deprecated, and will be removed in a future version.Please use `tf.keras.backend.random_bernoulli` instead.\n",
      "  return dispatch_target(*args, **kwargs)\n",
      "/usr/local/lib/python3.10/dist-packages/tensorflow/python/util/dispatch.py:1260: UserWarning: `tf.keras.backend.random_binomial` is deprecated, and will be removed in a future version.Please use `tf.keras.backend.random_bernoulli` instead.\n",
      "  return dispatch_target(*args, **kwargs)\n",
      "/usr/local/lib/python3.10/dist-packages/tensorflow/python/util/dispatch.py:1260: UserWarning: `tf.keras.backend.random_binomial` is deprecated, and will be removed in a future version.Please use `tf.keras.backend.random_bernoulli` instead.\n",
      "  return dispatch_target(*args, **kwargs)\n",
      "/usr/local/lib/python3.10/dist-packages/tensorflow/python/util/dispatch.py:1260: UserWarning: `tf.keras.backend.random_binomial` is deprecated, and will be removed in a future version.Please use `tf.keras.backend.random_bernoulli` instead.\n",
      "  return dispatch_target(*args, **kwargs)\n",
      "/usr/local/lib/python3.10/dist-packages/tensorflow/python/util/dispatch.py:1260: UserWarning: `tf.keras.backend.random_binomial` is deprecated, and will be removed in a future version.Please use `tf.keras.backend.random_bernoulli` instead.\n",
      "  return dispatch_target(*args, **kwargs)\n",
      "/usr/local/lib/python3.10/dist-packages/tensorflow/python/util/dispatch.py:1260: UserWarning: `tf.keras.backend.random_binomial` is deprecated, and will be removed in a future version.Please use `tf.keras.backend.random_bernoulli` instead.\n",
      "  return dispatch_target(*args, **kwargs)\n",
      "/usr/local/lib/python3.10/dist-packages/tensorflow/python/util/dispatch.py:1260: UserWarning: `tf.keras.backend.random_binomial` is deprecated, and will be removed in a future version.Please use `tf.keras.backend.random_bernoulli` instead.\n",
      "  return dispatch_target(*args, **kwargs)\n",
      "/usr/local/lib/python3.10/dist-packages/tensorflow/python/util/dispatch.py:1260: UserWarning: `tf.keras.backend.random_binomial` is deprecated, and will be removed in a future version.Please use `tf.keras.backend.random_bernoulli` instead.\n",
      "  return dispatch_target(*args, **kwargs)\n"
     ]
    },
    {
     "name": "stdout",
     "output_type": "stream",
     "text": [
      "INFO:tensorflow:Assets written to: /visuworks/Blindless_AIFFELTON/Ablation Study/SD_Unet/model_parameters/sd_unet_30ep_512_sG_wo_decay.tf/28--0.2514-0.7174-0.9795-0.7498-0.9797.pb/assets\n"
     ]
    },
    {
     "name": "stderr",
     "output_type": "stream",
     "text": [
      "INFO:tensorflow:Assets written to: /visuworks/Blindless_AIFFELTON/Ablation Study/SD_Unet/model_parameters/sd_unet_30ep_512_sG_wo_decay.tf/28--0.2514-0.7174-0.9795-0.7498-0.9797.pb/assets\n"
     ]
    },
    {
     "name": "stdout",
     "output_type": "stream",
     "text": [
      "Model saved to /visuworks/Blindless_AIFFELTON/Ablation Study/SD_Unet/model_parameters/sd_unet_30ep_512_sG_wo_decay.tf/28--0.2514-0.7174-0.9795-0.7498-0.9797.pb\n",
      "880/880 [==============================] - 124s 141ms/step - loss: 0.2514 - sensitivity: 0.7174 - specificity: 0.9795 - accuracy: 0.9625 - val_loss: 0.2294 - val_sensitivity: 0.7498 - val_specificity: 0.9797 - val_accuracy: 0.9645\n",
      "Epoch 29/30\n",
      "880/880 [==============================] - ETA: 0s - loss: 0.2504 - sensitivity: 0.7193 - specificity: 0.9794 - accuracy: 0.9626"
     ]
    },
    {
     "name": "stderr",
     "output_type": "stream",
     "text": [
      "/usr/local/lib/python3.10/dist-packages/tensorflow/python/util/dispatch.py:1260: UserWarning: `tf.keras.backend.random_binomial` is deprecated, and will be removed in a future version.Please use `tf.keras.backend.random_bernoulli` instead.\n",
      "  return dispatch_target(*args, **kwargs)\n",
      "/usr/local/lib/python3.10/dist-packages/tensorflow/python/util/dispatch.py:1260: UserWarning: `tf.keras.backend.random_binomial` is deprecated, and will be removed in a future version.Please use `tf.keras.backend.random_bernoulli` instead.\n",
      "  return dispatch_target(*args, **kwargs)\n",
      "/usr/local/lib/python3.10/dist-packages/tensorflow/python/util/dispatch.py:1260: UserWarning: `tf.keras.backend.random_binomial` is deprecated, and will be removed in a future version.Please use `tf.keras.backend.random_bernoulli` instead.\n",
      "  return dispatch_target(*args, **kwargs)\n",
      "/usr/local/lib/python3.10/dist-packages/tensorflow/python/util/dispatch.py:1260: UserWarning: `tf.keras.backend.random_binomial` is deprecated, and will be removed in a future version.Please use `tf.keras.backend.random_bernoulli` instead.\n",
      "  return dispatch_target(*args, **kwargs)\n",
      "/usr/local/lib/python3.10/dist-packages/tensorflow/python/util/dispatch.py:1260: UserWarning: `tf.keras.backend.random_binomial` is deprecated, and will be removed in a future version.Please use `tf.keras.backend.random_bernoulli` instead.\n",
      "  return dispatch_target(*args, **kwargs)\n",
      "/usr/local/lib/python3.10/dist-packages/tensorflow/python/util/dispatch.py:1260: UserWarning: `tf.keras.backend.random_binomial` is deprecated, and will be removed in a future version.Please use `tf.keras.backend.random_bernoulli` instead.\n",
      "  return dispatch_target(*args, **kwargs)\n",
      "/usr/local/lib/python3.10/dist-packages/tensorflow/python/util/dispatch.py:1260: UserWarning: `tf.keras.backend.random_binomial` is deprecated, and will be removed in a future version.Please use `tf.keras.backend.random_bernoulli` instead.\n",
      "  return dispatch_target(*args, **kwargs)\n",
      "/usr/local/lib/python3.10/dist-packages/tensorflow/python/util/dispatch.py:1260: UserWarning: `tf.keras.backend.random_binomial` is deprecated, and will be removed in a future version.Please use `tf.keras.backend.random_bernoulli` instead.\n",
      "  return dispatch_target(*args, **kwargs)\n",
      "/usr/local/lib/python3.10/dist-packages/tensorflow/python/util/dispatch.py:1260: UserWarning: `tf.keras.backend.random_binomial` is deprecated, and will be removed in a future version.Please use `tf.keras.backend.random_bernoulli` instead.\n",
      "  return dispatch_target(*args, **kwargs)\n",
      "/usr/local/lib/python3.10/dist-packages/tensorflow/python/util/dispatch.py:1260: UserWarning: `tf.keras.backend.random_binomial` is deprecated, and will be removed in a future version.Please use `tf.keras.backend.random_bernoulli` instead.\n",
      "  return dispatch_target(*args, **kwargs)\n",
      "/usr/local/lib/python3.10/dist-packages/tensorflow/python/util/dispatch.py:1260: UserWarning: `tf.keras.backend.random_binomial` is deprecated, and will be removed in a future version.Please use `tf.keras.backend.random_bernoulli` instead.\n",
      "  return dispatch_target(*args, **kwargs)\n",
      "/usr/local/lib/python3.10/dist-packages/tensorflow/python/util/dispatch.py:1260: UserWarning: `tf.keras.backend.random_binomial` is deprecated, and will be removed in a future version.Please use `tf.keras.backend.random_bernoulli` instead.\n",
      "  return dispatch_target(*args, **kwargs)\n",
      "/usr/local/lib/python3.10/dist-packages/tensorflow/python/util/dispatch.py:1260: UserWarning: `tf.keras.backend.random_binomial` is deprecated, and will be removed in a future version.Please use `tf.keras.backend.random_bernoulli` instead.\n",
      "  return dispatch_target(*args, **kwargs)\n",
      "/usr/local/lib/python3.10/dist-packages/tensorflow/python/util/dispatch.py:1260: UserWarning: `tf.keras.backend.random_binomial` is deprecated, and will be removed in a future version.Please use `tf.keras.backend.random_bernoulli` instead.\n",
      "  return dispatch_target(*args, **kwargs)\n",
      "/usr/local/lib/python3.10/dist-packages/tensorflow/python/util/dispatch.py:1260: UserWarning: `tf.keras.backend.random_binomial` is deprecated, and will be removed in a future version.Please use `tf.keras.backend.random_bernoulli` instead.\n",
      "  return dispatch_target(*args, **kwargs)\n"
     ]
    },
    {
     "name": "stdout",
     "output_type": "stream",
     "text": [
      "INFO:tensorflow:Assets written to: /visuworks/Blindless_AIFFELTON/Ablation Study/SD_Unet/model_parameters/sd_unet_30ep_512_sG_wo_decay.tf/29--0.2504-0.7193-0.9794-0.7828-0.9751.pb/assets\n"
     ]
    },
    {
     "name": "stderr",
     "output_type": "stream",
     "text": [
      "INFO:tensorflow:Assets written to: /visuworks/Blindless_AIFFELTON/Ablation Study/SD_Unet/model_parameters/sd_unet_30ep_512_sG_wo_decay.tf/29--0.2504-0.7193-0.9794-0.7828-0.9751.pb/assets\n"
     ]
    },
    {
     "name": "stdout",
     "output_type": "stream",
     "text": [
      "Model saved to /visuworks/Blindless_AIFFELTON/Ablation Study/SD_Unet/model_parameters/sd_unet_30ep_512_sG_wo_decay.tf/29--0.2504-0.7193-0.9794-0.7828-0.9751.pb\n",
      "880/880 [==============================] - 120s 136ms/step - loss: 0.2504 - sensitivity: 0.7193 - specificity: 0.9794 - accuracy: 0.9626 - val_loss: 0.2310 - val_sensitivity: 0.7828 - val_specificity: 0.9751 - val_accuracy: 0.9626\n",
      "Epoch 30/30\n",
      "880/880 [==============================] - ETA: 0s - loss: 0.2494 - sensitivity: 0.7200 - specificity: 0.9795 - accuracy: 0.9628"
     ]
    },
    {
     "name": "stderr",
     "output_type": "stream",
     "text": [
      "/usr/local/lib/python3.10/dist-packages/tensorflow/python/util/dispatch.py:1260: UserWarning: `tf.keras.backend.random_binomial` is deprecated, and will be removed in a future version.Please use `tf.keras.backend.random_bernoulli` instead.\n",
      "  return dispatch_target(*args, **kwargs)\n",
      "/usr/local/lib/python3.10/dist-packages/tensorflow/python/util/dispatch.py:1260: UserWarning: `tf.keras.backend.random_binomial` is deprecated, and will be removed in a future version.Please use `tf.keras.backend.random_bernoulli` instead.\n",
      "  return dispatch_target(*args, **kwargs)\n",
      "/usr/local/lib/python3.10/dist-packages/tensorflow/python/util/dispatch.py:1260: UserWarning: `tf.keras.backend.random_binomial` is deprecated, and will be removed in a future version.Please use `tf.keras.backend.random_bernoulli` instead.\n",
      "  return dispatch_target(*args, **kwargs)\n",
      "/usr/local/lib/python3.10/dist-packages/tensorflow/python/util/dispatch.py:1260: UserWarning: `tf.keras.backend.random_binomial` is deprecated, and will be removed in a future version.Please use `tf.keras.backend.random_bernoulli` instead.\n",
      "  return dispatch_target(*args, **kwargs)\n",
      "/usr/local/lib/python3.10/dist-packages/tensorflow/python/util/dispatch.py:1260: UserWarning: `tf.keras.backend.random_binomial` is deprecated, and will be removed in a future version.Please use `tf.keras.backend.random_bernoulli` instead.\n",
      "  return dispatch_target(*args, **kwargs)\n",
      "/usr/local/lib/python3.10/dist-packages/tensorflow/python/util/dispatch.py:1260: UserWarning: `tf.keras.backend.random_binomial` is deprecated, and will be removed in a future version.Please use `tf.keras.backend.random_bernoulli` instead.\n",
      "  return dispatch_target(*args, **kwargs)\n",
      "/usr/local/lib/python3.10/dist-packages/tensorflow/python/util/dispatch.py:1260: UserWarning: `tf.keras.backend.random_binomial` is deprecated, and will be removed in a future version.Please use `tf.keras.backend.random_bernoulli` instead.\n",
      "  return dispatch_target(*args, **kwargs)\n",
      "/usr/local/lib/python3.10/dist-packages/tensorflow/python/util/dispatch.py:1260: UserWarning: `tf.keras.backend.random_binomial` is deprecated, and will be removed in a future version.Please use `tf.keras.backend.random_bernoulli` instead.\n",
      "  return dispatch_target(*args, **kwargs)\n",
      "/usr/local/lib/python3.10/dist-packages/tensorflow/python/util/dispatch.py:1260: UserWarning: `tf.keras.backend.random_binomial` is deprecated, and will be removed in a future version.Please use `tf.keras.backend.random_bernoulli` instead.\n",
      "  return dispatch_target(*args, **kwargs)\n",
      "/usr/local/lib/python3.10/dist-packages/tensorflow/python/util/dispatch.py:1260: UserWarning: `tf.keras.backend.random_binomial` is deprecated, and will be removed in a future version.Please use `tf.keras.backend.random_bernoulli` instead.\n",
      "  return dispatch_target(*args, **kwargs)\n",
      "/usr/local/lib/python3.10/dist-packages/tensorflow/python/util/dispatch.py:1260: UserWarning: `tf.keras.backend.random_binomial` is deprecated, and will be removed in a future version.Please use `tf.keras.backend.random_bernoulli` instead.\n",
      "  return dispatch_target(*args, **kwargs)\n",
      "/usr/local/lib/python3.10/dist-packages/tensorflow/python/util/dispatch.py:1260: UserWarning: `tf.keras.backend.random_binomial` is deprecated, and will be removed in a future version.Please use `tf.keras.backend.random_bernoulli` instead.\n",
      "  return dispatch_target(*args, **kwargs)\n",
      "/usr/local/lib/python3.10/dist-packages/tensorflow/python/util/dispatch.py:1260: UserWarning: `tf.keras.backend.random_binomial` is deprecated, and will be removed in a future version.Please use `tf.keras.backend.random_bernoulli` instead.\n",
      "  return dispatch_target(*args, **kwargs)\n",
      "/usr/local/lib/python3.10/dist-packages/tensorflow/python/util/dispatch.py:1260: UserWarning: `tf.keras.backend.random_binomial` is deprecated, and will be removed in a future version.Please use `tf.keras.backend.random_bernoulli` instead.\n",
      "  return dispatch_target(*args, **kwargs)\n",
      "/usr/local/lib/python3.10/dist-packages/tensorflow/python/util/dispatch.py:1260: UserWarning: `tf.keras.backend.random_binomial` is deprecated, and will be removed in a future version.Please use `tf.keras.backend.random_bernoulli` instead.\n",
      "  return dispatch_target(*args, **kwargs)\n"
     ]
    },
    {
     "name": "stdout",
     "output_type": "stream",
     "text": [
      "INFO:tensorflow:Assets written to: /visuworks/Blindless_AIFFELTON/Ablation Study/SD_Unet/model_parameters/sd_unet_30ep_512_sG_wo_decay.tf/30--0.2494-0.7200-0.9795-0.8118-0.9691.pb/assets\n"
     ]
    },
    {
     "name": "stderr",
     "output_type": "stream",
     "text": [
      "INFO:tensorflow:Assets written to: /visuworks/Blindless_AIFFELTON/Ablation Study/SD_Unet/model_parameters/sd_unet_30ep_512_sG_wo_decay.tf/30--0.2494-0.7200-0.9795-0.8118-0.9691.pb/assets\n"
     ]
    },
    {
     "name": "stdout",
     "output_type": "stream",
     "text": [
      "Model saved to /visuworks/Blindless_AIFFELTON/Ablation Study/SD_Unet/model_parameters/sd_unet_30ep_512_sG_wo_decay.tf/30--0.2494-0.7200-0.9795-0.8118-0.9691.pb\n",
      "880/880 [==============================] - 119s 135ms/step - loss: 0.2494 - sensitivity: 0.7200 - specificity: 0.9795 - accuracy: 0.9628 - val_loss: 0.2413 - val_sensitivity: 0.8118 - val_specificity: 0.9691 - val_accuracy: 0.9590\n"
     ]
    }
   ],
   "source": [
    "train.model_train(model,\n",
    "                  epoch = 30,\n",
    "                  train_generator = train_generator,\n",
    "                  test_generator = test_generator,\n",
    "                  model_path = MODEL_PATH,\n",
    "                  history_path = HISTORY_PATH,\n",
    "                  save_every_epoch=True,\n",
    "                  apply_weight_decay=False)"
   ]
  },
  {
   "cell_type": "code",
   "execution_count": 4,
   "metadata": {},
   "outputs": [
    {
     "data": {
      "image/png": "[encoded data removed]",
      "text/plain": [
       "<Figure size 640x480 with 1 Axes>"
      ]
     },
     "metadata": {},
     "output_type": "display_data"
    },
    {
     "data": {
      "image/png": "[encoded data removed]",
      "text/plain": [
       "<Figure size 640x480 with 1 Axes>"
      ]
     },
     "metadata": {},
     "output_type": "display_data"
    },
    {
     "data": {
      "image/png": "[encoded data removed]",
      "text/plain": [
       "<Figure size 640x480 with 1 Axes>"
      ]
     },
     "metadata": {},
     "output_type": "display_data"
    },
    {
     "data": {
      "text/plain": [
       "<Figure size 640x480 with 0 Axes>"
      ]
     },
     "metadata": {},
     "output_type": "display_data"
    }
   ],
   "source": [
    "check_result.plot_history(HISTORY_PATH)"
   ]
  },
  {
   "cell_type": "code",
   "execution_count": 3,
   "metadata": {},
   "outputs": [
    {
     "name": "stderr",
     "output_type": "stream",
     "text": [
      "2024-01-31 05:23:03.650727: I external/local_xla/xla/stream_executor/cuda/cuda_executor.cc:901] successful NUMA node read from SysFS had negative value (-1), but there must be at least one NUMA node, so returning NUMA node zero. See more at https://github.com/torvalds/linux/blob/v6.0/Documentation/ABI/testing/sysfs-bus-pci#L344-L355\n",
      "2024-01-31 05:23:03.685998: I external/local_xla/xla/stream_executor/cuda/cuda_executor.cc:901] successful NUMA node read from SysFS had negative value (-1), but there must be at least one NUMA node, so returning NUMA node zero. See more at https://github.com/torvalds/linux/blob/v6.0/Documentation/ABI/testing/sysfs-bus-pci#L344-L355\n",
      "2024-01-31 05:23:03.686201: I external/local_xla/xla/stream_executor/cuda/cuda_executor.cc:901] successful NUMA node read from SysFS had negative value (-1), but there must be at least one NUMA node, so returning NUMA node zero. See more at https://github.com/torvalds/linux/blob/v6.0/Documentation/ABI/testing/sysfs-bus-pci#L344-L355\n",
      "2024-01-31 05:23:03.688285: I external/local_xla/xla/stream_executor/cuda/cuda_executor.cc:901] successful NUMA node read from SysFS had negative value (-1), but there must be at least one NUMA node, so returning NUMA node zero. See more at https://github.com/torvalds/linux/blob/v6.0/Documentation/ABI/testing/sysfs-bus-pci#L344-L355\n",
      "2024-01-31 05:23:03.688461: I external/local_xla/xla/stream_executor/cuda/cuda_executor.cc:901] successful NUMA node read from SysFS had negative value (-1), but there must be at least one NUMA node, so returning NUMA node zero. See more at https://github.com/torvalds/linux/blob/v6.0/Documentation/ABI/testing/sysfs-bus-pci#L344-L355\n",
      "2024-01-31 05:23:03.688620: I external/local_xla/xla/stream_executor/cuda/cuda_executor.cc:901] successful NUMA node read from SysFS had negative value (-1), but there must be at least one NUMA node, so returning NUMA node zero. See more at https://github.com/torvalds/linux/blob/v6.0/Documentation/ABI/testing/sysfs-bus-pci#L344-L355\n",
      "2024-01-31 05:23:03.757403: I external/local_xla/xla/stream_executor/cuda/cuda_executor.cc:901] successful NUMA node read from SysFS had negative value (-1), but there must be at least one NUMA node, so returning NUMA node zero. See more at https://github.com/torvalds/linux/blob/v6.0/Documentation/ABI/testing/sysfs-bus-pci#L344-L355\n",
      "2024-01-31 05:23:03.757640: I external/local_xla/xla/stream_executor/cuda/cuda_executor.cc:901] successful NUMA node read from SysFS had negative value (-1), but there must be at least one NUMA node, so returning NUMA node zero. See more at https://github.com/torvalds/linux/blob/v6.0/Documentation/ABI/testing/sysfs-bus-pci#L344-L355\n",
      "2024-01-31 05:23:03.757807: I external/local_xla/xla/stream_executor/cuda/cuda_executor.cc:901] successful NUMA node read from SysFS had negative value (-1), but there must be at least one NUMA node, so returning NUMA node zero. See more at https://github.com/torvalds/linux/blob/v6.0/Documentation/ABI/testing/sysfs-bus-pci#L344-L355\n",
      "2024-01-31 05:23:03.757923: I tensorflow/core/common_runtime/gpu/gpu_device.cc:1929] Created device /job:localhost/replica:0/task:0/device:GPU:0 with 9927 MB memory:  -> device: 0, name: NVIDIA GeForce RTX 3080 Ti, pci bus id: 0000:43:00.0, compute capability: 8.6\n",
      "2024-01-31 05:23:06.011323: I external/local_xla/xla/stream_executor/cuda/cuda_dnn.cc:454] Loaded cuDNN version 8904\n"
     ]
    },
    {
     "name": "stdout",
     "output_type": "stream",
     "text": [
      "500/500 [==============================] - 41s 78ms/step - loss: 0.2435 - sensitivity: 0.8140 - specificity: 0.9687 - accuracy: 0.9589\n",
      "Loss: 0.24352332949638367\n",
      "Sensitivity: 0.8140193819999695\n",
      "Specificity: 0.9687013626098633\n",
      "Accuracy: 0.9589313268661499\n"
     ]
    }
   ],
   "source": [
    "# Define custom objects for loading the model\n",
    "custom_objects = {'DiceLoss': loss.DiceLoss(), \n",
    "                  'sensitivity': metrics.sensitivity,\n",
    "                  'specificity': metrics.specificity,\n",
    "                  'accuracy' : metrics.accuracy}\n",
    "\n",
    "test_preproc = preprocess.build_augmentation_for_general(RESIZE_SHAPE[0], RESIZE_SHAPE[0], is_train=False)\n",
    "test_generator = data_generator.SlicedDataGenerator(\n",
    "    TRAIN_SOURCE,\n",
    "    number_of_images = 1,\n",
    "    img_size=INPUT_SHAPE,\n",
    "    output_size=INPUT_SHAPE,\n",
    "    resize_shape = RESIZE_SHAPE,\n",
    "    is_train=False,\n",
    "    augmentation= test_preproc\n",
    ")\n",
    "# Load the model with custom_objects parameter\n",
    "MODEL_PATH = '/visuworks/Blindless_AIFFELTON/Ablation Study/SD_Unet/model_parameters/sd_unet_30ep_512_sG_wo_decay.tf/30--0.2494-0.7200-0.9795-0.8118-0.9691.pb'\n",
    "model = tf.keras.models.load_model(MODEL_PATH, custom_objects=custom_objects)\n",
    "\n",
    "metrics.print_evaluation(model, test_generator)"
   ]
  }
 ],
 "metadata": {
  "kernelspec": {
   "display_name": "Python 3",
   "language": "python",
   "name": "python3"
  },
  "language_info": {
   "codemirror_mode": {
    "name": "ipython",
    "version": 3
   },
   "file_extension": ".py",
   "mimetype": "text/x-python",
   "name": "python",
   "nbconvert_exporter": "python",
   "pygments_lexer": "ipython3",
   "version": "3.10.12"
  }
 },
 "nbformat": 4,
 "nbformat_minor": 2
}
