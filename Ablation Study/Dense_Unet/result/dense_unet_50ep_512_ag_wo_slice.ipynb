{
 "cells": [
  {
   "cell_type": "code",
   "execution_count": 1,
   "metadata": {},
   "outputs": [
    {
     "name": "stderr",
     "output_type": "stream",
     "text": [
      "2024-02-15 03:33:31.830410: E external/local_xla/xla/stream_executor/cuda/cuda_dnn.cc:9261] Unable to register cuDNN factory: Attempting to register factory for plugin cuDNN when one has already been registered\n",
      "2024-02-15 03:33:31.830434: E external/local_xla/xla/stream_executor/cuda/cuda_fft.cc:607] Unable to register cuFFT factory: Attempting to register factory for plugin cuFFT when one has already been registered\n",
      "2024-02-15 03:33:31.831489: E external/local_xla/xla/stream_executor/cuda/cuda_blas.cc:1515] Unable to register cuBLAS factory: Attempting to register factory for plugin cuBLAS when one has already been registered\n",
      "2024-02-15 03:33:31.836909: I tensorflow/core/platform/cpu_feature_guard.cc:182] This TensorFlow binary is optimized to use available CPU instructions in performance-critical operations.\n",
      "To enable the following instructions: AVX2 FMA, in other operations, rebuild TensorFlow with the appropriate compiler flags.\n",
      "2024-02-15 03:33:32.417966: W tensorflow/compiler/tf2tensorrt/utils/py_utils.cc:38] TF-TRT Warning: Could not find TensorRT\n"
     ]
    }
   ],
   "source": [
    "import sys\n",
    "import tensorflow as tf\n",
    "sys.path.append(\"/visuworks/Blindless_AIFFELTON/Ablation Study/\")\n",
    "\n",
    "# import customized modules\n",
    "import preprocess, data_generator, check_result, metrics, loss, train\n",
    "\n",
    "sys.path.append(\"/visuworks/Blindless_AIFFELTON/Ablation Study/Dense_Unet\")\n",
    "import dense_unet\n",
    "\n",
    "# Insert Path\n",
    "# {model_name}_{epoch}ep_{model_inpusize}_{Generator | aG/fG/sG}\n",
    "FILE_NAME = 'dense_unet_50ep_512_aG_wo_slice'\n",
    "INPUT_SHAPE = (512, 512, 1)\n",
    "MODEL_PATH = \"/visuworks/Blindless_AIFFELTON/Ablation Study/Dense_Unet/model_parameters/\" + FILE_NAME + \".tf\"\n",
    "HISTORY_PATH = \"/visuworks/Blindless_AIFFELTON/Ablation Study/Dense_Unet/history/\" + FILE_NAME + '_history' \".json\"\n",
    "\n",
    "TRAIN_SOURCE = '/visuworks/Dataset/Selected Dataset 3/Train'\n",
    "TEST_SOURCE = '/visuworks/Dataset/Selected Dataset 3/Test'"
   ]
  },
  {
   "cell_type": "code",
   "execution_count": 2,
   "metadata": {},
   "outputs": [
    {
     "name": "stderr",
     "output_type": "stream",
     "text": [
      "2024-02-15 01:37:19.466497: I external/local_xla/xla/stream_executor/cuda/cuda_executor.cc:901] successful NUMA node read from SysFS had negative value (-1), but there must be at least one NUMA node, so returning NUMA node zero. See more at https://github.com/torvalds/linux/blob/v6.0/Documentation/ABI/testing/sysfs-bus-pci#L344-L355\n",
      "2024-02-15 01:37:19.502284: I external/local_xla/xla/stream_executor/cuda/cuda_executor.cc:901] successful NUMA node read from SysFS had negative value (-1), but there must be at least one NUMA node, so returning NUMA node zero. See more at https://github.com/torvalds/linux/blob/v6.0/Documentation/ABI/testing/sysfs-bus-pci#L344-L355\n",
      "2024-02-15 01:37:19.502496: I external/local_xla/xla/stream_executor/cuda/cuda_executor.cc:901] successful NUMA node read from SysFS had negative value (-1), but there must be at least one NUMA node, so returning NUMA node zero. See more at https://github.com/torvalds/linux/blob/v6.0/Documentation/ABI/testing/sysfs-bus-pci#L344-L355\n",
      "2024-02-15 01:37:19.504548: I external/local_xla/xla/stream_executor/cuda/cuda_executor.cc:901] successful NUMA node read from SysFS had negative value (-1), but there must be at least one NUMA node, so returning NUMA node zero. See more at https://github.com/torvalds/linux/blob/v6.0/Documentation/ABI/testing/sysfs-bus-pci#L344-L355\n",
      "2024-02-15 01:37:19.504736: I external/local_xla/xla/stream_executor/cuda/cuda_executor.cc:901] successful NUMA node read from SysFS had negative value (-1), but there must be at least one NUMA node, so returning NUMA node zero. See more at https://github.com/torvalds/linux/blob/v6.0/Documentation/ABI/testing/sysfs-bus-pci#L344-L355\n",
      "2024-02-15 01:37:19.504928: I external/local_xla/xla/stream_executor/cuda/cuda_executor.cc:901] successful NUMA node read from SysFS had negative value (-1), but there must be at least one NUMA node, so returning NUMA node zero. See more at https://github.com/torvalds/linux/blob/v6.0/Documentation/ABI/testing/sysfs-bus-pci#L344-L355\n",
      "2024-02-15 01:37:19.567236: I external/local_xla/xla/stream_executor/cuda/cuda_executor.cc:901] successful NUMA node read from SysFS had negative value (-1), but there must be at least one NUMA node, so returning NUMA node zero. See more at https://github.com/torvalds/linux/blob/v6.0/Documentation/ABI/testing/sysfs-bus-pci#L344-L355\n",
      "2024-02-15 01:37:19.567421: I external/local_xla/xla/stream_executor/cuda/cuda_executor.cc:901] successful NUMA node read from SysFS had negative value (-1), but there must be at least one NUMA node, so returning NUMA node zero. See more at https://github.com/torvalds/linux/blob/v6.0/Documentation/ABI/testing/sysfs-bus-pci#L344-L355\n",
      "2024-02-15 01:37:19.567588: I external/local_xla/xla/stream_executor/cuda/cuda_executor.cc:901] successful NUMA node read from SysFS had negative value (-1), but there must be at least one NUMA node, so returning NUMA node zero. See more at https://github.com/torvalds/linux/blob/v6.0/Documentation/ABI/testing/sysfs-bus-pci#L344-L355\n",
      "2024-02-15 01:37:19.567702: I tensorflow/core/common_runtime/gpu/gpu_device.cc:1929] Created device /job:localhost/replica:0/task:0/device:GPU:0 with 9891 MB memory:  -> device: 0, name: NVIDIA GeForce RTX 3080 Ti, pci bus id: 0000:43:00.0, compute capability: 8.6\n"
     ]
    },
    {
     "name": "stdout",
     "output_type": "stream",
     "text": [
      "Model: \"model\"\n",
      "__________________________________________________________________________________________________\n",
      " Layer (type)                Output Shape                 Param #   Connected to                  \n",
      "==================================================================================================\n",
      " input_1 (InputLayer)        [(None, 512, 512, 1)]        0         []                            \n",
      "                                                                                                  \n",
      " conv2d (Conv2D)             (None, 512, 512, 48)         480       ['input_1[0][0]']             \n",
      "                                                                                                  \n",
      " batch_normalization (Batch  (None, 512, 512, 48)         192       ['conv2d[0][0]']              \n",
      " Normalization)                                                                                   \n",
      "                                                                                                  \n",
      " activation (Activation)     (None, 512, 512, 48)         0         ['batch_normalization[0][0]'] \n",
      "                                                                                                  \n",
      " conv2d_1 (Conv2D)           (None, 512, 512, 64)         27712     ['activation[0][0]']          \n",
      "                                                                                                  \n",
      " concatenate (Concatenate)   (None, 512, 512, 112)        0         ['conv2d_1[0][0]',            \n",
      "                                                                     'conv2d[0][0]']              \n",
      "                                                                                                  \n",
      " batch_normalization_1 (Bat  (None, 512, 512, 112)        448       ['concatenate[0][0]']         \n",
      " chNormalization)                                                                                 \n",
      "                                                                                                  \n",
      " activation_1 (Activation)   (None, 512, 512, 112)        0         ['batch_normalization_1[0][0]'\n",
      "                                                                    ]                             \n",
      "                                                                                                  \n",
      " conv2d_2 (Conv2D)           (None, 512, 512, 64)         64576     ['activation_1[0][0]']        \n",
      "                                                                                                  \n",
      " concatenate_1 (Concatenate  (None, 512, 512, 112)        0         ['conv2d[0][0]',              \n",
      " )                                                                   'conv2d_2[0][0]']            \n",
      "                                                                                                  \n",
      " max_pooling2d (MaxPooling2  (None, 256, 256, 112)        0         ['concatenate_1[0][0]']       \n",
      " D)                                                                                               \n",
      "                                                                                                  \n",
      " batch_normalization_2 (Bat  (None, 256, 256, 112)        448       ['max_pooling2d[0][0]']       \n",
      " chNormalization)                                                                                 \n",
      "                                                                                                  \n",
      " activation_2 (Activation)   (None, 256, 256, 112)        0         ['batch_normalization_2[0][0]'\n",
      "                                                                    ]                             \n",
      "                                                                                                  \n",
      " conv2d_3 (Conv2D)           (None, 256, 256, 240)        242160    ['activation_2[0][0]']        \n",
      "                                                                                                  \n",
      " concatenate_2 (Concatenate  (None, 256, 256, 352)        0         ['conv2d_3[0][0]',            \n",
      " )                                                                   'max_pooling2d[0][0]']       \n",
      "                                                                                                  \n",
      " batch_normalization_3 (Bat  (None, 256, 256, 352)        1408      ['concatenate_2[0][0]']       \n",
      " chNormalization)                                                                                 \n",
      "                                                                                                  \n",
      " activation_3 (Activation)   (None, 256, 256, 352)        0         ['batch_normalization_3[0][0]'\n",
      "                                                                    ]                             \n",
      "                                                                                                  \n",
      " conv2d_4 (Conv2D)           (None, 256, 256, 240)        760560    ['activation_3[0][0]']        \n",
      "                                                                                                  \n",
      " concatenate_3 (Concatenate  (None, 256, 256, 352)        0         ['max_pooling2d[0][0]',       \n",
      " )                                                                   'conv2d_4[0][0]']            \n",
      "                                                                                                  \n",
      " max_pooling2d_1 (MaxPoolin  (None, 128, 128, 352)        0         ['concatenate_3[0][0]']       \n",
      " g2D)                                                                                             \n",
      "                                                                                                  \n",
      " batch_normalization_4 (Bat  (None, 128, 128, 352)        1408      ['max_pooling2d_1[0][0]']     \n",
      " chNormalization)                                                                                 \n",
      "                                                                                                  \n",
      " activation_4 (Activation)   (None, 128, 128, 352)        0         ['batch_normalization_4[0][0]'\n",
      "                                                                    ]                             \n",
      "                                                                                                  \n",
      " conv2d_5 (Conv2D)           (None, 128, 128, 64)         202816    ['activation_4[0][0]']        \n",
      "                                                                                                  \n",
      " concatenate_4 (Concatenate  (None, 128, 128, 416)        0         ['conv2d_5[0][0]',            \n",
      " )                                                                   'max_pooling2d_1[0][0]']     \n",
      "                                                                                                  \n",
      " batch_normalization_5 (Bat  (None, 128, 128, 416)        1664      ['concatenate_4[0][0]']       \n",
      " chNormalization)                                                                                 \n",
      "                                                                                                  \n",
      " activation_5 (Activation)   (None, 128, 128, 416)        0         ['batch_normalization_5[0][0]'\n",
      "                                                                    ]                             \n",
      "                                                                                                  \n",
      " conv2d_6 (Conv2D)           (None, 128, 128, 64)         239680    ['activation_5[0][0]']        \n",
      "                                                                                                  \n",
      " concatenate_5 (Concatenate  (None, 128, 128, 416)        0         ['max_pooling2d_1[0][0]',     \n",
      " )                                                                   'conv2d_6[0][0]']            \n",
      "                                                                                                  \n",
      " max_pooling2d_2 (MaxPoolin  (None, 64, 64, 416)          0         ['concatenate_5[0][0]']       \n",
      " g2D)                                                                                             \n",
      "                                                                                                  \n",
      " batch_normalization_6 (Bat  (None, 64, 64, 416)          1664      ['max_pooling2d_2[0][0]']     \n",
      " chNormalization)                                                                                 \n",
      "                                                                                                  \n",
      " activation_6 (Activation)   (None, 64, 64, 416)          0         ['batch_normalization_6[0][0]'\n",
      "                                                                    ]                             \n",
      "                                                                                                  \n",
      " conv2d_7 (Conv2D)           (None, 64, 64, 128)          479360    ['activation_6[0][0]']        \n",
      "                                                                                                  \n",
      " concatenate_6 (Concatenate  (None, 64, 64, 544)          0         ['conv2d_7[0][0]',            \n",
      " )                                                                   'max_pooling2d_2[0][0]']     \n",
      "                                                                                                  \n",
      " batch_normalization_7 (Bat  (None, 64, 64, 544)          2176      ['concatenate_6[0][0]']       \n",
      " chNormalization)                                                                                 \n",
      "                                                                                                  \n",
      " activation_7 (Activation)   (None, 64, 64, 544)          0         ['batch_normalization_7[0][0]'\n",
      "                                                                    ]                             \n",
      "                                                                                                  \n",
      " conv2d_8 (Conv2D)           (None, 64, 64, 128)          626816    ['activation_7[0][0]']        \n",
      "                                                                                                  \n",
      " concatenate_7 (Concatenate  (None, 64, 64, 544)          0         ['max_pooling2d_2[0][0]',     \n",
      " )                                                                   'conv2d_8[0][0]']            \n",
      "                                                                                                  \n",
      " conv2d_transpose (Conv2DTr  (None, 128, 128, 64)         139328    ['concatenate_7[0][0]']       \n",
      " anspose)                                                                                         \n",
      "                                                                                                  \n",
      " concatenate_8 (Concatenate  (None, 128, 128, 480)        0         ['concatenate_5[0][0]',       \n",
      " )                                                                   'conv2d_transpose[0][0]']    \n",
      "                                                                                                  \n",
      " conv2d_transpose_1 (Conv2D  (None, 256, 256, 240)        461040    ['concatenate_8[0][0]']       \n",
      " Transpose)                                                                                       \n",
      "                                                                                                  \n",
      " concatenate_9 (Concatenate  (None, 256, 256, 592)        0         ['concatenate_3[0][0]',       \n",
      " )                                                                   'conv2d_transpose_1[0][0]']  \n",
      "                                                                                                  \n",
      " conv2d_transpose_2 (Conv2D  (None, 512, 512, 64)         151616    ['concatenate_9[0][0]']       \n",
      " Transpose)                                                                                       \n",
      "                                                                                                  \n",
      " concatenate_10 (Concatenat  (None, 512, 512, 176)        0         ['concatenate_1[0][0]',       \n",
      " e)                                                                  'conv2d_transpose_2[0][0]']  \n",
      "                                                                                                  \n",
      " conv2d_9 (Conv2D)           (None, 512, 512, 1)          177       ['concatenate_10[0][0]']      \n",
      "                                                                                                  \n",
      "==================================================================================================\n",
      "Total params: 3405729 (12.99 MB)\n",
      "Trainable params: 3401025 (12.97 MB)\n",
      "Non-trainable params: 4704 (18.38 KB)\n",
      "__________________________________________________________________________________________________\n"
     ]
    }
   ],
   "source": [
    "# Define custom objects for loading the model\n",
    "custom_objects = {'DiceLoss': loss.DiceLoss(), \n",
    "                  'sensitivity': metrics.sensitivity,\n",
    "                  'specificity': metrics.specificity,\n",
    "                  'accuracy' : metrics.accuracy}\n",
    "\n",
    "\n",
    "# Create augmentation\n",
    "train_preproc = preprocess.build_augmentation_for_adaptive()\n",
    "test_preproc = preprocess.build_augmentation_for_adaptive(is_train=False)\n",
    "\n",
    "# Create train, test generator\n",
    "train_generator = data_generator.AdaptiveDataGenerator(\n",
    "    TRAIN_SOURCE,\n",
    "    number_of_images=2,\n",
    "    img_size=INPUT_SHAPE,\n",
    "    output_size=INPUT_SHAPE,\n",
    "    is_train=True,\n",
    "    is_test=False,\n",
    "    slice_black=False,\n",
    "    augmentation= train_preproc\n",
    ")\n",
    "\n",
    "test_generator = data_generator.AdaptiveDataGenerator(\n",
    "    TRAIN_SOURCE,\n",
    "    number_of_images=2,\n",
    "    img_size=INPUT_SHAPE,\n",
    "    output_size=INPUT_SHAPE,\n",
    "    is_train=False,\n",
    "    is_test=True,\n",
    "    slice_black=False,\n",
    "    augmentation= test_preproc\n",
    ")\n",
    "\n",
    "# Create model\n",
    "model = dense_unet.build_model(input_shape=INPUT_SHAPE)\n",
    "model.summary()"
   ]
  },
  {
   "cell_type": "code",
   "execution_count": 3,
   "metadata": {},
   "outputs": [
    {
     "name": "stdout",
     "output_type": "stream",
     "text": [
      "\n",
      "Epoch 00001: WeightDecayScheduler setting learning rate to 9.999899747381279e-05.\n",
      "Epoch 1/50\n"
     ]
    },
    {
     "name": "stderr",
     "output_type": "stream",
     "text": [
      "2024-02-14 20:12:25.217041: I external/local_xla/xla/stream_executor/cuda/cuda_dnn.cc:454] Loaded cuDNN version 8904\n",
      "2024-02-14 20:12:27.466476: I external/local_xla/xla/service/service.cc:168] XLA service 0x7fecdf8c03a0 initialized for platform CUDA (this does not guarantee that XLA will be used). Devices:\n",
      "2024-02-14 20:12:27.466499: I external/local_xla/xla/service/service.cc:176]   StreamExecutor device (0): NVIDIA GeForce RTX 3080 Ti, Compute Capability 8.6\n",
      "2024-02-14 20:12:27.469961: I tensorflow/compiler/mlir/tensorflow/utils/dump_mlir_util.cc:269] disabling MLIR crash reproducer, set env var `MLIR_CRASH_REPRODUCER_DIRECTORY` to enable.\n",
      "WARNING: All log messages before absl::InitializeLog() is called are written to STDERR\n",
      "I0000 00:00:1707941547.538118  696463 device_compiler.h:186] Compiled cluster using XLA!  This line is logged at most once for the lifetime of the process.\n"
     ]
    },
    {
     "name": "stdout",
     "output_type": "stream",
     "text": [
      "  6/540 [..............................] - ETA: 1:19 - loss: 0.8964 - sensitivity: 0.4354 - specificity: 0.4647 - accuracy: 0.4647WARNING:tensorflow:Callback method `on_train_batch_end` is slow compared to the batch time (batch time: 0.0663s vs `on_train_batch_end` time: 0.0686s). Check your callbacks.\n",
      "540/540 [==============================] - ETA: 0s - loss: 0.4256 - sensitivity: 0.5851 - specificity: 0.9519 - accuracy: 0.9279INFO:tensorflow:Assets written to: /visuworks/Blindless_AIFFELTON/Ablation Study/Dense_Unet/model_parameters/dense_unet_50ep_512_aG_wo_slice.tf/1--0.4256-0.5851-0.9519-0.4852-0.3591-0.9890.pb/assets\n"
     ]
    },
    {
     "name": "stderr",
     "output_type": "stream",
     "text": [
      "INFO:tensorflow:Assets written to: /visuworks/Blindless_AIFFELTON/Ablation Study/Dense_Unet/model_parameters/dense_unet_50ep_512_aG_wo_slice.tf/1--0.4256-0.5851-0.9519-0.4852-0.3591-0.9890.pb/assets\n"
     ]
    },
    {
     "name": "stdout",
     "output_type": "stream",
     "text": [
      "Model saved to /visuworks/Blindless_AIFFELTON/Ablation Study/Dense_Unet/model_parameters/dense_unet_50ep_512_aG_wo_slice.tf/1--0.4256-0.5851-0.9519-0.4852-0.3591-0.9890.pb\n",
      "540/540 [==============================] - 257s 455ms/step - loss: 0.4256 - sensitivity: 0.5851 - specificity: 0.9519 - accuracy: 0.9279 - val_loss: 0.4852 - val_sensitivity: 0.3591 - val_specificity: 0.9890 - val_accuracy: 0.9489\n",
      "\n",
      "Epoch 00002: WeightDecayScheduler setting learning rate to 9.99980006775877e-05.\n",
      "Epoch 2/50\n",
      "540/540 [==============================] - ETA: 0s - loss: 0.3326 - sensitivity: 0.6389 - specificity: 0.9741 - accuracy: 0.9521INFO:tensorflow:Assets written to: /visuworks/Blindless_AIFFELTON/Ablation Study/Dense_Unet/model_parameters/dense_unet_50ep_512_aG_wo_slice.tf/2--0.3326-0.6389-0.9741-0.3567-0.5781-0.9765.pb/assets\n"
     ]
    },
    {
     "name": "stderr",
     "output_type": "stream",
     "text": [
      "INFO:tensorflow:Assets written to: /visuworks/Blindless_AIFFELTON/Ablation Study/Dense_Unet/model_parameters/dense_unet_50ep_512_aG_wo_slice.tf/2--0.3326-0.6389-0.9741-0.3567-0.5781-0.9765.pb/assets\n"
     ]
    },
    {
     "name": "stdout",
     "output_type": "stream",
     "text": [
      "Model saved to /visuworks/Blindless_AIFFELTON/Ablation Study/Dense_Unet/model_parameters/dense_unet_50ep_512_aG_wo_slice.tf/2--0.3326-0.6389-0.9741-0.3567-0.5781-0.9765.pb\n",
      "540/540 [==============================] - 244s 453ms/step - loss: 0.3326 - sensitivity: 0.6389 - specificity: 0.9741 - accuracy: 0.9521 - val_loss: 0.3567 - val_sensitivity: 0.5781 - val_specificity: 0.9765 - val_accuracy: 0.9529\n",
      "\n",
      "Epoch 00003: WeightDecayScheduler setting learning rate to 9.999700388136262e-05.\n",
      "Epoch 3/50\n",
      "540/540 [==============================] - ETA: 0s - loss: 0.3093 - sensitivity: 0.6635 - specificity: 0.9770 - accuracy: 0.9567INFO:tensorflow:Assets written to: /visuworks/Blindless_AIFFELTON/Ablation Study/Dense_Unet/model_parameters/dense_unet_50ep_512_aG_wo_slice.tf/3--0.3093-0.6635-0.9770-0.3364-0.5386-0.9873.pb/assets\n"
     ]
    },
    {
     "name": "stderr",
     "output_type": "stream",
     "text": [
      "INFO:tensorflow:Assets written to: /visuworks/Blindless_AIFFELTON/Ablation Study/Dense_Unet/model_parameters/dense_unet_50ep_512_aG_wo_slice.tf/3--0.3093-0.6635-0.9770-0.3364-0.5386-0.9873.pb/assets\n"
     ]
    },
    {
     "name": "stdout",
     "output_type": "stream",
     "text": [
      "Model saved to /visuworks/Blindless_AIFFELTON/Ablation Study/Dense_Unet/model_parameters/dense_unet_50ep_512_aG_wo_slice.tf/3--0.3093-0.6635-0.9770-0.3364-0.5386-0.9873.pb\n",
      "540/540 [==============================] - 240s 444ms/step - loss: 0.3093 - sensitivity: 0.6635 - specificity: 0.9770 - accuracy: 0.9567 - val_loss: 0.3364 - val_sensitivity: 0.5386 - val_specificity: 0.9873 - val_accuracy: 0.9590\n",
      "\n",
      "Epoch 00004: WeightDecayScheduler setting learning rate to 9.999600708513754e-05.\n",
      "Epoch 4/50\n",
      "540/540 [==============================] - ETA: 0s - loss: 0.2874 - sensitivity: 0.6822 - specificity: 0.9765 - accuracy: 0.9569INFO:tensorflow:Assets written to: /visuworks/Blindless_AIFFELTON/Ablation Study/Dense_Unet/model_parameters/dense_unet_50ep_512_aG_wo_slice.tf/4--0.2874-0.6822-0.9765-0.3018-0.6514-0.9763.pb/assets\n"
     ]
    },
    {
     "name": "stderr",
     "output_type": "stream",
     "text": [
      "INFO:tensorflow:Assets written to: /visuworks/Blindless_AIFFELTON/Ablation Study/Dense_Unet/model_parameters/dense_unet_50ep_512_aG_wo_slice.tf/4--0.2874-0.6822-0.9765-0.3018-0.6514-0.9763.pb/assets\n"
     ]
    },
    {
     "name": "stdout",
     "output_type": "stream",
     "text": [
      "Model saved to /visuworks/Blindless_AIFFELTON/Ablation Study/Dense_Unet/model_parameters/dense_unet_50ep_512_aG_wo_slice.tf/4--0.2874-0.6822-0.9765-0.3018-0.6514-0.9763.pb\n",
      "540/540 [==============================] - 238s 441ms/step - loss: 0.2874 - sensitivity: 0.6822 - specificity: 0.9765 - accuracy: 0.9569 - val_loss: 0.3018 - val_sensitivity: 0.6514 - val_specificity: 0.9763 - val_accuracy: 0.9569\n",
      "\n",
      "Epoch 00005: WeightDecayScheduler setting learning rate to 9.999501028891246e-05.\n",
      "Epoch 5/50\n",
      "540/540 [==============================] - ETA: 0s - loss: 0.2843 - sensitivity: 0.6801 - specificity: 0.9790 - accuracy: 0.9601INFO:tensorflow:Assets written to: /visuworks/Blindless_AIFFELTON/Ablation Study/Dense_Unet/model_parameters/dense_unet_50ep_512_aG_wo_slice.tf/5--0.2843-0.6801-0.9790-0.2944-0.6807-0.9741.pb/assets\n"
     ]
    },
    {
     "name": "stderr",
     "output_type": "stream",
     "text": [
      "INFO:tensorflow:Assets written to: /visuworks/Blindless_AIFFELTON/Ablation Study/Dense_Unet/model_parameters/dense_unet_50ep_512_aG_wo_slice.tf/5--0.2843-0.6801-0.9790-0.2944-0.6807-0.9741.pb/assets\n"
     ]
    },
    {
     "name": "stdout",
     "output_type": "stream",
     "text": [
      "Model saved to /visuworks/Blindless_AIFFELTON/Ablation Study/Dense_Unet/model_parameters/dense_unet_50ep_512_aG_wo_slice.tf/5--0.2843-0.6801-0.9790-0.2944-0.6807-0.9741.pb\n",
      "540/540 [==============================] - 238s 441ms/step - loss: 0.2843 - sensitivity: 0.6801 - specificity: 0.9790 - accuracy: 0.9601 - val_loss: 0.2944 - val_sensitivity: 0.6807 - val_specificity: 0.9741 - val_accuracy: 0.9568\n",
      "\n",
      "Epoch 00006: WeightDecayScheduler setting learning rate to 9.999401349268737e-05.\n",
      "Epoch 6/50\n",
      "540/540 [==============================] - ETA: 0s - loss: 0.2682 - sensitivity: 0.6950 - specificity: 0.9796 - accuracy: 0.9614INFO:tensorflow:Assets written to: /visuworks/Blindless_AIFFELTON/Ablation Study/Dense_Unet/model_parameters/dense_unet_50ep_512_aG_wo_slice.tf/6--0.2682-0.6950-0.9796-0.2950-0.6131-0.9847.pb/assets\n"
     ]
    },
    {
     "name": "stderr",
     "output_type": "stream",
     "text": [
      "INFO:tensorflow:Assets written to: /visuworks/Blindless_AIFFELTON/Ablation Study/Dense_Unet/model_parameters/dense_unet_50ep_512_aG_wo_slice.tf/6--0.2682-0.6950-0.9796-0.2950-0.6131-0.9847.pb/assets\n"
     ]
    },
    {
     "name": "stdout",
     "output_type": "stream",
     "text": [
      "Model saved to /visuworks/Blindless_AIFFELTON/Ablation Study/Dense_Unet/model_parameters/dense_unet_50ep_512_aG_wo_slice.tf/6--0.2682-0.6950-0.9796-0.2950-0.6131-0.9847.pb\n",
      "540/540 [==============================] - 239s 443ms/step - loss: 0.2682 - sensitivity: 0.6950 - specificity: 0.9796 - accuracy: 0.9614 - val_loss: 0.2950 - val_sensitivity: 0.6131 - val_specificity: 0.9847 - val_accuracy: 0.9629\n",
      "\n",
      "Epoch 00007: WeightDecayScheduler setting learning rate to 9.999301669646229e-05.\n",
      "Epoch 7/50\n",
      "540/540 [==============================] - ETA: 0s - loss: 0.2724 - sensitivity: 0.6908 - specificity: 0.9797 - accuracy: 0.9616INFO:tensorflow:Assets written to: /visuworks/Blindless_AIFFELTON/Ablation Study/Dense_Unet/model_parameters/dense_unet_50ep_512_aG_wo_slice.tf/7--0.2724-0.6908-0.9797-0.2824-0.7089-0.9728.pb/assets\n"
     ]
    },
    {
     "name": "stderr",
     "output_type": "stream",
     "text": [
      "INFO:tensorflow:Assets written to: /visuworks/Blindless_AIFFELTON/Ablation Study/Dense_Unet/model_parameters/dense_unet_50ep_512_aG_wo_slice.tf/7--0.2724-0.6908-0.9797-0.2824-0.7089-0.9728.pb/assets\n"
     ]
    },
    {
     "name": "stdout",
     "output_type": "stream",
     "text": [
      "Model saved to /visuworks/Blindless_AIFFELTON/Ablation Study/Dense_Unet/model_parameters/dense_unet_50ep_512_aG_wo_slice.tf/7--0.2724-0.6908-0.9797-0.2824-0.7089-0.9728.pb\n",
      "540/540 [==============================] - 244s 452ms/step - loss: 0.2724 - sensitivity: 0.6908 - specificity: 0.9797 - accuracy: 0.9616 - val_loss: 0.2824 - val_sensitivity: 0.7089 - val_specificity: 0.9728 - val_accuracy: 0.9579\n",
      "\n",
      "Epoch 00008: WeightDecayScheduler setting learning rate to 9.999201990023722e-05.\n",
      "Epoch 8/50\n",
      "540/540 [==============================] - ETA: 0s - loss: 0.2665 - sensitivity: 0.6972 - specificity: 0.9796 - accuracy: 0.9611INFO:tensorflow:Assets written to: /visuworks/Blindless_AIFFELTON/Ablation Study/Dense_Unet/model_parameters/dense_unet_50ep_512_aG_wo_slice.tf/8--0.2665-0.6972-0.9796-0.2963-0.7245-0.9682.pb/assets\n"
     ]
    },
    {
     "name": "stderr",
     "output_type": "stream",
     "text": [
      "INFO:tensorflow:Assets written to: /visuworks/Blindless_AIFFELTON/Ablation Study/Dense_Unet/model_parameters/dense_unet_50ep_512_aG_wo_slice.tf/8--0.2665-0.6972-0.9796-0.2963-0.7245-0.9682.pb/assets\n"
     ]
    },
    {
     "name": "stdout",
     "output_type": "stream",
     "text": [
      "Model saved to /visuworks/Blindless_AIFFELTON/Ablation Study/Dense_Unet/model_parameters/dense_unet_50ep_512_aG_wo_slice.tf/8--0.2665-0.6972-0.9796-0.2963-0.7245-0.9682.pb\n",
      "540/540 [==============================] - 231s 429ms/step - loss: 0.2665 - sensitivity: 0.6972 - specificity: 0.9796 - accuracy: 0.9611 - val_loss: 0.2963 - val_sensitivity: 0.7245 - val_specificity: 0.9682 - val_accuracy: 0.9549\n",
      "\n",
      "Epoch 00009: WeightDecayScheduler setting learning rate to 9.999102310401214e-05.\n",
      "Epoch 9/50\n",
      "540/540 [==============================] - ETA: 0s - loss: 0.2685 - sensitivity: 0.6880 - specificity: 0.9808 - accuracy: 0.9625INFO:tensorflow:Assets written to: /visuworks/Blindless_AIFFELTON/Ablation Study/Dense_Unet/model_parameters/dense_unet_50ep_512_aG_wo_slice.tf/9--0.2685-0.6880-0.9808-0.2806-0.6910-0.9751.pb/assets\n"
     ]
    },
    {
     "name": "stderr",
     "output_type": "stream",
     "text": [
      "INFO:tensorflow:Assets written to: /visuworks/Blindless_AIFFELTON/Ablation Study/Dense_Unet/model_parameters/dense_unet_50ep_512_aG_wo_slice.tf/9--0.2685-0.6880-0.9808-0.2806-0.6910-0.9751.pb/assets\n"
     ]
    },
    {
     "name": "stdout",
     "output_type": "stream",
     "text": [
      "Model saved to /visuworks/Blindless_AIFFELTON/Ablation Study/Dense_Unet/model_parameters/dense_unet_50ep_512_aG_wo_slice.tf/9--0.2685-0.6880-0.9808-0.2806-0.6910-0.9751.pb\n",
      "540/540 [==============================] - 247s 457ms/step - loss: 0.2685 - sensitivity: 0.6880 - specificity: 0.9808 - accuracy: 0.9625 - val_loss: 0.2806 - val_sensitivity: 0.6910 - val_specificity: 0.9751 - val_accuracy: 0.9577\n",
      "\n",
      "Epoch 00010: WeightDecayScheduler setting learning rate to 9.999002630778705e-05.\n",
      "Epoch 10/50\n",
      "540/540 [==============================] - ETA: 0s - loss: 0.2570 - sensitivity: 0.7002 - specificity: 0.9813 - accuracy: 0.9637INFO:tensorflow:Assets written to: /visuworks/Blindless_AIFFELTON/Ablation Study/Dense_Unet/model_parameters/dense_unet_50ep_512_aG_wo_slice.tf/10--0.2570-0.7002-0.9813-0.2956-0.6338-0.9819.pb/assets\n"
     ]
    },
    {
     "name": "stderr",
     "output_type": "stream",
     "text": [
      "INFO:tensorflow:Assets written to: /visuworks/Blindless_AIFFELTON/Ablation Study/Dense_Unet/model_parameters/dense_unet_50ep_512_aG_wo_slice.tf/10--0.2570-0.7002-0.9813-0.2956-0.6338-0.9819.pb/assets\n"
     ]
    },
    {
     "name": "stdout",
     "output_type": "stream",
     "text": [
      "Model saved to /visuworks/Blindless_AIFFELTON/Ablation Study/Dense_Unet/model_parameters/dense_unet_50ep_512_aG_wo_slice.tf/10--0.2570-0.7002-0.9813-0.2956-0.6338-0.9819.pb\n",
      "540/540 [==============================] - 241s 447ms/step - loss: 0.2570 - sensitivity: 0.7002 - specificity: 0.9813 - accuracy: 0.9637 - val_loss: 0.2956 - val_sensitivity: 0.6338 - val_specificity: 0.9819 - val_accuracy: 0.9623\n",
      "\n",
      "Epoch 00011: WeightDecayScheduler setting learning rate to 9.998902951156197e-05.\n",
      "Epoch 11/50\n",
      "540/540 [==============================] - ETA: 0s - loss: 0.2553 - sensitivity: 0.7020 - specificity: 0.9815 - accuracy: 0.9642INFO:tensorflow:Assets written to: /visuworks/Blindless_AIFFELTON/Ablation Study/Dense_Unet/model_parameters/dense_unet_50ep_512_aG_wo_slice.tf/11--0.2553-0.7020-0.9815-0.2818-0.7197-0.9724.pb/assets\n"
     ]
    },
    {
     "name": "stderr",
     "output_type": "stream",
     "text": [
      "INFO:tensorflow:Assets written to: /visuworks/Blindless_AIFFELTON/Ablation Study/Dense_Unet/model_parameters/dense_unet_50ep_512_aG_wo_slice.tf/11--0.2553-0.7020-0.9815-0.2818-0.7197-0.9724.pb/assets\n"
     ]
    },
    {
     "name": "stdout",
     "output_type": "stream",
     "text": [
      "Model saved to /visuworks/Blindless_AIFFELTON/Ablation Study/Dense_Unet/model_parameters/dense_unet_50ep_512_aG_wo_slice.tf/11--0.2553-0.7020-0.9815-0.2818-0.7197-0.9724.pb\n",
      "540/540 [==============================] - 247s 457ms/step - loss: 0.2553 - sensitivity: 0.7020 - specificity: 0.9815 - accuracy: 0.9642 - val_loss: 0.2818 - val_sensitivity: 0.7197 - val_specificity: 0.9724 - val_accuracy: 0.9586\n",
      "\n",
      "Epoch 00012: WeightDecayScheduler setting learning rate to 9.998803271533689e-05.\n",
      "Epoch 12/50\n",
      "540/540 [==============================] - ETA: 0s - loss: 0.2567 - sensitivity: 0.7036 - specificity: 0.9813 - accuracy: 0.9640INFO:tensorflow:Assets written to: /visuworks/Blindless_AIFFELTON/Ablation Study/Dense_Unet/model_parameters/dense_unet_50ep_512_aG_wo_slice.tf/12--0.2567-0.7036-0.9813-0.2662-0.6714-0.9822.pb/assets\n"
     ]
    },
    {
     "name": "stderr",
     "output_type": "stream",
     "text": [
      "INFO:tensorflow:Assets written to: /visuworks/Blindless_AIFFELTON/Ablation Study/Dense_Unet/model_parameters/dense_unet_50ep_512_aG_wo_slice.tf/12--0.2567-0.7036-0.9813-0.2662-0.6714-0.9822.pb/assets\n"
     ]
    },
    {
     "name": "stdout",
     "output_type": "stream",
     "text": [
      "Model saved to /visuworks/Blindless_AIFFELTON/Ablation Study/Dense_Unet/model_parameters/dense_unet_50ep_512_aG_wo_slice.tf/12--0.2567-0.7036-0.9813-0.2662-0.6714-0.9822.pb\n",
      "540/540 [==============================] - 242s 449ms/step - loss: 0.2567 - sensitivity: 0.7036 - specificity: 0.9813 - accuracy: 0.9640 - val_loss: 0.2662 - val_sensitivity: 0.6714 - val_specificity: 0.9822 - val_accuracy: 0.9633\n",
      "\n",
      "Epoch 00013: WeightDecayScheduler setting learning rate to 9.99870359191118e-05.\n",
      "Epoch 13/50\n",
      "540/540 [==============================] - ETA: 0s - loss: 0.2489 - sensitivity: 0.7082 - specificity: 0.9822 - accuracy: 0.9648INFO:tensorflow:Assets written to: /visuworks/Blindless_AIFFELTON/Ablation Study/Dense_Unet/model_parameters/dense_unet_50ep_512_aG_wo_slice.tf/13--0.2489-0.7082-0.9822-0.2704-0.7171-0.9745.pb/assets\n"
     ]
    },
    {
     "name": "stderr",
     "output_type": "stream",
     "text": [
      "INFO:tensorflow:Assets written to: /visuworks/Blindless_AIFFELTON/Ablation Study/Dense_Unet/model_parameters/dense_unet_50ep_512_aG_wo_slice.tf/13--0.2489-0.7082-0.9822-0.2704-0.7171-0.9745.pb/assets\n"
     ]
    },
    {
     "name": "stdout",
     "output_type": "stream",
     "text": [
      "Model saved to /visuworks/Blindless_AIFFELTON/Ablation Study/Dense_Unet/model_parameters/dense_unet_50ep_512_aG_wo_slice.tf/13--0.2489-0.7082-0.9822-0.2704-0.7171-0.9745.pb\n",
      "540/540 [==============================] - 244s 453ms/step - loss: 0.2489 - sensitivity: 0.7082 - specificity: 0.9822 - accuracy: 0.9648 - val_loss: 0.2704 - val_sensitivity: 0.7171 - val_specificity: 0.9745 - val_accuracy: 0.9595\n",
      "\n",
      "Epoch 00014: WeightDecayScheduler setting learning rate to 9.998603912288672e-05.\n",
      "Epoch 14/50\n",
      "540/540 [==============================] - ETA: 0s - loss: 0.2541 - sensitivity: 0.7043 - specificity: 0.9824 - accuracy: 0.9652INFO:tensorflow:Assets written to: /visuworks/Blindless_AIFFELTON/Ablation Study/Dense_Unet/model_parameters/dense_unet_50ep_512_aG_wo_slice.tf/14--0.2541-0.7043-0.9824-0.2737-0.7079-0.9742.pb/assets\n"
     ]
    },
    {
     "name": "stderr",
     "output_type": "stream",
     "text": [
      "INFO:tensorflow:Assets written to: /visuworks/Blindless_AIFFELTON/Ablation Study/Dense_Unet/model_parameters/dense_unet_50ep_512_aG_wo_slice.tf/14--0.2541-0.7043-0.9824-0.2737-0.7079-0.9742.pb/assets\n"
     ]
    },
    {
     "name": "stdout",
     "output_type": "stream",
     "text": [
      "Model saved to /visuworks/Blindless_AIFFELTON/Ablation Study/Dense_Unet/model_parameters/dense_unet_50ep_512_aG_wo_slice.tf/14--0.2541-0.7043-0.9824-0.2737-0.7079-0.9742.pb\n",
      "540/540 [==============================] - 237s 438ms/step - loss: 0.2541 - sensitivity: 0.7043 - specificity: 0.9824 - accuracy: 0.9652 - val_loss: 0.2737 - val_sensitivity: 0.7079 - val_specificity: 0.9742 - val_accuracy: 0.9592\n",
      "\n",
      "Epoch 00015: WeightDecayScheduler setting learning rate to 9.998504232666165e-05.\n",
      "Epoch 15/50\n",
      "540/540 [==============================] - ETA: 0s - loss: 0.2458 - sensitivity: 0.7125 - specificity: 0.9820 - accuracy: 0.9650INFO:tensorflow:Assets written to: /visuworks/Blindless_AIFFELTON/Ablation Study/Dense_Unet/model_parameters/dense_unet_50ep_512_aG_wo_slice.tf/15--0.2458-0.7125-0.9820-0.2633-0.6986-0.9784.pb/assets\n"
     ]
    },
    {
     "name": "stderr",
     "output_type": "stream",
     "text": [
      "INFO:tensorflow:Assets written to: /visuworks/Blindless_AIFFELTON/Ablation Study/Dense_Unet/model_parameters/dense_unet_50ep_512_aG_wo_slice.tf/15--0.2458-0.7125-0.9820-0.2633-0.6986-0.9784.pb/assets\n"
     ]
    },
    {
     "name": "stdout",
     "output_type": "stream",
     "text": [
      "Model saved to /visuworks/Blindless_AIFFELTON/Ablation Study/Dense_Unet/model_parameters/dense_unet_50ep_512_aG_wo_slice.tf/15--0.2458-0.7125-0.9820-0.2633-0.6986-0.9784.pb\n",
      "540/540 [==============================] - 239s 444ms/step - loss: 0.2458 - sensitivity: 0.7125 - specificity: 0.9820 - accuracy: 0.9650 - val_loss: 0.2633 - val_sensitivity: 0.6986 - val_specificity: 0.9784 - val_accuracy: 0.9622\n",
      "\n",
      "Epoch 00016: WeightDecayScheduler setting learning rate to 9.998404553043657e-05.\n",
      "Epoch 16/50\n",
      "540/540 [==============================] - ETA: 0s - loss: 0.2452 - sensitivity: 0.7109 - specificity: 0.9818 - accuracy: 0.9652INFO:tensorflow:Assets written to: /visuworks/Blindless_AIFFELTON/Ablation Study/Dense_Unet/model_parameters/dense_unet_50ep_512_aG_wo_slice.tf/16--0.2452-0.7109-0.9818-0.2646-0.7249-0.9738.pb/assets\n"
     ]
    },
    {
     "name": "stderr",
     "output_type": "stream",
     "text": [
      "INFO:tensorflow:Assets written to: /visuworks/Blindless_AIFFELTON/Ablation Study/Dense_Unet/model_parameters/dense_unet_50ep_512_aG_wo_slice.tf/16--0.2452-0.7109-0.9818-0.2646-0.7249-0.9738.pb/assets\n"
     ]
    },
    {
     "name": "stdout",
     "output_type": "stream",
     "text": [
      "Model saved to /visuworks/Blindless_AIFFELTON/Ablation Study/Dense_Unet/model_parameters/dense_unet_50ep_512_aG_wo_slice.tf/16--0.2452-0.7109-0.9818-0.2646-0.7249-0.9738.pb\n",
      "540/540 [==============================] - 242s 447ms/step - loss: 0.2452 - sensitivity: 0.7109 - specificity: 0.9818 - accuracy: 0.9652 - val_loss: 0.2646 - val_sensitivity: 0.7249 - val_specificity: 0.9738 - val_accuracy: 0.9595\n",
      "\n",
      "Epoch 00017: WeightDecayScheduler setting learning rate to 9.998304873421149e-05.\n",
      "Epoch 17/50\n",
      "540/540 [==============================] - ETA: 0s - loss: 0.2546 - sensitivity: 0.6994 - specificity: 0.9832 - accuracy: 0.9667INFO:tensorflow:Assets written to: /visuworks/Blindless_AIFFELTON/Ablation Study/Dense_Unet/model_parameters/dense_unet_50ep_512_aG_wo_slice.tf/17--0.2546-0.6994-0.9832-0.2746-0.6855-0.9794.pb/assets\n"
     ]
    },
    {
     "name": "stderr",
     "output_type": "stream",
     "text": [
      "INFO:tensorflow:Assets written to: /visuworks/Blindless_AIFFELTON/Ablation Study/Dense_Unet/model_parameters/dense_unet_50ep_512_aG_wo_slice.tf/17--0.2546-0.6994-0.9832-0.2746-0.6855-0.9794.pb/assets\n"
     ]
    },
    {
     "name": "stdout",
     "output_type": "stream",
     "text": [
      "Model saved to /visuworks/Blindless_AIFFELTON/Ablation Study/Dense_Unet/model_parameters/dense_unet_50ep_512_aG_wo_slice.tf/17--0.2546-0.6994-0.9832-0.2746-0.6855-0.9794.pb\n",
      "540/540 [==============================] - 243s 451ms/step - loss: 0.2546 - sensitivity: 0.6994 - specificity: 0.9832 - accuracy: 0.9667 - val_loss: 0.2746 - val_sensitivity: 0.6855 - val_specificity: 0.9794 - val_accuracy: 0.9629\n",
      "\n",
      "Epoch 00018: WeightDecayScheduler setting learning rate to 9.99820519379864e-05.\n",
      "Epoch 18/50\n",
      "540/540 [==============================] - ETA: 0s - loss: 0.2370 - sensitivity: 0.7158 - specificity: 0.9839 - accuracy: 0.9677INFO:tensorflow:Assets written to: /visuworks/Blindless_AIFFELTON/Ablation Study/Dense_Unet/model_parameters/dense_unet_50ep_512_aG_wo_slice.tf/18--0.2370-0.7158-0.9839-0.2694-0.6820-0.9799.pb/assets\n"
     ]
    },
    {
     "name": "stderr",
     "output_type": "stream",
     "text": [
      "INFO:tensorflow:Assets written to: /visuworks/Blindless_AIFFELTON/Ablation Study/Dense_Unet/model_parameters/dense_unet_50ep_512_aG_wo_slice.tf/18--0.2370-0.7158-0.9839-0.2694-0.6820-0.9799.pb/assets\n"
     ]
    },
    {
     "name": "stdout",
     "output_type": "stream",
     "text": [
      "Model saved to /visuworks/Blindless_AIFFELTON/Ablation Study/Dense_Unet/model_parameters/dense_unet_50ep_512_aG_wo_slice.tf/18--0.2370-0.7158-0.9839-0.2694-0.6820-0.9799.pb\n",
      "540/540 [==============================] - 236s 438ms/step - loss: 0.2370 - sensitivity: 0.7158 - specificity: 0.9839 - accuracy: 0.9677 - val_loss: 0.2694 - val_sensitivity: 0.6820 - val_specificity: 0.9799 - val_accuracy: 0.9629\n",
      "\n",
      "Epoch 00019: WeightDecayScheduler setting learning rate to 9.998105514176132e-05.\n",
      "Epoch 19/50\n",
      "540/540 [==============================] - ETA: 0s - loss: 0.2509 - sensitivity: 0.7016 - specificity: 0.9825 - accuracy: 0.9655INFO:tensorflow:Assets written to: /visuworks/Blindless_AIFFELTON/Ablation Study/Dense_Unet/model_parameters/dense_unet_50ep_512_aG_wo_slice.tf/19--0.2509-0.7016-0.9825-0.2583-0.6848-0.9824.pb/assets\n"
     ]
    },
    {
     "name": "stderr",
     "output_type": "stream",
     "text": [
      "INFO:tensorflow:Assets written to: /visuworks/Blindless_AIFFELTON/Ablation Study/Dense_Unet/model_parameters/dense_unet_50ep_512_aG_wo_slice.tf/19--0.2509-0.7016-0.9825-0.2583-0.6848-0.9824.pb/assets\n"
     ]
    },
    {
     "name": "stdout",
     "output_type": "stream",
     "text": [
      "Model saved to /visuworks/Blindless_AIFFELTON/Ablation Study/Dense_Unet/model_parameters/dense_unet_50ep_512_aG_wo_slice.tf/19--0.2509-0.7016-0.9825-0.2583-0.6848-0.9824.pb\n",
      "540/540 [==============================] - 240s 444ms/step - loss: 0.2509 - sensitivity: 0.7016 - specificity: 0.9825 - accuracy: 0.9655 - val_loss: 0.2583 - val_sensitivity: 0.6848 - val_specificity: 0.9824 - val_accuracy: 0.9654\n",
      "\n",
      "Epoch 00020: WeightDecayScheduler setting learning rate to 9.998005834553624e-05.\n",
      "Epoch 20/50\n",
      "540/540 [==============================] - ETA: 0s - loss: 0.2458 - sensitivity: 0.7079 - specificity: 0.9823 - accuracy: 0.9654INFO:tensorflow:Assets written to: /visuworks/Blindless_AIFFELTON/Ablation Study/Dense_Unet/model_parameters/dense_unet_50ep_512_aG_wo_slice.tf/20--0.2458-0.7079-0.9823-0.2665-0.6555-0.9839.pb/assets\n"
     ]
    },
    {
     "name": "stderr",
     "output_type": "stream",
     "text": [
      "INFO:tensorflow:Assets written to: /visuworks/Blindless_AIFFELTON/Ablation Study/Dense_Unet/model_parameters/dense_unet_50ep_512_aG_wo_slice.tf/20--0.2458-0.7079-0.9823-0.2665-0.6555-0.9839.pb/assets\n"
     ]
    },
    {
     "name": "stdout",
     "output_type": "stream",
     "text": [
      "Model saved to /visuworks/Blindless_AIFFELTON/Ablation Study/Dense_Unet/model_parameters/dense_unet_50ep_512_aG_wo_slice.tf/20--0.2458-0.7079-0.9823-0.2665-0.6555-0.9839.pb\n",
      "540/540 [==============================] - 244s 453ms/step - loss: 0.2458 - sensitivity: 0.7079 - specificity: 0.9823 - accuracy: 0.9654 - val_loss: 0.2665 - val_sensitivity: 0.6555 - val_specificity: 0.9839 - val_accuracy: 0.9644\n",
      "\n",
      "Epoch 00021: WeightDecayScheduler setting learning rate to 9.997906154931117e-05.\n",
      "Epoch 21/50\n",
      "540/540 [==============================] - ETA: 0s - loss: 0.2363 - sensitivity: 0.7176 - specificity: 0.9830 - accuracy: 0.9670INFO:tensorflow:Assets written to: /visuworks/Blindless_AIFFELTON/Ablation Study/Dense_Unet/model_parameters/dense_unet_50ep_512_aG_wo_slice.tf/21--0.2363-0.7176-0.9830-0.2620-0.6788-0.9812.pb/assets\n"
     ]
    },
    {
     "name": "stderr",
     "output_type": "stream",
     "text": [
      "INFO:tensorflow:Assets written to: /visuworks/Blindless_AIFFELTON/Ablation Study/Dense_Unet/model_parameters/dense_unet_50ep_512_aG_wo_slice.tf/21--0.2363-0.7176-0.9830-0.2620-0.6788-0.9812.pb/assets\n"
     ]
    },
    {
     "name": "stdout",
     "output_type": "stream",
     "text": [
      "Model saved to /visuworks/Blindless_AIFFELTON/Ablation Study/Dense_Unet/model_parameters/dense_unet_50ep_512_aG_wo_slice.tf/21--0.2363-0.7176-0.9830-0.2620-0.6788-0.9812.pb\n",
      "540/540 [==============================] - 240s 445ms/step - loss: 0.2363 - sensitivity: 0.7176 - specificity: 0.9830 - accuracy: 0.9670 - val_loss: 0.2620 - val_sensitivity: 0.6788 - val_specificity: 0.9812 - val_accuracy: 0.9637\n",
      "\n",
      "Epoch 00022: WeightDecayScheduler setting learning rate to 9.997806475308608e-05.\n",
      "Epoch 22/50\n",
      "540/540 [==============================] - ETA: 0s - loss: 0.2418 - sensitivity: 0.7131 - specificity: 0.9822 - accuracy: 0.9656INFO:tensorflow:Assets written to: /visuworks/Blindless_AIFFELTON/Ablation Study/Dense_Unet/model_parameters/dense_unet_50ep_512_aG_wo_slice.tf/22--0.2418-0.7131-0.9822-0.2644-0.6689-0.9840.pb/assets\n"
     ]
    },
    {
     "name": "stderr",
     "output_type": "stream",
     "text": [
      "INFO:tensorflow:Assets written to: /visuworks/Blindless_AIFFELTON/Ablation Study/Dense_Unet/model_parameters/dense_unet_50ep_512_aG_wo_slice.tf/22--0.2418-0.7131-0.9822-0.2644-0.6689-0.9840.pb/assets\n"
     ]
    },
    {
     "name": "stdout",
     "output_type": "stream",
     "text": [
      "Model saved to /visuworks/Blindless_AIFFELTON/Ablation Study/Dense_Unet/model_parameters/dense_unet_50ep_512_aG_wo_slice.tf/22--0.2418-0.7131-0.9822-0.2644-0.6689-0.9840.pb\n",
      "540/540 [==============================] - 229s 425ms/step - loss: 0.2418 - sensitivity: 0.7131 - specificity: 0.9822 - accuracy: 0.9656 - val_loss: 0.2644 - val_sensitivity: 0.6689 - val_specificity: 0.9840 - val_accuracy: 0.9658\n",
      "\n",
      "Epoch 00023: WeightDecayScheduler setting learning rate to 9.9977067956861e-05.\n",
      "Epoch 23/50\n",
      "540/540 [==============================] - ETA: 0s - loss: 0.2331 - sensitivity: 0.7187 - specificity: 0.9837 - accuracy: 0.9677INFO:tensorflow:Assets written to: /visuworks/Blindless_AIFFELTON/Ablation Study/Dense_Unet/model_parameters/dense_unet_50ep_512_aG_wo_slice.tf/23--0.2331-0.7187-0.9837-0.2546-0.7299-0.9769.pb/assets\n"
     ]
    },
    {
     "name": "stderr",
     "output_type": "stream",
     "text": [
      "INFO:tensorflow:Assets written to: /visuworks/Blindless_AIFFELTON/Ablation Study/Dense_Unet/model_parameters/dense_unet_50ep_512_aG_wo_slice.tf/23--0.2331-0.7187-0.9837-0.2546-0.7299-0.9769.pb/assets\n"
     ]
    },
    {
     "name": "stdout",
     "output_type": "stream",
     "text": [
      "Model saved to /visuworks/Blindless_AIFFELTON/Ablation Study/Dense_Unet/model_parameters/dense_unet_50ep_512_aG_wo_slice.tf/23--0.2331-0.7187-0.9837-0.2546-0.7299-0.9769.pb\n",
      "540/540 [==============================] - 246s 455ms/step - loss: 0.2331 - sensitivity: 0.7187 - specificity: 0.9837 - accuracy: 0.9677 - val_loss: 0.2546 - val_sensitivity: 0.7299 - val_specificity: 0.9769 - val_accuracy: 0.9627\n",
      "\n",
      "Epoch 00024: WeightDecayScheduler setting learning rate to 9.997607116063592e-05.\n",
      "Epoch 24/50\n",
      "540/540 [==============================] - ETA: 0s - loss: 0.2362 - sensitivity: 0.7170 - specificity: 0.9834 - accuracy: 0.9674INFO:tensorflow:Assets written to: /visuworks/Blindless_AIFFELTON/Ablation Study/Dense_Unet/model_parameters/dense_unet_50ep_512_aG_wo_slice.tf/24--0.2362-0.7170-0.9834-0.2597-0.6743-0.9839.pb/assets\n"
     ]
    },
    {
     "name": "stderr",
     "output_type": "stream",
     "text": [
      "INFO:tensorflow:Assets written to: /visuworks/Blindless_AIFFELTON/Ablation Study/Dense_Unet/model_parameters/dense_unet_50ep_512_aG_wo_slice.tf/24--0.2362-0.7170-0.9834-0.2597-0.6743-0.9839.pb/assets\n"
     ]
    },
    {
     "name": "stdout",
     "output_type": "stream",
     "text": [
      "Model saved to /visuworks/Blindless_AIFFELTON/Ablation Study/Dense_Unet/model_parameters/dense_unet_50ep_512_aG_wo_slice.tf/24--0.2362-0.7170-0.9834-0.2597-0.6743-0.9839.pb\n",
      "540/540 [==============================] - 244s 452ms/step - loss: 0.2362 - sensitivity: 0.7170 - specificity: 0.9834 - accuracy: 0.9674 - val_loss: 0.2597 - val_sensitivity: 0.6743 - val_specificity: 0.9839 - val_accuracy: 0.9659\n",
      "\n",
      "Epoch 00025: WeightDecayScheduler setting learning rate to 9.997507436441083e-05.\n",
      "Epoch 25/50\n",
      "540/540 [==============================] - ETA: 0s - loss: 0.2345 - sensitivity: 0.7184 - specificity: 0.9837 - accuracy: 0.9675INFO:tensorflow:Assets written to: /visuworks/Blindless_AIFFELTON/Ablation Study/Dense_Unet/model_parameters/dense_unet_50ep_512_aG_wo_slice.tf/25--0.2345-0.7184-0.9837-0.2612-0.6849-0.9819.pb/assets\n"
     ]
    },
    {
     "name": "stderr",
     "output_type": "stream",
     "text": [
      "INFO:tensorflow:Assets written to: /visuworks/Blindless_AIFFELTON/Ablation Study/Dense_Unet/model_parameters/dense_unet_50ep_512_aG_wo_slice.tf/25--0.2345-0.7184-0.9837-0.2612-0.6849-0.9819.pb/assets\n"
     ]
    },
    {
     "name": "stdout",
     "output_type": "stream",
     "text": [
      "Model saved to /visuworks/Blindless_AIFFELTON/Ablation Study/Dense_Unet/model_parameters/dense_unet_50ep_512_aG_wo_slice.tf/25--0.2345-0.7184-0.9837-0.2612-0.6849-0.9819.pb\n",
      "540/540 [==============================] - 244s 452ms/step - loss: 0.2345 - sensitivity: 0.7184 - specificity: 0.9837 - accuracy: 0.9675 - val_loss: 0.2612 - val_sensitivity: 0.6849 - val_specificity: 0.9819 - val_accuracy: 0.9654\n",
      "\n",
      "Epoch 00026: WeightDecayScheduler setting learning rate to 9.997407756818575e-05.\n",
      "Epoch 26/50\n",
      "540/540 [==============================] - ETA: 0s - loss: 0.2285 - sensitivity: 0.7234 - specificity: 0.9832 - accuracy: 0.9672INFO:tensorflow:Assets written to: /visuworks/Blindless_AIFFELTON/Ablation Study/Dense_Unet/model_parameters/dense_unet_50ep_512_aG_wo_slice.tf/26--0.2285-0.7234-0.9832-0.2562-0.6692-0.9843.pb/assets\n"
     ]
    },
    {
     "name": "stderr",
     "output_type": "stream",
     "text": [
      "INFO:tensorflow:Assets written to: /visuworks/Blindless_AIFFELTON/Ablation Study/Dense_Unet/model_parameters/dense_unet_50ep_512_aG_wo_slice.tf/26--0.2285-0.7234-0.9832-0.2562-0.6692-0.9843.pb/assets\n"
     ]
    },
    {
     "name": "stdout",
     "output_type": "stream",
     "text": [
      "Model saved to /visuworks/Blindless_AIFFELTON/Ablation Study/Dense_Unet/model_parameters/dense_unet_50ep_512_aG_wo_slice.tf/26--0.2285-0.7234-0.9832-0.2562-0.6692-0.9843.pb\n",
      "540/540 [==============================] - 246s 456ms/step - loss: 0.2285 - sensitivity: 0.7234 - specificity: 0.9832 - accuracy: 0.9672 - val_loss: 0.2562 - val_sensitivity: 0.6692 - val_specificity: 0.9843 - val_accuracy: 0.9661\n",
      "\n",
      "Epoch 00027: WeightDecayScheduler setting learning rate to 9.997308077196067e-05.\n",
      "Epoch 27/50\n",
      "540/540 [==============================] - ETA: 0s - loss: 0.2322 - sensitivity: 0.7221 - specificity: 0.9833 - accuracy: 0.9675INFO:tensorflow:Assets written to: /visuworks/Blindless_AIFFELTON/Ablation Study/Dense_Unet/model_parameters/dense_unet_50ep_512_aG_wo_slice.tf/27--0.2322-0.7221-0.9833-0.2401-0.6903-0.9845.pb/assets\n"
     ]
    },
    {
     "name": "stderr",
     "output_type": "stream",
     "text": [
      "INFO:tensorflow:Assets written to: /visuworks/Blindless_AIFFELTON/Ablation Study/Dense_Unet/model_parameters/dense_unet_50ep_512_aG_wo_slice.tf/27--0.2322-0.7221-0.9833-0.2401-0.6903-0.9845.pb/assets\n"
     ]
    },
    {
     "name": "stdout",
     "output_type": "stream",
     "text": [
      "Model saved to /visuworks/Blindless_AIFFELTON/Ablation Study/Dense_Unet/model_parameters/dense_unet_50ep_512_aG_wo_slice.tf/27--0.2322-0.7221-0.9833-0.2401-0.6903-0.9845.pb\n",
      "540/540 [==============================] - 235s 435ms/step - loss: 0.2322 - sensitivity: 0.7221 - specificity: 0.9833 - accuracy: 0.9675 - val_loss: 0.2401 - val_sensitivity: 0.6903 - val_specificity: 0.9845 - val_accuracy: 0.9667\n",
      "\n",
      "Epoch 00028: WeightDecayScheduler setting learning rate to 9.99720839757356e-05.\n",
      "Epoch 28/50\n",
      "540/540 [==============================] - ETA: 0s - loss: 0.2270 - sensitivity: 0.7290 - specificity: 0.9836 - accuracy: 0.9684INFO:tensorflow:Assets written to: /visuworks/Blindless_AIFFELTON/Ablation Study/Dense_Unet/model_parameters/dense_unet_50ep_512_aG_wo_slice.tf/28--0.2270-0.7290-0.9836-0.2613-0.6644-0.9835.pb/assets\n"
     ]
    },
    {
     "name": "stderr",
     "output_type": "stream",
     "text": [
      "INFO:tensorflow:Assets written to: /visuworks/Blindless_AIFFELTON/Ablation Study/Dense_Unet/model_parameters/dense_unet_50ep_512_aG_wo_slice.tf/28--0.2270-0.7290-0.9836-0.2613-0.6644-0.9835.pb/assets\n"
     ]
    },
    {
     "name": "stdout",
     "output_type": "stream",
     "text": [
      "Model saved to /visuworks/Blindless_AIFFELTON/Ablation Study/Dense_Unet/model_parameters/dense_unet_50ep_512_aG_wo_slice.tf/28--0.2270-0.7290-0.9836-0.2613-0.6644-0.9835.pb\n",
      "540/540 [==============================] - 248s 459ms/step - loss: 0.2270 - sensitivity: 0.7290 - specificity: 0.9836 - accuracy: 0.9684 - val_loss: 0.2613 - val_sensitivity: 0.6644 - val_specificity: 0.9835 - val_accuracy: 0.9646\n",
      "\n",
      "Epoch 00029: WeightDecayScheduler setting learning rate to 9.997108717951051e-05.\n",
      "Epoch 29/50\n",
      "540/540 [==============================] - ETA: 0s - loss: 0.2310 - sensitivity: 0.7207 - specificity: 0.9844 - accuracy: 0.9688INFO:tensorflow:Assets written to: /visuworks/Blindless_AIFFELTON/Ablation Study/Dense_Unet/model_parameters/dense_unet_50ep_512_aG_wo_slice.tf/29--0.2310-0.7207-0.9844-0.2581-0.6908-0.9810.pb/assets\n"
     ]
    },
    {
     "name": "stderr",
     "output_type": "stream",
     "text": [
      "INFO:tensorflow:Assets written to: /visuworks/Blindless_AIFFELTON/Ablation Study/Dense_Unet/model_parameters/dense_unet_50ep_512_aG_wo_slice.tf/29--0.2310-0.7207-0.9844-0.2581-0.6908-0.9810.pb/assets\n"
     ]
    },
    {
     "name": "stdout",
     "output_type": "stream",
     "text": [
      "Model saved to /visuworks/Blindless_AIFFELTON/Ablation Study/Dense_Unet/model_parameters/dense_unet_50ep_512_aG_wo_slice.tf/29--0.2310-0.7207-0.9844-0.2581-0.6908-0.9810.pb\n",
      "540/540 [==============================] - 242s 448ms/step - loss: 0.2310 - sensitivity: 0.7207 - specificity: 0.9844 - accuracy: 0.9688 - val_loss: 0.2581 - val_sensitivity: 0.6908 - val_specificity: 0.9810 - val_accuracy: 0.9640\n",
      "\n",
      "Epoch 00030: WeightDecayScheduler setting learning rate to 9.997009038328543e-05.\n",
      "Epoch 30/50\n",
      "540/540 [==============================] - ETA: 0s - loss: 0.2191 - sensitivity: 0.7337 - specificity: 0.9829 - accuracy: 0.9668INFO:tensorflow:Assets written to: /visuworks/Blindless_AIFFELTON/Ablation Study/Dense_Unet/model_parameters/dense_unet_50ep_512_aG_wo_slice.tf/30--0.2191-0.7337-0.9829-0.2692-0.6525-0.9840.pb/assets\n"
     ]
    },
    {
     "name": "stderr",
     "output_type": "stream",
     "text": [
      "INFO:tensorflow:Assets written to: /visuworks/Blindless_AIFFELTON/Ablation Study/Dense_Unet/model_parameters/dense_unet_50ep_512_aG_wo_slice.tf/30--0.2191-0.7337-0.9829-0.2692-0.6525-0.9840.pb/assets\n"
     ]
    },
    {
     "name": "stdout",
     "output_type": "stream",
     "text": [
      "Model saved to /visuworks/Blindless_AIFFELTON/Ablation Study/Dense_Unet/model_parameters/dense_unet_50ep_512_aG_wo_slice.tf/30--0.2191-0.7337-0.9829-0.2692-0.6525-0.9840.pb\n",
      "540/540 [==============================] - 232s 430ms/step - loss: 0.2191 - sensitivity: 0.7337 - specificity: 0.9829 - accuracy: 0.9668 - val_loss: 0.2692 - val_sensitivity: 0.6525 - val_specificity: 0.9840 - val_accuracy: 0.9649\n",
      "\n",
      "Epoch 00031: WeightDecayScheduler setting learning rate to 9.996909358706035e-05.\n",
      "Epoch 31/50\n",
      "540/540 [==============================] - ETA: 0s - loss: 0.2287 - sensitivity: 0.7242 - specificity: 0.9841 - accuracy: 0.9686INFO:tensorflow:Assets written to: /visuworks/Blindless_AIFFELTON/Ablation Study/Dense_Unet/model_parameters/dense_unet_50ep_512_aG_wo_slice.tf/31--0.2287-0.7242-0.9841-0.2648-0.6775-0.9829.pb/assets\n"
     ]
    },
    {
     "name": "stderr",
     "output_type": "stream",
     "text": [
      "INFO:tensorflow:Assets written to: /visuworks/Blindless_AIFFELTON/Ablation Study/Dense_Unet/model_parameters/dense_unet_50ep_512_aG_wo_slice.tf/31--0.2287-0.7242-0.9841-0.2648-0.6775-0.9829.pb/assets\n"
     ]
    },
    {
     "name": "stdout",
     "output_type": "stream",
     "text": [
      "Model saved to /visuworks/Blindless_AIFFELTON/Ablation Study/Dense_Unet/model_parameters/dense_unet_50ep_512_aG_wo_slice.tf/31--0.2287-0.7242-0.9841-0.2648-0.6775-0.9829.pb\n",
      "540/540 [==============================] - 241s 447ms/step - loss: 0.2287 - sensitivity: 0.7242 - specificity: 0.9841 - accuracy: 0.9686 - val_loss: 0.2648 - val_sensitivity: 0.6775 - val_specificity: 0.9829 - val_accuracy: 0.9657\n",
      "\n",
      "Epoch 00032: WeightDecayScheduler setting learning rate to 9.996809679083526e-05.\n",
      "Epoch 32/50\n",
      "540/540 [==============================] - ETA: 0s - loss: 0.2246 - sensitivity: 0.7297 - specificity: 0.9826 - accuracy: 0.9666INFO:tensorflow:Assets written to: /visuworks/Blindless_AIFFELTON/Ablation Study/Dense_Unet/model_parameters/dense_unet_50ep_512_aG_wo_slice.tf/32--0.2246-0.7297-0.9826-0.2507-0.7366-0.9760.pb/assets\n"
     ]
    },
    {
     "name": "stderr",
     "output_type": "stream",
     "text": [
      "INFO:tensorflow:Assets written to: /visuworks/Blindless_AIFFELTON/Ablation Study/Dense_Unet/model_parameters/dense_unet_50ep_512_aG_wo_slice.tf/32--0.2246-0.7297-0.9826-0.2507-0.7366-0.9760.pb/assets\n"
     ]
    },
    {
     "name": "stdout",
     "output_type": "stream",
     "text": [
      "Model saved to /visuworks/Blindless_AIFFELTON/Ablation Study/Dense_Unet/model_parameters/dense_unet_50ep_512_aG_wo_slice.tf/32--0.2246-0.7297-0.9826-0.2507-0.7366-0.9760.pb\n",
      "540/540 [==============================] - 245s 455ms/step - loss: 0.2246 - sensitivity: 0.7297 - specificity: 0.9826 - accuracy: 0.9666 - val_loss: 0.2507 - val_sensitivity: 0.7366 - val_specificity: 0.9760 - val_accuracy: 0.9618\n",
      "\n",
      "Epoch 00033: WeightDecayScheduler setting learning rate to 9.996709999461018e-05.\n",
      "Epoch 33/50\n",
      "540/540 [==============================] - ETA: 0s - loss: 0.2166 - sensitivity: 0.7376 - specificity: 0.9833 - accuracy: 0.9677INFO:tensorflow:Assets written to: /visuworks/Blindless_AIFFELTON/Ablation Study/Dense_Unet/model_parameters/dense_unet_50ep_512_aG_wo_slice.tf/33--0.2166-0.7376-0.9833-0.2598-0.6624-0.9844.pb/assets\n"
     ]
    },
    {
     "name": "stderr",
     "output_type": "stream",
     "text": [
      "INFO:tensorflow:Assets written to: /visuworks/Blindless_AIFFELTON/Ablation Study/Dense_Unet/model_parameters/dense_unet_50ep_512_aG_wo_slice.tf/33--0.2166-0.7376-0.9833-0.2598-0.6624-0.9844.pb/assets\n"
     ]
    },
    {
     "name": "stdout",
     "output_type": "stream",
     "text": [
      "Model saved to /visuworks/Blindless_AIFFELTON/Ablation Study/Dense_Unet/model_parameters/dense_unet_50ep_512_aG_wo_slice.tf/33--0.2166-0.7376-0.9833-0.2598-0.6624-0.9844.pb\n",
      "540/540 [==============================] - 244s 452ms/step - loss: 0.2166 - sensitivity: 0.7376 - specificity: 0.9833 - accuracy: 0.9677 - val_loss: 0.2598 - val_sensitivity: 0.6624 - val_specificity: 0.9844 - val_accuracy: 0.9659\n",
      "\n",
      "Epoch 00034: WeightDecayScheduler setting learning rate to 9.99661031983851e-05.\n",
      "Epoch 34/50\n",
      "540/540 [==============================] - ETA: 0s - loss: 0.2283 - sensitivity: 0.7254 - specificity: 0.9837 - accuracy: 0.9685INFO:tensorflow:Assets written to: /visuworks/Blindless_AIFFELTON/Ablation Study/Dense_Unet/model_parameters/dense_unet_50ep_512_aG_wo_slice.tf/34--0.2283-0.7254-0.9837-0.2413-0.7342-0.9774.pb/assets\n"
     ]
    },
    {
     "name": "stderr",
     "output_type": "stream",
     "text": [
      "INFO:tensorflow:Assets written to: /visuworks/Blindless_AIFFELTON/Ablation Study/Dense_Unet/model_parameters/dense_unet_50ep_512_aG_wo_slice.tf/34--0.2283-0.7254-0.9837-0.2413-0.7342-0.9774.pb/assets\n"
     ]
    },
    {
     "name": "stdout",
     "output_type": "stream",
     "text": [
      "Model saved to /visuworks/Blindless_AIFFELTON/Ablation Study/Dense_Unet/model_parameters/dense_unet_50ep_512_aG_wo_slice.tf/34--0.2283-0.7254-0.9837-0.2413-0.7342-0.9774.pb\n",
      "540/540 [==============================] - 240s 444ms/step - loss: 0.2283 - sensitivity: 0.7254 - specificity: 0.9837 - accuracy: 0.9685 - val_loss: 0.2413 - val_sensitivity: 0.7342 - val_specificity: 0.9774 - val_accuracy: 0.9636\n",
      "\n",
      "Epoch 00035: WeightDecayScheduler setting learning rate to 9.996510640216003e-05.\n",
      "Epoch 35/50\n",
      "540/540 [==============================] - ETA: 0s - loss: 0.2242 - sensitivity: 0.7265 - specificity: 0.9838 - accuracy: 0.9685INFO:tensorflow:Assets written to: /visuworks/Blindless_AIFFELTON/Ablation Study/Dense_Unet/model_parameters/dense_unet_50ep_512_aG_wo_slice.tf/35--0.2242-0.7265-0.9838-0.2655-0.6377-0.9866.pb/assets\n"
     ]
    },
    {
     "name": "stderr",
     "output_type": "stream",
     "text": [
      "INFO:tensorflow:Assets written to: /visuworks/Blindless_AIFFELTON/Ablation Study/Dense_Unet/model_parameters/dense_unet_50ep_512_aG_wo_slice.tf/35--0.2242-0.7265-0.9838-0.2655-0.6377-0.9866.pb/assets\n"
     ]
    },
    {
     "name": "stdout",
     "output_type": "stream",
     "text": [
      "Model saved to /visuworks/Blindless_AIFFELTON/Ablation Study/Dense_Unet/model_parameters/dense_unet_50ep_512_aG_wo_slice.tf/35--0.2242-0.7265-0.9838-0.2655-0.6377-0.9866.pb\n",
      "540/540 [==============================] - 248s 459ms/step - loss: 0.2242 - sensitivity: 0.7265 - specificity: 0.9838 - accuracy: 0.9685 - val_loss: 0.2655 - val_sensitivity: 0.6377 - val_specificity: 0.9866 - val_accuracy: 0.9658\n",
      "\n",
      "Epoch 00036: WeightDecayScheduler setting learning rate to 9.996410960593494e-05.\n",
      "Epoch 36/50\n",
      "540/540 [==============================] - ETA: 0s - loss: 0.2333 - sensitivity: 0.7199 - specificity: 0.9846 - accuracy: 0.9698INFO:tensorflow:Assets written to: /visuworks/Blindless_AIFFELTON/Ablation Study/Dense_Unet/model_parameters/dense_unet_50ep_512_aG_wo_slice.tf/36--0.2333-0.7199-0.9846-0.2567-0.6582-0.9856.pb/assets\n"
     ]
    },
    {
     "name": "stderr",
     "output_type": "stream",
     "text": [
      "INFO:tensorflow:Assets written to: /visuworks/Blindless_AIFFELTON/Ablation Study/Dense_Unet/model_parameters/dense_unet_50ep_512_aG_wo_slice.tf/36--0.2333-0.7199-0.9846-0.2567-0.6582-0.9856.pb/assets\n"
     ]
    },
    {
     "name": "stdout",
     "output_type": "stream",
     "text": [
      "Model saved to /visuworks/Blindless_AIFFELTON/Ablation Study/Dense_Unet/model_parameters/dense_unet_50ep_512_aG_wo_slice.tf/36--0.2333-0.7199-0.9846-0.2567-0.6582-0.9856.pb\n",
      "540/540 [==============================] - 238s 441ms/step - loss: 0.2333 - sensitivity: 0.7199 - specificity: 0.9846 - accuracy: 0.9698 - val_loss: 0.2567 - val_sensitivity: 0.6582 - val_specificity: 0.9856 - val_accuracy: 0.9662\n",
      "\n",
      "Epoch 00037: WeightDecayScheduler setting learning rate to 9.996311280970986e-05.\n",
      "Epoch 37/50\n",
      "540/540 [==============================] - ETA: 0s - loss: 0.2292 - sensitivity: 0.7218 - specificity: 0.9845 - accuracy: 0.9696INFO:tensorflow:Assets written to: /visuworks/Blindless_AIFFELTON/Ablation Study/Dense_Unet/model_parameters/dense_unet_50ep_512_aG_wo_slice.tf/37--0.2292-0.7218-0.9845-0.2626-0.6562-0.9851.pb/assets\n"
     ]
    },
    {
     "name": "stderr",
     "output_type": "stream",
     "text": [
      "INFO:tensorflow:Assets written to: /visuworks/Blindless_AIFFELTON/Ablation Study/Dense_Unet/model_parameters/dense_unet_50ep_512_aG_wo_slice.tf/37--0.2292-0.7218-0.9845-0.2626-0.6562-0.9851.pb/assets\n"
     ]
    },
    {
     "name": "stdout",
     "output_type": "stream",
     "text": [
      "Model saved to /visuworks/Blindless_AIFFELTON/Ablation Study/Dense_Unet/model_parameters/dense_unet_50ep_512_aG_wo_slice.tf/37--0.2292-0.7218-0.9845-0.2626-0.6562-0.9851.pb\n",
      "540/540 [==============================] - 249s 461ms/step - loss: 0.2292 - sensitivity: 0.7218 - specificity: 0.9845 - accuracy: 0.9696 - val_loss: 0.2626 - val_sensitivity: 0.6562 - val_specificity: 0.9851 - val_accuracy: 0.9665\n",
      "\n",
      "Epoch 00038: WeightDecayScheduler setting learning rate to 9.996211601348478e-05.\n",
      "Epoch 38/50\n",
      "540/540 [==============================] - ETA: 0s - loss: 0.2175 - sensitivity: 0.7320 - specificity: 0.9844 - accuracy: 0.9690INFO:tensorflow:Assets written to: /visuworks/Blindless_AIFFELTON/Ablation Study/Dense_Unet/model_parameters/dense_unet_50ep_512_aG_wo_slice.tf/38--0.2175-0.7320-0.9844-0.2610-0.7240-0.9756.pb/assets\n"
     ]
    },
    {
     "name": "stderr",
     "output_type": "stream",
     "text": [
      "INFO:tensorflow:Assets written to: /visuworks/Blindless_AIFFELTON/Ablation Study/Dense_Unet/model_parameters/dense_unet_50ep_512_aG_wo_slice.tf/38--0.2175-0.7320-0.9844-0.2610-0.7240-0.9756.pb/assets\n"
     ]
    },
    {
     "name": "stdout",
     "output_type": "stream",
     "text": [
      "Model saved to /visuworks/Blindless_AIFFELTON/Ablation Study/Dense_Unet/model_parameters/dense_unet_50ep_512_aG_wo_slice.tf/38--0.2175-0.7320-0.9844-0.2610-0.7240-0.9756.pb\n",
      "540/540 [==============================] - 243s 451ms/step - loss: 0.2175 - sensitivity: 0.7320 - specificity: 0.9844 - accuracy: 0.9690 - val_loss: 0.2610 - val_sensitivity: 0.7240 - val_specificity: 0.9756 - val_accuracy: 0.9621\n",
      "\n",
      "Epoch 00039: WeightDecayScheduler setting learning rate to 9.99611192172597e-05.\n",
      "Epoch 39/50\n",
      "540/540 [==============================] - ETA: 0s - loss: 0.2146 - sensitivity: 0.7388 - specificity: 0.9843 - accuracy: 0.9693INFO:tensorflow:Assets written to: /visuworks/Blindless_AIFFELTON/Ablation Study/Dense_Unet/model_parameters/dense_unet_50ep_512_aG_wo_slice.tf/39--0.2146-0.7388-0.9843-0.2594-0.6949-0.9806.pb/assets\n"
     ]
    },
    {
     "name": "stderr",
     "output_type": "stream",
     "text": [
      "INFO:tensorflow:Assets written to: /visuworks/Blindless_AIFFELTON/Ablation Study/Dense_Unet/model_parameters/dense_unet_50ep_512_aG_wo_slice.tf/39--0.2146-0.7388-0.9843-0.2594-0.6949-0.9806.pb/assets\n"
     ]
    },
    {
     "name": "stdout",
     "output_type": "stream",
     "text": [
      "Model saved to /visuworks/Blindless_AIFFELTON/Ablation Study/Dense_Unet/model_parameters/dense_unet_50ep_512_aG_wo_slice.tf/39--0.2146-0.7388-0.9843-0.2594-0.6949-0.9806.pb\n",
      "540/540 [==============================] - 248s 459ms/step - loss: 0.2146 - sensitivity: 0.7388 - specificity: 0.9843 - accuracy: 0.9693 - val_loss: 0.2594 - val_sensitivity: 0.6949 - val_specificity: 0.9806 - val_accuracy: 0.9649\n",
      "\n",
      "Epoch 00040: WeightDecayScheduler setting learning rate to 9.996012242103461e-05.\n",
      "Epoch 40/50\n",
      "540/540 [==============================] - ETA: 0s - loss: 0.2269 - sensitivity: 0.7257 - specificity: 0.9833 - accuracy: 0.9678INFO:tensorflow:Assets written to: /visuworks/Blindless_AIFFELTON/Ablation Study/Dense_Unet/model_parameters/dense_unet_50ep_512_aG_wo_slice.tf/40--0.2269-0.7257-0.9833-0.2653-0.6479-0.9856.pb/assets\n"
     ]
    },
    {
     "name": "stderr",
     "output_type": "stream",
     "text": [
      "INFO:tensorflow:Assets written to: /visuworks/Blindless_AIFFELTON/Ablation Study/Dense_Unet/model_parameters/dense_unet_50ep_512_aG_wo_slice.tf/40--0.2269-0.7257-0.9833-0.2653-0.6479-0.9856.pb/assets\n"
     ]
    },
    {
     "name": "stdout",
     "output_type": "stream",
     "text": [
      "Model saved to /visuworks/Blindless_AIFFELTON/Ablation Study/Dense_Unet/model_parameters/dense_unet_50ep_512_aG_wo_slice.tf/40--0.2269-0.7257-0.9833-0.2653-0.6479-0.9856.pb\n",
      "540/540 [==============================] - 242s 447ms/step - loss: 0.2269 - sensitivity: 0.7257 - specificity: 0.9833 - accuracy: 0.9678 - val_loss: 0.2653 - val_sensitivity: 0.6479 - val_specificity: 0.9856 - val_accuracy: 0.9662\n",
      "\n",
      "Epoch 00041: WeightDecayScheduler setting learning rate to 9.995912562480953e-05.\n",
      "Epoch 41/50\n",
      "540/540 [==============================] - ETA: 0s - loss: 0.2204 - sensitivity: 0.7310 - specificity: 0.9845 - accuracy: 0.9695INFO:tensorflow:Assets written to: /visuworks/Blindless_AIFFELTON/Ablation Study/Dense_Unet/model_parameters/dense_unet_50ep_512_aG_wo_slice.tf/41--0.2204-0.7310-0.9845-0.2511-0.6978-0.9827.pb/assets\n"
     ]
    },
    {
     "name": "stderr",
     "output_type": "stream",
     "text": [
      "INFO:tensorflow:Assets written to: /visuworks/Blindless_AIFFELTON/Ablation Study/Dense_Unet/model_parameters/dense_unet_50ep_512_aG_wo_slice.tf/41--0.2204-0.7310-0.9845-0.2511-0.6978-0.9827.pb/assets\n"
     ]
    },
    {
     "name": "stdout",
     "output_type": "stream",
     "text": [
      "Model saved to /visuworks/Blindless_AIFFELTON/Ablation Study/Dense_Unet/model_parameters/dense_unet_50ep_512_aG_wo_slice.tf/41--0.2204-0.7310-0.9845-0.2511-0.6978-0.9827.pb\n",
      "540/540 [==============================] - 243s 450ms/step - loss: 0.2204 - sensitivity: 0.7310 - specificity: 0.9845 - accuracy: 0.9695 - val_loss: 0.2511 - val_sensitivity: 0.6978 - val_specificity: 0.9827 - val_accuracy: 0.9663\n",
      "\n",
      "Epoch 00042: WeightDecayScheduler setting learning rate to 9.995812882858446e-05.\n",
      "Epoch 42/50\n",
      "540/540 [==============================] - ETA: 0s - loss: 0.2186 - sensitivity: 0.7324 - specificity: 0.9839 - accuracy: 0.9683INFO:tensorflow:Assets written to: /visuworks/Blindless_AIFFELTON/Ablation Study/Dense_Unet/model_parameters/dense_unet_50ep_512_aG_wo_slice.tf/42--0.2186-0.7324-0.9839-0.2441-0.6743-0.9851.pb/assets\n"
     ]
    },
    {
     "name": "stderr",
     "output_type": "stream",
     "text": [
      "INFO:tensorflow:Assets written to: /visuworks/Blindless_AIFFELTON/Ablation Study/Dense_Unet/model_parameters/dense_unet_50ep_512_aG_wo_slice.tf/42--0.2186-0.7324-0.9839-0.2441-0.6743-0.9851.pb/assets\n"
     ]
    },
    {
     "name": "stdout",
     "output_type": "stream",
     "text": [
      "Model saved to /visuworks/Blindless_AIFFELTON/Ablation Study/Dense_Unet/model_parameters/dense_unet_50ep_512_aG_wo_slice.tf/42--0.2186-0.7324-0.9839-0.2441-0.6743-0.9851.pb\n",
      "540/540 [==============================] - 239s 442ms/step - loss: 0.2186 - sensitivity: 0.7324 - specificity: 0.9839 - accuracy: 0.9683 - val_loss: 0.2441 - val_sensitivity: 0.6743 - val_specificity: 0.9851 - val_accuracy: 0.9660\n",
      "\n",
      "Epoch 00043: WeightDecayScheduler setting learning rate to 9.995713203235938e-05.\n",
      "Epoch 43/50\n",
      "540/540 [==============================] - ETA: 0s - loss: 0.2209 - sensitivity: 0.7290 - specificity: 0.9845 - accuracy: 0.9695INFO:tensorflow:Assets written to: /visuworks/Blindless_AIFFELTON/Ablation Study/Dense_Unet/model_parameters/dense_unet_50ep_512_aG_wo_slice.tf/43--0.2209-0.7290-0.9845-0.2507-0.7184-0.9794.pb/assets\n"
     ]
    },
    {
     "name": "stderr",
     "output_type": "stream",
     "text": [
      "INFO:tensorflow:Assets written to: /visuworks/Blindless_AIFFELTON/Ablation Study/Dense_Unet/model_parameters/dense_unet_50ep_512_aG_wo_slice.tf/43--0.2209-0.7290-0.9845-0.2507-0.7184-0.9794.pb/assets\n"
     ]
    },
    {
     "name": "stdout",
     "output_type": "stream",
     "text": [
      "Model saved to /visuworks/Blindless_AIFFELTON/Ablation Study/Dense_Unet/model_parameters/dense_unet_50ep_512_aG_wo_slice.tf/43--0.2209-0.7290-0.9845-0.2507-0.7184-0.9794.pb\n",
      "540/540 [==============================] - 244s 452ms/step - loss: 0.2209 - sensitivity: 0.7290 - specificity: 0.9845 - accuracy: 0.9695 - val_loss: 0.2507 - val_sensitivity: 0.7184 - val_specificity: 0.9794 - val_accuracy: 0.9653\n",
      "\n",
      "Epoch 00044: WeightDecayScheduler setting learning rate to 9.995613523613429e-05.\n",
      "Epoch 44/50\n",
      "540/540 [==============================] - ETA: 0s - loss: 0.2299 - sensitivity: 0.7231 - specificity: 0.9841 - accuracy: 0.9687INFO:tensorflow:Assets written to: /visuworks/Blindless_AIFFELTON/Ablation Study/Dense_Unet/model_parameters/dense_unet_50ep_512_aG_wo_slice.tf/44--0.2299-0.7231-0.9841-0.2463-0.7201-0.9800.pb/assets\n"
     ]
    },
    {
     "name": "stderr",
     "output_type": "stream",
     "text": [
      "INFO:tensorflow:Assets written to: /visuworks/Blindless_AIFFELTON/Ablation Study/Dense_Unet/model_parameters/dense_unet_50ep_512_aG_wo_slice.tf/44--0.2299-0.7231-0.9841-0.2463-0.7201-0.9800.pb/assets\n"
     ]
    },
    {
     "name": "stdout",
     "output_type": "stream",
     "text": [
      "Model saved to /visuworks/Blindless_AIFFELTON/Ablation Study/Dense_Unet/model_parameters/dense_unet_50ep_512_aG_wo_slice.tf/44--0.2299-0.7231-0.9841-0.2463-0.7201-0.9800.pb\n",
      "540/540 [==============================] - 235s 435ms/step - loss: 0.2299 - sensitivity: 0.7231 - specificity: 0.9841 - accuracy: 0.9687 - val_loss: 0.2463 - val_sensitivity: 0.7201 - val_specificity: 0.9800 - val_accuracy: 0.9656\n",
      "\n",
      "Epoch 00045: WeightDecayScheduler setting learning rate to 9.995513843990921e-05.\n",
      "Epoch 45/50\n",
      "540/540 [==============================] - ETA: 0s - loss: 0.2202 - sensitivity: 0.7331 - specificity: 0.9844 - accuracy: 0.9695INFO:tensorflow:Assets written to: /visuworks/Blindless_AIFFELTON/Ablation Study/Dense_Unet/model_parameters/dense_unet_50ep_512_aG_wo_slice.tf/45--0.2202-0.7331-0.9844-0.2450-0.7061-0.9830.pb/assets\n"
     ]
    },
    {
     "name": "stderr",
     "output_type": "stream",
     "text": [
      "INFO:tensorflow:Assets written to: /visuworks/Blindless_AIFFELTON/Ablation Study/Dense_Unet/model_parameters/dense_unet_50ep_512_aG_wo_slice.tf/45--0.2202-0.7331-0.9844-0.2450-0.7061-0.9830.pb/assets\n"
     ]
    },
    {
     "name": "stdout",
     "output_type": "stream",
     "text": [
      "Model saved to /visuworks/Blindless_AIFFELTON/Ablation Study/Dense_Unet/model_parameters/dense_unet_50ep_512_aG_wo_slice.tf/45--0.2202-0.7331-0.9844-0.2450-0.7061-0.9830.pb\n",
      "540/540 [==============================] - 232s 430ms/step - loss: 0.2202 - sensitivity: 0.7331 - specificity: 0.9844 - accuracy: 0.9695 - val_loss: 0.2450 - val_sensitivity: 0.7061 - val_specificity: 0.9830 - val_accuracy: 0.9679\n",
      "\n",
      "Epoch 00046: WeightDecayScheduler setting learning rate to 9.995414164368413e-05.\n",
      "Epoch 46/50\n",
      "540/540 [==============================] - ETA: 0s - loss: 0.2261 - sensitivity: 0.7243 - specificity: 0.9847 - accuracy: 0.9697INFO:tensorflow:Assets written to: /visuworks/Blindless_AIFFELTON/Ablation Study/Dense_Unet/model_parameters/dense_unet_50ep_512_aG_wo_slice.tf/46--0.2261-0.7243-0.9847-0.2509-0.6870-0.9818.pb/assets\n"
     ]
    },
    {
     "name": "stderr",
     "output_type": "stream",
     "text": [
      "INFO:tensorflow:Assets written to: /visuworks/Blindless_AIFFELTON/Ablation Study/Dense_Unet/model_parameters/dense_unet_50ep_512_aG_wo_slice.tf/46--0.2261-0.7243-0.9847-0.2509-0.6870-0.9818.pb/assets\n"
     ]
    },
    {
     "name": "stdout",
     "output_type": "stream",
     "text": [
      "Model saved to /visuworks/Blindless_AIFFELTON/Ablation Study/Dense_Unet/model_parameters/dense_unet_50ep_512_aG_wo_slice.tf/46--0.2261-0.7243-0.9847-0.2509-0.6870-0.9818.pb\n",
      "540/540 [==============================] - 244s 452ms/step - loss: 0.2261 - sensitivity: 0.7243 - specificity: 0.9847 - accuracy: 0.9697 - val_loss: 0.2509 - val_sensitivity: 0.6870 - val_specificity: 0.9818 - val_accuracy: 0.9643\n",
      "\n",
      "Epoch 00047: WeightDecayScheduler setting learning rate to 9.995314484745904e-05.\n",
      "Epoch 47/50\n",
      "540/540 [==============================] - ETA: 0s - loss: 0.2172 - sensitivity: 0.7291 - specificity: 0.9843 - accuracy: 0.9688INFO:tensorflow:Assets written to: /visuworks/Blindless_AIFFELTON/Ablation Study/Dense_Unet/model_parameters/dense_unet_50ep_512_aG_wo_slice.tf/47--0.2172-0.7291-0.9843-0.2457-0.7413-0.9785.pb/assets\n"
     ]
    },
    {
     "name": "stderr",
     "output_type": "stream",
     "text": [
      "INFO:tensorflow:Assets written to: /visuworks/Blindless_AIFFELTON/Ablation Study/Dense_Unet/model_parameters/dense_unet_50ep_512_aG_wo_slice.tf/47--0.2172-0.7291-0.9843-0.2457-0.7413-0.9785.pb/assets\n"
     ]
    },
    {
     "name": "stdout",
     "output_type": "stream",
     "text": [
      "Model saved to /visuworks/Blindless_AIFFELTON/Ablation Study/Dense_Unet/model_parameters/dense_unet_50ep_512_aG_wo_slice.tf/47--0.2172-0.7291-0.9843-0.2457-0.7413-0.9785.pb\n",
      "540/540 [==============================] - 247s 457ms/step - loss: 0.2172 - sensitivity: 0.7291 - specificity: 0.9843 - accuracy: 0.9688 - val_loss: 0.2457 - val_sensitivity: 0.7413 - val_specificity: 0.9785 - val_accuracy: 0.9651\n",
      "\n",
      "Epoch 00048: WeightDecayScheduler setting learning rate to 9.995214805123397e-05.\n",
      "Epoch 48/50\n",
      "540/540 [==============================] - ETA: 0s - loss: 0.2171 - sensitivity: 0.7353 - specificity: 0.9838 - accuracy: 0.9685INFO:tensorflow:Assets written to: /visuworks/Blindless_AIFFELTON/Ablation Study/Dense_Unet/model_parameters/dense_unet_50ep_512_aG_wo_slice.tf/48--0.2171-0.7353-0.9838-0.2347-0.7458-0.9778.pb/assets\n"
     ]
    },
    {
     "name": "stderr",
     "output_type": "stream",
     "text": [
      "INFO:tensorflow:Assets written to: /visuworks/Blindless_AIFFELTON/Ablation Study/Dense_Unet/model_parameters/dense_unet_50ep_512_aG_wo_slice.tf/48--0.2171-0.7353-0.9838-0.2347-0.7458-0.9778.pb/assets\n"
     ]
    },
    {
     "name": "stdout",
     "output_type": "stream",
     "text": [
      "Model saved to /visuworks/Blindless_AIFFELTON/Ablation Study/Dense_Unet/model_parameters/dense_unet_50ep_512_aG_wo_slice.tf/48--0.2171-0.7353-0.9838-0.2347-0.7458-0.9778.pb\n",
      "540/540 [==============================] - 246s 456ms/step - loss: 0.2171 - sensitivity: 0.7353 - specificity: 0.9838 - accuracy: 0.9685 - val_loss: 0.2347 - val_sensitivity: 0.7458 - val_specificity: 0.9778 - val_accuracy: 0.9644\n",
      "\n",
      "Epoch 00049: WeightDecayScheduler setting learning rate to 9.995115125500889e-05.\n",
      "Epoch 49/50\n",
      "540/540 [==============================] - ETA: 0s - loss: 0.2231 - sensitivity: 0.7258 - specificity: 0.9842 - accuracy: 0.9689INFO:tensorflow:Assets written to: /visuworks/Blindless_AIFFELTON/Ablation Study/Dense_Unet/model_parameters/dense_unet_50ep_512_aG_wo_slice.tf/49--0.2231-0.7258-0.9842-0.2606-0.6528-0.9858.pb/assets\n"
     ]
    },
    {
     "name": "stderr",
     "output_type": "stream",
     "text": [
      "INFO:tensorflow:Assets written to: /visuworks/Blindless_AIFFELTON/Ablation Study/Dense_Unet/model_parameters/dense_unet_50ep_512_aG_wo_slice.tf/49--0.2231-0.7258-0.9842-0.2606-0.6528-0.9858.pb/assets\n"
     ]
    },
    {
     "name": "stdout",
     "output_type": "stream",
     "text": [
      "Model saved to /visuworks/Blindless_AIFFELTON/Ablation Study/Dense_Unet/model_parameters/dense_unet_50ep_512_aG_wo_slice.tf/49--0.2231-0.7258-0.9842-0.2606-0.6528-0.9858.pb\n",
      "540/540 [==============================] - 240s 445ms/step - loss: 0.2231 - sensitivity: 0.7258 - specificity: 0.9842 - accuracy: 0.9689 - val_loss: 0.2606 - val_sensitivity: 0.6528 - val_specificity: 0.9858 - val_accuracy: 0.9673\n",
      "\n",
      "Epoch 00050: WeightDecayScheduler setting learning rate to 9.99501544587838e-05.\n",
      "Epoch 50/50\n",
      "540/540 [==============================] - ETA: 0s - loss: 0.2225 - sensitivity: 0.7245 - specificity: 0.9849 - accuracy: 0.9699INFO:tensorflow:Assets written to: /visuworks/Blindless_AIFFELTON/Ablation Study/Dense_Unet/model_parameters/dense_unet_50ep_512_aG_wo_slice.tf/50--0.2225-0.7245-0.9849-0.2489-0.6857-0.9844.pb/assets\n"
     ]
    },
    {
     "name": "stderr",
     "output_type": "stream",
     "text": [
      "INFO:tensorflow:Assets written to: /visuworks/Blindless_AIFFELTON/Ablation Study/Dense_Unet/model_parameters/dense_unet_50ep_512_aG_wo_slice.tf/50--0.2225-0.7245-0.9849-0.2489-0.6857-0.9844.pb/assets\n"
     ]
    },
    {
     "name": "stdout",
     "output_type": "stream",
     "text": [
      "Model saved to /visuworks/Blindless_AIFFELTON/Ablation Study/Dense_Unet/model_parameters/dense_unet_50ep_512_aG_wo_slice.tf/50--0.2225-0.7245-0.9849-0.2489-0.6857-0.9844.pb\n",
      "540/540 [==============================] - 243s 450ms/step - loss: 0.2225 - sensitivity: 0.7245 - specificity: 0.9849 - accuracy: 0.9699 - val_loss: 0.2489 - val_sensitivity: 0.6857 - val_specificity: 0.9844 - val_accuracy: 0.9676\n"
     ]
    }
   ],
   "source": [
    "train.model_train(model,\n",
    "                  epoch = 50,\n",
    "                  train_generator = train_generator,\n",
    "                  test_generator = test_generator,\n",
    "                  model_path = MODEL_PATH,\n",
    "                  history_path = HISTORY_PATH,\n",
    "                  save_every_epoch=True,\n",
    "                  apply_weight_decay=True)"
   ]
  },
  {
   "cell_type": "code",
   "execution_count": 3,
   "metadata": {},
   "outputs": [
    {
     "name": "stdout",
     "output_type": "stream",
     "text": [
      "1번째 epoch 결과\n"
     ]
    },
    {
     "name": "stderr",
     "output_type": "stream",
     "text": [
      "2024-02-15 03:34:54.576238: I external/local_xla/xla/stream_executor/cuda/cuda_executor.cc:901] successful NUMA node read from SysFS had negative value (-1), but there must be at least one NUMA node, so returning NUMA node zero. See more at https://github.com/torvalds/linux/blob/v6.0/Documentation/ABI/testing/sysfs-bus-pci#L344-L355\n",
      "2024-02-15 03:34:54.610996: I external/local_xla/xla/stream_executor/cuda/cuda_executor.cc:901] successful NUMA node read from SysFS had negative value (-1), but there must be at least one NUMA node, so returning NUMA node zero. See more at https://github.com/torvalds/linux/blob/v6.0/Documentation/ABI/testing/sysfs-bus-pci#L344-L355\n",
      "2024-02-15 03:34:54.611209: I external/local_xla/xla/stream_executor/cuda/cuda_executor.cc:901] successful NUMA node read from SysFS had negative value (-1), but there must be at least one NUMA node, so returning NUMA node zero. See more at https://github.com/torvalds/linux/blob/v6.0/Documentation/ABI/testing/sysfs-bus-pci#L344-L355\n",
      "2024-02-15 03:34:54.613228: I external/local_xla/xla/stream_executor/cuda/cuda_executor.cc:901] successful NUMA node read from SysFS had negative value (-1), but there must be at least one NUMA node, so returning NUMA node zero. See more at https://github.com/torvalds/linux/blob/v6.0/Documentation/ABI/testing/sysfs-bus-pci#L344-L355\n",
      "2024-02-15 03:34:54.613404: I external/local_xla/xla/stream_executor/cuda/cuda_executor.cc:901] successful NUMA node read from SysFS had negative value (-1), but there must be at least one NUMA node, so returning NUMA node zero. See more at https://github.com/torvalds/linux/blob/v6.0/Documentation/ABI/testing/sysfs-bus-pci#L344-L355\n",
      "2024-02-15 03:34:54.613562: I external/local_xla/xla/stream_executor/cuda/cuda_executor.cc:901] successful NUMA node read from SysFS had negative value (-1), but there must be at least one NUMA node, so returning NUMA node zero. See more at https://github.com/torvalds/linux/blob/v6.0/Documentation/ABI/testing/sysfs-bus-pci#L344-L355\n",
      "2024-02-15 03:34:54.675281: I external/local_xla/xla/stream_executor/cuda/cuda_executor.cc:901] successful NUMA node read from SysFS had negative value (-1), but there must be at least one NUMA node, so returning NUMA node zero. See more at https://github.com/torvalds/linux/blob/v6.0/Documentation/ABI/testing/sysfs-bus-pci#L344-L355\n",
      "2024-02-15 03:34:54.675467: I external/local_xla/xla/stream_executor/cuda/cuda_executor.cc:901] successful NUMA node read from SysFS had negative value (-1), but there must be at least one NUMA node, so returning NUMA node zero. See more at https://github.com/torvalds/linux/blob/v6.0/Documentation/ABI/testing/sysfs-bus-pci#L344-L355\n",
      "2024-02-15 03:34:54.675634: I external/local_xla/xla/stream_executor/cuda/cuda_executor.cc:901] successful NUMA node read from SysFS had negative value (-1), but there must be at least one NUMA node, so returning NUMA node zero. See more at https://github.com/torvalds/linux/blob/v6.0/Documentation/ABI/testing/sysfs-bus-pci#L344-L355\n",
      "2024-02-15 03:34:54.675751: I tensorflow/core/common_runtime/gpu/gpu_device.cc:1929] Created device /job:localhost/replica:0/task:0/device:GPU:0 with 9891 MB memory:  -> device: 0, name: NVIDIA GeForce RTX 3080 Ti, pci bus id: 0000:43:00.0, compute capability: 8.6\n"
     ]
    },
    {
     "name": "stdout",
     "output_type": "stream",
     "text": [
      "WARNING:tensorflow:Unable to restore custom metric. Please ensure that the layer implements `get_config` and `from_config` when saving. In addition, please use the `custom_objects` arg when calling `load_model()`.\n",
      "WARNING:tensorflow:Unable to restore custom metric. Please ensure that the layer implements `get_config` and `from_config` when saving. In addition, please use the `custom_objects` arg when calling `load_model()`.\n"
     ]
    },
    {
     "name": "stderr",
     "output_type": "stream",
     "text": [
      "2024-02-15 03:34:57.315541: I external/local_xla/xla/stream_executor/cuda/cuda_dnn.cc:454] Loaded cuDNN version 8904\n"
     ]
    },
    {
     "name": "stdout",
     "output_type": "stream",
     "text": [
      "59/59 [==============================] - 22s 319ms/step - loss: 0.4044 - sensitivity: 0.4447 - specificity: 0.9869 - accuracy: 0.9528 - f1_score: 0.5383 - iou: 0.3780\n",
      "2번째 epoch 결과\n",
      "WARNING:tensorflow:Unable to restore custom metric. Please ensure that the layer implements `get_config` and `from_config` when saving. In addition, please use the `custom_objects` arg when calling `load_model()`.\n",
      "WARNING:tensorflow:Unable to restore custom metric. Please ensure that the layer implements `get_config` and `from_config` when saving. In addition, please use the `custom_objects` arg when calling `load_model()`.\n",
      "59/59 [==============================] - 22s 368ms/step - loss: 0.2789 - sensitivity: 0.6937 - specificity: 0.9729 - accuracy: 0.9542 - f1_score: 0.6719 - iou: 0.5140\n",
      "3번째 epoch 결과\n",
      "WARNING:tensorflow:Unable to restore custom metric. Please ensure that the layer implements `get_config` and `from_config` when saving. In addition, please use the `custom_objects` arg when calling `load_model()`.\n",
      "WARNING:tensorflow:Unable to restore custom metric. Please ensure that the layer implements `get_config` and `from_config` when saving. In addition, please use the `custom_objects` arg when calling `load_model()`.\n",
      "59/59 [==============================] - 22s 359ms/step - loss: 0.2692 - sensitivity: 0.6193 - specificity: 0.9867 - accuracy: 0.9635 - f1_score: 0.6807 - iou: 0.5233\n",
      "4번째 epoch 결과\n",
      "WARNING:tensorflow:Unable to restore custom metric. Please ensure that the layer implements `get_config` and `from_config` when saving. In addition, please use the `custom_objects` arg when calling `load_model()`.\n",
      "WARNING:tensorflow:Unable to restore custom metric. Please ensure that the layer implements `get_config` and `from_config` when saving. In addition, please use the `custom_objects` arg when calling `load_model()`.\n",
      "59/59 [==============================] - 22s 366ms/step - loss: 0.2594 - sensitivity: 0.7260 - specificity: 0.9752 - accuracy: 0.9600 - f1_score: 0.6944 - iou: 0.5430\n",
      "5번째 epoch 결과\n",
      "WARNING:tensorflow:Unable to restore custom metric. Please ensure that the layer implements `get_config` and `from_config` when saving. In addition, please use the `custom_objects` arg when calling `load_model()`.\n",
      "WARNING:tensorflow:Unable to restore custom metric. Please ensure that the layer implements `get_config` and `from_config` when saving. In addition, please use the `custom_objects` arg when calling `load_model()`.\n",
      "59/59 [==============================] - 21s 344ms/step - loss: 0.2409 - sensitivity: 0.7657 - specificity: 0.9733 - accuracy: 0.9597 - f1_score: 0.7174 - iou: 0.5694\n",
      "6번째 epoch 결과\n",
      "WARNING:tensorflow:Unable to restore custom metric. Please ensure that the layer implements `get_config` and `from_config` when saving. In addition, please use the `custom_objects` arg when calling `load_model()`.\n",
      "WARNING:tensorflow:Unable to restore custom metric. Please ensure that the layer implements `get_config` and `from_config` when saving. In addition, please use the `custom_objects` arg when calling `load_model()`.\n",
      "59/59 [==============================] - 22s 359ms/step - loss: 0.2465 - sensitivity: 0.6774 - specificity: 0.9835 - accuracy: 0.9645 - f1_score: 0.7058 - iou: 0.5544\n",
      "7번째 epoch 결과\n",
      "WARNING:tensorflow:Unable to restore custom metric. Please ensure that the layer implements `get_config` and `from_config` when saving. In addition, please use the `custom_objects` arg when calling `load_model()`.\n",
      "WARNING:tensorflow:Unable to restore custom metric. Please ensure that the layer implements `get_config` and `from_config` when saving. In addition, please use the `custom_objects` arg when calling `load_model()`.\n",
      "59/59 [==============================] - 22s 362ms/step - loss: 0.2388 - sensitivity: 0.7878 - specificity: 0.9707 - accuracy: 0.9592 - f1_score: 0.7188 - iou: 0.5706\n",
      "8번째 epoch 결과\n",
      "WARNING:tensorflow:Unable to restore custom metric. Please ensure that the layer implements `get_config` and `from_config` when saving. In addition, please use the `custom_objects` arg when calling `load_model()`.\n",
      "WARNING:tensorflow:Unable to restore custom metric. Please ensure that the layer implements `get_config` and `from_config` when saving. In addition, please use the `custom_objects` arg when calling `load_model()`.\n",
      "59/59 [==============================] - 21s 355ms/step - loss: 0.2645 - sensitivity: 0.8002 - specificity: 0.9659 - accuracy: 0.9564 - f1_score: 0.6941 - iou: 0.5422\n",
      "9번째 epoch 결과\n",
      "WARNING:tensorflow:Unable to restore custom metric. Please ensure that the layer implements `get_config` and `from_config` when saving. In addition, please use the `custom_objects` arg when calling `load_model()`.\n",
      "WARNING:tensorflow:Unable to restore custom metric. Please ensure that the layer implements `get_config` and `from_config` when saving. In addition, please use the `custom_objects` arg when calling `load_model()`.\n",
      "59/59 [==============================] - 21s 354ms/step - loss: 0.2365 - sensitivity: 0.7642 - specificity: 0.9737 - accuracy: 0.9609 - f1_score: 0.7215 - iou: 0.5718\n",
      "10번째 epoch 결과\n",
      "WARNING:tensorflow:Unable to restore custom metric. Please ensure that the layer implements `get_config` and `from_config` when saving. In addition, please use the `custom_objects` arg when calling `load_model()`.\n",
      "WARNING:tensorflow:Unable to restore custom metric. Please ensure that the layer implements `get_config` and `from_config` when saving. In addition, please use the `custom_objects` arg when calling `load_model()`.\n",
      "59/59 [==============================] - 22s 359ms/step - loss: 0.2187 - sensitivity: 0.7300 - specificity: 0.9800 - accuracy: 0.9626 - f1_score: 0.7368 - iou: 0.5908\n",
      "11번째 epoch 결과\n",
      "WARNING:tensorflow:Unable to restore custom metric. Please ensure that the layer implements `get_config` and `from_config` when saving. In addition, please use the `custom_objects` arg when calling `load_model()`.\n",
      "WARNING:tensorflow:Unable to restore custom metric. Please ensure that the layer implements `get_config` and `from_config` when saving. In addition, please use the `custom_objects` arg when calling `load_model()`.\n",
      "59/59 [==============================] - 22s 355ms/step - loss: 0.2619 - sensitivity: 0.7761 - specificity: 0.9689 - accuracy: 0.9577 - f1_score: 0.6955 - iou: 0.5456\n",
      "12번째 epoch 결과\n",
      "WARNING:tensorflow:Unable to restore custom metric. Please ensure that the layer implements `get_config` and `from_config` when saving. In addition, please use the `custom_objects` arg when calling `load_model()`.\n",
      "WARNING:tensorflow:Unable to restore custom metric. Please ensure that the layer implements `get_config` and `from_config` when saving. In addition, please use the `custom_objects` arg when calling `load_model()`.\n",
      "59/59 [==============================] - 22s 359ms/step - loss: 0.2278 - sensitivity: 0.7329 - specificity: 0.9798 - accuracy: 0.9640 - f1_score: 0.7268 - iou: 0.5795\n",
      "13번째 epoch 결과\n",
      "WARNING:tensorflow:Unable to restore custom metric. Please ensure that the layer implements `get_config` and `from_config` when saving. In addition, please use the `custom_objects` arg when calling `load_model()`.\n",
      "WARNING:tensorflow:Unable to restore custom metric. Please ensure that the layer implements `get_config` and `from_config` when saving. In addition, please use the `custom_objects` arg when calling `load_model()`.\n",
      "59/59 [==============================] - 21s 345ms/step - loss: 0.2307 - sensitivity: 0.7643 - specificity: 0.9762 - accuracy: 0.9639 - f1_score: 0.7287 - iou: 0.5840\n",
      "14번째 epoch 결과\n",
      "WARNING:tensorflow:Unable to restore custom metric. Please ensure that the layer implements `get_config` and `from_config` when saving. In addition, please use the `custom_objects` arg when calling `load_model()`.\n",
      "WARNING:tensorflow:Unable to restore custom metric. Please ensure that the layer implements `get_config` and `from_config` when saving. In addition, please use the `custom_objects` arg when calling `load_model()`.\n",
      "59/59 [==============================] - 22s 363ms/step - loss: 0.2462 - sensitivity: 0.7670 - specificity: 0.9741 - accuracy: 0.9615 - f1_score: 0.7110 - iou: 0.5659\n",
      "15번째 epoch 결과\n",
      "WARNING:tensorflow:Unable to restore custom metric. Please ensure that the layer implements `get_config` and `from_config` when saving. In addition, please use the `custom_objects` arg when calling `load_model()`.\n",
      "WARNING:tensorflow:Unable to restore custom metric. Please ensure that the layer implements `get_config` and `from_config` when saving. In addition, please use the `custom_objects` arg when calling `load_model()`.\n",
      "59/59 [==============================] - 22s 365ms/step - loss: 0.2018 - sensitivity: 0.7696 - specificity: 0.9813 - accuracy: 0.9687 - f1_score: 0.7593 - iou: 0.6216\n",
      "16번째 epoch 결과\n",
      "WARNING:tensorflow:Unable to restore custom metric. Please ensure that the layer implements `get_config` and `from_config` when saving. In addition, please use the `custom_objects` arg when calling `load_model()`.\n",
      "WARNING:tensorflow:Unable to restore custom metric. Please ensure that the layer implements `get_config` and `from_config` when saving. In addition, please use the `custom_objects` arg when calling `load_model()`.\n",
      "59/59 [==============================] - 22s 362ms/step - loss: 0.2317 - sensitivity: 0.7993 - specificity: 0.9703 - accuracy: 0.9595 - f1_score: 0.7288 - iou: 0.5855\n",
      "17번째 epoch 결과\n",
      "WARNING:tensorflow:Unable to restore custom metric. Please ensure that the layer implements `get_config` and `from_config` when saving. In addition, please use the `custom_objects` arg when calling `load_model()`.\n",
      "WARNING:tensorflow:Unable to restore custom metric. Please ensure that the layer implements `get_config` and `from_config` when saving. In addition, please use the `custom_objects` arg when calling `load_model()`.\n",
      "59/59 [==============================] - 22s 361ms/step - loss: 0.2246 - sensitivity: 0.7490 - specificity: 0.9776 - accuracy: 0.9636 - f1_score: 0.7329 - iou: 0.5857\n",
      "18번째 epoch 결과\n",
      "WARNING:tensorflow:Unable to restore custom metric. Please ensure that the layer implements `get_config` and `from_config` when saving. In addition, please use the `custom_objects` arg when calling `load_model()`.\n",
      "WARNING:tensorflow:Unable to restore custom metric. Please ensure that the layer implements `get_config` and `from_config` when saving. In addition, please use the `custom_objects` arg when calling `load_model()`.\n",
      "59/59 [==============================] - 20s 335ms/step - loss: 0.2207 - sensitivity: 0.7496 - specificity: 0.9789 - accuracy: 0.9643 - f1_score: 0.7358 - iou: 0.5933\n",
      "19번째 epoch 결과\n",
      "WARNING:tensorflow:Unable to restore custom metric. Please ensure that the layer implements `get_config` and `from_config` when saving. In addition, please use the `custom_objects` arg when calling `load_model()`.\n",
      "WARNING:tensorflow:Unable to restore custom metric. Please ensure that the layer implements `get_config` and `from_config` when saving. In addition, please use the `custom_objects` arg when calling `load_model()`.\n",
      "59/59 [==============================] - 22s 366ms/step - loss: 0.2149 - sensitivity: 0.7580 - specificity: 0.9785 - accuracy: 0.9645 - f1_score: 0.7417 - iou: 0.5972\n",
      "20번째 epoch 결과\n",
      "WARNING:tensorflow:Unable to restore custom metric. Please ensure that the layer implements `get_config` and `from_config` when saving. In addition, please use the `custom_objects` arg when calling `load_model()`.\n",
      "WARNING:tensorflow:Unable to restore custom metric. Please ensure that the layer implements `get_config` and `from_config` when saving. In addition, please use the `custom_objects` arg when calling `load_model()`.\n",
      "59/59 [==============================] - 22s 361ms/step - loss: 0.2174 - sensitivity: 0.7288 - specificity: 0.9814 - accuracy: 0.9649 - f1_score: 0.7374 - iou: 0.5933\n",
      "21번째 epoch 결과\n",
      "WARNING:tensorflow:Unable to restore custom metric. Please ensure that the layer implements `get_config` and `from_config` when saving. In addition, please use the `custom_objects` arg when calling `load_model()`.\n",
      "WARNING:tensorflow:Unable to restore custom metric. Please ensure that the layer implements `get_config` and `from_config` when saving. In addition, please use the `custom_objects` arg when calling `load_model()`.\n",
      "59/59 [==============================] - 21s 355ms/step - loss: 0.2072 - sensitivity: 0.7627 - specificity: 0.9804 - accuracy: 0.9662 - f1_score: 0.7504 - iou: 0.6099\n",
      "22번째 epoch 결과\n",
      "WARNING:tensorflow:Unable to restore custom metric. Please ensure that the layer implements `get_config` and `from_config` when saving. In addition, please use the `custom_objects` arg when calling `load_model()`.\n",
      "WARNING:tensorflow:Unable to restore custom metric. Please ensure that the layer implements `get_config` and `from_config` when saving. In addition, please use the `custom_objects` arg when calling `load_model()`.\n",
      "59/59 [==============================] - 21s 341ms/step - loss: 0.2086 - sensitivity: 0.7393 - specificity: 0.9834 - accuracy: 0.9682 - f1_score: 0.7482 - iou: 0.6058\n",
      "23번째 epoch 결과\n",
      "WARNING:tensorflow:Unable to restore custom metric. Please ensure that the layer implements `get_config` and `from_config` when saving. In addition, please use the `custom_objects` arg when calling `load_model()`.\n",
      "WARNING:tensorflow:Unable to restore custom metric. Please ensure that the layer implements `get_config` and `from_config` when saving. In addition, please use the `custom_objects` arg when calling `load_model()`.\n",
      "59/59 [==============================] - 21s 354ms/step - loss: 0.2226 - sensitivity: 0.7830 - specificity: 0.9756 - accuracy: 0.9647 - f1_score: 0.7340 - iou: 0.5921\n",
      "24번째 epoch 결과\n",
      "WARNING:tensorflow:Unable to restore custom metric. Please ensure that the layer implements `get_config` and `from_config` when saving. In addition, please use the `custom_objects` arg when calling `load_model()`.\n",
      "WARNING:tensorflow:Unable to restore custom metric. Please ensure that the layer implements `get_config` and `from_config` when saving. In addition, please use the `custom_objects` arg when calling `load_model()`.\n",
      "59/59 [==============================] - 21s 353ms/step - loss: 0.2099 - sensitivity: 0.7338 - specificity: 0.9828 - accuracy: 0.9671 - f1_score: 0.7467 - iou: 0.6055\n",
      "25번째 epoch 결과\n",
      "WARNING:tensorflow:Unable to restore custom metric. Please ensure that the layer implements `get_config` and `from_config` when saving. In addition, please use the `custom_objects` arg when calling `load_model()`.\n",
      "WARNING:tensorflow:Unable to restore custom metric. Please ensure that the layer implements `get_config` and `from_config` when saving. In addition, please use the `custom_objects` arg when calling `load_model()`.\n",
      "59/59 [==============================] - 22s 364ms/step - loss: 0.2108 - sensitivity: 0.7515 - specificity: 0.9799 - accuracy: 0.9647 - f1_score: 0.7459 - iou: 0.6046\n",
      "26번째 epoch 결과\n",
      "WARNING:tensorflow:Unable to restore custom metric. Please ensure that the layer implements `get_config` and `from_config` when saving. In addition, please use the `custom_objects` arg when calling `load_model()`.\n",
      "WARNING:tensorflow:Unable to restore custom metric. Please ensure that the layer implements `get_config` and `from_config` when saving. In addition, please use the `custom_objects` arg when calling `load_model()`.\n",
      "59/59 [==============================] - 22s 367ms/step - loss: 0.2025 - sensitivity: 0.7299 - specificity: 0.9835 - accuracy: 0.9658 - f1_score: 0.7537 - iou: 0.6135\n",
      "27번째 epoch 결과\n",
      "WARNING:tensorflow:Unable to restore custom metric. Please ensure that the layer implements `get_config` and `from_config` when saving. In addition, please use the `custom_objects` arg when calling `load_model()`.\n",
      "WARNING:tensorflow:Unable to restore custom metric. Please ensure that the layer implements `get_config` and `from_config` when saving. In addition, please use the `custom_objects` arg when calling `load_model()`.\n",
      "59/59 [==============================] - 22s 358ms/step - loss: 0.2030 - sensitivity: 0.7245 - specificity: 0.9845 - accuracy: 0.9680 - f1_score: 0.7540 - iou: 0.6148\n",
      "28번째 epoch 결과\n",
      "WARNING:tensorflow:Unable to restore custom metric. Please ensure that the layer implements `get_config` and `from_config` when saving. In addition, please use the `custom_objects` arg when calling `load_model()`.\n",
      "WARNING:tensorflow:Unable to restore custom metric. Please ensure that the layer implements `get_config` and `from_config` when saving. In addition, please use the `custom_objects` arg when calling `load_model()`.\n",
      "59/59 [==============================] - 22s 365ms/step - loss: 0.2149 - sensitivity: 0.7321 - specificity: 0.9815 - accuracy: 0.9659 - f1_score: 0.7390 - iou: 0.5962\n",
      "29번째 epoch 결과\n",
      "WARNING:tensorflow:Unable to restore custom metric. Please ensure that the layer implements `get_config` and `from_config` when saving. In addition, please use the `custom_objects` arg when calling `load_model()`.\n",
      "WARNING:tensorflow:Unable to restore custom metric. Please ensure that the layer implements `get_config` and `from_config` when saving. In addition, please use the `custom_objects` arg when calling `load_model()`.\n",
      "59/59 [==============================] - 22s 363ms/step - loss: 0.2082 - sensitivity: 0.7654 - specificity: 0.9795 - accuracy: 0.9662 - f1_score: 0.7500 - iou: 0.6106\n",
      "30번째 epoch 결과\n",
      "WARNING:tensorflow:Unable to restore custom metric. Please ensure that the layer implements `get_config` and `from_config` when saving. In addition, please use the `custom_objects` arg when calling `load_model()`.\n",
      "WARNING:tensorflow:Unable to restore custom metric. Please ensure that the layer implements `get_config` and `from_config` when saving. In addition, please use the `custom_objects` arg when calling `load_model()`.\n",
      "59/59 [==============================] - 20s 326ms/step - loss: 0.2198 - sensitivity: 0.7131 - specificity: 0.9835 - accuracy: 0.9664 - f1_score: 0.7359 - iou: 0.5930\n",
      "31번째 epoch 결과\n",
      "WARNING:tensorflow:Unable to restore custom metric. Please ensure that the layer implements `get_config` and `from_config` when saving. In addition, please use the `custom_objects` arg when calling `load_model()`.\n",
      "WARNING:tensorflow:Unable to restore custom metric. Please ensure that the layer implements `get_config` and `from_config` when saving. In addition, please use the `custom_objects` arg when calling `load_model()`.\n",
      "59/59 [==============================] - 22s 361ms/step - loss: 0.2064 - sensitivity: 0.7453 - specificity: 0.9810 - accuracy: 0.9659 - f1_score: 0.7498 - iou: 0.6095\n",
      "32번째 epoch 결과\n",
      "WARNING:tensorflow:Unable to restore custom metric. Please ensure that the layer implements `get_config` and `from_config` when saving. In addition, please use the `custom_objects` arg when calling `load_model()`.\n",
      "WARNING:tensorflow:Unable to restore custom metric. Please ensure that the layer implements `get_config` and `from_config` when saving. In addition, please use the `custom_objects` arg when calling `load_model()`.\n",
      "59/59 [==============================] - 22s 360ms/step - loss: 0.2049 - sensitivity: 0.8069 - specificity: 0.9751 - accuracy: 0.9642 - f1_score: 0.7565 - iou: 0.6166\n",
      "33번째 epoch 결과\n",
      "WARNING:tensorflow:Unable to restore custom metric. Please ensure that the layer implements `get_config` and `from_config` when saving. In addition, please use the `custom_objects` arg when calling `load_model()`.\n",
      "WARNING:tensorflow:Unable to restore custom metric. Please ensure that the layer implements `get_config` and `from_config` when saving. In addition, please use the `custom_objects` arg when calling `load_model()`.\n",
      "59/59 [==============================] - 22s 363ms/step - loss: 0.2210 - sensitivity: 0.7081 - specificity: 0.9845 - accuracy: 0.9678 - f1_score: 0.7357 - iou: 0.5973\n",
      "34번째 epoch 결과\n",
      "WARNING:tensorflow:Unable to restore custom metric. Please ensure that the layer implements `get_config` and `from_config` when saving. In addition, please use the `custom_objects` arg when calling `load_model()`.\n",
      "WARNING:tensorflow:Unable to restore custom metric. Please ensure that the layer implements `get_config` and `from_config` when saving. In addition, please use the `custom_objects` arg when calling `load_model()`.\n",
      "59/59 [==============================] - 21s 349ms/step - loss: 0.2210 - sensitivity: 0.7772 - specificity: 0.9770 - accuracy: 0.9655 - f1_score: 0.7364 - iou: 0.5921\n",
      "35번째 epoch 결과\n",
      "WARNING:tensorflow:Unable to restore custom metric. Please ensure that the layer implements `get_config` and `from_config` when saving. In addition, please use the `custom_objects` arg when calling `load_model()`.\n",
      "WARNING:tensorflow:Unable to restore custom metric. Please ensure that the layer implements `get_config` and `from_config` when saving. In addition, please use the `custom_objects` arg when calling `load_model()`.\n",
      "59/59 [==============================] - 22s 360ms/step - loss: 0.2098 - sensitivity: 0.7066 - specificity: 0.9862 - accuracy: 0.9690 - f1_score: 0.7446 - iou: 0.6028\n",
      "36번째 epoch 결과\n",
      "WARNING:tensorflow:Unable to restore custom metric. Please ensure that the layer implements `get_config` and `from_config` when saving. In addition, please use the `custom_objects` arg when calling `load_model()`.\n",
      "WARNING:tensorflow:Unable to restore custom metric. Please ensure that the layer implements `get_config` and `from_config` when saving. In addition, please use the `custom_objects` arg when calling `load_model()`.\n",
      "59/59 [==============================] - 22s 370ms/step - loss: 0.2098 - sensitivity: 0.7252 - specificity: 0.9843 - accuracy: 0.9683 - f1_score: 0.7454 - iou: 0.6034\n",
      "37번째 epoch 결과\n",
      "WARNING:tensorflow:Unable to restore custom metric. Please ensure that the layer implements `get_config` and `from_config` when saving. In addition, please use the `custom_objects` arg when calling `load_model()`.\n",
      "WARNING:tensorflow:Unable to restore custom metric. Please ensure that the layer implements `get_config` and `from_config` when saving. In addition, please use the `custom_objects` arg when calling `load_model()`.\n",
      "59/59 [==============================] - 22s 361ms/step - loss: 0.2027 - sensitivity: 0.7359 - specificity: 0.9833 - accuracy: 0.9675 - f1_score: 0.7533 - iou: 0.6123\n",
      "38번째 epoch 결과\n",
      "WARNING:tensorflow:Unable to restore custom metric. Please ensure that the layer implements `get_config` and `from_config` when saving. In addition, please use the `custom_objects` arg when calling `load_model()`.\n",
      "WARNING:tensorflow:Unable to restore custom metric. Please ensure that the layer implements `get_config` and `from_config` when saving. In addition, please use the `custom_objects` arg when calling `load_model()`.\n",
      "59/59 [==============================] - 21s 349ms/step - loss: 0.2115 - sensitivity: 0.8035 - specificity: 0.9733 - accuracy: 0.9618 - f1_score: 0.7480 - iou: 0.6066\n",
      "39번째 epoch 결과\n",
      "WARNING:tensorflow:Unable to restore custom metric. Please ensure that the layer implements `get_config` and `from_config` when saving. In addition, please use the `custom_objects` arg when calling `load_model()`.\n",
      "WARNING:tensorflow:Unable to restore custom metric. Please ensure that the layer implements `get_config` and `from_config` when saving. In addition, please use the `custom_objects` arg when calling `load_model()`.\n",
      "59/59 [==============================] - 22s 361ms/step - loss: 0.2036 - sensitivity: 0.7741 - specificity: 0.9781 - accuracy: 0.9656 - f1_score: 0.7541 - iou: 0.6128\n",
      "40번째 epoch 결과\n",
      "WARNING:tensorflow:Unable to restore custom metric. Please ensure that the layer implements `get_config` and `from_config` when saving. In addition, please use the `custom_objects` arg when calling `load_model()`.\n",
      "WARNING:tensorflow:Unable to restore custom metric. Please ensure that the layer implements `get_config` and `from_config` when saving. In addition, please use the `custom_objects` arg when calling `load_model()`.\n",
      "59/59 [==============================] - 22s 366ms/step - loss: 0.2020 - sensitivity: 0.7080 - specificity: 0.9863 - accuracy: 0.9676 - f1_score: 0.7515 - iou: 0.6138\n",
      "41번째 epoch 결과\n",
      "WARNING:tensorflow:Unable to restore custom metric. Please ensure that the layer implements `get_config` and `from_config` when saving. In addition, please use the `custom_objects` arg when calling `load_model()`.\n",
      "WARNING:tensorflow:Unable to restore custom metric. Please ensure that the layer implements `get_config` and `from_config` when saving. In addition, please use the `custom_objects` arg when calling `load_model()`.\n",
      "59/59 [==============================] - 20s 334ms/step - loss: 0.2026 - sensitivity: 0.7493 - specificity: 0.9820 - accuracy: 0.9680 - f1_score: 0.7532 - iou: 0.6126\n",
      "42번째 epoch 결과\n",
      "WARNING:tensorflow:Unable to restore custom metric. Please ensure that the layer implements `get_config` and `from_config` when saving. In addition, please use the `custom_objects` arg when calling `load_model()`.\n",
      "WARNING:tensorflow:Unable to restore custom metric. Please ensure that the layer implements `get_config` and `from_config` when saving. In addition, please use the `custom_objects` arg when calling `load_model()`.\n",
      "59/59 [==============================] - 22s 361ms/step - loss: 0.2102 - sensitivity: 0.7185 - specificity: 0.9853 - accuracy: 0.9686 - f1_score: 0.7458 - iou: 0.6045\n",
      "43번째 epoch 결과\n",
      "WARNING:tensorflow:Unable to restore custom metric. Please ensure that the layer implements `get_config` and `from_config` when saving. In addition, please use the `custom_objects` arg when calling `load_model()`.\n",
      "WARNING:tensorflow:Unable to restore custom metric. Please ensure that the layer implements `get_config` and `from_config` when saving. In addition, please use the `custom_objects` arg when calling `load_model()`.\n",
      "59/59 [==============================] - 22s 364ms/step - loss: 0.2182 - sensitivity: 0.7797 - specificity: 0.9752 - accuracy: 0.9631 - f1_score: 0.7386 - iou: 0.5974\n",
      "44번째 epoch 결과\n",
      "WARNING:tensorflow:Unable to restore custom metric. Please ensure that the layer implements `get_config` and `from_config` when saving. In addition, please use the `custom_objects` arg when calling `load_model()`.\n",
      "WARNING:tensorflow:Unable to restore custom metric. Please ensure that the layer implements `get_config` and `from_config` when saving. In addition, please use the `custom_objects` arg when calling `load_model()`.\n",
      "59/59 [==============================] - 22s 366ms/step - loss: 0.2177 - sensitivity: 0.7639 - specificity: 0.9784 - accuracy: 0.9657 - f1_score: 0.7391 - iou: 0.5980\n",
      "45번째 epoch 결과\n",
      "WARNING:tensorflow:Unable to restore custom metric. Please ensure that the layer implements `get_config` and `from_config` when saving. In addition, please use the `custom_objects` arg when calling `load_model()`.\n",
      "WARNING:tensorflow:Unable to restore custom metric. Please ensure that the layer implements `get_config` and `from_config` when saving. In addition, please use the `custom_objects` arg when calling `load_model()`.\n",
      "59/59 [==============================] - 22s 357ms/step - loss: 0.2102 - sensitivity: 0.7440 - specificity: 0.9809 - accuracy: 0.9664 - f1_score: 0.7469 - iou: 0.6082\n",
      "46번째 epoch 결과\n",
      "WARNING:tensorflow:Unable to restore custom metric. Please ensure that the layer implements `get_config` and `from_config` when saving. In addition, please use the `custom_objects` arg when calling `load_model()`.\n",
      "WARNING:tensorflow:Unable to restore custom metric. Please ensure that the layer implements `get_config` and `from_config` when saving. In addition, please use the `custom_objects` arg when calling `load_model()`.\n",
      "59/59 [==============================] - 21s 353ms/step - loss: 0.1923 - sensitivity: 0.7627 - specificity: 0.9824 - accuracy: 0.9684 - f1_score: 0.7667 - iou: 0.6310\n",
      "47번째 epoch 결과\n",
      "WARNING:tensorflow:Unable to restore custom metric. Please ensure that the layer implements `get_config` and `from_config` when saving. In addition, please use the `custom_objects` arg when calling `load_model()`.\n",
      "WARNING:tensorflow:Unable to restore custom metric. Please ensure that the layer implements `get_config` and `from_config` when saving. In addition, please use the `custom_objects` arg when calling `load_model()`.\n",
      "59/59 [==============================] - 21s 354ms/step - loss: 0.2075 - sensitivity: 0.7805 - specificity: 0.9784 - accuracy: 0.9657 - f1_score: 0.7533 - iou: 0.6163\n",
      "48번째 epoch 결과\n",
      "WARNING:tensorflow:Unable to restore custom metric. Please ensure that the layer implements `get_config` and `from_config` when saving. In addition, please use the `custom_objects` arg when calling `load_model()`.\n",
      "WARNING:tensorflow:Unable to restore custom metric. Please ensure that the layer implements `get_config` and `from_config` when saving. In addition, please use the `custom_objects` arg when calling `load_model()`.\n",
      "59/59 [==============================] - 22s 363ms/step - loss: 0.2004 - sensitivity: 0.8066 - specificity: 0.9763 - accuracy: 0.9657 - f1_score: 0.7595 - iou: 0.6220\n",
      "49번째 epoch 결과\n",
      "WARNING:tensorflow:Unable to restore custom metric. Please ensure that the layer implements `get_config` and `from_config` when saving. In addition, please use the `custom_objects` arg when calling `load_model()`.\n",
      "WARNING:tensorflow:Unable to restore custom metric. Please ensure that the layer implements `get_config` and `from_config` when saving. In addition, please use the `custom_objects` arg when calling `load_model()`.\n",
      "59/59 [==============================] - 22s 358ms/step - loss: 0.1974 - sensitivity: 0.7216 - specificity: 0.9861 - accuracy: 0.9690 - f1_score: 0.7577 - iou: 0.6172\n",
      "50번째 epoch 결과\n",
      "WARNING:tensorflow:Unable to restore custom metric. Please ensure that the layer implements `get_config` and `from_config` when saving. In addition, please use the `custom_objects` arg when calling `load_model()`.\n",
      "WARNING:tensorflow:Unable to restore custom metric. Please ensure that the layer implements `get_config` and `from_config` when saving. In addition, please use the `custom_objects` arg when calling `load_model()`.\n",
      "59/59 [==============================] - 22s 360ms/step - loss: 0.1849 - sensitivity: 0.7568 - specificity: 0.9844 - accuracy: 0.9697 - f1_score: 0.7745 - iou: 0.6410\n"
     ]
    }
   ],
   "source": [
    "custom_objects = {'DiceLoss': loss.DiceLoss(), \n",
    "                  'sensitivity': metrics.sensitivity,\n",
    "                  'specificity': metrics.specificity,\n",
    "                  'accuracy' : metrics.accuracy,\n",
    "                  'f1_score' : metrics.f1_score,\n",
    "                  'iou' : metrics.iou}\n",
    "\n",
    "model_param_path = '/visuworks/Blindless_AIFFELTON/Ablation Study/Dense_Unet/model_parameters/dense_unet_50ep_512_aG_wo_slice.tf'\n",
    "\n",
    "test_preproc = preprocess.build_augmentation_for_adaptive(is_train=False)\n",
    "test_generator = data_generator.AdaptiveDataGenerator(\n",
    "    TEST_SOURCE,\n",
    "    number_of_images=4,\n",
    "    img_size=INPUT_SHAPE,\n",
    "    output_size=INPUT_SHAPE,\n",
    "    is_train=False,\n",
    "    is_test=True,\n",
    "    slice_black=False,\n",
    "    augmentation= test_preproc\n",
    ")\n",
    "\n",
    "loss, sen, spe, acc, f1, iou = metrics.retrive_all_evaluation_of_test_dataset(test_generator, model_param_path, custom_objects)"
   ]
  },
  {
   "cell_type": "code",
   "execution_count": null,
   "metadata": {},
   "outputs": [],
   "source": [
    "import pickle\n",
    "\n",
    "# 46번째 epoch 결과\n",
    "# loss: 0.1923 - sensitivity: 0.7627 - specificity: 0.9824 - accuracy: 0.9684 - f1_score: 0.7667 - iou: 0.6310\n",
    "\n",
    "# Save the metrics as a dictionary\n",
    "metrics_dict = {\n",
    "    'loss': loss,\n",
    "    'sen': sen,\n",
    "    'spe': spe,\n",
    "    'acc': acc,\n",
    "    'f1': f1,\n",
    "    'iou': iou\n",
    "}\n",
    "\n",
    "# Define the file path\n",
    "file_path = 'dense_unet_50ep_512_aG_wo_slice_metrics_data.pkl'\n",
    "\n",
    "# Write the metrics to a file using pickle\n",
    "with open(file_path, 'wb') as f:\n",
    "    pickle.dump(metrics_dict, f)"
   ]
  },
  {
   "cell_type": "code",
   "execution_count": 5,
   "metadata": {},
   "outputs": [],
   "source": [
    "file_path = 'dense_unet_50ep_512_aG_wo_slice_metrics_data.pkl'\n",
    "\n",
    "# Load the metrics from the pickle file\n",
    "with open(file_path, 'rb') as f:\n",
    "    metrics_dict = pickle.load(f)\n",
    "\n",
    "# Access the metrics from the loaded dictionary\n",
    "loss = metrics_dict['loss']\n",
    "sen = metrics_dict['sen']\n",
    "spe = metrics_dict['spe']\n",
    "acc = metrics_dict['acc']\n",
    "f1 = metrics_dict['f1']\n",
    "iou = metrics_dict['iou']"
   ]
  },
  {
   "cell_type": "code",
   "execution_count": 6,
   "metadata": {},
   "outputs": [
    {
     "data": {
      "image/png": "[encoded data removed]",
      "text/plain": [
       "<Figure size 1200x800 with 1 Axes>"
      ]
     },
     "metadata": {},
     "output_type": "display_data"
    },
    {
     "data": {
      "image/png": "[encoded data removed]",
      "text/plain": [
       "<Figure size 640x480 with 1 Axes>"
      ]
     },
     "metadata": {},
     "output_type": "display_data"
    },
    {
     "data": {
      "image/png": "[encoded data removed]",
      "text/plain": [
       "<Figure size 640x480 with 1 Axes>"
      ]
     },
     "metadata": {},
     "output_type": "display_data"
    },
    {
     "data": {
      "image/png": "[encoded data removed]",
      "text/plain": [
       "<Figure size 640x480 with 1 Axes>"
      ]
     },
     "metadata": {},
     "output_type": "display_data"
    },
    {
     "data": {
      "image/png": "[encoded data removed]",
      "text/plain": [
       "<Figure size 640x480 with 1 Axes>"
      ]
     },
     "metadata": {},
     "output_type": "display_data"
    },
    {
     "data": {
      "image/png": "[encoded data removed]",
      "text/plain": [
       "<Figure size 640x480 with 1 Axes>"
      ]
     },
     "metadata": {},
     "output_type": "display_data"
    },
    {
     "data": {
      "text/plain": [
       "<Figure size 640x480 with 0 Axes>"
      ]
     },
     "metadata": {},
     "output_type": "display_data"
    }
   ],
   "source": [
    "metrics.plot_test_evaluation_result(loss, sen, spe, acc ,f1, iou)"
   ]
  }
 ],
 "metadata": {
  "kernelspec": {
   "display_name": "Python 3",
   "language": "python",
   "name": "python3"
  },
  "language_info": {
   "codemirror_mode": {
    "name": "ipython",
    "version": 3
   },
   "file_extension": ".py",
   "mimetype": "text/x-python",
   "name": "python",
   "nbconvert_exporter": "python",
   "pygments_lexer": "ipython3",
   "version": "3.10.12"
  }
 },
 "nbformat": 4,
 "nbformat_minor": 2
}
